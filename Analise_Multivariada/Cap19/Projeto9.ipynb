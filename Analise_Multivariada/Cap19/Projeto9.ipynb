{
 "cells": [
  {
   "cell_type": "markdown",
   "id": "3d5ab76f",
   "metadata": {},
   "source": [
    "<!-- Projeto Desenvolvido na Data Science Academy - www.datascienceacademy.com.br -->\n",
    "# <font color='blue'>Data Science Academy</font>\n",
    "## <font color='blue'>Data Science Para Análise Multivariada de Dados</font>\n",
    "## <font color='blue'>Projeto 9</font>\n",
    "### <font color='blue'>Data Science no Agronegócio</font>\n",
    "### <font color='blue'>Previsão de Rendimento de Colheita e Otimização da Irrigação</font>"
   ]
  },
  {
   "cell_type": "markdown",
   "id": "cdc240d6",
   "metadata": {},
   "source": [
    "## Instalando e Carregando os Pacotes\n",
    "<!-- Projeto Desenvolvido na Data Science Academy - www.datascienceacademy.com.br -->"
   ]
  },
  {
   "cell_type": "code",
   "execution_count": 1,
   "id": "97d4c1b1",
   "metadata": {},
   "outputs": [],
   "source": [
    "!pip install -q -U watermark"
   ]
  },
  {
   "cell_type": "markdown",
   "id": "52c039f6",
   "metadata": {},
   "source": [
    "https://www.tensorflow.org/"
   ]
  },
  {
   "cell_type": "code",
   "execution_count": 2,
   "id": "b1364fea",
   "metadata": {},
   "outputs": [
    {
     "name": "stdout",
     "output_type": "stream",
     "text": [
      "env: TF_CPP_MIN_LOG_LEVEL=3\n"
     ]
    }
   ],
   "source": [
    "%env TF_CPP_MIN_LOG_LEVEL=3"
   ]
  },
  {
   "cell_type": "code",
   "execution_count": 3,
   "id": "eec3660d",
   "metadata": {},
   "outputs": [],
   "source": [
    "# Imports\n",
    "import joblib\n",
    "import sklearn\n",
    "import pandas as pd\n",
    "import tensorflow as tf\n",
    "from sklearn.model_selection import train_test_split\n",
    "from sklearn.preprocessing import StandardScaler\n",
    "from tensorflow.keras.models import Sequential\n",
    "from tensorflow.keras.layers import Dense, Dropout\n",
    "from tensorflow.keras.callbacks import EarlyStopping, ModelCheckpoint\n",
    "import warnings\n",
    "warnings.filterwarnings('ignore')"
   ]
  },
  {
   "cell_type": "code",
   "execution_count": 4,
   "id": "7a2d4bbb",
   "metadata": {},
   "outputs": [
    {
     "name": "stdout",
     "output_type": "stream",
     "text": [
      "Author: Data Science Academy\n",
      "\n"
     ]
    }
   ],
   "source": [
    "%reload_ext watermark\n",
    "%watermark -a \"Data Science Academy\""
   ]
  },
  {
   "cell_type": "markdown",
   "id": "e10aff27",
   "metadata": {},
   "source": [
    "## Carregando o Conjunto de Dados"
   ]
  },
  {
   "cell_type": "code",
   "execution_count": 5,
   "id": "f177e985",
   "metadata": {},
   "outputs": [],
   "source": [
    "# Carregar o dataset\n",
    "df_dsa = pd.read_csv('dataset.csv')"
   ]
  },
  {
   "cell_type": "code",
   "execution_count": 6,
   "id": "d2fc687d",
   "metadata": {},
   "outputs": [
    {
     "data": {
      "text/plain": [
       "(124, 12)"
      ]
     },
     "execution_count": 6,
     "metadata": {},
     "output_type": "execute_result"
    }
   ],
   "source": [
    "df_dsa.shape"
   ]
  },
  {
   "cell_type": "code",
   "execution_count": 7,
   "id": "ee4c7fd0",
   "metadata": {},
   "outputs": [
    {
     "data": {
      "text/html": [
       "<div>\n",
       "<style scoped>\n",
       "    .dataframe tbody tr th:only-of-type {\n",
       "        vertical-align: middle;\n",
       "    }\n",
       "\n",
       "    .dataframe tbody tr th {\n",
       "        vertical-align: top;\n",
       "    }\n",
       "\n",
       "    .dataframe thead th {\n",
       "        text-align: right;\n",
       "    }\n",
       "</style>\n",
       "<table border=\"1\" class=\"dataframe\">\n",
       "  <thead>\n",
       "    <tr style=\"text-align: right;\">\n",
       "      <th></th>\n",
       "      <th>data</th>\n",
       "      <th>indice_vegetacao</th>\n",
       "      <th>capacidade_solo</th>\n",
       "      <th>concentracao_co2</th>\n",
       "      <th>nivel_nutrientes</th>\n",
       "      <th>indice_fertilizantes</th>\n",
       "      <th>profundidade_raiz</th>\n",
       "      <th>radiacao_solar</th>\n",
       "      <th>precipitacao</th>\n",
       "      <th>estagio_crescimento</th>\n",
       "      <th>historico_rendimento</th>\n",
       "      <th>umidade</th>\n",
       "    </tr>\n",
       "  </thead>\n",
       "  <tbody>\n",
       "    <tr>\n",
       "      <th>0</th>\n",
       "      <td>2012-12-01</td>\n",
       "      <td>323</td>\n",
       "      <td>455</td>\n",
       "      <td>3102.61</td>\n",
       "      <td>423.45</td>\n",
       "      <td>844.0</td>\n",
       "      <td>468.0</td>\n",
       "      <td>578.0</td>\n",
       "      <td>28.67</td>\n",
       "      <td>207.70504</td>\n",
       "      <td>117.7</td>\n",
       "      <td>79.261905</td>\n",
       "    </tr>\n",
       "    <tr>\n",
       "      <th>1</th>\n",
       "      <td>2013-01-01</td>\n",
       "      <td>345</td>\n",
       "      <td>546</td>\n",
       "      <td>3100.45</td>\n",
       "      <td>415.85</td>\n",
       "      <td>799.0</td>\n",
       "      <td>485.0</td>\n",
       "      <td>557.0</td>\n",
       "      <td>24.49</td>\n",
       "      <td>228.94287</td>\n",
       "      <td>4.5</td>\n",
       "      <td>82.193548</td>\n",
       "    </tr>\n",
       "    <tr>\n",
       "      <th>2</th>\n",
       "      <td>2013-02-01</td>\n",
       "      <td>362</td>\n",
       "      <td>595</td>\n",
       "      <td>3199.41</td>\n",
       "      <td>410.77</td>\n",
       "      <td>718.0</td>\n",
       "      <td>466.0</td>\n",
       "      <td>552.0</td>\n",
       "      <td>22.06</td>\n",
       "      <td>238.41747</td>\n",
       "      <td>25.1</td>\n",
       "      <td>74.839286</td>\n",
       "    </tr>\n",
       "    <tr>\n",
       "      <th>3</th>\n",
       "      <td>2013-03-01</td>\n",
       "      <td>376</td>\n",
       "      <td>636</td>\n",
       "      <td>3281.67</td>\n",
       "      <td>414.82</td>\n",
       "      <td>614.0</td>\n",
       "      <td>442.0</td>\n",
       "      <td>574.0</td>\n",
       "      <td>21.64</td>\n",
       "      <td>218.47599</td>\n",
       "      <td>53.6</td>\n",
       "      <td>77.935484</td>\n",
       "    </tr>\n",
       "    <tr>\n",
       "      <th>4</th>\n",
       "      <td>2013-04-01</td>\n",
       "      <td>383</td>\n",
       "      <td>738</td>\n",
       "      <td>3261.65</td>\n",
       "      <td>451.04</td>\n",
       "      <td>619.0</td>\n",
       "      <td>429.0</td>\n",
       "      <td>595.0</td>\n",
       "      <td>22.30</td>\n",
       "      <td>226.15010</td>\n",
       "      <td>166.0</td>\n",
       "      <td>80.450000</td>\n",
       "    </tr>\n",
       "  </tbody>\n",
       "</table>\n",
       "</div>"
      ],
      "text/plain": [
       "         data  indice_vegetacao  capacidade_solo  concentracao_co2  \\\n",
       "0  2012-12-01               323              455           3102.61   \n",
       "1  2013-01-01               345              546           3100.45   \n",
       "2  2013-02-01               362              595           3199.41   \n",
       "3  2013-03-01               376              636           3281.67   \n",
       "4  2013-04-01               383              738           3261.65   \n",
       "\n",
       "   nivel_nutrientes  indice_fertilizantes  profundidade_raiz  radiacao_solar  \\\n",
       "0            423.45                 844.0              468.0           578.0   \n",
       "1            415.85                 799.0              485.0           557.0   \n",
       "2            410.77                 718.0              466.0           552.0   \n",
       "3            414.82                 614.0              442.0           574.0   \n",
       "4            451.04                 619.0              429.0           595.0   \n",
       "\n",
       "   precipitacao  estagio_crescimento  historico_rendimento    umidade  \n",
       "0         28.67            207.70504                 117.7  79.261905  \n",
       "1         24.49            228.94287                   4.5  82.193548  \n",
       "2         22.06            238.41747                  25.1  74.839286  \n",
       "3         21.64            218.47599                  53.6  77.935484  \n",
       "4         22.30            226.15010                 166.0  80.450000  "
      ]
     },
     "execution_count": 7,
     "metadata": {},
     "output_type": "execute_result"
    }
   ],
   "source": [
    "df_dsa.head()"
   ]
  },
  {
   "cell_type": "code",
   "execution_count": 8,
   "id": "1ff0b2b4",
   "metadata": {},
   "outputs": [
    {
     "data": {
      "text/html": [
       "<div>\n",
       "<style scoped>\n",
       "    .dataframe tbody tr th:only-of-type {\n",
       "        vertical-align: middle;\n",
       "    }\n",
       "\n",
       "    .dataframe tbody tr th {\n",
       "        vertical-align: top;\n",
       "    }\n",
       "\n",
       "    .dataframe thead th {\n",
       "        text-align: right;\n",
       "    }\n",
       "</style>\n",
       "<table border=\"1\" class=\"dataframe\">\n",
       "  <thead>\n",
       "    <tr style=\"text-align: right;\">\n",
       "      <th></th>\n",
       "      <th>data</th>\n",
       "      <th>indice_vegetacao</th>\n",
       "      <th>capacidade_solo</th>\n",
       "      <th>concentracao_co2</th>\n",
       "      <th>nivel_nutrientes</th>\n",
       "      <th>indice_fertilizantes</th>\n",
       "      <th>profundidade_raiz</th>\n",
       "      <th>radiacao_solar</th>\n",
       "      <th>precipitacao</th>\n",
       "      <th>estagio_crescimento</th>\n",
       "      <th>historico_rendimento</th>\n",
       "      <th>umidade</th>\n",
       "    </tr>\n",
       "  </thead>\n",
       "  <tbody>\n",
       "    <tr>\n",
       "      <th>119</th>\n",
       "      <td>2022-11-01</td>\n",
       "      <td>362</td>\n",
       "      <td>363</td>\n",
       "      <td>2626.91</td>\n",
       "      <td>1252.78</td>\n",
       "      <td>738.07</td>\n",
       "      <td>427.49</td>\n",
       "      <td>1430.48</td>\n",
       "      <td>60.18</td>\n",
       "      <td>186.68326</td>\n",
       "      <td>38.2</td>\n",
       "      <td>77.950000</td>\n",
       "    </tr>\n",
       "    <tr>\n",
       "      <th>120</th>\n",
       "      <td>2022-12-01</td>\n",
       "      <td>310</td>\n",
       "      <td>322</td>\n",
       "      <td>2736.64</td>\n",
       "      <td>1287.68</td>\n",
       "      <td>749.57</td>\n",
       "      <td>385.09</td>\n",
       "      <td>1472.27</td>\n",
       "      <td>62.25</td>\n",
       "      <td>210.72987</td>\n",
       "      <td>33.7</td>\n",
       "      <td>76.177419</td>\n",
       "    </tr>\n",
       "    <tr>\n",
       "      <th>121</th>\n",
       "      <td>2023-01-01</td>\n",
       "      <td>277</td>\n",
       "      <td>307</td>\n",
       "      <td>2842.81</td>\n",
       "      <td>1289.12</td>\n",
       "      <td>761.60</td>\n",
       "      <td>373.03</td>\n",
       "      <td>1525.43</td>\n",
       "      <td>63.04</td>\n",
       "      <td>244.41912</td>\n",
       "      <td>4.6</td>\n",
       "      <td>74.774194</td>\n",
       "    </tr>\n",
       "    <tr>\n",
       "      <th>122</th>\n",
       "      <td>2023-02-01</td>\n",
       "      <td>323</td>\n",
       "      <td>330</td>\n",
       "      <td>2936.19</td>\n",
       "      <td>1303.59</td>\n",
       "      <td>759.59</td>\n",
       "      <td>390.69</td>\n",
       "      <td>1572.25</td>\n",
       "      <td>71.52</td>\n",
       "      <td>223.31732</td>\n",
       "      <td>6.9</td>\n",
       "      <td>66.910714</td>\n",
       "    </tr>\n",
       "    <tr>\n",
       "      <th>123</th>\n",
       "      <td>2023-03-01</td>\n",
       "      <td>360</td>\n",
       "      <td>339</td>\n",
       "      <td>2847.84</td>\n",
       "      <td>1234.88</td>\n",
       "      <td>771.62</td>\n",
       "      <td>396.87</td>\n",
       "      <td>1302.61</td>\n",
       "      <td>74.80</td>\n",
       "      <td>228.56676</td>\n",
       "      <td>41.5</td>\n",
       "      <td>69.000000</td>\n",
       "    </tr>\n",
       "  </tbody>\n",
       "</table>\n",
       "</div>"
      ],
      "text/plain": [
       "           data  indice_vegetacao  capacidade_solo  concentracao_co2  \\\n",
       "119  2022-11-01               362              363           2626.91   \n",
       "120  2022-12-01               310              322           2736.64   \n",
       "121  2023-01-01               277              307           2842.81   \n",
       "122  2023-02-01               323              330           2936.19   \n",
       "123  2023-03-01               360              339           2847.84   \n",
       "\n",
       "     nivel_nutrientes  indice_fertilizantes  profundidade_raiz  \\\n",
       "119           1252.78                738.07             427.49   \n",
       "120           1287.68                749.57             385.09   \n",
       "121           1289.12                761.60             373.03   \n",
       "122           1303.59                759.59             390.69   \n",
       "123           1234.88                771.62             396.87   \n",
       "\n",
       "     radiacao_solar  precipitacao  estagio_crescimento  historico_rendimento  \\\n",
       "119         1430.48         60.18            186.68326                  38.2   \n",
       "120         1472.27         62.25            210.72987                  33.7   \n",
       "121         1525.43         63.04            244.41912                   4.6   \n",
       "122         1572.25         71.52            223.31732                   6.9   \n",
       "123         1302.61         74.80            228.56676                  41.5   \n",
       "\n",
       "       umidade  \n",
       "119  77.950000  \n",
       "120  76.177419  \n",
       "121  74.774194  \n",
       "122  66.910714  \n",
       "123  69.000000  "
      ]
     },
     "execution_count": 8,
     "metadata": {},
     "output_type": "execute_result"
    }
   ],
   "source": [
    "df_dsa.tail()"
   ]
  },
  {
   "cell_type": "markdown",
   "id": "4f76e1c5",
   "metadata": {},
   "source": [
    "## Análise Exploratória"
   ]
  },
  {
   "cell_type": "code",
   "execution_count": 9,
   "id": "e429162f",
   "metadata": {},
   "outputs": [
    {
     "data": {
      "text/plain": [
       "data                     object\n",
       "indice_vegetacao          int64\n",
       "capacidade_solo           int64\n",
       "concentracao_co2        float64\n",
       "nivel_nutrientes        float64\n",
       "indice_fertilizantes    float64\n",
       "profundidade_raiz       float64\n",
       "radiacao_solar          float64\n",
       "precipitacao            float64\n",
       "estagio_crescimento     float64\n",
       "historico_rendimento    float64\n",
       "umidade                 float64\n",
       "dtype: object"
      ]
     },
     "execution_count": 9,
     "metadata": {},
     "output_type": "execute_result"
    }
   ],
   "source": [
    "# Verificar os tipos de dados das colunas\n",
    "df_dsa.dtypes"
   ]
  },
  {
   "cell_type": "code",
   "execution_count": 10,
   "id": "bede5e5b",
   "metadata": {},
   "outputs": [
    {
     "data": {
      "text/plain": [
       "Index(['data', 'indice_vegetacao', 'capacidade_solo', 'concentracao_co2',\n",
       "       'nivel_nutrientes', 'indice_fertilizantes', 'profundidade_raiz',\n",
       "       'radiacao_solar', 'precipitacao', 'estagio_crescimento',\n",
       "       'historico_rendimento', 'umidade'],\n",
       "      dtype='object')"
      ]
     },
     "execution_count": 10,
     "metadata": {},
     "output_type": "execute_result"
    }
   ],
   "source": [
    "# Exibir as colunas do dataset\n",
    "df_dsa.columns"
   ]
  },
  {
   "cell_type": "code",
   "execution_count": 11,
   "id": "e08bc1d7",
   "metadata": {},
   "outputs": [
    {
     "name": "stdout",
     "output_type": "stream",
     "text": [
      "Colunas não numéricas: Index(['data'], dtype='object')\n"
     ]
    }
   ],
   "source": [
    "# Identificar colunas não numéricas\n",
    "non_numeric_columns = df_dsa.select_dtypes(include = ['object']).columns\n",
    "print(f'Colunas não numéricas: {non_numeric_columns}')"
   ]
  },
  {
   "cell_type": "markdown",
   "id": "e61a5e90",
   "metadata": {},
   "source": [
    "## Limpeza e Transformação"
   ]
  },
  {
   "cell_type": "code",
   "execution_count": 12,
   "id": "bd127542",
   "metadata": {},
   "outputs": [],
   "source": [
    "# Remover colunas não numéricas (se não forem necessárias)\n",
    "df_dsa = df_dsa.drop(columns = non_numeric_columns)"
   ]
  },
  {
   "cell_type": "code",
   "execution_count": 13,
   "id": "fa4b6ed0",
   "metadata": {},
   "outputs": [],
   "source": [
    "# Verificar se a coluna 'umidade' contém valores numéricos\n",
    "if df_dsa['umidade'].dtype == 'object':\n",
    "    df_dsa['umidade'] = pd.to_numeric(df_dsa['umidade'], errors = 'coerce')"
   ]
  },
  {
   "cell_type": "code",
   "execution_count": 14,
   "id": "c4e059a8",
   "metadata": {},
   "outputs": [],
   "source": [
    "# Remover linhas com valores faltantes\n",
    "df_dsa = df_dsa.dropna()"
   ]
  },
  {
   "cell_type": "markdown",
   "id": "b6202829",
   "metadata": {},
   "source": [
    "## Padronização dos Dados"
   ]
  },
  {
   "cell_type": "code",
   "execution_count": 15,
   "id": "3b21c85d",
   "metadata": {},
   "outputs": [],
   "source": [
    "# Separar preditores e variável alvo\n",
    "X = df_dsa.drop(columns = 'umidade')\n",
    "y = df_dsa['umidade']"
   ]
  },
  {
   "cell_type": "code",
   "execution_count": 16,
   "id": "7c988014",
   "metadata": {},
   "outputs": [],
   "source": [
    "# Dividir os dados em conjunto de treino e teste\n",
    "X_treino, X_teste, y_treino, y_teste = train_test_split(X, y, test_size = 0.2, random_state = 42)"
   ]
  },
  {
   "cell_type": "code",
   "execution_count": 17,
   "id": "defd575e",
   "metadata": {},
   "outputs": [],
   "source": [
    "# Cria o padronizador\n",
    "scaler = StandardScaler()"
   ]
  },
  {
   "cell_type": "code",
   "execution_count": 18,
   "id": "1d2acd6a",
   "metadata": {},
   "outputs": [],
   "source": [
    "# Padroniza os dados\n",
    "X_treino_scaled = scaler.fit_transform(X_treino)\n",
    "X_teste_scaled = scaler.transform(X_teste)"
   ]
  },
  {
   "cell_type": "code",
   "execution_count": 19,
   "id": "961d217a",
   "metadata": {},
   "outputs": [
    {
     "data": {
      "text/plain": [
       "['scaler_dsa.joblib']"
      ]
     },
     "execution_count": 19,
     "metadata": {},
     "output_type": "execute_result"
    }
   ],
   "source": [
    "# Salva o padronizador no disco\n",
    "joblib.dump(scaler, 'scaler_dsa.joblib')"
   ]
  },
  {
   "cell_type": "markdown",
   "id": "1c89ec92",
   "metadata": {},
   "source": [
    "## Construção do Modelo\n",
    "\n",
    "Acompanhe os detalhes no videobook do Capítulo 19."
   ]
  },
  {
   "cell_type": "code",
   "execution_count": 20,
   "id": "a50a7101",
   "metadata": {},
   "outputs": [],
   "source": [
    "# Definir a arquitetura do modelo\n",
    "modelo_dsa = Sequential([Dense(64, activation = 'relu', input_shape = (X_treino.shape[1],)),\n",
    "                         Dropout(0.3),\n",
    "                         Dense(32, activation = 'relu'),\n",
    "                         Dropout(0.3),\n",
    "                         Dense(16, activation = 'relu'),\n",
    "                         Dense(1)])"
   ]
  },
  {
   "cell_type": "markdown",
   "id": "b0ba4579",
   "metadata": {},
   "source": [
    "O código acima define a arquitetura de um modelo de rede neural sequencial utilizando a biblioteca Keras. Aqui está uma explicação detalhada de cada linha:\n",
    "\n",
    "**modelo_dsa = Sequential([ ... ])**: Cria um modelo sequencial, que é uma pilha linear de camadas.\n",
    "\n",
    "**Dense(64, activation='relu', input_shape=(X_treino.shape[1],))**: Adiciona uma camada densa (totalmente conectada) com 64 neurônios e função de ativação ReLU (Rectified Linear Unit). A input_shape especifica a forma dos dados de entrada, que corresponde ao número de características (colunas) em X_treino.\n",
    "\n",
    "**Dropout(0.3)**: Adiciona uma camada de dropout com uma taxa de 30%. Dropout é uma técnica de regularização que desativa aleatoriamente 30% dos neurônios durante o treinamento para prevenir o overfitting.\n",
    "\n",
    "**Dense(32, activation='relu')**: Adiciona outra camada densa com 32 neurônios e função de ativação ReLU.\n",
    "\n",
    "**Dropout(0.3)**: Adiciona mais uma camada de dropout com uma taxa de 30%.\n",
    "\n",
    "**Dense(16, activation='relu')**: Adiciona mais uma camada densa com 16 neurônios e função de ativação ReLU.\n",
    "\n",
    "**Dense(1)**: Adiciona a camada de saída com um único neurônio. Não é especificada uma função de ativação, o que é comum em problemas de regressão, onde a saída é um valor contínuo. Se fosse um problema de classificação binária, uma ativação sigmoid poderia ser usada nesta camada.\n",
    "\n",
    "Essa arquitetura é típica para problemas de regressão onde se deseja prever um único valor contínuo a partir de múltiplas características de entrada."
   ]
  },
  {
   "cell_type": "markdown",
   "id": "5a5c4823",
   "metadata": {},
   "source": [
    "## Compilação do Modelo\n",
    "\n",
    "Acompanhe os detalhes no videobook do Capítulo 19."
   ]
  },
  {
   "cell_type": "code",
   "execution_count": 21,
   "id": "5941799a",
   "metadata": {},
   "outputs": [],
   "source": [
    "# Compilar o modelo\n",
    "modelo_dsa.compile(optimizer = 'adam', loss = 'mse', metrics = ['mae'])"
   ]
  },
  {
   "cell_type": "markdown",
   "id": "e25e9830",
   "metadata": {},
   "source": [
    "O código acima compila o modelo de rede neural que foi definido anteriormente. A compilação é um passo necessário antes de treinar o modelo. Aqui está uma explicação de cada parte do código:\n",
    "\n",
    "**modelo_dsa.compile(...)**: Compila o modelo, configurando-o para treinamento com um otimizador, uma função de perda e métricas.\n",
    "\n",
    "**optimizer='adam'**: Define o otimizador como 'adam'. O Adam (Adaptive Moment Estimation) é um otimizador eficiente e amplamente utilizado em redes neurais, combinando as vantagens dos algoritmos de Gradient Descent com Momentum e RMSProp. Ele ajusta dinamicamente a taxa de aprendizado durante o treinamento.\n",
    "\n",
    "**loss='mse'**: Define a função de perda como 'mse' (Mean Squared Error). MSE é uma função de perda comum em problemas de regressão, que calcula a média dos quadrados das diferenças entre os valores previstos e os valores reais. É usada para medir o desempenho do modelo, com valores menores indicando um melhor ajuste.\n",
    "\n",
    "**metrics=['mae']**: Especifica que a métrica a ser monitorada durante o treinamento é 'mae' (Mean Absolute Error). MAE é a média dos valores absolutos das diferenças entre os valores previstos e os valores reais. Assim como MSE, valores menores de MAE indicam um melhor desempenho do modelo, mas MAE é menos sensível a grandes erros do que MSE.\n",
    "\n",
    "Compilar o modelo é um passo essencial que define como o modelo será otimizado e avaliado durante o treinamento."
   ]
  },
  {
   "cell_type": "markdown",
   "id": "4820e81c",
   "metadata": {},
   "source": [
    "## Definindo os Callbacks\n",
    "\n",
    "Acompanhe os detalhes no videobook do Capítulo 19."
   ]
  },
  {
   "cell_type": "code",
   "execution_count": 22,
   "id": "f815687e",
   "metadata": {},
   "outputs": [],
   "source": [
    "# Callbacks\n",
    "early_stopping = EarlyStopping(monitor = 'val_loss', patience = 10, restore_best_weights = True)\n",
    "model_checkpoint = ModelCheckpoint('modelo_dsa.keras', save_best_only = True)"
   ]
  },
  {
   "cell_type": "markdown",
   "id": "a2d59ac2",
   "metadata": {},
   "source": [
    "Este trecho de código define dois callbacks para o treinamento do modelo: EarlyStopping e ModelCheckpoint. Callbacks são ferramentas que permitem realizar certas ações em pontos específicos durante o treinamento.\n",
    "\n",
    "**early_stopping = EarlyStopping(...)**: Define um callback de parada antecipada (early stopping).\n",
    "\n",
    "**monitor='val_loss'**: Monitora a perda de validação (val_loss) durante o treinamento. A validação é um processo onde um conjunto separado de dados (dados de validação) é usado para avaliar o desempenho do modelo, ajudando a evitar o overfitting.\n",
    "\n",
    "**patience=10**: Define a paciência em 10 épocas. Isso significa que se a perda de validação não melhorar por 10 épocas consecutivas, o treinamento será interrompido.\n",
    "\n",
    "**restore_best_weights=True**: Restabelece os pesos do modelo para o estado em que apresentaram a melhor perda de validação. Isso garante que os pesos finais do modelo sejam os melhores encontrados durante o treinamento.\n",
    "\n",
    "**model_checkpoint = ModelCheckpoint(...)**: Define um callback de checkpoint do modelo.\n",
    "\n",
    "**'modelo_dsa.keras'**: Especifica o nome do arquivo onde o modelo será salvo.\n",
    "\n",
    "**save_best_only=True**: Salva o modelo apenas quando ele apresentar a melhor perda de validação até o momento. Isso evita salvar várias versões do modelo e garante que o melhor modelo encontrado durante o treinamento seja salvo.\n",
    "\n",
    "Em resumo, esses callbacks ajudam a:\n",
    "\n",
    "- Parar o treinamento antecipadamente se o modelo não estiver melhorando, economizando tempo e recursos computacionais.\n",
    "\n",
    "- Salvar automaticamente o melhor modelo encontrado durante o treinamento, garantindo que você tenha uma versão do modelo com o melhor desempenho."
   ]
  },
  {
   "cell_type": "markdown",
   "id": "a21f40c2",
   "metadata": {},
   "source": [
    "## Treinamento do Modelo"
   ]
  },
  {
   "cell_type": "code",
   "execution_count": 23,
   "id": "1819481d",
   "metadata": {},
   "outputs": [
    {
     "data": {
      "text/html": [
       "<pre style=\"white-space:pre;overflow-x:auto;line-height:normal;font-family:Menlo,'DejaVu Sans Mono',consolas,'Courier New',monospace\"><span style=\"font-weight: bold\">Model: \"sequential\"</span>\n",
       "</pre>\n"
      ],
      "text/plain": [
       "\u001b[1mModel: \"sequential\"\u001b[0m\n"
      ]
     },
     "metadata": {},
     "output_type": "display_data"
    },
    {
     "data": {
      "text/html": [
       "<pre style=\"white-space:pre;overflow-x:auto;line-height:normal;font-family:Menlo,'DejaVu Sans Mono',consolas,'Courier New',monospace\">┏━━━━━━━━━━━━━━━━━━━━━━━━━━━━━━━━━┳━━━━━━━━━━━━━━━━━━━━━━━━┳━━━━━━━━━━━━━━━┓\n",
       "┃<span style=\"font-weight: bold\"> Layer (type)                    </span>┃<span style=\"font-weight: bold\"> Output Shape           </span>┃<span style=\"font-weight: bold\">       Param # </span>┃\n",
       "┡━━━━━━━━━━━━━━━━━━━━━━━━━━━━━━━━━╇━━━━━━━━━━━━━━━━━━━━━━━━╇━━━━━━━━━━━━━━━┩\n",
       "│ dense (<span style=\"color: #0087ff; text-decoration-color: #0087ff\">Dense</span>)                   │ (<span style=\"color: #00d7ff; text-decoration-color: #00d7ff\">None</span>, <span style=\"color: #00af00; text-decoration-color: #00af00\">64</span>)             │           <span style=\"color: #00af00; text-decoration-color: #00af00\">704</span> │\n",
       "├─────────────────────────────────┼────────────────────────┼───────────────┤\n",
       "│ dropout (<span style=\"color: #0087ff; text-decoration-color: #0087ff\">Dropout</span>)               │ (<span style=\"color: #00d7ff; text-decoration-color: #00d7ff\">None</span>, <span style=\"color: #00af00; text-decoration-color: #00af00\">64</span>)             │             <span style=\"color: #00af00; text-decoration-color: #00af00\">0</span> │\n",
       "├─────────────────────────────────┼────────────────────────┼───────────────┤\n",
       "│ dense_1 (<span style=\"color: #0087ff; text-decoration-color: #0087ff\">Dense</span>)                 │ (<span style=\"color: #00d7ff; text-decoration-color: #00d7ff\">None</span>, <span style=\"color: #00af00; text-decoration-color: #00af00\">32</span>)             │         <span style=\"color: #00af00; text-decoration-color: #00af00\">2,080</span> │\n",
       "├─────────────────────────────────┼────────────────────────┼───────────────┤\n",
       "│ dropout_1 (<span style=\"color: #0087ff; text-decoration-color: #0087ff\">Dropout</span>)             │ (<span style=\"color: #00d7ff; text-decoration-color: #00d7ff\">None</span>, <span style=\"color: #00af00; text-decoration-color: #00af00\">32</span>)             │             <span style=\"color: #00af00; text-decoration-color: #00af00\">0</span> │\n",
       "├─────────────────────────────────┼────────────────────────┼───────────────┤\n",
       "│ dense_2 (<span style=\"color: #0087ff; text-decoration-color: #0087ff\">Dense</span>)                 │ (<span style=\"color: #00d7ff; text-decoration-color: #00d7ff\">None</span>, <span style=\"color: #00af00; text-decoration-color: #00af00\">16</span>)             │           <span style=\"color: #00af00; text-decoration-color: #00af00\">528</span> │\n",
       "├─────────────────────────────────┼────────────────────────┼───────────────┤\n",
       "│ dense_3 (<span style=\"color: #0087ff; text-decoration-color: #0087ff\">Dense</span>)                 │ (<span style=\"color: #00d7ff; text-decoration-color: #00d7ff\">None</span>, <span style=\"color: #00af00; text-decoration-color: #00af00\">1</span>)              │            <span style=\"color: #00af00; text-decoration-color: #00af00\">17</span> │\n",
       "└─────────────────────────────────┴────────────────────────┴───────────────┘\n",
       "</pre>\n"
      ],
      "text/plain": [
       "┏━━━━━━━━━━━━━━━━━━━━━━━━━━━━━━━━━┳━━━━━━━━━━━━━━━━━━━━━━━━┳━━━━━━━━━━━━━━━┓\n",
       "┃\u001b[1m \u001b[0m\u001b[1mLayer (type)                   \u001b[0m\u001b[1m \u001b[0m┃\u001b[1m \u001b[0m\u001b[1mOutput Shape          \u001b[0m\u001b[1m \u001b[0m┃\u001b[1m \u001b[0m\u001b[1m      Param #\u001b[0m\u001b[1m \u001b[0m┃\n",
       "┡━━━━━━━━━━━━━━━━━━━━━━━━━━━━━━━━━╇━━━━━━━━━━━━━━━━━━━━━━━━╇━━━━━━━━━━━━━━━┩\n",
       "│ dense (\u001b[38;5;33mDense\u001b[0m)                   │ (\u001b[38;5;45mNone\u001b[0m, \u001b[38;5;34m64\u001b[0m)             │           \u001b[38;5;34m704\u001b[0m │\n",
       "├─────────────────────────────────┼────────────────────────┼───────────────┤\n",
       "│ dropout (\u001b[38;5;33mDropout\u001b[0m)               │ (\u001b[38;5;45mNone\u001b[0m, \u001b[38;5;34m64\u001b[0m)             │             \u001b[38;5;34m0\u001b[0m │\n",
       "├─────────────────────────────────┼────────────────────────┼───────────────┤\n",
       "│ dense_1 (\u001b[38;5;33mDense\u001b[0m)                 │ (\u001b[38;5;45mNone\u001b[0m, \u001b[38;5;34m32\u001b[0m)             │         \u001b[38;5;34m2,080\u001b[0m │\n",
       "├─────────────────────────────────┼────────────────────────┼───────────────┤\n",
       "│ dropout_1 (\u001b[38;5;33mDropout\u001b[0m)             │ (\u001b[38;5;45mNone\u001b[0m, \u001b[38;5;34m32\u001b[0m)             │             \u001b[38;5;34m0\u001b[0m │\n",
       "├─────────────────────────────────┼────────────────────────┼───────────────┤\n",
       "│ dense_2 (\u001b[38;5;33mDense\u001b[0m)                 │ (\u001b[38;5;45mNone\u001b[0m, \u001b[38;5;34m16\u001b[0m)             │           \u001b[38;5;34m528\u001b[0m │\n",
       "├─────────────────────────────────┼────────────────────────┼───────────────┤\n",
       "│ dense_3 (\u001b[38;5;33mDense\u001b[0m)                 │ (\u001b[38;5;45mNone\u001b[0m, \u001b[38;5;34m1\u001b[0m)              │            \u001b[38;5;34m17\u001b[0m │\n",
       "└─────────────────────────────────┴────────────────────────┴───────────────┘\n"
      ]
     },
     "metadata": {},
     "output_type": "display_data"
    },
    {
     "data": {
      "text/html": [
       "<pre style=\"white-space:pre;overflow-x:auto;line-height:normal;font-family:Menlo,'DejaVu Sans Mono',consolas,'Courier New',monospace\"><span style=\"font-weight: bold\"> Total params: </span><span style=\"color: #00af00; text-decoration-color: #00af00\">3,329</span> (13.00 KB)\n",
       "</pre>\n"
      ],
      "text/plain": [
       "\u001b[1m Total params: \u001b[0m\u001b[38;5;34m3,329\u001b[0m (13.00 KB)\n"
      ]
     },
     "metadata": {},
     "output_type": "display_data"
    },
    {
     "data": {
      "text/html": [
       "<pre style=\"white-space:pre;overflow-x:auto;line-height:normal;font-family:Menlo,'DejaVu Sans Mono',consolas,'Courier New',monospace\"><span style=\"font-weight: bold\"> Trainable params: </span><span style=\"color: #00af00; text-decoration-color: #00af00\">3,329</span> (13.00 KB)\n",
       "</pre>\n"
      ],
      "text/plain": [
       "\u001b[1m Trainable params: \u001b[0m\u001b[38;5;34m3,329\u001b[0m (13.00 KB)\n"
      ]
     },
     "metadata": {},
     "output_type": "display_data"
    },
    {
     "data": {
      "text/html": [
       "<pre style=\"white-space:pre;overflow-x:auto;line-height:normal;font-family:Menlo,'DejaVu Sans Mono',consolas,'Courier New',monospace\"><span style=\"font-weight: bold\"> Non-trainable params: </span><span style=\"color: #00af00; text-decoration-color: #00af00\">0</span> (0.00 B)\n",
       "</pre>\n"
      ],
      "text/plain": [
       "\u001b[1m Non-trainable params: \u001b[0m\u001b[38;5;34m0\u001b[0m (0.00 B)\n"
      ]
     },
     "metadata": {},
     "output_type": "display_data"
    }
   ],
   "source": [
    "modelo_dsa.summary()"
   ]
  },
  {
   "cell_type": "code",
   "execution_count": 24,
   "id": "506071c7",
   "metadata": {},
   "outputs": [
    {
     "name": "stdout",
     "output_type": "stream",
     "text": [
      "Epoch 1/100\n",
      "\u001b[1m3/3\u001b[0m \u001b[32m━━━━━━━━━━━━━━━━━━━━\u001b[0m\u001b[37m\u001b[0m \u001b[1m1s\u001b[0m 93ms/step - loss: 5255.6714 - mae: 72.3633 - val_loss: 5254.6313 - val_mae: 72.3842\n",
      "Epoch 2/100\n",
      "\u001b[1m3/3\u001b[0m \u001b[32m━━━━━━━━━━━━━━━━━━━━\u001b[0m\u001b[37m\u001b[0m \u001b[1m0s\u001b[0m 25ms/step - loss: 5288.2124 - mae: 72.5782 - val_loss: 5237.4951 - val_mae: 72.2664\n",
      "Epoch 3/100\n",
      "\u001b[1m3/3\u001b[0m \u001b[32m━━━━━━━━━━━━━━━━━━━━\u001b[0m\u001b[37m\u001b[0m \u001b[1m0s\u001b[0m 36ms/step - loss: 5244.8701 - mae: 72.2928 - val_loss: 5221.3145 - val_mae: 72.1551\n",
      "Epoch 4/100\n",
      "\u001b[1m3/3\u001b[0m \u001b[32m━━━━━━━━━━━━━━━━━━━━\u001b[0m\u001b[37m\u001b[0m \u001b[1m0s\u001b[0m 25ms/step - loss: 5228.9189 - mae: 72.1684 - val_loss: 5206.1094 - val_mae: 72.0502\n",
      "Epoch 5/100\n",
      "\u001b[1m3/3\u001b[0m \u001b[32m━━━━━━━━━━━━━━━━━━━━\u001b[0m\u001b[37m\u001b[0m \u001b[1m0s\u001b[0m 24ms/step - loss: 5193.9561 - mae: 71.9311 - val_loss: 5191.3564 - val_mae: 71.9479\n",
      "Epoch 6/100\n",
      "\u001b[1m3/3\u001b[0m \u001b[32m━━━━━━━━━━━━━━━━━━━━\u001b[0m\u001b[37m\u001b[0m \u001b[1m0s\u001b[0m 25ms/step - loss: 5220.3086 - mae: 72.1164 - val_loss: 5176.7651 - val_mae: 71.8464\n",
      "Epoch 7/100\n",
      "\u001b[1m3/3\u001b[0m \u001b[32m━━━━━━━━━━━━━━━━━━━━\u001b[0m\u001b[37m\u001b[0m \u001b[1m0s\u001b[0m 26ms/step - loss: 5193.1182 - mae: 71.9196 - val_loss: 5161.2944 - val_mae: 71.7386\n",
      "Epoch 8/100\n",
      "\u001b[1m3/3\u001b[0m \u001b[32m━━━━━━━━━━━━━━━━━━━━\u001b[0m\u001b[37m\u001b[0m \u001b[1m0s\u001b[0m 34ms/step - loss: 5146.0635 - mae: 71.6021 - val_loss: 5145.2271 - val_mae: 71.6263\n",
      "Epoch 9/100\n",
      "\u001b[1m3/3\u001b[0m \u001b[32m━━━━━━━━━━━━━━━━━━━━\u001b[0m\u001b[37m\u001b[0m \u001b[1m0s\u001b[0m 35ms/step - loss: 5108.7158 - mae: 71.3305 - val_loss: 5126.7070 - val_mae: 71.4963\n",
      "Epoch 10/100\n",
      "\u001b[1m3/3\u001b[0m \u001b[32m━━━━━━━━━━━━━━━━━━━━\u001b[0m\u001b[37m\u001b[0m \u001b[1m0s\u001b[0m 26ms/step - loss: 5068.5483 - mae: 71.0402 - val_loss: 5105.4038 - val_mae: 71.3463\n",
      "Epoch 11/100\n",
      "\u001b[1m3/3\u001b[0m \u001b[32m━━━━━━━━━━━━━━━━━━━━\u001b[0m\u001b[37m\u001b[0m \u001b[1m0s\u001b[0m 26ms/step - loss: 5127.4492 - mae: 71.4500 - val_loss: 5081.1245 - val_mae: 71.1747\n",
      "Epoch 12/100\n",
      "\u001b[1m3/3\u001b[0m \u001b[32m━━━━━━━━━━━━━━━━━━━━\u001b[0m\u001b[37m\u001b[0m \u001b[1m0s\u001b[0m 25ms/step - loss: 5091.7075 - mae: 71.2145 - val_loss: 5052.2847 - val_mae: 70.9706\n",
      "Epoch 13/100\n",
      "\u001b[1m3/3\u001b[0m \u001b[32m━━━━━━━━━━━━━━━━━━━━\u001b[0m\u001b[37m\u001b[0m \u001b[1m0s\u001b[0m 25ms/step - loss: 5046.3149 - mae: 70.8887 - val_loss: 5018.7490 - val_mae: 70.7328\n",
      "Epoch 14/100\n",
      "\u001b[1m3/3\u001b[0m \u001b[32m━━━━━━━━━━━━━━━━━━━━\u001b[0m\u001b[37m\u001b[0m \u001b[1m0s\u001b[0m 25ms/step - loss: 4992.5752 - mae: 70.5107 - val_loss: 4980.9854 - val_mae: 70.4641\n",
      "Epoch 15/100\n",
      "\u001b[1m3/3\u001b[0m \u001b[32m━━━━━━━━━━━━━━━━━━━━\u001b[0m\u001b[37m\u001b[0m \u001b[1m0s\u001b[0m 26ms/step - loss: 4979.0146 - mae: 70.4073 - val_loss: 4936.9834 - val_mae: 70.1497\n",
      "Epoch 16/100\n",
      "\u001b[1m3/3\u001b[0m \u001b[32m━━━━━━━━━━━━━━━━━━━━\u001b[0m\u001b[37m\u001b[0m \u001b[1m0s\u001b[0m 25ms/step - loss: 4942.9805 - mae: 70.1539 - val_loss: 4887.0640 - val_mae: 69.7912\n",
      "Epoch 17/100\n",
      "\u001b[1m3/3\u001b[0m \u001b[32m━━━━━━━━━━━━━━━━━━━━\u001b[0m\u001b[37m\u001b[0m \u001b[1m0s\u001b[0m 24ms/step - loss: 4884.6611 - mae: 69.6942 - val_loss: 4830.0840 - val_mae: 69.3793\n",
      "Epoch 18/100\n",
      "\u001b[1m3/3\u001b[0m \u001b[32m━━━━━━━━━━━━━━━━━━━━\u001b[0m\u001b[37m\u001b[0m \u001b[1m0s\u001b[0m 23ms/step - loss: 4849.9580 - mae: 69.4638 - val_loss: 4765.4121 - val_mae: 68.9085\n",
      "Epoch 19/100\n",
      "\u001b[1m3/3\u001b[0m \u001b[32m━━━━━━━━━━━━━━━━━━━━\u001b[0m\u001b[37m\u001b[0m \u001b[1m0s\u001b[0m 27ms/step - loss: 4707.8008 - mae: 68.4689 - val_loss: 4691.6851 - val_mae: 68.3673\n",
      "Epoch 20/100\n",
      "\u001b[1m3/3\u001b[0m \u001b[32m━━━━━━━━━━━━━━━━━━━━\u001b[0m\u001b[37m\u001b[0m \u001b[1m0s\u001b[0m 29ms/step - loss: 4626.3701 - mae: 67.8102 - val_loss: 4608.8892 - val_mae: 67.7535\n",
      "Epoch 21/100\n",
      "\u001b[1m3/3\u001b[0m \u001b[32m━━━━━━━━━━━━━━━━━━━━\u001b[0m\u001b[37m\u001b[0m \u001b[1m0s\u001b[0m 27ms/step - loss: 4547.6802 - mae: 67.2291 - val_loss: 4515.9170 - val_mae: 67.0563\n",
      "Epoch 22/100\n",
      "\u001b[1m3/3\u001b[0m \u001b[32m━━━━━━━━━━━━━━━━━━━━\u001b[0m\u001b[37m\u001b[0m \u001b[1m0s\u001b[0m 25ms/step - loss: 4488.7144 - mae: 66.7104 - val_loss: 4412.3252 - val_mae: 66.2690\n",
      "Epoch 23/100\n",
      "\u001b[1m3/3\u001b[0m \u001b[32m━━━━━━━━━━━━━━━━━━━━\u001b[0m\u001b[37m\u001b[0m \u001b[1m0s\u001b[0m 24ms/step - loss: 4304.9756 - mae: 65.3385 - val_loss: 4296.4517 - val_mae: 65.3758\n",
      "Epoch 24/100\n",
      "\u001b[1m3/3\u001b[0m \u001b[32m━━━━━━━━━━━━━━━━━━━━\u001b[0m\u001b[37m\u001b[0m \u001b[1m0s\u001b[0m 24ms/step - loss: 4206.3945 - mae: 64.5479 - val_loss: 4167.1851 - val_mae: 64.3622\n",
      "Epoch 25/100\n",
      "\u001b[1m3/3\u001b[0m \u001b[32m━━━━━━━━━━━━━━━━━━━━\u001b[0m\u001b[37m\u001b[0m \u001b[1m0s\u001b[0m 25ms/step - loss: 4073.0840 - mae: 63.5362 - val_loss: 4024.8730 - val_mae: 63.2251\n",
      "Epoch 26/100\n",
      "\u001b[1m3/3\u001b[0m \u001b[32m━━━━━━━━━━━━━━━━━━━━\u001b[0m\u001b[37m\u001b[0m \u001b[1m0s\u001b[0m 26ms/step - loss: 3847.9912 - mae: 61.6670 - val_loss: 3869.5444 - val_mae: 61.9567\n",
      "Epoch 27/100\n",
      "\u001b[1m3/3\u001b[0m \u001b[32m━━━━━━━━━━━━━━━━━━━━\u001b[0m\u001b[37m\u001b[0m \u001b[1m0s\u001b[0m 26ms/step - loss: 3751.6743 - mae: 60.8872 - val_loss: 3701.0200 - val_mae: 60.5459\n",
      "Epoch 28/100\n",
      "\u001b[1m3/3\u001b[0m \u001b[32m━━━━━━━━━━━━━━━━━━━━\u001b[0m\u001b[37m\u001b[0m \u001b[1m0s\u001b[0m 28ms/step - loss: 3548.9158 - mae: 59.1239 - val_loss: 3519.8989 - val_mae: 58.9854\n",
      "Epoch 29/100\n",
      "\u001b[1m3/3\u001b[0m \u001b[32m━━━━━━━━━━━━━━━━━━━━\u001b[0m\u001b[37m\u001b[0m \u001b[1m0s\u001b[0m 26ms/step - loss: 3313.5391 - mae: 56.9568 - val_loss: 3325.3345 - val_mae: 57.2564\n",
      "Epoch 30/100\n",
      "\u001b[1m3/3\u001b[0m \u001b[32m━━━━━━━━━━━━━━━━━━━━\u001b[0m\u001b[37m\u001b[0m \u001b[1m0s\u001b[0m 30ms/step - loss: 3134.4570 - mae: 55.3591 - val_loss: 3116.2358 - val_mae: 55.3310\n",
      "Epoch 31/100\n",
      "\u001b[1m3/3\u001b[0m \u001b[32m━━━━━━━━━━━━━━━━━━━━\u001b[0m\u001b[37m\u001b[0m \u001b[1m0s\u001b[0m 34ms/step - loss: 2955.7815 - mae: 53.4491 - val_loss: 2895.1001 - val_mae: 53.2099\n",
      "Epoch 32/100\n",
      "\u001b[1m3/3\u001b[0m \u001b[32m━━━━━━━━━━━━━━━━━━━━\u001b[0m\u001b[37m\u001b[0m \u001b[1m0s\u001b[0m 30ms/step - loss: 2687.3452 - mae: 50.7146 - val_loss: 2662.7827 - val_mae: 50.8758\n",
      "Epoch 33/100\n",
      "\u001b[1m3/3\u001b[0m \u001b[32m━━━━━━━━━━━━━━━━━━━━\u001b[0m\u001b[37m\u001b[0m \u001b[1m0s\u001b[0m 27ms/step - loss: 2466.7993 - mae: 48.2335 - val_loss: 2422.3838 - val_mae: 48.3248\n",
      "Epoch 34/100\n",
      "\u001b[1m3/3\u001b[0m \u001b[32m━━━━━━━━━━━━━━━━━━━━\u001b[0m\u001b[37m\u001b[0m \u001b[1m0s\u001b[0m 28ms/step - loss: 2294.8928 - mae: 46.3686 - val_loss: 2177.7163 - val_mae: 45.5656\n",
      "Epoch 35/100\n",
      "\u001b[1m3/3\u001b[0m \u001b[32m━━━━━━━━━━━━━━━━━━━━\u001b[0m\u001b[37m\u001b[0m \u001b[1m0s\u001b[0m 27ms/step - loss: 1938.7284 - mae: 42.1224 - val_loss: 1932.2773 - val_mae: 42.5904\n",
      "Epoch 36/100\n",
      "\u001b[1m3/3\u001b[0m \u001b[32m━━━━━━━━━━━━━━━━━━━━\u001b[0m\u001b[37m\u001b[0m \u001b[1m0s\u001b[0m 24ms/step - loss: 1795.8552 - mae: 40.1203 - val_loss: 1688.7572 - val_mae: 39.4017\n",
      "Epoch 37/100\n",
      "\u001b[1m3/3\u001b[0m \u001b[32m━━━━━━━━━━━━━━━━━━━━\u001b[0m\u001b[37m\u001b[0m \u001b[1m0s\u001b[0m 26ms/step - loss: 1417.5029 - mae: 35.1432 - val_loss: 1453.3173 - val_mae: 36.0325\n",
      "Epoch 38/100\n",
      "\u001b[1m3/3\u001b[0m \u001b[32m━━━━━━━━━━━━━━━━━━━━\u001b[0m\u001b[37m\u001b[0m \u001b[1m0s\u001b[0m 26ms/step - loss: 1337.9518 - mae: 33.0456 - val_loss: 1233.3928 - val_mae: 32.5378\n",
      "Epoch 39/100\n",
      "\u001b[1m3/3\u001b[0m \u001b[32m━━━━━━━━━━━━━━━━━━━━\u001b[0m\u001b[37m\u001b[0m \u001b[1m0s\u001b[0m 28ms/step - loss: 1087.3368 - mae: 29.2259 - val_loss: 1032.5510 - val_mae: 28.9848\n",
      "Epoch 40/100\n",
      "\u001b[1m3/3\u001b[0m \u001b[32m━━━━━━━━━━━━━━━━━━━━\u001b[0m\u001b[37m\u001b[0m \u001b[1m0s\u001b[0m 27ms/step - loss: 879.7562 - mae: 25.7557 - val_loss: 855.7659 - val_mae: 25.5234\n",
      "Epoch 41/100\n",
      "\u001b[1m3/3\u001b[0m \u001b[32m━━━━━━━━━━━━━━━━━━━━\u001b[0m\u001b[37m\u001b[0m \u001b[1m0s\u001b[0m 25ms/step - loss: 797.9380 - mae: 24.2542 - val_loss: 706.1554 - val_mae: 22.6769\n",
      "Epoch 42/100\n",
      "\u001b[1m3/3\u001b[0m \u001b[32m━━━━━━━━━━━━━━━━━━━━\u001b[0m\u001b[37m\u001b[0m \u001b[1m0s\u001b[0m 25ms/step - loss: 587.1850 - mae: 20.4825 - val_loss: 578.6055 - val_mae: 20.1425\n",
      "Epoch 43/100\n",
      "\u001b[1m3/3\u001b[0m \u001b[32m━━━━━━━━━━━━━━━━━━━━\u001b[0m\u001b[37m\u001b[0m \u001b[1m0s\u001b[0m 27ms/step - loss: 565.9464 - mae: 19.4146 - val_loss: 473.8856 - val_mae: 17.7061\n",
      "Epoch 44/100\n",
      "\u001b[1m3/3\u001b[0m \u001b[32m━━━━━━━━━━━━━━━━━━━━\u001b[0m\u001b[37m\u001b[0m \u001b[1m0s\u001b[0m 36ms/step - loss: 582.6858 - mae: 20.0246 - val_loss: 393.5426 - val_mae: 15.6357\n",
      "Epoch 45/100\n",
      "\u001b[1m3/3\u001b[0m \u001b[32m━━━━━━━━━━━━━━━━━━━━\u001b[0m\u001b[37m\u001b[0m \u001b[1m0s\u001b[0m 37ms/step - loss: 512.0974 - mae: 18.8894 - val_loss: 333.6755 - val_mae: 13.8858\n",
      "Epoch 46/100\n",
      "\u001b[1m3/3\u001b[0m \u001b[32m━━━━━━━━━━━━━━━━━━━━\u001b[0m\u001b[37m\u001b[0m \u001b[1m0s\u001b[0m 25ms/step - loss: 481.6054 - mae: 18.1409 - val_loss: 287.8359 - val_mae: 12.5834\n",
      "Epoch 47/100\n",
      "\u001b[1m3/3\u001b[0m \u001b[32m━━━━━━━━━━━━━━━━━━━━\u001b[0m\u001b[37m\u001b[0m \u001b[1m0s\u001b[0m 25ms/step - loss: 415.0875 - mae: 16.8771 - val_loss: 255.6091 - val_mae: 11.7432\n",
      "Epoch 48/100\n",
      "\u001b[1m3/3\u001b[0m \u001b[32m━━━━━━━━━━━━━━━━━━━━\u001b[0m\u001b[37m\u001b[0m \u001b[1m0s\u001b[0m 26ms/step - loss: 361.8588 - mae: 15.4190 - val_loss: 236.5682 - val_mae: 11.2780\n",
      "Epoch 49/100\n",
      "\u001b[1m3/3\u001b[0m \u001b[32m━━━━━━━━━━━━━━━━━━━━\u001b[0m\u001b[37m\u001b[0m \u001b[1m0s\u001b[0m 26ms/step - loss: 440.4376 - mae: 17.0340 - val_loss: 225.4935 - val_mae: 11.0185\n",
      "Epoch 50/100\n",
      "\u001b[1m3/3\u001b[0m \u001b[32m━━━━━━━━━━━━━━━━━━━━\u001b[0m\u001b[37m\u001b[0m \u001b[1m0s\u001b[0m 27ms/step - loss: 364.4027 - mae: 16.3968 - val_loss: 221.7804 - val_mae: 11.0740\n",
      "Epoch 51/100\n",
      "\u001b[1m3/3\u001b[0m \u001b[32m━━━━━━━━━━━━━━━━━━━━\u001b[0m\u001b[37m\u001b[0m \u001b[1m0s\u001b[0m 15ms/step - loss: 390.8528 - mae: 16.3642 - val_loss: 222.0710 - val_mae: 11.3320\n",
      "Epoch 52/100\n",
      "\u001b[1m3/3\u001b[0m \u001b[32m━━━━━━━━━━━━━━━━━━━━\u001b[0m\u001b[37m\u001b[0m \u001b[1m0s\u001b[0m 16ms/step - loss: 353.6866 - mae: 16.2342 - val_loss: 223.1785 - val_mae: 11.5392\n"
     ]
    },
    {
     "name": "stdout",
     "output_type": "stream",
     "text": [
      "Epoch 53/100\n",
      "\u001b[1m3/3\u001b[0m \u001b[32m━━━━━━━━━━━━━━━━━━━━\u001b[0m\u001b[37m\u001b[0m \u001b[1m0s\u001b[0m 16ms/step - loss: 335.0539 - mae: 14.5242 - val_loss: 222.9784 - val_mae: 11.6431\n",
      "Epoch 54/100\n",
      "\u001b[1m3/3\u001b[0m \u001b[32m━━━━━━━━━━━━━━━━━━━━\u001b[0m\u001b[37m\u001b[0m \u001b[1m0s\u001b[0m 14ms/step - loss: 308.2426 - mae: 14.6575 - val_loss: 222.2989 - val_mae: 11.7496\n",
      "Epoch 55/100\n",
      "\u001b[1m3/3\u001b[0m \u001b[32m━━━━━━━━━━━━━━━━━━━━\u001b[0m\u001b[37m\u001b[0m \u001b[1m0s\u001b[0m 23ms/step - loss: 282.5726 - mae: 14.0260 - val_loss: 220.2920 - val_mae: 11.8014\n",
      "Epoch 56/100\n",
      "\u001b[1m3/3\u001b[0m \u001b[32m━━━━━━━━━━━━━━━━━━━━\u001b[0m\u001b[37m\u001b[0m \u001b[1m0s\u001b[0m 23ms/step - loss: 514.7080 - mae: 18.0674 - val_loss: 217.4007 - val_mae: 11.8132\n",
      "Epoch 57/100\n",
      "\u001b[1m3/3\u001b[0m \u001b[32m━━━━━━━━━━━━━━━━━━━━\u001b[0m\u001b[37m\u001b[0m \u001b[1m0s\u001b[0m 26ms/step - loss: 323.6817 - mae: 14.0053 - val_loss: 214.0239 - val_mae: 11.7764\n",
      "Epoch 58/100\n",
      "\u001b[1m3/3\u001b[0m \u001b[32m━━━━━━━━━━━━━━━━━━━━\u001b[0m\u001b[37m\u001b[0m \u001b[1m0s\u001b[0m 24ms/step - loss: 321.5867 - mae: 14.9455 - val_loss: 210.1026 - val_mae: 11.6990\n",
      "Epoch 59/100\n",
      "\u001b[1m3/3\u001b[0m \u001b[32m━━━━━━━━━━━━━━━━━━━━\u001b[0m\u001b[37m\u001b[0m \u001b[1m0s\u001b[0m 22ms/step - loss: 289.9587 - mae: 13.8244 - val_loss: 208.2907 - val_mae: 11.6739\n",
      "Epoch 60/100\n",
      "\u001b[1m3/3\u001b[0m \u001b[32m━━━━━━━━━━━━━━━━━━━━\u001b[0m\u001b[37m\u001b[0m \u001b[1m0s\u001b[0m 23ms/step - loss: 452.1917 - mae: 16.0378 - val_loss: 204.8585 - val_mae: 11.5665\n",
      "Epoch 61/100\n",
      "\u001b[1m3/3\u001b[0m \u001b[32m━━━━━━━━━━━━━━━━━━━━\u001b[0m\u001b[37m\u001b[0m \u001b[1m0s\u001b[0m 23ms/step - loss: 302.9095 - mae: 13.7919 - val_loss: 199.6939 - val_mae: 11.3909\n",
      "Epoch 62/100\n",
      "\u001b[1m3/3\u001b[0m \u001b[32m━━━━━━━━━━━━━━━━━━━━\u001b[0m\u001b[37m\u001b[0m \u001b[1m0s\u001b[0m 25ms/step - loss: 295.3107 - mae: 14.0250 - val_loss: 191.6762 - val_mae: 11.0814\n",
      "Epoch 63/100\n",
      "\u001b[1m3/3\u001b[0m \u001b[32m━━━━━━━━━━━━━━━━━━━━\u001b[0m\u001b[37m\u001b[0m \u001b[1m0s\u001b[0m 24ms/step - loss: 388.7861 - mae: 15.5307 - val_loss: 186.9229 - val_mae: 10.8965\n",
      "Epoch 64/100\n",
      "\u001b[1m3/3\u001b[0m \u001b[32m━━━━━━━━━━━━━━━━━━━━\u001b[0m\u001b[37m\u001b[0m \u001b[1m0s\u001b[0m 23ms/step - loss: 297.5995 - mae: 14.5098 - val_loss: 185.5372 - val_mae: 10.8582\n",
      "Epoch 65/100\n",
      "\u001b[1m3/3\u001b[0m \u001b[32m━━━━━━━━━━━━━━━━━━━━\u001b[0m\u001b[37m\u001b[0m \u001b[1m0s\u001b[0m 14ms/step - loss: 326.6629 - mae: 15.0098 - val_loss: 186.8722 - val_mae: 10.9113\n",
      "Epoch 66/100\n",
      "\u001b[1m3/3\u001b[0m \u001b[32m━━━━━━━━━━━━━━━━━━━━\u001b[0m\u001b[37m\u001b[0m \u001b[1m0s\u001b[0m 14ms/step - loss: 329.8542 - mae: 14.8833 - val_loss: 188.4652 - val_mae: 10.9547\n",
      "Epoch 67/100\n",
      "\u001b[1m3/3\u001b[0m \u001b[32m━━━━━━━━━━━━━━━━━━━━\u001b[0m\u001b[37m\u001b[0m \u001b[1m0s\u001b[0m 13ms/step - loss: 268.6307 - mae: 12.5872 - val_loss: 188.5700 - val_mae: 10.9283\n",
      "Epoch 68/100\n",
      "\u001b[1m3/3\u001b[0m \u001b[32m━━━━━━━━━━━━━━━━━━━━\u001b[0m\u001b[37m\u001b[0m \u001b[1m0s\u001b[0m 13ms/step - loss: 242.6456 - mae: 12.2083 - val_loss: 187.6615 - val_mae: 10.8708\n",
      "Epoch 69/100\n",
      "\u001b[1m3/3\u001b[0m \u001b[32m━━━━━━━━━━━━━━━━━━━━\u001b[0m\u001b[37m\u001b[0m \u001b[1m0s\u001b[0m 13ms/step - loss: 244.7195 - mae: 13.0404 - val_loss: 186.4831 - val_mae: 10.8086\n",
      "Epoch 70/100\n",
      "\u001b[1m3/3\u001b[0m \u001b[32m━━━━━━━━━━━━━━━━━━━━\u001b[0m\u001b[37m\u001b[0m \u001b[1m0s\u001b[0m 23ms/step - loss: 304.0048 - mae: 13.8607 - val_loss: 184.2631 - val_mae: 10.7195\n",
      "Epoch 71/100\n",
      "\u001b[1m3/3\u001b[0m \u001b[32m━━━━━━━━━━━━━━━━━━━━\u001b[0m\u001b[37m\u001b[0m \u001b[1m0s\u001b[0m 23ms/step - loss: 310.3225 - mae: 13.8209 - val_loss: 180.9753 - val_mae: 10.5631\n",
      "Epoch 72/100\n",
      "\u001b[1m3/3\u001b[0m \u001b[32m━━━━━━━━━━━━━━━━━━━━\u001b[0m\u001b[37m\u001b[0m \u001b[1m0s\u001b[0m 27ms/step - loss: 359.5021 - mae: 15.3993 - val_loss: 179.2792 - val_mae: 10.4895\n",
      "Epoch 73/100\n",
      "\u001b[1m3/3\u001b[0m \u001b[32m━━━━━━━━━━━━━━━━━━━━\u001b[0m\u001b[37m\u001b[0m \u001b[1m0s\u001b[0m 24ms/step - loss: 225.9000 - mae: 11.9312 - val_loss: 177.4437 - val_mae: 10.4126\n",
      "Epoch 74/100\n",
      "\u001b[1m3/3\u001b[0m \u001b[32m━━━━━━━━━━━━━━━━━━━━\u001b[0m\u001b[37m\u001b[0m \u001b[1m0s\u001b[0m 24ms/step - loss: 314.4075 - mae: 13.8046 - val_loss: 173.9035 - val_mae: 10.3109\n",
      "Epoch 75/100\n",
      "\u001b[1m3/3\u001b[0m \u001b[32m━━━━━━━━━━━━━━━━━━━━\u001b[0m\u001b[37m\u001b[0m \u001b[1m0s\u001b[0m 25ms/step - loss: 249.1360 - mae: 12.9323 - val_loss: 171.4546 - val_mae: 10.2411\n",
      "Epoch 76/100\n",
      "\u001b[1m3/3\u001b[0m \u001b[32m━━━━━━━━━━━━━━━━━━━━\u001b[0m\u001b[37m\u001b[0m \u001b[1m0s\u001b[0m 26ms/step - loss: 258.7849 - mae: 13.4739 - val_loss: 170.2536 - val_mae: 10.2273\n",
      "Epoch 77/100\n",
      "\u001b[1m3/3\u001b[0m \u001b[32m━━━━━━━━━━━━━━━━━━━━\u001b[0m\u001b[37m\u001b[0m \u001b[1m0s\u001b[0m 15ms/step - loss: 335.3040 - mae: 15.0242 - val_loss: 172.1169 - val_mae: 10.2732\n",
      "Epoch 78/100\n",
      "\u001b[1m3/3\u001b[0m \u001b[32m━━━━━━━━━━━━━━━━━━━━\u001b[0m\u001b[37m\u001b[0m \u001b[1m0s\u001b[0m 15ms/step - loss: 440.6624 - mae: 16.8397 - val_loss: 174.6055 - val_mae: 10.3640\n",
      "Epoch 79/100\n",
      "\u001b[1m3/3\u001b[0m \u001b[32m━━━━━━━━━━━━━━━━━━━━\u001b[0m\u001b[37m\u001b[0m \u001b[1m0s\u001b[0m 13ms/step - loss: 253.2719 - mae: 12.9476 - val_loss: 177.3037 - val_mae: 10.4533\n",
      "Epoch 80/100\n",
      "\u001b[1m3/3\u001b[0m \u001b[32m━━━━━━━━━━━━━━━━━━━━\u001b[0m\u001b[37m\u001b[0m \u001b[1m0s\u001b[0m 14ms/step - loss: 284.7556 - mae: 13.0214 - val_loss: 179.0172 - val_mae: 10.4756\n",
      "Epoch 81/100\n",
      "\u001b[1m3/3\u001b[0m \u001b[32m━━━━━━━━━━━━━━━━━━━━\u001b[0m\u001b[37m\u001b[0m \u001b[1m0s\u001b[0m 16ms/step - loss: 229.8471 - mae: 12.4517 - val_loss: 178.9960 - val_mae: 10.4315\n",
      "Epoch 82/100\n",
      "\u001b[1m3/3\u001b[0m \u001b[32m━━━━━━━━━━━━━━━━━━━━\u001b[0m\u001b[37m\u001b[0m \u001b[1m0s\u001b[0m 14ms/step - loss: 278.2866 - mae: 13.1367 - val_loss: 177.9146 - val_mae: 10.3253\n",
      "Epoch 83/100\n",
      "\u001b[1m3/3\u001b[0m \u001b[32m━━━━━━━━━━━━━━━━━━━━\u001b[0m\u001b[37m\u001b[0m \u001b[1m0s\u001b[0m 15ms/step - loss: 253.2754 - mae: 13.2047 - val_loss: 176.5470 - val_mae: 10.2383\n",
      "Epoch 84/100\n",
      "\u001b[1m3/3\u001b[0m \u001b[32m━━━━━━━━━━━━━━━━━━━━\u001b[0m\u001b[37m\u001b[0m \u001b[1m0s\u001b[0m 14ms/step - loss: 272.1539 - mae: 13.0142 - val_loss: 176.2597 - val_mae: 10.1859\n",
      "Epoch 85/100\n",
      "\u001b[1m3/3\u001b[0m \u001b[32m━━━━━━━━━━━━━━━━━━━━\u001b[0m\u001b[37m\u001b[0m \u001b[1m0s\u001b[0m 14ms/step - loss: 268.2182 - mae: 12.8298 - val_loss: 172.9633 - val_mae: 10.0170\n",
      "Epoch 86/100\n",
      "\u001b[1m3/3\u001b[0m \u001b[32m━━━━━━━━━━━━━━━━━━━━\u001b[0m\u001b[37m\u001b[0m \u001b[1m0s\u001b[0m 26ms/step - loss: 318.9066 - mae: 14.9493 - val_loss: 168.6816 - val_mae: 9.8880\n",
      "Epoch 87/100\n",
      "\u001b[1m3/3\u001b[0m \u001b[32m━━━━━━━━━━━━━━━━━━━━\u001b[0m\u001b[37m\u001b[0m \u001b[1m0s\u001b[0m 24ms/step - loss: 279.5510 - mae: 13.8106 - val_loss: 162.3892 - val_mae: 9.6888\n",
      "Epoch 88/100\n",
      "\u001b[1m3/3\u001b[0m \u001b[32m━━━━━━━━━━━━━━━━━━━━\u001b[0m\u001b[37m\u001b[0m \u001b[1m0s\u001b[0m 24ms/step - loss: 309.4948 - mae: 14.5096 - val_loss: 157.8095 - val_mae: 9.5380\n",
      "Epoch 89/100\n",
      "\u001b[1m3/3\u001b[0m \u001b[32m━━━━━━━━━━━━━━━━━━━━\u001b[0m\u001b[37m\u001b[0m \u001b[1m0s\u001b[0m 32ms/step - loss: 260.8180 - mae: 12.6727 - val_loss: 153.5132 - val_mae: 9.3897\n",
      "Epoch 90/100\n",
      "\u001b[1m3/3\u001b[0m \u001b[32m━━━━━━━━━━━━━━━━━━━━\u001b[0m\u001b[37m\u001b[0m \u001b[1m0s\u001b[0m 26ms/step - loss: 260.8016 - mae: 12.1852 - val_loss: 148.2353 - val_mae: 9.2737\n",
      "Epoch 91/100\n",
      "\u001b[1m3/3\u001b[0m \u001b[32m━━━━━━━━━━━━━━━━━━━━\u001b[0m\u001b[37m\u001b[0m \u001b[1m0s\u001b[0m 24ms/step - loss: 279.7042 - mae: 13.4866 - val_loss: 146.3946 - val_mae: 9.2302\n",
      "Epoch 92/100\n",
      "\u001b[1m3/3\u001b[0m \u001b[32m━━━━━━━━━━━━━━━━━━━━\u001b[0m\u001b[37m\u001b[0m \u001b[1m0s\u001b[0m 15ms/step - loss: 213.9910 - mae: 11.7125 - val_loss: 147.3378 - val_mae: 9.2316\n",
      "Epoch 93/100\n",
      "\u001b[1m3/3\u001b[0m \u001b[32m━━━━━━━━━━━━━━━━━━━━\u001b[0m\u001b[37m\u001b[0m \u001b[1m0s\u001b[0m 14ms/step - loss: 282.5454 - mae: 13.5540 - val_loss: 149.1236 - val_mae: 9.2603\n",
      "Epoch 94/100\n",
      "\u001b[1m3/3\u001b[0m \u001b[32m━━━━━━━━━━━━━━━━━━━━\u001b[0m\u001b[37m\u001b[0m \u001b[1m0s\u001b[0m 15ms/step - loss: 220.2296 - mae: 11.7371 - val_loss: 152.3550 - val_mae: 9.3363\n",
      "Epoch 95/100\n",
      "\u001b[1m3/3\u001b[0m \u001b[32m━━━━━━━━━━━━━━━━━━━━\u001b[0m\u001b[37m\u001b[0m \u001b[1m0s\u001b[0m 15ms/step - loss: 239.5569 - mae: 12.2760 - val_loss: 155.4454 - val_mae: 9.4184\n",
      "Epoch 96/100\n",
      "\u001b[1m3/3\u001b[0m \u001b[32m━━━━━━━━━━━━━━━━━━━━\u001b[0m\u001b[37m\u001b[0m \u001b[1m0s\u001b[0m 24ms/step - loss: 297.2142 - mae: 14.0621 - val_loss: 156.2401 - val_mae: 9.4633\n",
      "Epoch 97/100\n",
      "\u001b[1m3/3\u001b[0m \u001b[32m━━━━━━━━━━━━━━━━━━━━\u001b[0m\u001b[37m\u001b[0m \u001b[1m0s\u001b[0m 15ms/step - loss: 292.7177 - mae: 13.2105 - val_loss: 154.1414 - val_mae: 9.4430\n",
      "Epoch 98/100\n",
      "\u001b[1m3/3\u001b[0m \u001b[32m━━━━━━━━━━━━━━━━━━━━\u001b[0m\u001b[37m\u001b[0m \u001b[1m0s\u001b[0m 13ms/step - loss: 331.1794 - mae: 14.9472 - val_loss: 149.8449 - val_mae: 9.3391\n",
      "Epoch 99/100\n",
      "\u001b[1m3/3\u001b[0m \u001b[32m━━━━━━━━━━━━━━━━━━━━\u001b[0m\u001b[37m\u001b[0m \u001b[1m0s\u001b[0m 14ms/step - loss: 188.4146 - mae: 11.4343 - val_loss: 147.7701 - val_mae: 9.2840\n",
      "Epoch 100/100\n",
      "\u001b[1m3/3\u001b[0m \u001b[32m━━━━━━━━━━━━━━━━━━━━\u001b[0m\u001b[37m\u001b[0m \u001b[1m0s\u001b[0m 25ms/step - loss: 227.1912 - mae: 12.2879 - val_loss: 146.2297 - val_mae: 9.2229\n"
     ]
    }
   ],
   "source": [
    "# Treinar o modelo\n",
    "history = modelo_dsa.fit(X_treino_scaled, \n",
    "                         y_treino,\n",
    "                         validation_split = 0.2,\n",
    "                         epochs = 100,\n",
    "                         batch_size = 32,\n",
    "                         callbacks = [early_stopping, model_checkpoint])"
   ]
  },
  {
   "cell_type": "markdown",
   "id": "76590868",
   "metadata": {},
   "source": [
    "## Avaliação do Modelo"
   ]
  },
  {
   "cell_type": "code",
   "execution_count": 25,
   "id": "871bc754",
   "metadata": {},
   "outputs": [
    {
     "name": "stdout",
     "output_type": "stream",
     "text": [
      "\u001b[1m1/1\u001b[0m \u001b[32m━━━━━━━━━━━━━━━━━━━━\u001b[0m\u001b[37m\u001b[0m \u001b[1m0s\u001b[0m 22ms/step - loss: 85.9706 - mae: 7.6967\n"
     ]
    }
   ],
   "source": [
    "# Avaliar o modelo no conjunto de teste\n",
    "teste_loss, teste_mae = modelo_dsa.evaluate(X_teste_scaled, y_teste)"
   ]
  },
  {
   "cell_type": "code",
   "execution_count": 26,
   "id": "00f4b45e",
   "metadata": {},
   "outputs": [
    {
     "name": "stdout",
     "output_type": "stream",
     "text": [
      "Teste Loss: 85.97058868408203\n",
      "Teste MAE: 7.6966872215271\n"
     ]
    }
   ],
   "source": [
    "print(f'Teste Loss: {teste_loss}')\n",
    "print(f'Teste MAE: {teste_mae}')"
   ]
  },
  {
   "cell_type": "markdown",
   "id": "7cdeb566",
   "metadata": {},
   "source": [
    "Vamos agora fazer o deploy do modelo via API no próximo capítulo."
   ]
  },
  {
   "cell_type": "code",
   "execution_count": 27,
   "id": "a9a59e23",
   "metadata": {},
   "outputs": [
    {
     "name": "stdout",
     "output_type": "stream",
     "text": [
      "Author: Data Science Academy\n",
      "\n"
     ]
    }
   ],
   "source": [
    "%reload_ext watermark\n",
    "%watermark -a \"Data Science Academy\""
   ]
  },
  {
   "cell_type": "code",
   "execution_count": 28,
   "id": "59e9459c",
   "metadata": {},
   "outputs": [],
   "source": [
    "#%watermark -v -m"
   ]
  },
  {
   "cell_type": "code",
   "execution_count": 29,
   "id": "8554f32c",
   "metadata": {
    "scrolled": true
   },
   "outputs": [],
   "source": [
    "#%watermark --iversions"
   ]
  },
  {
   "cell_type": "markdown",
   "id": "959bbd1e",
   "metadata": {},
   "source": [
    "# Fim"
   ]
  }
 ],
 "metadata": {
  "kernelspec": {
   "display_name": "Python 3 (ipykernel)",
   "language": "python",
   "name": "python3"
  },
  "language_info": {
   "codemirror_mode": {
    "name": "ipython",
    "version": 3
   },
   "file_extension": ".py",
   "mimetype": "text/x-python",
   "name": "python",
   "nbconvert_exporter": "python",
   "pygments_lexer": "ipython3",
   "version": "3.11.5"
  }
 },
 "nbformat": 4,
 "nbformat_minor": 5
}
