{
 "cells": [
  {
   "cell_type": "markdown",
   "metadata": {},
   "source": [
    "<!-- Projeto Desenvolvido na Data Science Academy - www.datascienceacademy.com.br -->\n",
    "# <font color='blue'>Data Science Academy</font>\n",
    "## <font color='blue'>Data Science Para Análise Multivariada de Dados</font>\n",
    "## <font color='blue'>Testes Estatísticos Multivariados</font>"
   ]
  },
  {
   "cell_type": "markdown",
   "metadata": {},
   "source": [
    "### Instalando e Carregando Pacotes"
   ]
  },
  {
   "cell_type": "code",
   "execution_count": 1,
   "metadata": {},
   "outputs": [],
   "source": [
    "# Para atualizar um pacote, execute o comando abaixo no terminal ou prompt de comando:\n",
    "# pip install -U nome_pacote\n",
    "\n",
    "# Para instalar a versão exata de um pacote, execute o comando abaixo no terminal ou prompt de comando:\n",
    "# !pip install nome_pacote==versão_desejada\n",
    "\n",
    "# Depois de instalar ou atualizar o pacote, reinicie o jupyter notebook.\n",
    "\n",
    "# Instala o pacote watermark. \n",
    "# Esse pacote é usado para gravar as versões de outros pacotes usados neste jupyter notebook.\n",
    "!pip install -q -U watermark"
   ]
  },
  {
   "cell_type": "code",
   "execution_count": 2,
   "metadata": {},
   "outputs": [],
   "source": [
    "# Imports\n",
    "import scipy\n",
    "import statsmodels\n",
    "import numpy as np\n",
    "import pandas as pd\n",
    "from statsmodels.multivariate.manova import MANOVA\n",
    "from scipy.stats import f\n",
    "from numpy.linalg import inv, det"
   ]
  },
  {
   "cell_type": "code",
   "execution_count": 3,
   "metadata": {},
   "outputs": [
    {
     "name": "stdout",
     "output_type": "stream",
     "text": [
      "Author: Data Science Academy\n",
      "\n"
     ]
    }
   ],
   "source": [
    "# Versões dos pacotes usados neste jupyter notebook\n",
    "%reload_ext watermark\n",
    "%watermark -a \"Data Science Academy\" "
   ]
  },
  {
   "cell_type": "markdown",
   "metadata": {},
   "source": [
    "## Testes Estatísticos Multivariados\n",
    "\n",
    "Os Testes de Hipóteses para Médias Multivariadas são essenciais para entender se as médias de dois ou mais grupos são significativamente diferentes, considerando múltiplas variáveis ao mesmo tempo. \n",
    "\n",
    "Abaixo estão alguns dos testes mais comuns nessa categoria."
   ]
  },
  {
   "cell_type": "markdown",
   "metadata": {},
   "source": [
    "### Teste T² de Hotelling\n",
    "\n",
    "**Definição**\n",
    "\n",
    "É a extensão multivariada do teste t para duas amostras. Utilizado para testar a igualdade das médias de dois grupos. Requer que as amostras sejam independentes e que os dados sigam uma distribuição normal multivariada.\n",
    "\n",
    "O Teste T² de Hotelling, nomeado em homenagem a Harold Hotelling, é um teste estatístico multivariado usado para comparar as médias de dois grupos multivariados. É a extensão multivariada do teste t de Student, que é usado para comparar as médias de dois grupos quando há apenas uma variável dependente. O Teste T² de Hotelling é aplicado quando há duas ou mais variáveis dependentes.\n",
    "\n",
    "**Comparação de Médias Multivariadas**\n",
    "\n",
    "O teste é usado para determinar se há uma diferença significativa entre as médias de dois grupos em múltiplas variáveis dependentes simultaneamente.\n",
    "\n",
    "**Hipóteses**\n",
    "\n",
    "- Hipótese Nula (H0): As médias multivariadas dos dois grupos são iguais.\n",
    "- Hipótese Alternativa (H1): As médias multivariadas dos dois grupos são diferentes.\n",
    "\n",
    "**Requisitos de Dados**\n",
    "\n",
    "O teste assume que os dados de cada grupo são amostras aleatórias independentes e que seguem uma distribuição normal multivariada.\n",
    "\n",
    "**Matriz de Covariância**\n",
    "\n",
    "A análise envolve a utilização da matriz de covariância das variáveis dependentes. O teste leva em consideração não apenas as variáveis em si, mas também a relação (covariância) entre elas.\n",
    "\n",
    "**Estatística de Teste**\n",
    "\n",
    "A estatística de teste T² é calculada com base nas médias dos grupos, nas matrizes de covariância e no tamanho da amostra. Essa estatística é depois convertida em uma estatística F para facilitar a obtenção do valor p.\n",
    "\n",
    "**Interpretação**\n",
    "\n",
    "Se o valor p calculado for menor que o nível de significância escolhido (geralmente 0.05), a hipótese nula é rejeitada, indicando que há uma diferença significativa entre as médias dos grupos.\n",
    "\n",
    "**Aplicações do Teste T² de Hotelling**\n",
    "\n",
    "É amplamente utilizado em campos como a pesquisa biomédica, ciências sociais, marketing e outros, onde a comparação de múltiplas variáveis é fundamental.\n",
    "\n",
    "Pode ser usado para testar diferenças em médias de grupos em estudos pré e pós-tratamento, estudos comparativos entre diferentes grupos demográficos, entre outros.\n",
    "\n",
    "O Teste T² de Hotelling é uma ferramenta poderosa para análise multivariada, permitindo aos Cientistas de Dados testar hipóteses complexas sobre as relações entre múltiplas variáveis em diferentes grupos."
   ]
  },
  {
   "cell_type": "markdown",
   "metadata": {},
   "source": [
    "## Teste T² de Hotelling na Prática com Linguagem Python\n",
    "\n",
    "**Objetivo da Análise:**\n",
    "\n",
    "O estudo visa investigar se existem diferenças significativas nas características físicas (altura e peso) entre atletas de dois esportes diferentes. O Teste T² de Hotelling será utilizado para determinar se as médias multivariadas de altura e peso são significativamente diferentes entre os dois grupos de atletas.\n",
    "\n",
    "**Grupos de Estudo:**\n",
    "\n",
    "- Grupo 1: Atletas de basquete. Espera-se que sejam geralmente mais altos e mais pesados devido à natureza do esporte.\n",
    "- Grupo 2: Atletas de ginástica artística. Estes atletas tendem a ser mais leves e de estatura menor, características que são benéficas para o seu esporte.\n",
    "\n",
    "**Variáveis Dependentes:**\n",
    "\n",
    "- Altura (cm): Medida da altura dos atletas.\n",
    "- Peso (kg): Medida do peso dos atletas.\n",
    "\n",
    "**Geração de Dados Sintéticos:**\n",
    "\n",
    "Dados para os atletas de basquete (Grupo 1) e os atletas de ginástica artística (Grupo 2) serão gerados sinteticamente com distribuições multivariadas normais. As médias e covariâncias foram escolhidas para refletir as expectativas reais desses atletas em termos de altura e peso.\n",
    "\n",
    "**Aplicação do Teste T² de Hotelling:**\n",
    "\n",
    "O Teste T² de Hotelling é aplicado para comparar as médias de altura e peso entre os dois grupos de atletas. Este teste foi escolhido por sua capacidade de avaliar simultaneamente a diferença nas médias de duas variáveis dependentes (altura e peso), considerando a correlação entre elas.\n",
    "\n",
    "**Importância da Análise:**\n",
    "\n",
    "Este estudo pode fornecer informações valiosas sobre como diferentes esportes estão associados a diferentes características físicas. Esses insights podem ser úteis para treinadores e cientistas do esporte na identificação de talentos e no desenvolvimento de programas de treinamento específicos para cada esporte. Além disso, pode contribuir para a compreensão de como as demandas físicas de cada esporte moldam as características corporais dos atletas.\n",
    "\n",
    "**Definição das Hipóteses:**\n",
    "\n",
    "Hipótese Nula (H0)\n",
    "\n",
    "A hipótese nula em um teste estatístico é geralmente uma declaração de \"nenhuma diferença\" ou \"nenhum efeito\". No contexto deste estudo, a hipótese nula seria:\n",
    "\n",
    "H0: Não existem diferenças significativas nas médias multivariadas de altura e peso entre os atletas de basquete (Grupo 1) e os atletas de ginástica artística (Grupo 2). Isso significa que, sob a hipótese nula, qualquer diferença observada nas médias de altura e peso entre os dois grupos é atribuída ao acaso.\n",
    "\n",
    "Hipótese Alternativa (H1)\n",
    "\n",
    "A hipótese alternativa é o que você testa contra a hipótese nula. Normalmente, ela sugere que existe um efeito ou diferença. Para este estudo, a hipótese alternativa seria:\n",
    "\n",
    "H1: Existem diferenças significativas nas médias multivariadas de altura e peso entre os atletas de basquete (Grupo 1) e os atletas de ginástica artística (Grupo 2). Sob a hipótese alternativa, as diferenças observadas são suficientemente grandes para serem consideradas estatisticamente significativas e não devidas ao acaso.\n",
    "\n",
    "A aplicação do Teste T² de Hotelling permitirá avaliar essas hipóteses considerando tanto a altura quanto o peso simultaneamente, levando em conta a correlação entre estas duas variáveis."
   ]
  },
  {
   "cell_type": "code",
   "execution_count": 4,
   "metadata": {},
   "outputs": [],
   "source": [
    "# Gerando dados sintéticos\n",
    "np.random.seed(0)\n",
    "grupo1 = np.random.multivariate_normal([170, 60], [[10, 2], [2, 5]], 50) # Altura e peso do grupo 1\n",
    "grupo2 = np.random.multivariate_normal([175, 65], [[10, 2], [2, 5]], 50) # Altura e peso do grupo 2"
   ]
  },
  {
   "cell_type": "code",
   "execution_count": 5,
   "metadata": {},
   "outputs": [
    {
     "data": {
      "text/plain": [
       "array([[165.44087123,  63.32426187],\n",
       "       [164.90568127,  56.06580982],\n",
       "       [167.17102989,  58.67510047],\n",
       "       [170.03684798,  60.91506097]])"
      ]
     },
     "execution_count": 5,
     "metadata": {},
     "output_type": "execute_result"
    }
   ],
   "source": [
    "grupo1[1:5]"
   ]
  },
  {
   "cell_type": "code",
   "execution_count": 6,
   "metadata": {},
   "outputs": [
    {
     "data": {
      "text/plain": [
       "array([[178.25661423,  68.27224235],\n",
       "       [177.28749029,  70.07278299],\n",
       "       [176.78975905,  63.98556345],\n",
       "       [168.04801617,  65.81424878]])"
      ]
     },
     "execution_count": 6,
     "metadata": {},
     "output_type": "execute_result"
    }
   ],
   "source": [
    "grupo2[1:5]"
   ]
  },
  {
   "cell_type": "code",
   "execution_count": 7,
   "metadata": {},
   "outputs": [
    {
     "data": {
      "text/plain": [
       "array([169.87756591,  60.18293836])"
      ]
     },
     "execution_count": 7,
     "metadata": {},
     "output_type": "execute_result"
    }
   ],
   "source": [
    "np.mean(grupo1, axis = 0) "
   ]
  },
  {
   "cell_type": "code",
   "execution_count": 8,
   "metadata": {},
   "outputs": [
    {
     "data": {
      "text/plain": [
       "array([174.93237839,  65.37779828])"
      ]
     },
     "execution_count": 8,
     "metadata": {},
     "output_type": "execute_result"
    }
   ],
   "source": [
    "np.mean(grupo2, axis = 0) "
   ]
  },
  {
   "cell_type": "markdown",
   "metadata": {},
   "source": [
    "A função abaixo implementa o teste T² de Hotelling, que é usado para comparar as médias de dois grupos multivariados. A função calcula primeiramente as médias e covariâncias para cada grupo, em seguida calcula a covariância agrupada e usa esses valores para calcular a estatística T² de Hotelling. Esta estatística é então convertida em uma estatística F, da qual o valor p é derivado. O valor p é usado para determinar se as diferenças entre as médias dos grupos são estatisticamente significativas."
   ]
  },
  {
   "cell_type": "code",
   "execution_count": 9,
   "metadata": {},
   "outputs": [],
   "source": [
    "# Função para calcular o teste T² de Hotelling\n",
    "def hotelling_t2_test(group1, group2):\n",
    "    \n",
    "    # Calcula a média de cada variável no grupo 1\n",
    "    mean1 = np.mean(group1, axis = 0) \n",
    "    \n",
    "    # Calcula a média de cada variável no grupo 2\n",
    "    mean2 = np.mean(group2, axis = 0)  \n",
    "    \n",
    "    # Determina o número de observações em cada grupo\n",
    "    n1, n2 = len(group1), len(group2)  \n",
    "    \n",
    "    # Calcula a matriz de covariância do grupo 1\n",
    "    cov1 = np.cov(group1.T)  \n",
    "    \n",
    "    # Calcula a matriz de covariância do grupo 2\n",
    "    cov2 = np.cov(group2.T)  \n",
    "    \n",
    "    # Calcula a covariância agrupada dos dois grupos\n",
    "    pooled_cov = ((n1 - 1) * cov1 + (n2 - 1) * cov2) / (n1 + n2 - 2)  \n",
    "    \n",
    "    # Calcula a diferença das médias entre os dois grupos\n",
    "    mean_diff = mean1 - mean2  \n",
    "    \n",
    "    # Calcula a estatística T² de Hotelling\n",
    "    t2_stat = n1 * n2 / (n1 + n2) * mean_diff.dot(inv(pooled_cov)).dot(mean_diff)  \n",
    "    \n",
    "    # Determina os graus de liberdade para o numerador (número de variáveis)\n",
    "    df1 = len(mean1)  \n",
    "    \n",
    "    # Determina os graus de liberdade para o denominador\n",
    "    df2 = n1 + n2 - df1 - 1  \n",
    "    \n",
    "    # Converte a estatística T² em uma estatística F\n",
    "    f_stat = t2_stat * (df2 / (n1 + n2 - 2)) / df1  \n",
    "    \n",
    "    # Calcula o valor p associado à estatística F\n",
    "    p_value = 1 - f.cdf(f_stat, df1, df2)  \n",
    "    \n",
    "    # Retorna a estatística T² e o valor p\n",
    "    return t2_stat, p_value  "
   ]
  },
  {
   "cell_type": "code",
   "execution_count": 10,
   "metadata": {},
   "outputs": [],
   "source": [
    "# Realizando o teste\n",
    "t2_stat, p_value = hotelling_t2_test(grupo1, grupo2)"
   ]
  },
  {
   "cell_type": "code",
   "execution_count": 11,
   "metadata": {},
   "outputs": [
    {
     "name": "stdout",
     "output_type": "stream",
     "text": [
      "Estatística T²: 146.68909049022432\n",
      "Valor-p: 1.1102230246251565e-16\n"
     ]
    }
   ],
   "source": [
    "print(\"Estatística T²:\", t2_stat)\n",
    "print(\"Valor-p:\", p_value)"
   ]
  },
  {
   "cell_type": "code",
   "execution_count": 12,
   "metadata": {},
   "outputs": [
    {
     "data": {
      "text/plain": [
       "True"
      ]
     },
     "execution_count": 12,
     "metadata": {},
     "output_type": "execute_result"
    }
   ],
   "source": [
    "p_value < 0.05"
   ]
  },
  {
   "cell_type": "markdown",
   "metadata": {},
   "source": [
    "**Interpretação:**\n",
    "\n",
    "A estatística T² é uma medida da diferença entre as médias dos dois grupos. Um valor elevado indica uma diferença significativa entre as médias dos grupos testados.\n",
    "\n",
    "O valor-p é uma medida da probabilidade de obter um resultado extremo como o observado, assumindo que a hipótese nula (de que as médias dos grupos são iguais) é verdadeira.\n",
    "\n",
    "Um valor-p extremamente pequeno sugere que, se a hipótese nula fosse verdadeira, seria muito improvável obter uma diferença tão grande ou maior por acaso.\n",
    "\n",
    "O valor-p baixo (menor que 0.05) indica fortes evidências contra a hipótese nula e a favor da hipótese alternativa (que as médias são diferentes)."
   ]
  },
  {
   "cell_type": "markdown",
   "metadata": {},
   "source": [
    "<!-- Projeto Desenvolvido na Data Science Academy - www.datascienceacademy.com.br -->\n",
    "\n",
    "### Análise de Variância Multivariada (MANOVA)\n",
    "\n",
    "A Análise de Variância Multivariada (MANOVA) é uma técnica estatística utilizada para analisar a diferença entre grupos em múltiplas variáveis dependentes simultaneamente. É uma extensão da Análise de Variância (ANOVA), que é usada para uma única variável dependente. A MANOVA é particularmente útil quando as variáveis dependentes estão correlacionadas e você deseja entender como diferentes variáveis independentes (ou grupos) afetam essas variáveis dependentes juntas.\n",
    "\n",
    "**Hipóteses**\n",
    "\n",
    "- Hipótese Nula (H0): As médias de todas as variáveis dependentes são iguais entre os grupos.\n",
    "- Hipótese Alternativa (H1): Pelo menos uma média de uma variável dependente difere entre os grupos.\n",
    "\n",
    "**Variáveis Dependentes e Independentes**\n",
    "\n",
    "- A MANOVA lida com duas ou mais variáveis dependentes.\n",
    "- Pode ter uma ou mais variáveis independentes (fatores), que são categóricas.\n",
    "\n",
    "**Correlação entre Variáveis Dependentes**\n",
    "\n",
    "Uma das principais razões para usar a MANOVA é que ela considera a correlação entre as variáveis dependentes, o que pode fornecer uma visão mais precisa do efeito das variáveis independentes.\n",
    "\n",
    "**Estatísticas de Teste**\n",
    "\n",
    "A MANOVA utiliza várias estatísticas de teste, como Wilks' Lambda, Pillai's Trace, Hotelling-Lawley Trace e Roy's Largest Root, cada uma com suas próprias características e condições de aplicabilidade.\n",
    "\n",
    "**Suposições do Teste**\n",
    "\n",
    "- Normalidade multivariada dos dados.\n",
    "- Homogeneidade das matrizes de covariância (variâncias são iguais entre os grupos).\n",
    "- Amostras independentes.\n",
    "\n",
    "**Interpretação**\n",
    "\n",
    "Um resultado significativo indica que há uma diferença nos conjuntos de médias das variáveis dependentes entre os grupos. No entanto, análises adicionais, como testes post-hoc, podem ser necessárias para identificar exatamente onde estão essas diferenças. Veremos isso daqui a pouco em Python.\n",
    "\n",
    "**Aplicações da MANOVA**\n",
    "\n",
    "- Pesquisa em Ciências Sociais e Psicologia: Por exemplo, comparar efeitos de diferentes intervenções terapêuticas em vários aspectos do bem-estar psicológico.\n",
    "- Pesquisa em Biologia e Medicina: Como avaliar o efeito de um tratamento em múltiplos indicadores de saúde.\n",
    "- Pesquisa de Mercado: Avaliar a reação dos consumidores a diferentes características de um produto.\n",
    "\n",
    "A MANOVA é uma ferramenta poderosa para análise multivariada e é especialmente útil quando as variáveis dependentes estão relacionadas entre si, permitindo uma compreensão mais abrangente dos efeitos das variáveis independentes."
   ]
  },
  {
   "cell_type": "markdown",
   "metadata": {},
   "source": [
    "<!-- Projeto Desenvolvido na Data Science Academy - www.datascienceacademy.com.br -->\n",
    "\n",
    "## Análise de Variância Multivariada (MANOVA) na Prática com Linguagem Python\n",
    "\n",
    "Vamos avaliar se existem diferenças significativas entre três grupos (A, B e C) em relação a um conjunto de variáveis dependentes (neste caso, DV1 e DV2). A MANOVA é particularmente útil aqui, pois estamos lidando com mais de uma variável dependente e queremos entender se o efeito dos grupos se estende além de uma única variável de resultado.\n",
    "\n",
    "**Objetivo da Análise:**\n",
    "\n",
    "Avaliar a eficácia de diferentes métodos de ensino no desempenho acadêmico dos alunos. O estudo foca em dois aspectos principais do desempenho acadêmico: compreensão de conceitos (DV1) e habilidades práticas (DV2).\n",
    "\n",
    "**Grupos de Estudo:**\n",
    "\n",
    "- Grupo A: Alunos que receberam ensino tradicional, baseado em palestras e anotações.\n",
    "- Grupo B: Alunos que foram ensinados por meio de métodos de aprendizagem baseados em projetos, com foco em experiências práticas.\n",
    "- Grupo C: Alunos que participaram de aulas interativas, com uso de tecnologia e aprendizagem colaborativa.\n",
    "\n",
    "**Variáveis Dependentes:**\n",
    "\n",
    "- DV1 (Compreensão de Conceitos): Medida por meio de um teste padronizado que avalia a compreensão dos alunos sobre os conceitos teóricos ensinados em sala de aula.\n",
    "- DV2 (Habilidades Práticas): Avaliada por meio de projetos práticos ou experimentos em laboratório, onde os alunos demonstram a aplicação prática de seus conhecimentos.\n",
    "\n",
    "**Importância da MANOVA:**\n",
    "\n",
    "A MANOVA será usada para analisar se existem diferenças estatisticamente significativas no desempenho dos alunos (tanto em termos de compreensão de conceitos quanto de habilidades práticas) entre os três grupos que experimentaram diferentes métodos de ensino. Essa abordagem é particularmente útil porque permite avaliar o impacto dos métodos de ensino em múltiplas dimensões do desempenho acadêmico simultaneamente, considerando também a possível correlação entre a compreensão teórica e as habilidades práticas."
   ]
  },
  {
   "cell_type": "code",
   "execution_count": 13,
   "metadata": {},
   "outputs": [],
   "source": [
    "# Gera dados sintéticos\n",
    "np.random.seed(0)\n",
    "group = np.repeat(['A', 'B', 'C'], 20)  # Três grupos\n",
    "data1 = np.random.normal(0, 1, 60) + (group == 'B') * 1 + (group == 'C') * 2  # Variável dependente 1\n",
    "data2 = np.random.normal(0, 1, 60) + (group == 'B') * 1.5 + (group == 'C') * -1  # Variável dependente 2\n",
    "df_dsa = pd.DataFrame({'Grupo': group, 'DV1': data1, 'DV2': data2})"
   ]
  },
  {
   "cell_type": "code",
   "execution_count": 14,
   "metadata": {},
   "outputs": [
    {
     "data": {
      "text/html": [
       "<div>\n",
       "<style scoped>\n",
       "    .dataframe tbody tr th:only-of-type {\n",
       "        vertical-align: middle;\n",
       "    }\n",
       "\n",
       "    .dataframe tbody tr th {\n",
       "        vertical-align: top;\n",
       "    }\n",
       "\n",
       "    .dataframe thead th {\n",
       "        text-align: right;\n",
       "    }\n",
       "</style>\n",
       "<table border=\"1\" class=\"dataframe\">\n",
       "  <thead>\n",
       "    <tr style=\"text-align: right;\">\n",
       "      <th></th>\n",
       "      <th>Grupo</th>\n",
       "      <th>DV1</th>\n",
       "      <th>DV2</th>\n",
       "    </tr>\n",
       "  </thead>\n",
       "  <tbody>\n",
       "    <tr>\n",
       "      <th>0</th>\n",
       "      <td>A</td>\n",
       "      <td>1.764052</td>\n",
       "      <td>-0.672460</td>\n",
       "    </tr>\n",
       "    <tr>\n",
       "      <th>1</th>\n",
       "      <td>A</td>\n",
       "      <td>0.400157</td>\n",
       "      <td>-0.359553</td>\n",
       "    </tr>\n",
       "    <tr>\n",
       "      <th>2</th>\n",
       "      <td>A</td>\n",
       "      <td>0.978738</td>\n",
       "      <td>-0.813146</td>\n",
       "    </tr>\n",
       "    <tr>\n",
       "      <th>3</th>\n",
       "      <td>A</td>\n",
       "      <td>2.240893</td>\n",
       "      <td>-1.726283</td>\n",
       "    </tr>\n",
       "    <tr>\n",
       "      <th>4</th>\n",
       "      <td>A</td>\n",
       "      <td>1.867558</td>\n",
       "      <td>0.177426</td>\n",
       "    </tr>\n",
       "  </tbody>\n",
       "</table>\n",
       "</div>"
      ],
      "text/plain": [
       "  Grupo       DV1       DV2\n",
       "0     A  1.764052 -0.672460\n",
       "1     A  0.400157 -0.359553\n",
       "2     A  0.978738 -0.813146\n",
       "3     A  2.240893 -1.726283\n",
       "4     A  1.867558  0.177426"
      ]
     },
     "execution_count": 14,
     "metadata": {},
     "output_type": "execute_result"
    }
   ],
   "source": [
    "df_dsa.head()"
   ]
  },
  {
   "cell_type": "code",
   "execution_count": 15,
   "metadata": {},
   "outputs": [
    {
     "data": {
      "text/plain": [
       "1.0766672955545968"
      ]
     },
     "execution_count": 15,
     "metadata": {},
     "output_type": "execute_result"
    }
   ],
   "source": [
    "df_dsa.DV1.mean()"
   ]
  },
  {
   "cell_type": "code",
   "execution_count": 16,
   "metadata": {},
   "outputs": [
    {
     "data": {
      "text/plain": [
       "0.355222863336584"
      ]
     },
     "execution_count": 16,
     "metadata": {},
     "output_type": "execute_result"
    }
   ],
   "source": [
    "df_dsa.DV2.mean()"
   ]
  },
  {
   "cell_type": "code",
   "execution_count": 17,
   "metadata": {},
   "outputs": [
    {
     "data": {
      "image/png": "[encoded data removed]",
      "text/plain": [
       "<Figure size 640x480 with 2 Axes>"
      ]
     },
     "metadata": {},
     "output_type": "display_data"
    }
   ],
   "source": [
    "import seaborn as sns\n",
    "import matplotlib.pyplot as plt\n",
    "fig, axs = plt.subplots(ncols=2)\n",
    "sns.boxplot(data = df_dsa, x = \"Grupo\", y = \"DV1\", hue = df_dsa.Grupo.tolist(), ax = axs[0])\n",
    "sns.boxplot(data = df_dsa, x = \"Grupo\", y = \"DV2\", hue = df_dsa.Grupo.tolist(), ax = axs[1])\n",
    "plt.show()"
   ]
  },
  {
   "cell_type": "markdown",
   "metadata": {},
   "source": [
    "**Definição das Hipóteses:**\n",
    "\n",
    "Hipótese Nula (H0)\n",
    "\n",
    "H0: Não existem diferenças significativas entre os três grupos de estudo (Grupo A, Grupo B, Grupo C) em relação às variáveis dependentes de compreensão de conceitos (DV1) e habilidades práticas (DV2).\n",
    "\n",
    "A hipótese nula sugere que, independentemente do método de ensino utilizado (tradicional, baseado em projetos ou interativo com tecnologia), não há diferença estatisticamente significativa no desempenho acadêmico dos alunos, tanto na compreensão teórica quanto nas habilidades práticas.\n",
    "\n",
    "Hipótese Alternativa (H1)\n",
    "\n",
    "H1: Existem diferenças significativas entre pelo menos dois dos três grupos de estudo (Grupo A, Grupo B, Grupo C) em relação às variáveis dependentes de compreensão de conceitos (DV1) e habilidades práticas (DV2).\n",
    "\n",
    "A hipótese alternativa propõe que os métodos de ensino têm impactos diferentes no desempenho acadêmico dos alunos. Isso significa que pelo menos um dos métodos de ensino é estatisticamente mais eficaz ou menos eficaz do que os outros em termos de melhoria da compreensão de conceitos, habilidades práticas, ou ambos."
   ]
  },
  {
   "cell_type": "code",
   "execution_count": 18,
   "metadata": {},
   "outputs": [],
   "source": [
    "# MANOVA\n",
    "maov = MANOVA.from_formula('DV1 + DV2 ~ Grupo', data = df_dsa)"
   ]
  },
  {
   "cell_type": "code",
   "execution_count": 19,
   "metadata": {},
   "outputs": [
    {
     "name": "stdout",
     "output_type": "stream",
     "text": [
      "                  Multivariate linear model\n",
      "=============================================================\n",
      "                                                             \n",
      "-------------------------------------------------------------\n",
      "        Intercept        Value  Num DF  Den DF F Value Pr > F\n",
      "-------------------------------------------------------------\n",
      "           Wilks' lambda 0.8581 2.0000 56.0000  4.6317 0.0138\n",
      "          Pillai's trace 0.1419 2.0000 56.0000  4.6317 0.0138\n",
      "  Hotelling-Lawley trace 0.1654 2.0000 56.0000  4.6317 0.0138\n",
      "     Roy's greatest root 0.1654 2.0000 56.0000  4.6317 0.0138\n",
      "-------------------------------------------------------------\n",
      "                                                             \n",
      "-------------------------------------------------------------\n",
      "         Grupo          Value  Num DF  Den DF  F Value Pr > F\n",
      "-------------------------------------------------------------\n",
      "          Wilks' lambda 0.3574 4.0000 112.0000 18.8364 0.0000\n",
      "         Pillai's trace 0.7316 4.0000 114.0000 16.4396 0.0000\n",
      " Hotelling-Lawley trace 1.5489 4.0000  66.1739 21.5622 0.0000\n",
      "    Roy's greatest root 1.3667 2.0000  57.0000 38.9500 0.0000\n",
      "=============================================================\n",
      "\n"
     ]
    }
   ],
   "source": [
    "print(maov.mv_test())"
   ]
  },
  {
   "cell_type": "markdown",
   "metadata": {},
   "source": [
    "Vamos interpretar os resultados passo a passo:\n",
    "\n",
    "**Seção de Intercepto**\n",
    "\n",
    "Esta seção testa a hipótese nula de que o intercepto médio multivariado é igual a zero. Os resultados são apresentados para quatro estatísticas diferentes: Wilks' Lambda, Pillai's Trace, Hotelling-Lawley Trace e Roy's Greatest Root.\n",
    "\n",
    "Interpretação: Com um valor p de 0.0138 (menor que 0.05), rejeitamos a hipótese nula, sugerindo que o intercepto médio multivariado é significativamente diferente de zero.\n",
    "\n",
    "Os outros três testes fornecem resultados consistentes com a interpretação de Wilks' Lambda.\n",
    "\n",
    "**Seção de Grupo**\n",
    "\n",
    "Esta seção testa a hipótese nula de que as médias dos grupos são iguais para todas as variáveis dependentes. Novamente, os resultados são apresentados para as mesmas quatro estatísticas.\n",
    "\n",
    "Wilks' Lambda - Interpretação: Com um valor p próximo de zero, rejeitamos a hipótese nula, indicando que há diferenças significativas nas médias multivariadas dos grupos.\n",
    "\n",
    "Pillai's Trace - Interpretação: Resultados consistentes com Wilks' Lambda, reforçando a rejeição da hipótese nula.\n",
    "Hotelling-Lawley Trace e Roy's Greatest Root:\n",
    "\n",
    "Valores e Valores F elevados, Valores p próximos de zero.\n",
    "\n",
    "Interpretação: Ambos confirmam a rejeição da hipótese nula.\n",
    "\n",
    "**Conclusão**\n",
    "\n",
    "Todos os testes indicam que há diferenças estatisticamente significativas entre os grupos em relação às variáveis dependentes consideradas no modelo. Os valores p muito baixos em todos os testes reforçam essa conclusão. Isso significa que, com base nos dados e no modelo especificado, as médias das variáveis dependentes variam significativamente entre os grupos estudados."
   ]
  },
  {
   "cell_type": "markdown",
   "metadata": {},
   "source": [
    "### Análise Discriminante Linear (LDA)\n",
    "\n",
    "E qual método de ensino se destaca em relação aos demais?"
   ]
  },
  {
   "cell_type": "markdown",
   "metadata": {},
   "source": [
    "Aqui realizaremos a Análise Discriminante Linear (LDA) usando sklearn para ver as diferenças entre cada grupo. O LDA discriminará os grupos usando informações de ambas as variáveis dependentes."
   ]
  },
  {
   "cell_type": "code",
   "execution_count": 20,
   "metadata": {},
   "outputs": [
    {
     "data": {
      "image/png": "[encoded data removed]",
      "text/plain": [
       "<Figure size 640x480 with 1 Axes>"
      ]
     },
     "metadata": {},
     "output_type": "display_data"
    }
   ],
   "source": [
    "from sklearn.discriminant_analysis import LinearDiscriminantAnalysis as lda\n",
    "\n",
    "# Dados\n",
    "X = df_dsa[[\"DV1\", \"DV2\"]]\n",
    "y = df_dsa[\"Grupo\"]\n",
    "\n",
    "# Modelo LDA\n",
    "modelo = lda().fit(X = X, y = y)\n",
    "\n",
    "# Probabilidades dos grupos\n",
    "modelo.priors_\n",
    "\n",
    "# Médias dos grupos\n",
    "modelo.means_\n",
    "\n",
    "# Coeficientes\n",
    "modelo.scalings_\n",
    "\n",
    "# Variância explicada\n",
    "modelo.explained_variance_ratio_\n",
    "\n",
    "# Plot \n",
    "X_new = pd.DataFrame(lda().fit(X = X, y = y).transform(X), columns = [\"lda1\", \"lda2\"])\n",
    "X_new[\"Grupo\"] = df_dsa[\"Grupo\"]\n",
    "sns.scatterplot(data = X_new, x = \"lda1\", y = \"lda2\", hue = df_dsa.Grupo.tolist())\n",
    "plt.show()"
   ]
  },
  {
   "cell_type": "markdown",
   "metadata": {},
   "source": [
    "O gráfico mostra uma clara separação do grupo B, enquanto praticamente não há distinção entre os grupos A e C."
   ]
  },
  {
   "cell_type": "code",
   "execution_count": 21,
   "metadata": {},
   "outputs": [
    {
     "name": "stdout",
     "output_type": "stream",
     "text": [
      "Author: Data Science Academy\n",
      "\n"
     ]
    }
   ],
   "source": [
    "%reload_ext watermark\n",
    "%watermark -a \"Data Science Academy\""
   ]
  },
  {
   "cell_type": "code",
   "execution_count": null,
   "metadata": {},
   "outputs": [],
   "source": [
    "#%watermark -v -m"
   ]
  },
  {
   "cell_type": "code",
   "execution_count": null,
   "metadata": {},
   "outputs": [],
   "source": [
    "#%watermark --iversions"
   ]
  },
  {
   "cell_type": "markdown",
   "metadata": {},
   "source": [
    "# Fim"
   ]
  }
 ],
 "metadata": {
  "kernelspec": {
   "display_name": "Python 3 (ipykernel)",
   "language": "python",
   "name": "python3"
  },
  "language_info": {
   "codemirror_mode": {
    "name": "ipython",
    "version": 3
   },
   "file_extension": ".py",
   "mimetype": "text/x-python",
   "name": "python",
   "nbconvert_exporter": "python",
   "pygments_lexer": "ipython3",
   "version": "3.11.7"
  }
 },
 "nbformat": 4,
 "nbformat_minor": 2
}
