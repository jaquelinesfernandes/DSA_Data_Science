{
 "cells": [
  {
   "cell_type": "markdown",
   "metadata": {},
   "source": [
    "# <font color='blue'>Data Science Academy</font>\n",
    "# <font color='blue'>Curso Bônus - Data Science e Machine Learning com Linguagem Julia</font>\n",
    "\n",
    "## <font color='blue'>Data Science com Linguagem Julia</font>"
   ]
  },
  {
   "cell_type": "markdown",
   "metadata": {},
   "source": [
    "![title](imagens/MP-DSJulia.png)"
   ]
  },
  {
   "cell_type": "code",
   "execution_count": 1,
   "metadata": {},
   "outputs": [],
   "source": [
    "import Pkg"
   ]
  },
  {
   "cell_type": "code",
   "execution_count": 2,
   "metadata": {},
   "outputs": [
    {
     "name": "stderr",
     "output_type": "stream",
     "text": [
      "\u001b[32m\u001b[1m    Updating\u001b[22m\u001b[39m registry at `~/.julia/registries/General.toml`\n",
      "\u001b[32m\u001b[1m   Resolving\u001b[22m\u001b[39m package versions...\n",
      "\u001b[32m\u001b[1m  No Changes\u001b[22m\u001b[39m to `~/.julia/environments/v1.7/Project.toml`\n",
      "\u001b[32m\u001b[1m  No Changes\u001b[22m\u001b[39m to `~/.julia/environments/v1.7/Manifest.toml`\n"
     ]
    }
   ],
   "source": [
    "Pkg.add(\"CSV\")"
   ]
  },
  {
   "cell_type": "code",
   "execution_count": 3,
   "metadata": {},
   "outputs": [
    {
     "name": "stderr",
     "output_type": "stream",
     "text": [
      "\u001b[32m\u001b[1m   Resolving\u001b[22m\u001b[39m package versions...\n",
      "\u001b[32m\u001b[1m  No Changes\u001b[22m\u001b[39m to `~/.julia/environments/v1.7/Project.toml`\n",
      "\u001b[32m\u001b[1m  No Changes\u001b[22m\u001b[39m to `~/.julia/environments/v1.7/Manifest.toml`\n"
     ]
    }
   ],
   "source": [
    "Pkg.add(\"DataFrames\")"
   ]
  },
  {
   "cell_type": "code",
   "execution_count": 4,
   "metadata": {},
   "outputs": [
    {
     "name": "stderr",
     "output_type": "stream",
     "text": [
      "\u001b[32m\u001b[1m   Resolving\u001b[22m\u001b[39m package versions...\n",
      "\u001b[32m\u001b[1m  No Changes\u001b[22m\u001b[39m to `~/.julia/environments/v1.7/Project.toml`\n",
      "\u001b[32m\u001b[1m  No Changes\u001b[22m\u001b[39m to `~/.julia/environments/v1.7/Manifest.toml`\n"
     ]
    }
   ],
   "source": [
    "Pkg.add(\"ScikitLearn\")"
   ]
  },
  {
   "cell_type": "code",
   "execution_count": 5,
   "metadata": {},
   "outputs": [
    {
     "name": "stderr",
     "output_type": "stream",
     "text": [
      "\u001b[32m\u001b[1m   Resolving\u001b[22m\u001b[39m package versions...\n",
      "\u001b[32m\u001b[1m  No Changes\u001b[22m\u001b[39m to `~/.julia/environments/v1.7/Project.toml`\n",
      "\u001b[32m\u001b[1m  No Changes\u001b[22m\u001b[39m to `~/.julia/environments/v1.7/Manifest.toml`\n"
     ]
    }
   ],
   "source": [
    "Pkg.add(\"Clustering\")"
   ]
  },
  {
   "cell_type": "code",
   "execution_count": 6,
   "metadata": {},
   "outputs": [
    {
     "name": "stderr",
     "output_type": "stream",
     "text": [
      "\u001b[32m\u001b[1m   Resolving\u001b[22m\u001b[39m package versions...\n",
      "\u001b[32m\u001b[1m  No Changes\u001b[22m\u001b[39m to `~/.julia/environments/v1.7/Project.toml`\n",
      "\u001b[32m\u001b[1m  No Changes\u001b[22m\u001b[39m to `~/.julia/environments/v1.7/Manifest.toml`\n"
     ]
    }
   ],
   "source": [
    "Pkg.add(\"Distances\")"
   ]
  },
  {
   "cell_type": "code",
   "execution_count": 7,
   "metadata": {},
   "outputs": [],
   "source": [
    "using CSV, DataFrames, ScikitLearn, Clustering, Distances, Statistics"
   ]
  },
  {
   "cell_type": "markdown",
   "metadata": {},
   "source": [
    "Carregamos o dataset."
   ]
  },
  {
   "cell_type": "code",
   "execution_count": 8,
   "metadata": {},
   "outputs": [
    {
     "data": {
      "text/html": [
       "<div class=\"data-frame\"><p>8,525 rows × 27 columns (omitted printing of 18 columns)</p><table class=\"data-frame\"><thead><tr><th></th><th>tumorsize</th><th>co2</th><th>pain</th><th>wound</th><th>mobility</th><th>ntumors</th><th>nmorphine</th><th>remission</th><th>lungcapacity</th></tr><tr><th></th><th title=\"Float64\">Float64</th><th title=\"Float64\">Float64</th><th title=\"Int64\">Int64</th><th title=\"Int64\">Int64</th><th title=\"Int64\">Int64</th><th title=\"Int64\">Int64</th><th title=\"Int64\">Int64</th><th title=\"Int64\">Int64</th><th title=\"Float64\">Float64</th></tr></thead><tbody><tr><th>1</th><td>67.9812</td><td>1.53433</td><td>4</td><td>4</td><td>2</td><td>0</td><td>0</td><td>0</td><td>0.801088</td></tr><tr><th>2</th><td>64.7025</td><td>1.67613</td><td>2</td><td>3</td><td>2</td><td>0</td><td>0</td><td>0</td><td>0.326444</td></tr><tr><th>3</th><td>51.567</td><td>1.53345</td><td>6</td><td>3</td><td>2</td><td>0</td><td>0</td><td>0</td><td>0.565031</td></tr><tr><th>4</th><td>86.438</td><td>1.4533</td><td>3</td><td>3</td><td>2</td><td>0</td><td>0</td><td>0</td><td>0.848411</td></tr><tr><th>5</th><td>53.4002</td><td>1.56635</td><td>3</td><td>4</td><td>2</td><td>0</td><td>0</td><td>0</td><td>0.886491</td></tr><tr><th>6</th><td>51.6573</td><td>1.41787</td><td>4</td><td>5</td><td>2</td><td>0</td><td>0</td><td>0</td><td>0.701031</td></tr><tr><th>7</th><td>78.9171</td><td>1.70663</td><td>3</td><td>4</td><td>2</td><td>0</td><td>0</td><td>0</td><td>0.890854</td></tr><tr><th>8</th><td>69.8332</td><td>1.52873</td><td>3</td><td>3</td><td>3</td><td>0</td><td>0</td><td>0</td><td>0.66088</td></tr><tr><th>9</th><td>62.8526</td><td>1.54296</td><td>4</td><td>4</td><td>3</td><td>2</td><td>0</td><td>0</td><td>0.908871</td></tr><tr><th>10</th><td>71.7779</td><td>1.59306</td><td>5</td><td>4</td><td>3</td><td>0</td><td>0</td><td>0</td><td>0.959327</td></tr><tr><th>11</th><td>66.0256</td><td>1.60936</td><td>4</td><td>3</td><td>3</td><td>0</td><td>0</td><td>0</td><td>0.768215</td></tr><tr><th>12</th><td>57.5208</td><td>1.6344</td><td>4</td><td>3</td><td>3</td><td>0</td><td>0</td><td>0</td><td>0.488333</td></tr><tr><th>13</th><td>48.8394</td><td>1.53568</td><td>5</td><td>3</td><td>3</td><td>0</td><td>0</td><td>0</td><td>0.873921</td></tr><tr><th>14</th><td>67.2588</td><td>1.4896</td><td>3</td><td>3</td><td>2</td><td>0</td><td>0</td><td>0</td><td>0.707038</td></tr><tr><th>15</th><td>66.8071</td><td>1.52414</td><td>4</td><td>3</td><td>1</td><td>6</td><td>4</td><td>0</td><td>0.891166</td></tr><tr><th>16</th><td>73.8678</td><td>1.62979</td><td>3</td><td>4</td><td>1</td><td>0</td><td>0</td><td>0</td><td>0.604558</td></tr><tr><th>17</th><td>74.4426</td><td>1.74089</td><td>2</td><td>3</td><td>2</td><td>5</td><td>0</td><td>0</td><td>0.979005</td></tr><tr><th>18</th><td>79.7899</td><td>1.68875</td><td>6</td><td>4</td><td>2</td><td>0</td><td>0</td><td>0</td><td>0.58833</td></tr><tr><th>19</th><td>93.6763</td><td>1.71278</td><td>5</td><td>4</td><td>3</td><td>2</td><td>1</td><td>0</td><td>0.800185</td></tr><tr><th>20</th><td>58.2765</td><td>1.46615</td><td>7</td><td>3</td><td>2</td><td>0</td><td>0</td><td>0</td><td>0.900713</td></tr><tr><th>21</th><td>63.1962</td><td>1.51348</td><td>6</td><td>3</td><td>3</td><td>0</td><td>0</td><td>0</td><td>0.477993</td></tr><tr><th>22</th><td>57.5758</td><td>1.58642</td><td>3</td><td>3</td><td>1</td><td>2</td><td>0</td><td>0</td><td>0.616175</td></tr><tr><th>23</th><td>51.7235</td><td>1.49534</td><td>5</td><td>4</td><td>2</td><td>0</td><td>0</td><td>0</td><td>0.71411</td></tr><tr><th>24</th><td>63.6105</td><td>1.63116</td><td>1</td><td>3</td><td>2</td><td>0</td><td>0</td><td>0</td><td>0.667079</td></tr><tr><th>25</th><td>70.3155</td><td>1.59554</td><td>5</td><td>3</td><td>3</td><td>3</td><td>0</td><td>0</td><td>0.900029</td></tr><tr><th>26</th><td>78.9307</td><td>1.79946</td><td>3</td><td>4</td><td>2</td><td>2</td><td>0</td><td>0</td><td>0.670813</td></tr><tr><th>27</th><td>58.7022</td><td>1.53565</td><td>4</td><td>5</td><td>3</td><td>0</td><td>0</td><td>0</td><td>0.935679</td></tr><tr><th>28</th><td>66.4073</td><td>1.54085</td><td>4</td><td>3</td><td>3</td><td>0</td><td>0</td><td>0</td><td>0.298891</td></tr><tr><th>29</th><td>72.5715</td><td>1.59799</td><td>6</td><td>8</td><td>6</td><td>0</td><td>9</td><td>0</td><td>0.648699</td></tr><tr><th>30</th><td>52.9476</td><td>1.48219</td><td>5</td><td>7</td><td>5</td><td>1</td><td>3</td><td>0</td><td>0.70754</td></tr><tr><th>&vellip;</th><td>&vellip;</td><td>&vellip;</td><td>&vellip;</td><td>&vellip;</td><td>&vellip;</td><td>&vellip;</td><td>&vellip;</td><td>&vellip;</td><td>&vellip;</td></tr></tbody></table></div>"
      ],
      "text/latex": [
       "\\begin{tabular}{r|cccccccccc}\n",
       "\t& tumorsize & co2 & pain & wound & mobility & ntumors & nmorphine & remission & lungcapacity & \\\\\n",
       "\t\\hline\n",
       "\t& Float64 & Float64 & Int64 & Int64 & Int64 & Int64 & Int64 & Int64 & Float64 & \\\\\n",
       "\t\\hline\n",
       "\t1 & 67.9812 & 1.53433 & 4 & 4 & 2 & 0 & 0 & 0 & 0.801088 & $\\dots$ \\\\\n",
       "\t2 & 64.7025 & 1.67613 & 2 & 3 & 2 & 0 & 0 & 0 & 0.326444 & $\\dots$ \\\\\n",
       "\t3 & 51.567 & 1.53345 & 6 & 3 & 2 & 0 & 0 & 0 & 0.565031 & $\\dots$ \\\\\n",
       "\t4 & 86.438 & 1.4533 & 3 & 3 & 2 & 0 & 0 & 0 & 0.848411 & $\\dots$ \\\\\n",
       "\t5 & 53.4002 & 1.56635 & 3 & 4 & 2 & 0 & 0 & 0 & 0.886491 & $\\dots$ \\\\\n",
       "\t6 & 51.6573 & 1.41787 & 4 & 5 & 2 & 0 & 0 & 0 & 0.701031 & $\\dots$ \\\\\n",
       "\t7 & 78.9171 & 1.70663 & 3 & 4 & 2 & 0 & 0 & 0 & 0.890854 & $\\dots$ \\\\\n",
       "\t8 & 69.8332 & 1.52873 & 3 & 3 & 3 & 0 & 0 & 0 & 0.66088 & $\\dots$ \\\\\n",
       "\t9 & 62.8526 & 1.54296 & 4 & 4 & 3 & 2 & 0 & 0 & 0.908871 & $\\dots$ \\\\\n",
       "\t10 & 71.7779 & 1.59306 & 5 & 4 & 3 & 0 & 0 & 0 & 0.959327 & $\\dots$ \\\\\n",
       "\t11 & 66.0256 & 1.60936 & 4 & 3 & 3 & 0 & 0 & 0 & 0.768215 & $\\dots$ \\\\\n",
       "\t12 & 57.5208 & 1.6344 & 4 & 3 & 3 & 0 & 0 & 0 & 0.488333 & $\\dots$ \\\\\n",
       "\t13 & 48.8394 & 1.53568 & 5 & 3 & 3 & 0 & 0 & 0 & 0.873921 & $\\dots$ \\\\\n",
       "\t14 & 67.2588 & 1.4896 & 3 & 3 & 2 & 0 & 0 & 0 & 0.707038 & $\\dots$ \\\\\n",
       "\t15 & 66.8071 & 1.52414 & 4 & 3 & 1 & 6 & 4 & 0 & 0.891166 & $\\dots$ \\\\\n",
       "\t16 & 73.8678 & 1.62979 & 3 & 4 & 1 & 0 & 0 & 0 & 0.604558 & $\\dots$ \\\\\n",
       "\t17 & 74.4426 & 1.74089 & 2 & 3 & 2 & 5 & 0 & 0 & 0.979005 & $\\dots$ \\\\\n",
       "\t18 & 79.7899 & 1.68875 & 6 & 4 & 2 & 0 & 0 & 0 & 0.58833 & $\\dots$ \\\\\n",
       "\t19 & 93.6763 & 1.71278 & 5 & 4 & 3 & 2 & 1 & 0 & 0.800185 & $\\dots$ \\\\\n",
       "\t20 & 58.2765 & 1.46615 & 7 & 3 & 2 & 0 & 0 & 0 & 0.900713 & $\\dots$ \\\\\n",
       "\t21 & 63.1962 & 1.51348 & 6 & 3 & 3 & 0 & 0 & 0 & 0.477993 & $\\dots$ \\\\\n",
       "\t22 & 57.5758 & 1.58642 & 3 & 3 & 1 & 2 & 0 & 0 & 0.616175 & $\\dots$ \\\\\n",
       "\t23 & 51.7235 & 1.49534 & 5 & 4 & 2 & 0 & 0 & 0 & 0.71411 & $\\dots$ \\\\\n",
       "\t24 & 63.6105 & 1.63116 & 1 & 3 & 2 & 0 & 0 & 0 & 0.667079 & $\\dots$ \\\\\n",
       "\t25 & 70.3155 & 1.59554 & 5 & 3 & 3 & 3 & 0 & 0 & 0.900029 & $\\dots$ \\\\\n",
       "\t26 & 78.9307 & 1.79946 & 3 & 4 & 2 & 2 & 0 & 0 & 0.670813 & $\\dots$ \\\\\n",
       "\t27 & 58.7022 & 1.53565 & 4 & 5 & 3 & 0 & 0 & 0 & 0.935679 & $\\dots$ \\\\\n",
       "\t28 & 66.4073 & 1.54085 & 4 & 3 & 3 & 0 & 0 & 0 & 0.298891 & $\\dots$ \\\\\n",
       "\t29 & 72.5715 & 1.59799 & 6 & 8 & 6 & 0 & 9 & 0 & 0.648699 & $\\dots$ \\\\\n",
       "\t30 & 52.9476 & 1.48219 & 5 & 7 & 5 & 1 & 3 & 0 & 0.70754 & $\\dots$ \\\\\n",
       "\t$\\dots$ & $\\dots$ & $\\dots$ & $\\dots$ & $\\dots$ & $\\dots$ & $\\dots$ & $\\dots$ & $\\dots$ & $\\dots$ &  \\\\\n",
       "\\end{tabular}\n"
      ],
      "text/plain": [
       "\u001b[1m8525×27 DataFrame\u001b[0m\n",
       "\u001b[1m  Row \u001b[0m│\u001b[1m tumorsize \u001b[0m\u001b[1m co2     \u001b[0m\u001b[1m pain  \u001b[0m\u001b[1m wound \u001b[0m\u001b[1m mobility \u001b[0m\u001b[1m ntumors \u001b[0m\u001b[1m nmorphine \u001b[0m\u001b[1m remiss\u001b[0m ⋯\n",
       "\u001b[1m      \u001b[0m│\u001b[90m Float64   \u001b[0m\u001b[90m Float64 \u001b[0m\u001b[90m Int64 \u001b[0m\u001b[90m Int64 \u001b[0m\u001b[90m Int64    \u001b[0m\u001b[90m Int64   \u001b[0m\u001b[90m Int64     \u001b[0m\u001b[90m Int64 \u001b[0m ⋯\n",
       "──────┼─────────────────────────────────────────────────────────────────────────\n",
       "    1 │   67.9812  1.53433      4      4         2        0          0         ⋯\n",
       "    2 │   64.7025  1.67613      2      3         2        0          0\n",
       "    3 │   51.567   1.53345      6      3         2        0          0\n",
       "    4 │   86.438   1.4533       3      3         2        0          0\n",
       "    5 │   53.4002  1.56635      3      4         2        0          0         ⋯\n",
       "    6 │   51.6573  1.41787      4      5         2        0          0\n",
       "    7 │   78.9171  1.70663      3      4         2        0          0\n",
       "    8 │   69.8332  1.52873      3      3         3        0          0\n",
       "    9 │   62.8526  1.54296      4      4         3        2          0         ⋯\n",
       "   10 │   71.7779  1.59306      5      4         3        0          0\n",
       "   11 │   66.0256  1.60936      4      3         3        0          0\n",
       "  ⋮   │     ⋮         ⋮       ⋮      ⋮       ⋮         ⋮         ⋮          ⋮  ⋱\n",
       " 8516 │   72.1299  1.54957      6      6         3        0          1\n",
       " 8517 │   80.6805  1.76155      5      6         3        0          1         ⋯\n",
       " 8518 │   74.1363  1.59926      5      6         3        7          5\n",
       " 8519 │   70.073   1.47649      6      5         3        4          2\n",
       " 8520 │   82.6019  1.77649      7      6         1        1          2\n",
       " 8521 │   71.2625  1.44567      4      7         4        4          0         ⋯\n",
       " 8522 │   79.9304  1.84224      4      6         2        2          5\n",
       " 8523 │   67.098   1.51245      5      6         4        0          4\n",
       " 8524 │   66.3834  1.61859      7      5         3        3          2\n",
       " 8525 │   65.9232  1.58751      4      5         3        1          2         ⋯\n",
       "\u001b[36m                                                20 columns and 8504 rows omitted\u001b[0m"
      ]
     },
     "execution_count": 8,
     "metadata": {},
     "output_type": "execute_result"
    }
   ],
   "source": [
    "dados = CSV.File(read(\"dados/dataset.csv\")) |> DataFrame"
   ]
  },
  {
   "cell_type": "markdown",
   "metadata": {},
   "source": [
    "Dimensões do dataframe."
   ]
  },
  {
   "cell_type": "code",
   "execution_count": 9,
   "metadata": {},
   "outputs": [
    {
     "data": {
      "text/plain": [
       "(8525, 27)"
      ]
     },
     "execution_count": 9,
     "metadata": {},
     "output_type": "execute_result"
    }
   ],
   "source": [
    "size(dados)"
   ]
  },
  {
   "cell_type": "markdown",
   "metadata": {},
   "source": [
    "Visualizamos os dados em todas as colunas."
   ]
  },
  {
   "cell_type": "code",
   "execution_count": 10,
   "metadata": {},
   "outputs": [
    {
     "name": "stdout",
     "output_type": "stream",
     "text": [
      "\u001b[1m8525×27 DataFrame\u001b[0m\n",
      "\u001b[1m  Row \u001b[0m│\u001b[1m tumorsize \u001b[0m\u001b[1m co2     \u001b[0m\u001b[1m pain  \u001b[0m\u001b[1m wound \u001b[0m\u001b[1m mobility \u001b[0m\u001b[1m ntumors \u001b[0m\u001b[1m nmorphine \u001b[0m\u001b[1m remission \u001b[0m\u001b[1m lungcapacity \u001b[0m\u001b[1m Age     \u001b[0m\u001b[1m Married \u001b[0m\u001b[1m FamilyHx \u001b[0m\u001b[1m SmokingHx \u001b[0m\u001b[1m Sex     \u001b[0m\u001b[1m CancerStage \u001b[0m\u001b[1m LengthofStay \u001b[0m\u001b[1m WBC     \u001b[0m\u001b[1m RBC     \u001b[0m\u001b[1m BMI     \u001b[0m\u001b[1m IL6       \u001b[0m\u001b[1m CRP       \u001b[0m\u001b[1m DID   \u001b[0m\u001b[1m Experience \u001b[0m\u001b[1m School  \u001b[0m\u001b[1m Lawsuits \u001b[0m\u001b[1m HID   \u001b[0m\u001b[1m Medicaid \u001b[0m\n",
      "\u001b[1m      \u001b[0m│\u001b[90m Float64   \u001b[0m\u001b[90m Float64 \u001b[0m\u001b[90m Int64 \u001b[0m\u001b[90m Int64 \u001b[0m\u001b[90m Int64    \u001b[0m\u001b[90m Int64   \u001b[0m\u001b[90m Int64     \u001b[0m\u001b[90m Int64     \u001b[0m\u001b[90m Float64      \u001b[0m\u001b[90m Float64 \u001b[0m\u001b[90m Int64   \u001b[0m\u001b[90m String3  \u001b[0m\u001b[90m String7   \u001b[0m\u001b[90m String7 \u001b[0m\u001b[90m String3     \u001b[0m\u001b[90m Int64        \u001b[0m\u001b[90m Float64 \u001b[0m\u001b[90m Float64 \u001b[0m\u001b[90m Float64 \u001b[0m\u001b[90m Float64   \u001b[0m\u001b[90m Float64   \u001b[0m\u001b[90m Int64 \u001b[0m\u001b[90m Int64      \u001b[0m\u001b[90m String7 \u001b[0m\u001b[90m Int64    \u001b[0m\u001b[90m Int64 \u001b[0m\u001b[90m Float64  \u001b[0m\n",
      "──────┼────────────────────────────────────────────────────────────────────────────────────────────────────────────────────────────────────────────────────────────────────────────────────────────────────────────────────────────────────────────────────────────────────────────\n",
      "    1 │   67.9812  1.53433      4      4         2        0          0          0      0.801088  64.9682        0  no        former     male     II                      6  6087.65  4.86842  24.1442   3.69898    8.08642       1          25  average         3      1  0.605867\n",
      "    2 │   64.7025  1.67613      2      3         2        0          0          0      0.326444  53.9171        0  no        former     female   II                      6  6700.31  4.67905  29.4052   2.62748    0.803488      1          25  average         3      1  0.605867\n",
      "    3 │   51.567   1.53345      6      3         2        0          0          0      0.565031  53.3473        1  no        never      female   II                      5  6042.81  5.00586  29.4826  13.8962     4.03416       1          25  average         3      1  0.605867\n",
      "    4 │   86.438   1.4533       3      3         2        0          0          0      0.848411  41.368         0  no        former     male     I                       5  7162.7   5.26506  21.5573   3.00803    2.12586       1          25  average         3      1  0.605867\n",
      "    5 │   53.4002  1.56635      3      4         2        0          0          0      0.886491  46.8004        0  no        never      male     II                      6  6443.44  4.98426  29.8152   3.8907     1.34932       1          25  average         3      1  0.605867\n",
      "    6 │   51.6573  1.41787      4      5         2        0          0          0      0.701031  51.9294        1  no        never      male     I                       5  6800.55  5.19971  27.1025   1.41822    2.19469       1          25  average         3      1  0.605867\n",
      "    7 │   78.9171  1.70663      3      4         2        0          0          0      0.890854  53.8293        1  no        current    female   II                      4  6236.45  4.8699   21.1191   2.29322    8.60796       1          25  average         3      1  0.605867\n",
      "    8 │   69.8332  1.52873      3      3         3        0          0          0      0.66088   46.5622        0  no        former     male     II                      5  3997.7   4.64792  42.4754   4.57562    0.838388      1          25  average         3      1  0.605867\n",
      "    9 │   62.8526  1.54296      4      4         3        2          0          0      0.908871  54.3894        1  yes       former     male     II                      6  6652.8   4.82706  18.6851   8.0302     7.22613       1          25  average         3      1  0.605867\n",
      "   10 │   71.7779  1.59306      5      4         3        0          0          0      0.959327  50.5446        0  no        never      male     II                      7  5778.09  4.85051  39.4424   5.85566    4.08878       1          25  average         3      1  0.605867\n",
      "   11 │   66.0256  1.60936      4      3         3        0          0          0      0.768215  42.9193        0  no        current    female   I                       5  6182.05  5.19967  29.2478   4.89269    2.16514       1          25  average         3      1  0.605867\n",
      "  ⋮   │     ⋮         ⋮       ⋮      ⋮       ⋮         ⋮         ⋮          ⋮           ⋮           ⋮        ⋮        ⋮          ⋮         ⋮          ⋮            ⋮           ⋮        ⋮        ⋮         ⋮          ⋮        ⋮        ⋮          ⋮        ⋮        ⋮       ⋮\n",
      " 8516 │   72.1299  1.54957      6      6         3        0          1          1      0.81772   48.6778        1  no        never      male     II                      4  5970.95  5.17228  26.0899   3.96639    2.87995     407          24  average         4     35  0.342869\n",
      " 8517 │   80.6805  1.76155      5      6         3        0          1          1      0.665874  48.119         1  no        current    female   I                       5  6144.3   4.80481  41.2517   2.89367    3.19896     407          24  average         4     35  0.342869\n",
      " 8518 │   74.1363  1.59926      5      6         3        7          5          0      0.859104  64.1803        1  no        never      female   IV                      5  6953.91  5.09539  36.4225   7.19954    2.83987     407          24  average         4     35  0.342869\n",
      " 8519 │   70.073   1.47649      6      5         3        4          2          0      0.958656  54.6413        0  no        former     female   IV                      5  4348.73  4.66121  28.06     9.09707    0.57011     407          24  average         4     35  0.342869\n",
      " 8520 │   82.6019  1.77649      7      6         1        1          2          1      0.932638  44.9408        1  yes       current    male     I                       4  6952.75  4.82134  26.4427   3.57383    9.55253     407          24  average         4     35  0.342869\n",
      " 8521 │   71.2625  1.44567      4      7         4        4          0          1      0.839827  64.6356        1  no        never      male     IV                      7  5747.44  5.02613  29.1006   8.0511     2.15196     407          24  average         4     35  0.342869\n",
      " 8522 │   79.9304  1.84224      4      6         2        2          5          1      0.659009  45.0693        1  no        current    female   I                       3  4720.5   5.09406  20.5618   0.394488  12.7636      407          24  average         4     35  0.342869\n",
      " 8523 │   67.098   1.51245      5      6         4        0          4          1      0.797167  50.3167        0  no        former     female   II                      5  6327.59  5.19512  32.3221   0.451302   7.38761     407          24  average         4     35  0.342869\n",
      " 8524 │   66.3834  1.61859      7      5         3        3          2          1      0.969633  57.1199        0  no        never      female   IV                      8  3939.91  4.72485  24.3799   4.35991    3.07429     407          24  average         4     35  0.342869\n",
      " 8525 │   65.9232  1.58751      4      5         3        1          2          1      0.911669  56.0659        0  no        never      male     II                      6  6430.03  4.73406  21.6008   4.28942    1.61305     407          24  average         4     35  0.342869\n",
      "\u001b[36m                                                                                                                                                                                                                                                                  8504 rows omitted\u001b[0m"
     ]
    }
   ],
   "source": [
    "show(dados, allcols = true)"
   ]
  },
  {
   "cell_type": "markdown",
   "metadata": {},
   "source": [
    "Abaixo importamos do Scikit-Learn a função para label encoding."
   ]
  },
  {
   "cell_type": "code",
   "execution_count": 11,
   "metadata": {},
   "outputs": [
    {
     "data": {
      "text/plain": [
       "PyObject <class 'sklearn.preprocessing._label.LabelEncoder'>"
      ]
     },
     "execution_count": 11,
     "metadata": {},
     "output_type": "execute_result"
    }
   ],
   "source": [
    "@sk_import preprocessing: LabelEncoder"
   ]
  },
  {
   "cell_type": "markdown",
   "metadata": {},
   "source": [
    "E então criamos o encoder."
   ]
  },
  {
   "cell_type": "code",
   "execution_count": 12,
   "metadata": {},
   "outputs": [
    {
     "data": {
      "text/plain": [
       "PyObject LabelEncoder()"
      ]
     },
     "execution_count": 12,
     "metadata": {},
     "output_type": "execute_result"
    }
   ],
   "source": [
    "le = LabelEncoder()"
   ]
  },
  {
   "cell_type": "markdown",
   "metadata": {},
   "source": [
    "Fazemos o label encoding das variáveis categóricas."
   ]
  },
  {
   "cell_type": "code",
   "execution_count": 13,
   "metadata": {},
   "outputs": [],
   "source": [
    "dados[!, :FamilyHx] = le.fit_transform(dados[!, :FamilyHx])\n",
    "dados[!, :SmokingHx] = le.fit_transform(dados[!, :SmokingHx])\n",
    "dados[!, :Sex] = le.fit_transform(dados[!, :Sex])\n",
    "dados[!, :CancerStage] = le.fit_transform(dados[!, :CancerStage])\n",
    "dados[!, :School] = le.fit_transform(dados[!, :School]);"
   ]
  },
  {
   "cell_type": "markdown",
   "metadata": {},
   "source": [
    "Convertemos o dataframe para um array (matriz)."
   ]
  },
  {
   "cell_type": "code",
   "execution_count": 14,
   "metadata": {},
   "outputs": [
    {
     "data": {
      "text/plain": [
       "8525×27 Matrix{Float64}:\n",
       " 67.9812  1.53433  4.0  4.0  2.0  0.0  0.0  …  25.0  0.0  3.0   1.0  0.605867\n",
       " 64.7025  1.67613  2.0  3.0  2.0  0.0  0.0     25.0  0.0  3.0   1.0  0.605867\n",
       " 51.567   1.53345  6.0  3.0  2.0  0.0  0.0     25.0  0.0  3.0   1.0  0.605867\n",
       " 86.438   1.4533   3.0  3.0  2.0  0.0  0.0     25.0  0.0  3.0   1.0  0.605867\n",
       " 53.4002  1.56635  3.0  4.0  2.0  0.0  0.0     25.0  0.0  3.0   1.0  0.605867\n",
       " 51.6573  1.41787  4.0  5.0  2.0  0.0  0.0  …  25.0  0.0  3.0   1.0  0.605867\n",
       " 78.9171  1.70663  3.0  4.0  2.0  0.0  0.0     25.0  0.0  3.0   1.0  0.605867\n",
       " 69.8332  1.52873  3.0  3.0  3.0  0.0  0.0     25.0  0.0  3.0   1.0  0.605867\n",
       " 62.8526  1.54296  4.0  4.0  3.0  2.0  0.0     25.0  0.0  3.0   1.0  0.605867\n",
       " 71.7779  1.59306  5.0  4.0  3.0  0.0  0.0     25.0  0.0  3.0   1.0  0.605867\n",
       " 66.0256  1.60936  4.0  3.0  3.0  0.0  0.0  …  25.0  0.0  3.0   1.0  0.605867\n",
       " 57.5208  1.6344   4.0  3.0  3.0  0.0  0.0     25.0  0.0  3.0   1.0  0.605867\n",
       " 48.8394  1.53568  5.0  3.0  3.0  0.0  0.0     25.0  0.0  3.0   1.0  0.605867\n",
       "  ⋮                               ⋮         ⋱                   ⋮    \n",
       " 76.764   1.51499  5.0  5.0  4.0  2.0  4.0     24.0  0.0  4.0  35.0  0.342869\n",
       " 70.9147  1.46798  6.0  5.0  3.0  0.0  0.0     24.0  0.0  4.0  35.0  0.342869\n",
       " 72.1299  1.54957  6.0  6.0  3.0  0.0  1.0  …  24.0  0.0  4.0  35.0  0.342869\n",
       " 80.6805  1.76155  5.0  6.0  3.0  0.0  1.0     24.0  0.0  4.0  35.0  0.342869\n",
       " 74.1363  1.59926  5.0  6.0  3.0  7.0  5.0     24.0  0.0  4.0  35.0  0.342869\n",
       " 70.073   1.47649  6.0  5.0  3.0  4.0  2.0     24.0  0.0  4.0  35.0  0.342869\n",
       " 82.6019  1.77649  7.0  6.0  1.0  1.0  2.0     24.0  0.0  4.0  35.0  0.342869\n",
       " 71.2625  1.44567  4.0  7.0  4.0  4.0  0.0  …  24.0  0.0  4.0  35.0  0.342869\n",
       " 79.9304  1.84224  4.0  6.0  2.0  2.0  5.0     24.0  0.0  4.0  35.0  0.342869\n",
       " 67.098   1.51245  5.0  6.0  4.0  0.0  4.0     24.0  0.0  4.0  35.0  0.342869\n",
       " 66.3834  1.61859  7.0  5.0  3.0  3.0  2.0     24.0  0.0  4.0  35.0  0.342869\n",
       " 65.9232  1.58751  4.0  5.0  3.0  1.0  2.0     24.0  0.0  4.0  35.0  0.342869"
      ]
     },
     "execution_count": 14,
     "metadata": {},
     "output_type": "execute_result"
    }
   ],
   "source": [
    "X = Matrix(dados)"
   ]
  },
  {
   "cell_type": "markdown",
   "metadata": {},
   "source": [
    "Pairwise para calcular a distância euclidiana entre os pontos de dados."
   ]
  },
  {
   "cell_type": "code",
   "execution_count": 15,
   "metadata": {},
   "outputs": [
    {
     "data": {
      "text/plain": [
       "8525×8525 Matrix{Float64}:\n",
       "    0.0      612.842     50.725  1075.49   …   473.169  2186.07    532.313\n",
       "  612.842      0.0      657.752   463.14       552.294  2790.32    489.015\n",
       "   50.725    657.752      0.0    1120.58       497.574  2142.09    562.426\n",
       " 1075.49     463.14    1120.58      0.0        929.533  3248.54    838.722\n",
       "  356.665    257.23     400.839   720.086      423.912  2536.53    408.036\n",
       "  713.244    101.213    757.857   364.022  …   624.504  2889.56    550.955\n",
       "  149.682    464.227    196.177   926.388      417.871  2332.45    451.344\n",
       " 2090.12    2702.66    2045.27   3165.11      2365.29    412.115  2466.32\n",
       "  565.32      49.5982   610.236   510.681      521.594  2743.33    464.432\n",
       "  310.332    922.325    265.828  1384.84       684.168  1882.88    769.033\n",
       "   97.3158   518.393    140.718   980.894  …   432.804  2278.91    477.216\n",
       " 1080.35    1692.78    1035.35   2155.36      1381.52   1142.92   1479.77\n",
       "  370.008    244.105    414.26    707.068      427.882  2549.8     408.898\n",
       "    ⋮                                      ⋱                      \n",
       "  484.568    965.044    462.569  1397.96       502.223  1885.76    604.554\n",
       " 1833.15    2434.24    1789.54   2891.14      2027.16    360.967  2129.62\n",
       "  424.196    835.518    414.4    1259.58   …   356.8    2031.07    459.211\n",
       "  412.285    689.639    421.245  1097.09       184.126  2204.52    286.92\n",
       "  957.452    480.286    998.45    458.91       626.619  3014.04    524.28\n",
       " 1786.08    2386.64    1742.5    2843.41      1978.91    408.91   2081.32\n",
       "  956.584    479.854    997.597   458.49       625.435  3012.92    523.22\n",
       "  530.905   1036.43     503.824  1473.04   …   580.462  1807.57    682.726\n",
       " 1426.79    2021.44    1384.11   2475.99      1607.21    780.916  1709.67\n",
       "  473.169    552.294    497.574   929.533        0.0    2387.72    103.446\n",
       " 2186.07    2790.32    2142.09   3248.54      2387.72      0.0    2490.12\n",
       "  532.313    489.015    562.426   838.722      103.446  2490.12      0.0"
      ]
     },
     "execution_count": 15,
     "metadata": {},
     "output_type": "execute_result"
    }
   ],
   "source": [
    "tipo_dist = Euclidean()\n",
    "distancias = pairwise(tipo_dist, X', X')"
   ]
  },
  {
   "cell_type": "markdown",
   "metadata": {},
   "source": [
    "Função para calcular a média do Coeficiente Silhouette."
   ]
  },
  {
   "cell_type": "code",
   "execution_count": 16,
   "metadata": {},
   "outputs": [
    {
     "data": {
      "text/plain": [
       "calcula_coef (generic function with 1 method)"
      ]
     },
     "execution_count": 16,
     "metadata": {},
     "output_type": "execute_result"
    }
   ],
   "source": [
    "function calcula_coef(sil)\n",
    "    silMean = mean(sil)\n",
    "    println(\"Média do Coeficiente Silhouette: $silMean\")\n",
    "end"
   ]
  },
  {
   "cell_type": "markdown",
   "metadata": {},
   "source": [
    "Função para avaliar o resultado da clusterização."
   ]
  },
  {
   "cell_type": "code",
   "execution_count": 17,
   "metadata": {},
   "outputs": [
    {
     "data": {
      "text/plain": [
       "avalia_resultado (generic function with 1 method)"
      ]
     },
     "execution_count": 17,
     "metadata": {},
     "output_type": "execute_result"
    }
   ],
   "source": [
    "function avalia_resultado(c)\n",
    "    num = size(c)\n",
    "    num = num[1]\n",
    "    max = findmax(c)\n",
    "    maxIndex = max[2]\n",
    "    maxNum = max[1]\n",
    "    min = findmin(c)\n",
    "    minIndex = min[2]\n",
    "    minNum = min[1]\n",
    "    println(\"Número de Clusters: $num\")\n",
    "    println(\"Maior Grupo: $maxNum no cluster $maxIndex\")\n",
    "    println(\"Menor Grupo: $minNum no cluster $minIndex\")\n",
    "end"
   ]
  },
  {
   "cell_type": "markdown",
   "metadata": {},
   "source": [
    "Número de clusters."
   ]
  },
  {
   "cell_type": "code",
   "execution_count": 18,
   "metadata": {},
   "outputs": [
    {
     "data": {
      "text/plain": [
       "30"
      ]
     },
     "execution_count": 18,
     "metadata": {},
     "output_type": "execute_result"
    }
   ],
   "source": [
    "num_clusters = 30"
   ]
  },
  {
   "cell_type": "markdown",
   "metadata": {},
   "source": [
    "Clusterização com algoritmo K-Means."
   ]
  },
  {
   "cell_type": "markdown",
   "metadata": {},
   "source": [
    "Criamos o modelo."
   ]
  },
  {
   "cell_type": "code",
   "execution_count": 19,
   "metadata": {},
   "outputs": [
    {
     "name": "stdout",
     "output_type": "stream",
     "text": [
      "103.308524 seconds (9.66 M allocations: 496.033 MiB, 0.15% gc time, 3.08% compilation time)\n"
     ]
    },
    {
     "data": {
      "text/plain": [
       "KmeansResult{Matrix{Float64}, Float64, Int64}([509.7225435406294 2325.476402343193 … 2300.438544827654 422.52293786710817; 262.32728683973033 2935.5842594706305 … 1691.9924843940764 995.5893267306; … ; 2618.0704077560727 284.5847727925193 … 4443.262315931628 1807.9796271700875; 258.1927187581268 2666.3404937947053 … 1961.9820602412133 735.8145951752914], [27, 21, 10, 16, 15, 9, 7, 14, 21, 30  …  10, 27, 11, 20, 11, 30, 18, 15, 2, 15], [3.93602054920311e7, 2.62167301493721e7, 4.873542368357468e7, 2.2484556151779175e7, 4.817992678889084e7, 3.979051470665741e7, 3.2035591521705627e7, 1.2140228866017151e8, 3.430731541699982e7, 4.192769416887665e7  …  3.2883096132083893e7, 3.542235976281357e7, 4.059884530099106e7, 1.6195442133781433e7, 4.1544358241996765e7, 3.166548660697174e7, 8.554668184767151e7, 5.753579484932709e7, 2.0986857490267944e8, 3.675870355523682e7], [423, 86, 87, 323, 405, 264, 475, 203, 369, 429  …  455, 53, 37, 131, 376, 424, 458, 424, 67, 444], [423, 86, 87, 323, 405, 264, 476, 203, 369, 430  …  455, 53, 37, 131, 376, 424, 457, 424, 67, 443], 2.5859920565162592e11, 100, false)"
      ]
     },
     "execution_count": 19,
     "metadata": {},
     "output_type": "execute_result"
    }
   ],
   "source": [
    "modelo = @time kmeans(distancias, num_clusters)"
   ]
  },
  {
   "cell_type": "markdown",
   "metadata": {},
   "source": [
    "Extraímos o custo total."
   ]
  },
  {
   "cell_type": "code",
   "execution_count": 20,
   "metadata": {},
   "outputs": [
    {
     "name": "stdout",
     "output_type": "stream",
     "text": [
      "Custo Total: 2.5859920565162592e11\n",
      "\n"
     ]
    }
   ],
   "source": [
    "custo_total = modelo.totalcost\n",
    "println(\"Custo Total: $custo_total\\n\")"
   ]
  },
  {
   "cell_type": "markdown",
   "metadata": {},
   "source": [
    "Avaliamos o modelo."
   ]
  },
  {
   "cell_type": "code",
   "execution_count": 21,
   "metadata": {},
   "outputs": [
    {
     "name": "stdout",
     "output_type": "stream",
     "text": [
      "Média do Coeficiente Silhouette: 0.2013956980728344\n",
      "\n",
      "Número de Clusters: 30\n",
      "Maior Grupo: 475 no cluster 7\n",
      "Menor Grupo: 9 no cluster 12\n"
     ]
    }
   ],
   "source": [
    "calcula_coef(silhouettes(modelo, distancias))\n",
    "println()\n",
    "avalia_resultado(counts(modelo))"
   ]
  },
  {
   "cell_type": "markdown",
   "metadata": {},
   "source": [
    "Extraímos os custos individuais."
   ]
  },
  {
   "cell_type": "code",
   "execution_count": 22,
   "metadata": {},
   "outputs": [
    {
     "data": {
      "text/plain": [
       "8525-element Vector{Float64}:\n",
       " 3.93602054920311e7\n",
       " 2.62167301493721e7\n",
       " 4.873542368357468e7\n",
       " 2.2484556151779175e7\n",
       " 4.817992678889084e7\n",
       " 3.979051470665741e7\n",
       " 3.2035591521705627e7\n",
       " 1.2140228866017151e8\n",
       " 3.430731541699982e7\n",
       " 4.192769416887665e7\n",
       " 6.459479014659119e7\n",
       " 2.094716463696289e7\n",
       " 5.896422908484268e7\n",
       " ⋮\n",
       " 4.395672502521896e7\n",
       " 5.618574048080444e7\n",
       " 3.2883096132083893e7\n",
       " 3.542235976281357e7\n",
       " 4.059884530099106e7\n",
       " 1.6195442133781433e7\n",
       " 4.1544358241996765e7\n",
       " 3.166548660697174e7\n",
       " 8.554668184767151e7\n",
       " 5.753579484932709e7\n",
       " 2.0986857490267944e8\n",
       " 3.675870355523682e7"
      ]
     },
     "execution_count": 22,
     "metadata": {},
     "output_type": "execute_result"
    }
   ],
   "source": [
    "custos = modelo.costs"
   ]
  },
  {
   "cell_type": "markdown",
   "metadata": {},
   "source": [
    "Detectamos os Outliers."
   ]
  },
  {
   "cell_type": "code",
   "execution_count": 23,
   "metadata": {},
   "outputs": [
    {
     "name": "stdout",
     "output_type": "stream",
     "text": [
      "\n",
      "Outlier Encontrado na Linha 8141\n",
      "\n",
      "\u001b[1mDataFrameRow\u001b[0m\n",
      "\u001b[1m  Row \u001b[0m│\u001b[1m tumorsize \u001b[0m\u001b[1m co2     \u001b[0m\u001b[1m pain  \u001b[0m\u001b[1m wound \u001b[0m\u001b[1m mobility \u001b[0m\u001b[1m ntumors \u001b[0m\u001b[1m nmorphine \u001b[0m\u001b[1m remission \u001b[0m\u001b[1m lungcapacity \u001b[0m\u001b[1m Age     \u001b[0m\n",
      "\u001b[1m      \u001b[0m│\u001b[90m Float64   \u001b[0m\u001b[90m Float64 \u001b[0m\u001b[90m Int64 \u001b[0m\u001b[90m Int64 \u001b[0m\u001b[90m Int64    \u001b[0m\u001b[90m Int64   \u001b[0m\u001b[90m Int64     \u001b[0m\u001b[90m Int64     \u001b[0m\u001b[90m Float64      \u001b[0m\u001b[90m Float64 \u001b[0m\n",
      "──────┼──────────────────────────────────────────────────────────────────────────────────────────────────\n",
      " 8141 │   73.9747  1.42127      5      5         9        4          1          1      0.748055  59.9453\n",
      "\n",
      "Outlier Encontrado na Linha 502\n",
      "\n",
      "\u001b[1mDataFrameRow\u001b[0m\n",
      "\u001b[1m Row \u001b[0m│\u001b[1m tumorsize \u001b[0m\u001b[1m co2     \u001b[0m\u001b[1m pain  \u001b[0m\u001b[1m wound \u001b[0m\u001b[1m mobility \u001b[0m\u001b[1m ntumors \u001b[0m\u001b[1m nmorphine \u001b[0m\u001b[1m remission \u001b[0m\u001b[1m lungcapacity \u001b[0m\u001b[1m Age     \u001b[0m\n",
      "\u001b[1m     \u001b[0m│\u001b[90m Float64   \u001b[0m\u001b[90m Float64 \u001b[0m\u001b[90m Int64 \u001b[0m\u001b[90m Int64 \u001b[0m\u001b[90m Int64    \u001b[0m\u001b[90m Int64   \u001b[0m\u001b[90m Int64     \u001b[0m\u001b[90m Int64     \u001b[0m\u001b[90m Float64      \u001b[0m\u001b[90m Float64 \u001b[0m\n",
      "─────┼──────────────────────────────────────────────────────────────────────────────────────────────────\n",
      " 502 │   84.0779  1.79721      6      4         3        0          5          0      0.684788  40.7941\n",
      "\n",
      "Outlier Encontrado na Linha 1483\n",
      "\n",
      "\u001b[1mDataFrameRow\u001b[0m\n",
      "\u001b[1m  Row \u001b[0m│\u001b[1m tumorsize \u001b[0m\u001b[1m co2     \u001b[0m\u001b[1m pain  \u001b[0m\u001b[1m wound \u001b[0m\u001b[1m mobility \u001b[0m\u001b[1m ntumors \u001b[0m\u001b[1m nmorphine \u001b[0m\u001b[1m remission \u001b[0m\u001b[1m lungcapacity \u001b[0m\u001b[1m Age     \u001b[0m\n",
      "\u001b[1m      \u001b[0m│\u001b[90m Float64   \u001b[0m\u001b[90m Float64 \u001b[0m\u001b[90m Int64 \u001b[0m\u001b[90m Int64 \u001b[0m\u001b[90m Int64    \u001b[0m\u001b[90m Int64   \u001b[0m\u001b[90m Int64     \u001b[0m\u001b[90m Int64     \u001b[0m\u001b[90m Float64      \u001b[0m\u001b[90m Float64 \u001b[0m\n",
      "──────┼──────────────────────────────────────────────────────────────────────────────────────────────────\n",
      " 1483 │   57.9752  1.58217      7      8         4        2          2          0       0.96129  56.7709\n",
      "\n",
      "Outlier Encontrado na Linha 3542\n",
      "\n",
      "\u001b[1mDataFrameRow\u001b[0m\n",
      "\u001b[1m  Row \u001b[0m│\u001b[1m tumorsize \u001b[0m\u001b[1m co2     \u001b[0m\u001b[1m pain  \u001b[0m\u001b[1m wound \u001b[0m\u001b[1m mobility \u001b[0m\u001b[1m ntumors \u001b[0m\u001b[1m nmorphine \u001b[0m\u001b[1m remission \u001b[0m\u001b[1m lungcapacity \u001b[0m\u001b[1m Age     \u001b[0m\n",
      "\u001b[1m      \u001b[0m│\u001b[90m Float64   \u001b[0m\u001b[90m Float64 \u001b[0m\u001b[90m Int64 \u001b[0m\u001b[90m Int64 \u001b[0m\u001b[90m Int64    \u001b[0m\u001b[90m Int64   \u001b[0m\u001b[90m Int64     \u001b[0m\u001b[90m Int64     \u001b[0m\u001b[90m Float64      \u001b[0m\u001b[90m Float64 \u001b[0m\n",
      "──────┼──────────────────────────────────────────────────────────────────────────────────────────────────\n",
      " 3542 │   64.0045  1.58229      6      5         7        1          2          0       0.72204  43.1737\n",
      "\n",
      "Outlier Encontrado na Linha 8307\n",
      "\n",
      "\u001b[1mDataFrameRow\u001b[0m\n",
      "\u001b[1m  Row \u001b[0m│\u001b[1m tumorsize \u001b[0m\u001b[1m co2     \u001b[0m\u001b[1m pain  \u001b[0m\u001b[1m wound \u001b[0m\u001b[1m mobility \u001b[0m\u001b[1m ntumors \u001b[0m\u001b[1m nmorphine \u001b[0m\u001b[1m remission \u001b[0m\u001b[1m lungcapacity \u001b[0m\u001b[1m Age     \u001b[0m\n",
      "\u001b[1m      \u001b[0m│\u001b[90m Float64   \u001b[0m\u001b[90m Float64 \u001b[0m\u001b[90m Int64 \u001b[0m\u001b[90m Int64 \u001b[0m\u001b[90m Int64    \u001b[0m\u001b[90m Int64   \u001b[0m\u001b[90m Int64     \u001b[0m\u001b[90m Int64     \u001b[0m\u001b[90m Float64      \u001b[0m\u001b[90m Float64 \u001b[0m\n",
      "──────┼──────────────────────────────────────────────────────────────────────────────────────────────────\n",
      " 8307 │   89.8992  1.69999      5      6         4        1          6          0      0.661196  49.7451\n"
     ]
    }
   ],
   "source": [
    "for i = 1:5\n",
    "    maxCost = findmax(custos)\n",
    "    index = maxCost[2]\n",
    "    println(\"\\nOutlier Encontrado na Linha $index\\n\")\n",
    "    println(dados[index, 1:10])\n",
    "    custos[index] = 0\n",
    "end"
   ]
  },
  {
   "cell_type": "markdown",
   "metadata": {},
   "source": [
    "# Fim"
   ]
  }
 ],
 "metadata": {
  "kernelspec": {
   "display_name": "Julia 1.7.2",
   "language": "julia",
   "name": "julia-1.7"
  },
  "language_info": {
   "file_extension": ".jl",
   "mimetype": "application/julia",
   "name": "julia",
   "version": "1.7.2"
  }
 },
 "nbformat": 4,
 "nbformat_minor": 4
}
