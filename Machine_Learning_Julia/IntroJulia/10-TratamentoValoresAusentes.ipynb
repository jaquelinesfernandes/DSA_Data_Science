{
 "cells": [
  {
   "cell_type": "markdown",
   "id": "3efebc52",
   "metadata": {},
   "source": [
    "# <font color='blue'>Data Science Academy</font>\n",
    "# <font color='blue'>Curso Bônus - Data Science e Machine Learning com Linguagem Julia</font>\n",
    "\n",
    "## <font color='blue'>Introdução à Linguagem Julia</font>"
   ]
  },
  {
   "cell_type": "markdown",
   "id": "d320a481",
   "metadata": {},
   "source": [
    "![title](imagens/julia.png)"
   ]
  },
  {
   "cell_type": "markdown",
   "id": "5cac8440",
   "metadata": {},
   "source": [
    "> Tratamento de Valores Ausentes"
   ]
  },
  {
   "cell_type": "code",
   "execution_count": 1,
   "id": "adfe1268",
   "metadata": {},
   "outputs": [],
   "source": [
    "using Printf"
   ]
  },
  {
   "cell_type": "code",
   "execution_count": 2,
   "id": "d759d477",
   "metadata": {},
   "outputs": [
    {
     "name": "stdout",
     "output_type": "stream",
     "text": [
      "NaN\n"
     ]
    }
   ],
   "source": [
    "println(2.0 + NaN)"
   ]
  },
  {
   "cell_type": "code",
   "execution_count": 3,
   "id": "f5433e92",
   "metadata": {},
   "outputs": [
    {
     "data": {
      "text/plain": [
       "3×2 Matrix{Float64}:\n",
       " 1.0  -999.99\n",
       " 2.0    12.0\n",
       " 3.0    13.0"
      ]
     },
     "execution_count": 3,
     "metadata": {},
     "output_type": "execute_result"
    }
   ],
   "source": [
    "data = [1.0 -999.99;\n",
    "        2.0 12.0;\n",
    "        3.0 13.0]"
   ]
  },
  {
   "cell_type": "code",
   "execution_count": 4,
   "id": "7a498eb3",
   "metadata": {},
   "outputs": [
    {
     "data": {
      "text/plain": [
       "3×2 Matrix{Float64}:\n",
       " 1.0  NaN\n",
       " 2.0   12.0\n",
       " 3.0   13.0"
      ]
     },
     "execution_count": 4,
     "metadata": {},
     "output_type": "execute_result"
    }
   ],
   "source": [
    "z = replace(data, -999.99=>NaN)   "
   ]
  },
  {
   "cell_type": "code",
   "execution_count": 5,
   "id": "3d8ca391",
   "metadata": {},
   "outputs": [
    {
     "name": "stdout",
     "output_type": "stream",
     "text": [
      "[1.0 NaN; 2.0 12.0; 3.0 13.0]\n"
     ]
    }
   ],
   "source": [
    "println(z)"
   ]
  },
  {
   "cell_type": "code",
   "execution_count": 6,
   "id": "f7291ddc",
   "metadata": {},
   "outputs": [
    {
     "name": "stdout",
     "output_type": "stream",
     "text": [
      "z tem valores NaN\n"
     ]
    }
   ],
   "source": [
    "if any(isnan, z)                \n",
    "  println(\"z tem valores NaN\")   \n",
    "end"
   ]
  },
  {
   "cell_type": "code",
   "execution_count": 7,
   "id": "0c75a5de",
   "metadata": {},
   "outputs": [
    {
     "name": "stdout",
     "output_type": "stream",
     "text": [
      "[6.0 NaN]\n"
     ]
    }
   ],
   "source": [
    "println(sum(z, dims = 1))"
   ]
  },
  {
   "cell_type": "code",
   "execution_count": 8,
   "id": "ffbafba9",
   "metadata": {},
   "outputs": [
    {
     "data": {
      "text/plain": [
       "3×1 Matrix{Bool}:\n",
       " 1\n",
       " 0\n",
       " 0"
      ]
     },
     "execution_count": 8,
     "metadata": {},
     "output_type": "execute_result"
    }
   ],
   "source": [
    "vb = any(isnan, z, dims = 2)  "
   ]
  },
  {
   "cell_type": "code",
   "execution_count": 9,
   "id": "cc6086ca",
   "metadata": {},
   "outputs": [
    {
     "data": {
      "text/plain": [
       "3-element BitVector:\n",
       " 0\n",
       " 1\n",
       " 1"
      ]
     },
     "execution_count": 9,
     "metadata": {},
     "output_type": "execute_result"
    }
   ],
   "source": [
    "vc = .!vec(vb)"
   ]
  },
  {
   "cell_type": "code",
   "execution_count": 10,
   "id": "217baa7f",
   "metadata": {},
   "outputs": [],
   "source": [
    "import Pkg"
   ]
  },
  {
   "cell_type": "code",
   "execution_count": 11,
   "id": "f53777c5",
   "metadata": {},
   "outputs": [
    {
     "name": "stderr",
     "output_type": "stream",
     "text": [
      "\u001b[32m\u001b[1m    Updating\u001b[22m\u001b[39m registry at `~/.julia/registries/General.toml`\n",
      "\u001b[32m\u001b[1m   Resolving\u001b[22m\u001b[39m package versions...\n",
      "\u001b[32m\u001b[1m  No Changes\u001b[22m\u001b[39m to `~/.julia/environments/v1.7/Project.toml`\n",
      "\u001b[32m\u001b[1m  No Changes\u001b[22m\u001b[39m to `~/.julia/environments/v1.7/Manifest.toml`\n"
     ]
    }
   ],
   "source": [
    "Pkg.add(\"Missings\")"
   ]
  },
  {
   "cell_type": "code",
   "execution_count": 12,
   "id": "58f78fda",
   "metadata": {},
   "outputs": [],
   "source": [
    "using Missings"
   ]
  },
  {
   "cell_type": "code",
   "execution_count": 13,
   "id": "1ed9ee64",
   "metadata": {},
   "outputs": [
    {
     "data": {
      "text/plain": [
       "3×2 Matrix{Int64}:\n",
       " 1  -999\n",
       " 2    12\n",
       " 3    13"
      ]
     },
     "execution_count": 13,
     "metadata": {},
     "output_type": "execute_result"
    }
   ],
   "source": [
    "data = [1 -999;\n",
    "        2 12;\n",
    "        3 13]"
   ]
  },
  {
   "cell_type": "code",
   "execution_count": 14,
   "id": "fbb300fc",
   "metadata": {},
   "outputs": [
    {
     "data": {
      "text/plain": [
       "3×2 Matrix{Union{Missing, Int64}}:\n",
       " 1  -999\n",
       " 2    12\n",
       " 3    13"
      ]
     },
     "execution_count": 14,
     "metadata": {},
     "output_type": "execute_result"
    }
   ],
   "source": [
    "z = allowmissing(data) "
   ]
  },
  {
   "cell_type": "code",
   "execution_count": 15,
   "id": "2dbc9139",
   "metadata": {},
   "outputs": [
    {
     "data": {
      "text/plain": [
       "3×2 Matrix{Union{Missing, Int64}}:\n",
       " 1    missing\n",
       " 2  12\n",
       " 3  13"
      ]
     },
     "execution_count": 15,
     "metadata": {},
     "output_type": "execute_result"
    }
   ],
   "source": [
    "z = replace(data, -999=>missing) "
   ]
  },
  {
   "cell_type": "code",
   "execution_count": 16,
   "id": "421fb589",
   "metadata": {},
   "outputs": [
    {
     "name": "stdout",
     "output_type": "stream",
     "text": [
      "Union{Missing, Int64}[1 missing; 2 12; 3 13]\n"
     ]
    }
   ],
   "source": [
    "println(z)"
   ]
  },
  {
   "cell_type": "code",
   "execution_count": 17,
   "id": "0e645adf",
   "metadata": {},
   "outputs": [
    {
     "name": "stdout",
     "output_type": "stream",
     "text": [
      "z tem valores missing\n"
     ]
    }
   ],
   "source": [
    "if any(ismissing, z)                      \n",
    "  println(\"z tem valores missing\")\n",
    "end"
   ]
  },
  {
   "cell_type": "code",
   "execution_count": 18,
   "id": "7906c315",
   "metadata": {},
   "outputs": [
    {
     "data": {
      "text/plain": [
       "3-element BitVector:\n",
       " 0\n",
       " 1\n",
       " 1"
      ]
     },
     "execution_count": 18,
     "metadata": {},
     "output_type": "execute_result"
    }
   ],
   "source": [
    "vd = .!vec(any(ismissing, z, dims = 2))"
   ]
  },
  {
   "cell_type": "code",
   "execution_count": 19,
   "id": "ff292fdc",
   "metadata": {},
   "outputs": [
    {
     "data": {
      "text/plain": [
       "2×2 Matrix{Union{Missing, Int64}}:\n",
       " 2  12\n",
       " 3  13"
      ]
     },
     "execution_count": 19,
     "metadata": {},
     "output_type": "execute_result"
    }
   ],
   "source": [
    "z2 = z[vd,:] "
   ]
  },
  {
   "cell_type": "code",
   "execution_count": 20,
   "id": "4fbb2c80",
   "metadata": {},
   "outputs": [
    {
     "name": "stdout",
     "output_type": "stream",
     "text": [
      "O tipo de z2 é: Matrix{Union{Missing, Int64}}\n"
     ]
    }
   ],
   "source": [
    "println(\"O tipo de z2 é: \", typeof(z2))"
   ]
  },
  {
   "cell_type": "code",
   "execution_count": 21,
   "id": "bf8a2843",
   "metadata": {},
   "outputs": [
    {
     "data": {
      "text/plain": [
       "2×2 Matrix{Int64}:\n",
       " 2  12\n",
       " 3  13"
      ]
     },
     "execution_count": 21,
     "metadata": {},
     "output_type": "execute_result"
    }
   ],
   "source": [
    "z3 = disallowmissing(z2) "
   ]
  },
  {
   "cell_type": "code",
   "execution_count": 22,
   "id": "885dfa8b",
   "metadata": {},
   "outputs": [
    {
     "name": "stdout",
     "output_type": "stream",
     "text": [
      "O tipo de z3 é: Matrix{Int64}\n"
     ]
    }
   ],
   "source": [
    "println(\"O tipo de z3 é: \", typeof(z3)) "
   ]
  },
  {
   "cell_type": "markdown",
   "id": "b59431fe",
   "metadata": {},
   "source": [
    "# Fim"
   ]
  }
 ],
 "metadata": {
  "kernelspec": {
   "display_name": "Julia 1.7.2",
   "language": "julia",
   "name": "julia-1.7"
  },
  "language_info": {
   "file_extension": ".jl",
   "mimetype": "application/julia",
   "name": "julia",
   "version": "1.7.2"
  }
 },
 "nbformat": 4,
 "nbformat_minor": 5
}
