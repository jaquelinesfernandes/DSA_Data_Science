{
 "cells": [
  {
   "cell_type": "markdown",
   "id": "3efebc52",
   "metadata": {},
   "source": [
    "# <font color='blue'>Data Science Academy</font>\n",
    "# <font color='blue'>Curso Bônus - Data Science e Machine Learning com Linguagem Julia</font>\n",
    "\n",
    "## <font color='blue'>Introdução à Linguagem Julia</font>"
   ]
  },
  {
   "cell_type": "markdown",
   "id": "d320a481",
   "metadata": {},
   "source": [
    "![title](imagens/julia.png)"
   ]
  },
  {
   "cell_type": "markdown",
   "id": "5cac8440",
   "metadata": {},
   "source": [
    "> Manipulação de Strings"
   ]
  },
  {
   "cell_type": "code",
   "execution_count": 1,
   "id": "52e03568",
   "metadata": {},
   "outputs": [
    {
     "data": {
      "text/plain": [
       "\"Eu sou uma string.\""
      ]
     },
     "execution_count": 1,
     "metadata": {},
     "output_type": "execute_result"
    }
   ],
   "source": [
    "texto1 = \"Eu sou uma string.\""
   ]
  },
  {
   "cell_type": "code",
   "execution_count": 2,
   "id": "e28bd9e6",
   "metadata": {},
   "outputs": [
    {
     "data": {
      "text/plain": [
       "\"Eu também sou uma string.\""
      ]
     },
     "execution_count": 2,
     "metadata": {},
     "output_type": "execute_result"
    }
   ],
   "source": [
    "texto2 = \"\"\"Eu também sou uma string.\"\"\""
   ]
  },
  {
   "cell_type": "code",
   "execution_count": 3,
   "id": "25082ea0",
   "metadata": {},
   "outputs": [
    {
     "data": {
      "text/plain": [
       "String"
      ]
     },
     "execution_count": 3,
     "metadata": {},
     "output_type": "execute_result"
    }
   ],
   "source": [
    "typeof(texto1)"
   ]
  },
  {
   "cell_type": "code",
   "execution_count": 4,
   "id": "1a661068",
   "metadata": {},
   "outputs": [
    {
     "data": {
      "text/plain": [
       "String"
      ]
     },
     "execution_count": 4,
     "metadata": {},
     "output_type": "execute_result"
    }
   ],
   "source": [
    "typeof(texto2)"
   ]
  },
  {
   "cell_type": "code",
   "execution_count": 5,
   "id": "ff7b3fdc",
   "metadata": {},
   "outputs": [
    {
     "ename": "LoadError",
     "evalue": "syntax: cannot juxtapose string literal",
     "output_type": "error",
     "traceback": [
      "syntax: cannot juxtapose string literal",
      "",
      "Stacktrace:",
      " [1] top-level scope",
      "   @ In[5]:1",
      " [2] eval",
      "   @ ./boot.jl:373 [inlined]",
      " [3] include_string(mapexpr::typeof(REPL.softscope), mod::Module, code::String, filename::String)",
      "   @ Base ./loading.jl:1196"
     ]
    }
   ],
   "source": [
    "\"Aqui está algo \"importante\" para aprender em Julia.\""
   ]
  },
  {
   "cell_type": "code",
   "execution_count": 6,
   "id": "f11cc100",
   "metadata": {},
   "outputs": [
    {
     "data": {
      "text/plain": [
       "\"Aqui está algo \\\"importante\\\" para aprender em Julia.\""
      ]
     },
     "execution_count": 6,
     "metadata": {},
     "output_type": "execute_result"
    }
   ],
   "source": [
    "\"\"\"Aqui está algo \"importante\" para aprender em Julia.\"\"\""
   ]
  },
  {
   "cell_type": "code",
   "execution_count": 7,
   "id": "589d144a",
   "metadata": {},
   "outputs": [
    {
     "data": {
      "text/plain": [
       "\"a\""
      ]
     },
     "execution_count": 7,
     "metadata": {},
     "output_type": "execute_result"
    }
   ],
   "source": [
    "var1 = \"a\""
   ]
  },
  {
   "cell_type": "code",
   "execution_count": 8,
   "id": "f53a3683",
   "metadata": {},
   "outputs": [
    {
     "data": {
      "text/plain": [
       "String"
      ]
     },
     "execution_count": 8,
     "metadata": {},
     "output_type": "execute_result"
    }
   ],
   "source": [
    "typeof(var1)"
   ]
  },
  {
   "cell_type": "code",
   "execution_count": 9,
   "id": "71727ed5",
   "metadata": {},
   "outputs": [
    {
     "data": {
      "text/plain": [
       "'a': ASCII/Unicode U+0061 (category Ll: Letter, lowercase)"
      ]
     },
     "execution_count": 9,
     "metadata": {},
     "output_type": "execute_result"
    }
   ],
   "source": [
    "var2 = 'a'"
   ]
  },
  {
   "cell_type": "code",
   "execution_count": 10,
   "id": "bb35f388",
   "metadata": {},
   "outputs": [
    {
     "data": {
      "text/plain": [
       "Char"
      ]
     },
     "execution_count": 10,
     "metadata": {},
     "output_type": "execute_result"
    }
   ],
   "source": [
    "typeof(var2)"
   ]
  },
  {
   "cell_type": "markdown",
   "id": "739333ff",
   "metadata": {},
   "source": [
    "> Interpolação de Strings"
   ]
  },
  {
   "cell_type": "code",
   "execution_count": 11,
   "id": "e7e4991e",
   "metadata": {},
   "outputs": [
    {
     "data": {
      "text/plain": [
       "\"Bob\""
      ]
     },
     "execution_count": 11,
     "metadata": {},
     "output_type": "execute_result"
    }
   ],
   "source": [
    "nome = \"Bob\""
   ]
  },
  {
   "cell_type": "code",
   "execution_count": 12,
   "id": "36a9a2b4",
   "metadata": {},
   "outputs": [
    {
     "name": "stdout",
     "output_type": "stream",
     "text": [
      "Olá Bob.\n"
     ]
    }
   ],
   "source": [
    "println(\"Olá $nome.\")"
   ]
  },
  {
   "cell_type": "markdown",
   "id": "24f73293",
   "metadata": {},
   "source": [
    "> Concatenação de Strings"
   ]
  },
  {
   "cell_type": "code",
   "execution_count": 13,
   "id": "1b2adcf5",
   "metadata": {},
   "outputs": [
    {
     "data": {
      "text/plain": [
       "7"
      ]
     },
     "execution_count": 13,
     "metadata": {},
     "output_type": "execute_result"
    }
   ],
   "source": [
    "txt1 = \"Quantos carros \";\n",
    "txt2 = \"seriam muitos carros?\";\n",
    "num_carros = 7"
   ]
  },
  {
   "cell_type": "code",
   "execution_count": 14,
   "id": "d7230a65",
   "metadata": {},
   "outputs": [
    {
     "data": {
      "text/plain": [
       "\"Quantos carros seriam muitos carros?\""
      ]
     },
     "execution_count": 14,
     "metadata": {},
     "output_type": "execute_result"
    }
   ],
   "source": [
    "string(txt1, txt2)"
   ]
  },
  {
   "cell_type": "code",
   "execution_count": 15,
   "id": "4a6fb7e5",
   "metadata": {},
   "outputs": [
    {
     "data": {
      "text/plain": [
       "\"Quantos carros seriam muitos carros? Acredito que 7 talvez.\""
      ]
     },
     "execution_count": 15,
     "metadata": {},
     "output_type": "execute_result"
    }
   ],
   "source": [
    "string(txt1, txt2, \" Acredito que \", num_carros, \" talvez.\")"
   ]
  },
  {
   "cell_type": "code",
   "execution_count": 16,
   "id": "60a6028c",
   "metadata": {},
   "outputs": [
    {
     "data": {
      "text/plain": [
       "\"Quantos carros seriam muitos carros?\""
      ]
     },
     "execution_count": 16,
     "metadata": {},
     "output_type": "execute_result"
    }
   ],
   "source": [
    "txt1 * txt2"
   ]
  },
  {
   "cell_type": "markdown",
   "id": "b59431fe",
   "metadata": {},
   "source": [
    "# Fim"
   ]
  }
 ],
 "metadata": {
  "kernelspec": {
   "display_name": "Julia 1.7.2",
   "language": "julia",
   "name": "julia-1.7"
  },
  "language_info": {
   "file_extension": ".jl",
   "mimetype": "application/julia",
   "name": "julia",
   "version": "1.7.2"
  }
 },
 "nbformat": 4,
 "nbformat_minor": 5
}
