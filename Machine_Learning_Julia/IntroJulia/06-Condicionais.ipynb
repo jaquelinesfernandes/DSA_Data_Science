{
 "cells": [
  {
   "cell_type": "markdown",
   "id": "3efebc52",
   "metadata": {},
   "source": [
    "# <font color='blue'>Data Science Academy</font>\n",
    "# <font color='blue'>Curso Bônus - Data Science e Machine Learning com Linguagem Julia</font>\n",
    "\n",
    "## <font color='blue'>Introdução à Linguagem Julia</font>"
   ]
  },
  {
   "cell_type": "markdown",
   "id": "d320a481",
   "metadata": {},
   "source": [
    "![title](imagens/julia.png)"
   ]
  },
  {
   "cell_type": "markdown",
   "id": "5cac8440",
   "metadata": {},
   "source": [
    "> Condicionais"
   ]
  },
  {
   "cell_type": "code",
   "execution_count": 1,
   "id": "bd76260f",
   "metadata": {},
   "outputs": [
    {
     "data": {
      "text/plain": [
       "10"
      ]
     },
     "execution_count": 1,
     "metadata": {},
     "output_type": "execute_result"
    }
   ],
   "source": [
    "x = 10"
   ]
  },
  {
   "cell_type": "code",
   "execution_count": 2,
   "id": "7bb7a066",
   "metadata": {},
   "outputs": [
    {
     "data": {
      "text/plain": [
       "2"
      ]
     },
     "execution_count": 2,
     "metadata": {},
     "output_type": "execute_result"
    }
   ],
   "source": [
    "y = 2"
   ]
  },
  {
   "cell_type": "code",
   "execution_count": 3,
   "id": "dac0d24f",
   "metadata": {},
   "outputs": [
    {
     "name": "stdout",
     "output_type": "stream",
     "text": [
      "10 é o maior valor!\n"
     ]
    }
   ],
   "source": [
    "if x > y\n",
    "    println(\"$x é o maior valor!\")\n",
    "else\n",
    "    println(\"$y é o maior valor!\")\n",
    "end"
   ]
  },
  {
   "cell_type": "code",
   "execution_count": 4,
   "id": "6740843c",
   "metadata": {},
   "outputs": [
    {
     "name": "stdout",
     "output_type": "stream",
     "text": [
      "10 é o maior valor!\n"
     ]
    }
   ],
   "source": [
    "(x > y) ?  println(\"$x é o maior valor!\") : println(\"$y é o maior valor!\")"
   ]
  },
  {
   "cell_type": "code",
   "execution_count": 5,
   "id": "49ddcf14",
   "metadata": {},
   "outputs": [
    {
     "data": {
      "text/plain": [
       "100"
      ]
     },
     "execution_count": 5,
     "metadata": {},
     "output_type": "execute_result"
    }
   ],
   "source": [
    "N = 100"
   ]
  },
  {
   "cell_type": "code",
   "execution_count": 6,
   "id": "db73a568",
   "metadata": {},
   "outputs": [
    {
     "data": {
      "text/plain": [
       "1"
      ]
     },
     "execution_count": 6,
     "metadata": {},
     "output_type": "execute_result"
    }
   ],
   "source": [
    "N % 3"
   ]
  },
  {
   "cell_type": "code",
   "execution_count": 7,
   "id": "5b500137",
   "metadata": {},
   "outputs": [
    {
     "data": {
      "text/plain": [
       "0"
      ]
     },
     "execution_count": 7,
     "metadata": {},
     "output_type": "execute_result"
    }
   ],
   "source": [
    "N % 5"
   ]
  },
  {
   "cell_type": "code",
   "execution_count": 8,
   "id": "e3540dbc",
   "metadata": {},
   "outputs": [
    {
     "data": {
      "text/plain": [
       "false"
      ]
     },
     "execution_count": 8,
     "metadata": {},
     "output_type": "execute_result"
    }
   ],
   "source": [
    "(N % 3 == 0) && (N % 5 == 0) "
   ]
  },
  {
   "cell_type": "code",
   "execution_count": 9,
   "id": "28bbc120",
   "metadata": {},
   "outputs": [
    {
     "data": {
      "text/plain": [
       "true"
      ]
     },
     "execution_count": 9,
     "metadata": {},
     "output_type": "execute_result"
    }
   ],
   "source": [
    "(N % 3 == 0) || (N % 5 == 0) "
   ]
  },
  {
   "cell_type": "code",
   "execution_count": 10,
   "id": "b2f22da4",
   "metadata": {},
   "outputs": [
    {
     "data": {
      "text/plain": [
       "false"
      ]
     },
     "execution_count": 10,
     "metadata": {},
     "output_type": "execute_result"
    }
   ],
   "source": [
    "N % 3 == 0"
   ]
  },
  {
   "cell_type": "code",
   "execution_count": 11,
   "id": "f1ff9631",
   "metadata": {},
   "outputs": [
    {
     "data": {
      "text/plain": [
       "true"
      ]
     },
     "execution_count": 11,
     "metadata": {},
     "output_type": "execute_result"
    }
   ],
   "source": [
    "N % 5 == 0"
   ]
  },
  {
   "cell_type": "code",
   "execution_count": 12,
   "id": "52e03568",
   "metadata": {},
   "outputs": [
    {
     "name": "stdout",
     "output_type": "stream",
     "text": [
      "O número é divisível somente por 5!\n"
     ]
    }
   ],
   "source": [
    "if (N % 3 == 0) && (N % 5 == 0) \n",
    "    println(\"O número é divisível por 3 e 5!\")\n",
    "elseif N % 3 == 0\n",
    "    println(\"O número é divisível somente por 3!\")\n",
    "elseif N % 5 == 0\n",
    "    println(\"O número é divisível somente por 5!\")\n",
    "else\n",
    "    println(\"O número não é divisível por 3 e 5!\")\n",
    "end"
   ]
  },
  {
   "cell_type": "markdown",
   "id": "b59431fe",
   "metadata": {},
   "source": [
    "# Fim"
   ]
  }
 ],
 "metadata": {
  "kernelspec": {
   "display_name": "Julia 1.7.2",
   "language": "julia",
   "name": "julia-1.7"
  },
  "language_info": {
   "file_extension": ".jl",
   "mimetype": "application/julia",
   "name": "julia",
   "version": "1.7.2"
  }
 },
 "nbformat": 4,
 "nbformat_minor": 5
}
