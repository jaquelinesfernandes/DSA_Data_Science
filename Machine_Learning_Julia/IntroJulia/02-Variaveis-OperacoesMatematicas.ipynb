{
 "cells": [
  {
   "cell_type": "markdown",
   "id": "3efebc52",
   "metadata": {},
   "source": [
    "# <font color='blue'>Data Science Academy</font>\n",
    "# <font color='blue'>Curso Bônus - Data Science e Machine Learning com Linguagem Julia</font>\n",
    "\n",
    "## <font color='blue'>Introdução à Linguagem Julia</font>"
   ]
  },
  {
   "cell_type": "markdown",
   "id": "d320a481",
   "metadata": {},
   "source": [
    "![title](imagens/julia.png)"
   ]
  },
  {
   "cell_type": "markdown",
   "id": "5cac8440",
   "metadata": {},
   "source": [
    "> Imprimindo texto "
   ]
  },
  {
   "cell_type": "code",
   "execution_count": 1,
   "id": "52e03568",
   "metadata": {},
   "outputs": [
    {
     "name": "stdout",
     "output_type": "stream",
     "text": [
      "Aprendendo Linguagem Julia com a DSA!\n"
     ]
    }
   ],
   "source": [
    "println(\"Aprendendo Linguagem Julia com a DSA!\")"
   ]
  },
  {
   "cell_type": "markdown",
   "id": "523696b0",
   "metadata": {},
   "source": [
    "> Variáveis"
   ]
  },
  {
   "cell_type": "code",
   "execution_count": 2,
   "id": "8e9240f6",
   "metadata": {},
   "outputs": [
    {
     "data": {
      "text/plain": [
       "28"
      ]
     },
     "execution_count": 2,
     "metadata": {},
     "output_type": "execute_result"
    }
   ],
   "source": [
    "idade = 28"
   ]
  },
  {
   "cell_type": "code",
   "execution_count": 3,
   "id": "17887997",
   "metadata": {},
   "outputs": [
    {
     "data": {
      "text/plain": [
       "Int64"
      ]
     },
     "execution_count": 3,
     "metadata": {},
     "output_type": "execute_result"
    }
   ],
   "source": [
    "typeof(idade)"
   ]
  },
  {
   "cell_type": "code",
   "execution_count": 4,
   "id": "f94540d7",
   "metadata": {},
   "outputs": [
    {
     "data": {
      "text/plain": [
       "3.14159"
      ]
     },
     "execution_count": 4,
     "metadata": {},
     "output_type": "execute_result"
    }
   ],
   "source": [
    "valor_pi = 3.14159"
   ]
  },
  {
   "cell_type": "code",
   "execution_count": 5,
   "id": "b011bbc4",
   "metadata": {},
   "outputs": [
    {
     "data": {
      "text/plain": [
       "Float64"
      ]
     },
     "execution_count": 5,
     "metadata": {},
     "output_type": "execute_result"
    }
   ],
   "source": [
    "typeof(valor_pi)"
   ]
  },
  {
   "cell_type": "code",
   "execution_count": 6,
   "id": "2640f97f",
   "metadata": {},
   "outputs": [
    {
     "data": {
      "text/plain": [
       "\"Data Science Academy!\""
      ]
     },
     "execution_count": 6,
     "metadata": {},
     "output_type": "execute_result"
    }
   ],
   "source": [
    "dsa = \"Data Science Academy!\""
   ]
  },
  {
   "cell_type": "code",
   "execution_count": 7,
   "id": "682f0334",
   "metadata": {},
   "outputs": [
    {
     "data": {
      "text/plain": [
       "String"
      ]
     },
     "execution_count": 7,
     "metadata": {},
     "output_type": "execute_result"
    }
   ],
   "source": [
    "typeof(dsa)"
   ]
  },
  {
   "cell_type": "code",
   "execution_count": 8,
   "id": "dd1623d4",
   "metadata": {},
   "outputs": [
    {
     "ename": "LoadError",
     "evalue": "UndefVarError: DSA not defined",
     "output_type": "error",
     "traceback": [
      "UndefVarError: DSA not defined",
      "",
      "Stacktrace:",
      " [1] top-level scope",
      "   @ In[8]:1",
      " [2] eval",
      "   @ ./boot.jl:373 [inlined]",
      " [3] include_string(mapexpr::typeof(REPL.softscope), mod::Module, code::String, filename::String)",
      "   @ Base ./loading.jl:1196"
     ]
    }
   ],
   "source": [
    "typeof(DSA)"
   ]
  },
  {
   "cell_type": "markdown",
   "id": "b9e3f6eb",
   "metadata": {},
   "source": [
    "> Operações Aritméticas"
   ]
  },
  {
   "cell_type": "code",
   "execution_count": 9,
   "id": "316b23fb",
   "metadata": {},
   "outputs": [
    {
     "data": {
      "text/plain": [
       "10"
      ]
     },
     "execution_count": 9,
     "metadata": {},
     "output_type": "execute_result"
    }
   ],
   "source": [
    "soma = 4 + 6"
   ]
  },
  {
   "cell_type": "code",
   "execution_count": 10,
   "id": "1242552d",
   "metadata": {},
   "outputs": [
    {
     "data": {
      "text/plain": [
       "10"
      ]
     },
     "execution_count": 10,
     "metadata": {},
     "output_type": "execute_result"
    }
   ],
   "source": [
    "subtracao = 13 - 3"
   ]
  },
  {
   "cell_type": "code",
   "execution_count": 11,
   "id": "20155a6b",
   "metadata": {},
   "outputs": [
    {
     "data": {
      "text/plain": [
       "10"
      ]
     },
     "execution_count": 11,
     "metadata": {},
     "output_type": "execute_result"
    }
   ],
   "source": [
    "produto = 2 * 5"
   ]
  },
  {
   "cell_type": "code",
   "execution_count": 12,
   "id": "36fbfa25",
   "metadata": {},
   "outputs": [
    {
     "data": {
      "text/plain": [
       "10.0"
      ]
     },
     "execution_count": 12,
     "metadata": {},
     "output_type": "execute_result"
    }
   ],
   "source": [
    "divisao = 100 / 10"
   ]
  },
  {
   "cell_type": "code",
   "execution_count": 13,
   "id": "fa9ec67d",
   "metadata": {},
   "outputs": [
    {
     "data": {
      "text/plain": [
       "100"
      ]
     },
     "execution_count": 13,
     "metadata": {},
     "output_type": "execute_result"
    }
   ],
   "source": [
    "potencia = 10 ^ 2"
   ]
  },
  {
   "cell_type": "code",
   "execution_count": 14,
   "id": "c0f3923d",
   "metadata": {},
   "outputs": [
    {
     "data": {
      "text/plain": [
       "1"
      ]
     },
     "execution_count": 14,
     "metadata": {},
     "output_type": "execute_result"
    }
   ],
   "source": [
    "modulo = 101 % 2"
   ]
  },
  {
   "cell_type": "markdown",
   "id": "b38e5870",
   "metadata": {},
   "source": [
    "> Comentários"
   ]
  },
  {
   "cell_type": "code",
   "execution_count": 15,
   "id": "c0bd478d",
   "metadata": {},
   "outputs": [
    {
     "data": {
      "text/plain": [
       "4"
      ]
     },
     "execution_count": 15,
     "metadata": {},
     "output_type": "execute_result"
    }
   ],
   "source": [
    "# Esta é uma linha de comentário\n",
    "2 + 2"
   ]
  },
  {
   "cell_type": "code",
   "execution_count": 16,
   "id": "48bcb7e4",
   "metadata": {},
   "outputs": [
    {
     "data": {
      "text/plain": [
       "4"
      ]
     },
     "execution_count": 16,
     "metadata": {},
     "output_type": "execute_result"
    }
   ],
   "source": [
    "#=\n",
    "\n",
    "Estas \n",
    "são\n",
    "várias\n",
    "linhas\n",
    "de\n",
    "comentário.\n",
    "\n",
    "=#\n",
    "2 + 2"
   ]
  },
  {
   "cell_type": "markdown",
   "id": "b59431fe",
   "metadata": {},
   "source": [
    "# Fim"
   ]
  }
 ],
 "metadata": {
  "kernelspec": {
   "display_name": "Julia 1.7.2",
   "language": "julia",
   "name": "julia-1.7"
  },
  "language_info": {
   "file_extension": ".jl",
   "mimetype": "application/julia",
   "name": "julia",
   "version": "1.7.2"
  }
 },
 "nbformat": 4,
 "nbformat_minor": 5
}
