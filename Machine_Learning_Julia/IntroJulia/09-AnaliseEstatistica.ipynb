{
 "cells": [
  {
   "cell_type": "markdown",
   "id": "3efebc52",
   "metadata": {},
   "source": [
    "# <font color='blue'>Data Science Academy</font>\n",
    "# <font color='blue'>Curso Bônus - Data Science e Machine Learning com Linguagem Julia</font>\n",
    "\n",
    "## <font color='blue'>Introdução à Linguagem Julia</font>"
   ]
  },
  {
   "cell_type": "markdown",
   "id": "d320a481",
   "metadata": {},
   "source": [
    "![title](imagens/julia.png)"
   ]
  },
  {
   "cell_type": "markdown",
   "id": "5cac8440",
   "metadata": {},
   "source": [
    "> Análise Estatística"
   ]
  },
  {
   "cell_type": "code",
   "execution_count": 1,
   "id": "5b321196",
   "metadata": {},
   "outputs": [],
   "source": [
    "import Pkg"
   ]
  },
  {
   "cell_type": "code",
   "execution_count": 2,
   "id": "d85a68c1",
   "metadata": {},
   "outputs": [
    {
     "name": "stderr",
     "output_type": "stream",
     "text": [
      "\u001b[32m\u001b[1m    Updating\u001b[22m\u001b[39m registry at `~/.julia/registries/General.toml`\n",
      "\u001b[32m\u001b[1m   Resolving\u001b[22m\u001b[39m package versions...\n",
      "\u001b[32m\u001b[1m  No Changes\u001b[22m\u001b[39m to `~/.julia/environments/v1.7/Project.toml`\n",
      "\u001b[32m\u001b[1m  No Changes\u001b[22m\u001b[39m to `~/.julia/environments/v1.7/Manifest.toml`\n"
     ]
    }
   ],
   "source": [
    "Pkg.add(\"Distributions\")"
   ]
  },
  {
   "cell_type": "code",
   "execution_count": 3,
   "id": "c6d7cb47",
   "metadata": {},
   "outputs": [
    {
     "name": "stderr",
     "output_type": "stream",
     "text": [
      "\u001b[32m\u001b[1m   Resolving\u001b[22m\u001b[39m package versions...\n",
      "\u001b[32m\u001b[1m  No Changes\u001b[22m\u001b[39m to `~/.julia/environments/v1.7/Project.toml`\n",
      "\u001b[32m\u001b[1m  No Changes\u001b[22m\u001b[39m to `~/.julia/environments/v1.7/Manifest.toml`\n"
     ]
    }
   ],
   "source": [
    "Pkg.add(\"Plots\")"
   ]
  },
  {
   "cell_type": "code",
   "execution_count": 4,
   "id": "43457982",
   "metadata": {},
   "outputs": [
    {
     "name": "stderr",
     "output_type": "stream",
     "text": [
      "\u001b[32m\u001b[1m   Resolving\u001b[22m\u001b[39m package versions...\n",
      "\u001b[32m\u001b[1m  No Changes\u001b[22m\u001b[39m to `~/.julia/environments/v1.7/Project.toml`\n",
      "\u001b[32m\u001b[1m  No Changes\u001b[22m\u001b[39m to `~/.julia/environments/v1.7/Manifest.toml`\n"
     ]
    }
   ],
   "source": [
    "Pkg.add(\"PyPlot\")"
   ]
  },
  {
   "cell_type": "code",
   "execution_count": 5,
   "id": "adfe1268",
   "metadata": {},
   "outputs": [],
   "source": [
    "using Statistics, Printf, Dates, LinearAlgebra, DelimitedFiles, Distributions"
   ]
  },
  {
   "cell_type": "code",
   "execution_count": 6,
   "id": "e8835c65",
   "metadata": {},
   "outputs": [],
   "source": [
    "using Plots\n",
    "pyplot(size=(600,400))\n",
    "gr(size=(480,320))\n",
    "default(fmt = :png)"
   ]
  },
  {
   "cell_type": "code",
   "execution_count": 7,
   "id": "33b0ae73",
   "metadata": {},
   "outputs": [
    {
     "data": {
      "text/plain": [
       "5-element Vector{String}:\n",
       " \"data,risk_free_rate_mercado,risk_free_rate,ganho\"\n",
       " \"197901,4.18,0.77,10.96\"\n",
       " \"197902,-3.41,0.73,-2.09\"\n",
       " \"197903,5.75,0.81,11.71\"\n",
       " \"197904,0.05,0.8,3.27\""
      ]
     },
     "execution_count": 7,
     "metadata": {},
     "output_type": "execute_result"
    }
   ],
   "source": [
    "dados = readlines(\"dados/dataset.csv\")[1:5]"
   ]
  },
  {
   "cell_type": "code",
   "execution_count": 8,
   "id": "0c9f52b8",
   "metadata": {},
   "outputs": [
    {
     "data": {
      "text/plain": [
       "Vector{String} (alias for Array{String, 1})"
      ]
     },
     "execution_count": 8,
     "metadata": {},
     "output_type": "execute_result"
    }
   ],
   "source": [
    "typeof(dados)"
   ]
  },
  {
   "cell_type": "code",
   "execution_count": 9,
   "id": "49a29944",
   "metadata": {},
   "outputs": [
    {
     "data": {
      "text/plain": [
       "388×4 Matrix{Float64}:\n",
       " 197901.0   4.18  0.77   10.96\n",
       " 197902.0  -3.41  0.73   -2.09\n",
       " 197903.0   5.75  0.81   11.71\n",
       " 197904.0   0.05  0.8     3.27\n",
       " 197905.0  -2.18  0.82   -1.89\n",
       " 197906.0   3.88  0.81    7.4\n",
       " 197907.0   0.73  0.77    1.77\n",
       " 197908.0   5.7   0.77    9.32\n",
       " 197909.0  -0.69  0.83   -0.04\n",
       " 197910.0  -8.14  0.87  -10.56\n",
       " 197911.0   5.37  0.99    9.25\n",
       " 197912.0   1.87  0.95   12.14\n",
       " 198001.0   5.76  0.8    15.28\n",
       "      ⋮                 \n",
       " 201005.0  -8.0   0.01   -9.64\n",
       " 201006.0  -5.21  0.01   -7.77\n",
       " 201007.0   7.1   0.01    5.54\n",
       " 201008.0  -4.4   0.01   -7.37\n",
       " 201009.0   9.24  0.01   12.01\n",
       " 201010.0   3.88  0.01    5.69\n",
       " 201011.0   0.56  0.01    0.47\n",
       " 201012.0   6.77  0.01   11.28\n",
       " 201101.0   2.01  0.01   -0.38\n",
       " 201102.0   3.85  0.01    1.43\n",
       " 201103.0   0.28  0.01    1.92\n",
       " 201104.0   2.82  0.0     1.03"
      ]
     },
     "execution_count": 9,
     "metadata": {},
     "output_type": "execute_result"
    }
   ],
   "source": [
    "df = readdlm(\"dados/dataset.csv\", ',', skipstart = 1) "
   ]
  },
  {
   "cell_type": "code",
   "execution_count": 10,
   "id": "956f7f8d",
   "metadata": {},
   "outputs": [
    {
     "data": {
      "text/plain": [
       "Matrix{Float64} (alias for Array{Float64, 2})"
      ]
     },
     "execution_count": 10,
     "metadata": {},
     "output_type": "execute_result"
    }
   ],
   "source": [
    "typeof(df)"
   ]
  },
  {
   "cell_type": "code",
   "execution_count": 11,
   "id": "9b65f350",
   "metadata": {},
   "outputs": [
    {
     "name": "stdout",
     "output_type": "stream",
     "text": [
      "\n",
      "Primeiras Linhas do df:\n"
     ]
    },
    {
     "data": {
      "text/plain": [
       "4×4 Matrix{Float64}:\n",
       " 197901.0   4.18  0.77  10.96\n",
       " 197902.0  -3.41  0.73  -2.09\n",
       " 197903.0   5.75  0.81  11.71\n",
       " 197904.0   0.05  0.8    3.27"
      ]
     },
     "execution_count": 11,
     "metadata": {},
     "output_type": "execute_result"
    }
   ],
   "source": [
    "println(\"\\nPrimeiras Linhas do df:\")\n",
    "df[1:4,:]"
   ]
  },
  {
   "cell_type": "code",
   "execution_count": 12,
   "id": "190b1c46",
   "metadata": {},
   "outputs": [
    {
     "data": {
      "text/plain": [
       "388-element Vector{Int64}:\n",
       " 197901\n",
       " 197902\n",
       " 197903\n",
       " 197904\n",
       " 197905\n",
       " 197906\n",
       " 197907\n",
       " 197908\n",
       " 197909\n",
       " 197910\n",
       " 197911\n",
       " 197912\n",
       " 198001\n",
       "      ⋮\n",
       " 201005\n",
       " 201006\n",
       " 201007\n",
       " 201008\n",
       " 201009\n",
       " 201010\n",
       " 201011\n",
       " 201012\n",
       " 201101\n",
       " 201102\n",
       " 201103\n",
       " 201104"
      ]
     },
     "execution_count": 12,
     "metadata": {},
     "output_type": "execute_result"
    }
   ],
   "source": [
    "# ym = ano_mes\n",
    "ym = round.(Int, df[:,1]) "
   ]
  },
  {
   "cell_type": "code",
   "execution_count": 13,
   "id": "1ffd69a5",
   "metadata": {},
   "outputs": [
    {
     "data": {
      "text/plain": [
       "([4.18, -3.41, 5.75, 0.05, -2.18, 3.88, 0.73, 5.7, -0.69, -8.14  …  7.1, -4.4, 9.24, 3.88, 0.56, 6.77, 2.01, 3.85, 0.28, 2.82], [0.77, 0.73, 0.81, 0.8, 0.82, 0.81, 0.77, 0.77, 0.83, 0.87  …  0.01, 0.01, 0.01, 0.01, 0.01, 0.01, 0.01, 0.01, 0.01, 0.0], [10.96, -2.09, 11.71, 3.27, -1.89, 7.4, 1.77, 9.32, -0.04, -10.56  …  5.54, -7.37, 12.01, 5.69, 0.47, 11.28, -0.38, 1.43, 1.92, 1.03])"
      ]
     },
     "execution_count": 13,
     "metadata": {},
     "output_type": "execute_result"
    }
   ],
   "source": [
    "# Descrição:\n",
    "# Rme = Taxa de Retorno do Mercado (%)\n",
    "# Rf = Taxa de Retorno Real Sem Risco (%)\n",
    "# R = Taxa de Retorno\n",
    "(Rme, Rf, R) = (df[:,2], df[:,3], df[:,4])"
   ]
  },
  {
   "cell_type": "code",
   "execution_count": 14,
   "id": "9e2a2732",
   "metadata": {},
   "outputs": [
    {
     "data": {
      "text/plain": [
       "388-element Vector{Float64}:\n",
       "  10.190000000000001\n",
       "  -2.82\n",
       "  10.9\n",
       "   2.4699999999999998\n",
       "  -2.71\n",
       "   6.59\n",
       "   1.0\n",
       "   8.55\n",
       "  -0.87\n",
       " -11.43\n",
       "   8.26\n",
       "  11.190000000000001\n",
       "  14.479999999999999\n",
       "   ⋮\n",
       "  -9.65\n",
       "  -7.779999999999999\n",
       "   5.53\n",
       "  -7.38\n",
       "  12.0\n",
       "   5.680000000000001\n",
       "   0.45999999999999996\n",
       "  11.27\n",
       "  -0.39\n",
       "   1.42\n",
       "   1.91\n",
       "   1.03"
      ]
     },
     "execution_count": 14,
     "metadata": {},
     "output_type": "execute_result"
    }
   ],
   "source": [
    "# Retorno Real\n",
    "Re  = R - Rf "
   ]
  },
  {
   "cell_type": "code",
   "execution_count": 15,
   "id": "ab2ad4a5",
   "metadata": {},
   "outputs": [
    {
     "data": {
      "text/plain": [
       "388-element Vector{Date}:\n",
       " 1979-01-01\n",
       " 1979-02-01\n",
       " 1979-03-01\n",
       " 1979-04-01\n",
       " 1979-05-01\n",
       " 1979-06-01\n",
       " 1979-07-01\n",
       " 1979-08-01\n",
       " 1979-09-01\n",
       " 1979-10-01\n",
       " 1979-11-01\n",
       " 1979-12-01\n",
       " 1980-01-01\n",
       " ⋮\n",
       " 2010-05-01\n",
       " 2010-06-01\n",
       " 2010-07-01\n",
       " 2010-08-01\n",
       " 2010-09-01\n",
       " 2010-10-01\n",
       " 2010-11-01\n",
       " 2010-12-01\n",
       " 2011-01-01\n",
       " 2011-02-01\n",
       " 2011-03-01\n",
       " 2011-04-01"
      ]
     },
     "execution_count": 15,
     "metadata": {},
     "output_type": "execute_result"
    }
   ],
   "source": [
    "# Formata a string\n",
    "dN = Date.(string.(ym), \"yyyymm\") "
   ]
  },
  {
   "cell_type": "code",
   "execution_count": 16,
   "id": "86f43324",
   "metadata": {},
   "outputs": [
    {
     "name": "stdout",
     "output_type": "stream",
     "text": [
      "Primeiras Linhas de Rme e Re\n"
     ]
    },
    {
     "data": {
      "text/plain": [
       "4×3 Matrix{Any}:\n",
       " 1979-01-01   4.18  10.19\n",
       " 1979-02-01  -3.41  -2.82\n",
       " 1979-03-01   5.75  10.9\n",
       " 1979-04-01   0.05   2.47"
      ]
     },
     "execution_count": 16,
     "metadata": {},
     "output_type": "execute_result"
    }
   ],
   "source": [
    "println(\"Primeiras Linhas de Rme e Re\")\n",
    "[dN[1:4] Rme[1:4,:] Re[1:4,:]]"
   ]
  },
  {
   "cell_type": "code",
   "execution_count": 17,
   "id": "e890a8f1",
   "metadata": {},
   "outputs": [
    {
     "data": {
      "text/plain": [
       "1×2 Matrix{Float64}:\n",
       " 0.601881  0.30299"
      ]
     },
     "execution_count": 17,
     "metadata": {},
     "output_type": "execute_result"
    }
   ],
   "source": [
    "μ = mean([Rme Re], dims = 1)  "
   ]
  },
  {
   "cell_type": "code",
   "execution_count": 18,
   "id": "1c0d5ac1",
   "metadata": {},
   "outputs": [
    {
     "data": {
      "text/plain": [
       "1×2 Matrix{Float64}:\n",
       " 4.60401  8.57178"
      ]
     },
     "execution_count": 18,
     "metadata": {},
     "output_type": "execute_result"
    }
   ],
   "source": [
    "σ = std([Rme Re], dims = 1) "
   ]
  },
  {
   "cell_type": "code",
   "execution_count": 19,
   "id": "145677ea",
   "metadata": {},
   "outputs": [
    {
     "name": "stdout",
     "output_type": "stream",
     "text": [
      "\n",
      "cov([Rme Re]): \n"
     ]
    },
    {
     "data": {
      "text/plain": [
       "2×2 Matrix{Float64}:\n",
       " 21.1969  28.4261\n",
       " 28.4261  73.4754"
      ]
     },
     "execution_count": 19,
     "metadata": {},
     "output_type": "execute_result"
    }
   ],
   "source": [
    "println(\"\\n\",\"cov([Rme Re]): \")\n",
    "cov([Rme Re])"
   ]
  },
  {
   "cell_type": "code",
   "execution_count": 20,
   "id": "f382b8b1",
   "metadata": {},
   "outputs": [
    {
     "name": "stdout",
     "output_type": "stream",
     "text": [
      "\n",
      "cor([Rme Re]): \n"
     ]
    },
    {
     "data": {
      "text/plain": [
       "2×2 Matrix{Float64}:\n",
       " 1.0       0.720294\n",
       " 0.720294  1.0"
      ]
     },
     "execution_count": 20,
     "metadata": {},
     "output_type": "execute_result"
    }
   ],
   "source": [
    "println(\"\\n\",\"cor([Rme Re]): \")\n",
    "cor([Rme Re])"
   ]
  },
  {
   "cell_type": "markdown",
   "id": "4db33d7f",
   "metadata": {},
   "source": [
    "> Regressão Linear\n",
    "\n",
    "Equação:\n",
    "$\n",
    "y_t = x_t'b + u_t\n",
    "$\n",
    "\n",
    "O primeiro coeficiente $b$ é o intercepto e o segundo coeficiente $u$ é o slope."
   ]
  },
  {
   "cell_type": "code",
   "execution_count": 21,
   "id": "13302897",
   "metadata": {},
   "outputs": [
    {
     "data": {
      "text/plain": [
       "388-element Vector{Float64}:\n",
       "  10.190000000000001\n",
       "  -2.82\n",
       "  10.9\n",
       "   2.4699999999999998\n",
       "  -2.71\n",
       "   6.59\n",
       "   1.0\n",
       "   8.55\n",
       "  -0.87\n",
       " -11.43\n",
       "   8.26\n",
       "  11.190000000000001\n",
       "  14.479999999999999\n",
       "   ⋮\n",
       "  -9.65\n",
       "  -7.779999999999999\n",
       "   5.53\n",
       "  -7.38\n",
       "  12.0\n",
       "   5.680000000000001\n",
       "   0.45999999999999996\n",
       "  11.27\n",
       "  -0.39\n",
       "   1.42\n",
       "   1.91\n",
       "   1.03"
      ]
     },
     "execution_count": 21,
     "metadata": {},
     "output_type": "execute_result"
    }
   ],
   "source": [
    "# Prepara os dados\n",
    "c = ones(size(Rme, 1))         \n",
    "x = [c Rme]                  \n",
    "y = copy(Re)                  "
   ]
  },
  {
   "cell_type": "code",
   "execution_count": 22,
   "id": "96749581",
   "metadata": {},
   "outputs": [
    {
     "data": {
      "text/plain": [
       "388-element Vector{Float64}:\n",
       "  5.088579265788081\n",
       "  2.2571384842590034\n",
       "  3.6931328925338835\n",
       "  2.907110171227462\n",
       "  0.7176486504356525\n",
       "  1.8908938594035307\n",
       "  0.5251970923657722\n",
       "  1.410185324803125\n",
       "  0.5594861688122427\n",
       " -0.00970142307070887\n",
       "  1.5627313777801213\n",
       "  9.186401636627057\n",
       "  7.259722406080034\n",
       "  ⋮\n",
       "  1.5825517665754116\n",
       " -0.28897395404828696\n",
       " -3.487282778735648\n",
       " -0.9752233568100062\n",
       "  0.11287312014079554\n",
       "  0.9808938594035315\n",
       "  0.21317536208119459\n",
       "  2.6952632742413485\n",
       " -2.581345173726821\n",
       " -3.2388746812349245\n",
       "  2.0386689827889493\n",
       " -2.24759457648854"
      ]
     },
     "execution_count": 22,
     "metadata": {},
     "output_type": "execute_result"
    }
   ],
   "source": [
    "# Calcula os coeficientes\n",
    "b2 = inv(x'x)*x'y              \n",
    "b  = x\\y                      \n",
    "u  = y - x*b                   "
   ]
  },
  {
   "cell_type": "code",
   "execution_count": 23,
   "id": "ef655107",
   "metadata": {},
   "outputs": [
    {
     "data": {
      "text/plain": [
       "0.5188230592449327"
      ]
     },
     "execution_count": 23,
     "metadata": {},
     "output_type": "execute_result"
    }
   ],
   "source": [
    "# Coeficiente de determninação para avaliar o modelo\n",
    "R2 = 1 - var(u)/var(y)   "
   ]
  },
  {
   "cell_type": "code",
   "execution_count": 24,
   "id": "58b38876",
   "metadata": {},
   "outputs": [
    {
     "name": "stdout",
     "output_type": "stream",
     "text": [
      "Resultado da Regressão Linear:\n",
      "R²: 0.5188230592449327\n",
      "Número de Observações: 388\n"
     ]
    }
   ],
   "source": [
    "println(\"Resultado da Regressão Linear:\")\n",
    "println(\"R²: \", R2) \n",
    "println(\"Número de Observações: \", size(Re,1))"
   ]
  },
  {
   "cell_type": "code",
   "execution_count": 25,
   "id": "ec0a1a2f",
   "metadata": {},
   "outputs": [
    {
     "data": {
      "image/png": "[encoded data removed]"
     },
     "metadata": {},
     "output_type": "display_data"
    }
   ],
   "source": [
    "# Time Series Plot \n",
    "xTicksLoc = [Date(1980), Date(1990), Date(2000), Date(2010)]\n",
    "\n",
    "xTicksLab = Dates.format.(xTicksLoc, \"Y\")\n",
    "\n",
    "p1 = plot( dN,\n",
    "           Rme,\n",
    "           linecolor = :green,\n",
    "           legend = false,\n",
    "           xticks = (xTicksLoc, xTicksLab),\n",
    "           ylim = (-25,25),\n",
    "           title = \"Time Series Plot - Taxa de Retorno do Mercado ao Longo do Tempo\",\n",
    "           titlefont = font(10),\n",
    "           ylabel = \"%\" )\n",
    "display(p1)"
   ]
  },
  {
   "cell_type": "code",
   "execution_count": 26,
   "id": "0e597d21",
   "metadata": {},
   "outputs": [
    {
     "data": {
      "image/png": "[encoded data removed]"
     },
     "metadata": {},
     "output_type": "display_data"
    }
   ],
   "source": [
    "# Scatter Plot\n",
    "p1 = scatter( Rme,\n",
    "              Re,\n",
    "              fillcolor = :blue,\n",
    "              legend = false,\n",
    "              xlim = (-40,40),\n",
    "              ylim = (-40,60),\n",
    "              title = \"Scatter Plot: Taxa de Retorno do Mercado x Retorno Real\",\n",
    "              titlefont = font(10),\n",
    "              xlabel = \"Taxa de Retorno do Mercado, %\",\n",
    "              ylabel = \"Retorno Real, %\")\n",
    "plot!([-40;60], [-40;60], color = :black, linewidth = 0.5)   \n",
    "display(p1)"
   ]
  },
  {
   "cell_type": "code",
   "execution_count": 27,
   "id": "f1e9bce4",
   "metadata": {},
   "outputs": [
    {
     "data": {
      "image/png": "[encoded data removed]"
     },
     "metadata": {},
     "output_type": "display_data"
    }
   ],
   "source": [
    "# Histograma\n",
    "xGrid = -25:0.1:15\n",
    "pdfX  = pdf.(Normal(mean(Rme), std(Rme)), xGrid) \n",
    "\n",
    "p1 = histogram( Rme,\n",
    "                bins = -25:1:15,\n",
    "                normalized = true,     \n",
    "                label = \"Histograma\",\n",
    "                title = \"Histograma da Taxa de Retorno do Mercado\",\n",
    "                titlefont = font(10),\n",
    "                xlabel = \"Taxa de Retorno do Mercado, %\",\n",
    "                legend = :topleft)  \n",
    "plot!(xGrid, pdfX, linewidth = 3, label = \"fitted N()\")\n",
    "display(p1)"
   ]
  },
  {
   "cell_type": "markdown",
   "id": "b59431fe",
   "metadata": {},
   "source": [
    "# Fim"
   ]
  }
 ],
 "metadata": {
  "kernelspec": {
   "display_name": "Julia 1.7.2",
   "language": "julia",
   "name": "julia-1.7"
  },
  "language_info": {
   "file_extension": ".jl",
   "mimetype": "application/julia",
   "name": "julia",
   "version": "1.7.2"
  }
 },
 "nbformat": 4,
 "nbformat_minor": 5
}
