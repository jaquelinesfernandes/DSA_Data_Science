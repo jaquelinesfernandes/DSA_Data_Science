{
 "cells": [
  {
   "cell_type": "markdown",
   "id": "3efebc52",
   "metadata": {},
   "source": [
    "# <font color='blue'>Data Science Academy</font>\n",
    "# <font color='blue'>Curso Bônus - Data Science e Machine Learning com Linguagem Julia</font>\n",
    "\n",
    "## <font color='blue'>Introdução à Linguagem Julia</font>"
   ]
  },
  {
   "cell_type": "markdown",
   "id": "d320a481",
   "metadata": {},
   "source": [
    "![title](imagens/julia.png)"
   ]
  },
  {
   "cell_type": "markdown",
   "id": "5cac8440",
   "metadata": {},
   "source": [
    "> Estruturas de Dados - Tuplas"
   ]
  },
  {
   "cell_type": "code",
   "execution_count": 1,
   "id": "52e03568",
   "metadata": {},
   "outputs": [
    {
     "data": {
      "text/plain": [
       "(\"azul\", \"verde\", \"branco\")"
      ]
     },
     "execution_count": 1,
     "metadata": {},
     "output_type": "execute_result"
    }
   ],
   "source": [
    "cores = (\"azul\", \"verde\", \"branco\")"
   ]
  },
  {
   "cell_type": "code",
   "execution_count": 2,
   "id": "17f9898f",
   "metadata": {},
   "outputs": [
    {
     "data": {
      "text/plain": [
       "\"azul\""
      ]
     },
     "execution_count": 2,
     "metadata": {},
     "output_type": "execute_result"
    }
   ],
   "source": [
    "cores[1]"
   ]
  },
  {
   "cell_type": "markdown",
   "id": "df9b3a88",
   "metadata": {},
   "source": [
    "Tuplas são estruturas de dados imutáveis."
   ]
  },
  {
   "cell_type": "code",
   "execution_count": 3,
   "id": "9a18e0cf",
   "metadata": {},
   "outputs": [
    {
     "ename": "LoadError",
     "evalue": "MethodError: no method matching setindex!(::Tuple{String, String, String}, ::String, ::Int64)",
     "output_type": "error",
     "traceback": [
      "MethodError: no method matching setindex!(::Tuple{String, String, String}, ::String, ::Int64)",
      "",
      "Stacktrace:",
      " [1] top-level scope",
      "   @ In[3]:1",
      " [2] eval",
      "   @ ./boot.jl:373 [inlined]",
      " [3] include_string(mapexpr::typeof(REPL.softscope), mod::Module, code::String, filename::String)",
      "   @ Base ./loading.jl:1196"
     ]
    }
   ],
   "source": [
    "cores[1] = \"vermelho\""
   ]
  },
  {
   "cell_type": "markdown",
   "id": "0c937cd8",
   "metadata": {},
   "source": [
    "Podemos criar tuplas nomeadas."
   ]
  },
  {
   "cell_type": "code",
   "execution_count": 4,
   "id": "4d2a631b",
   "metadata": {},
   "outputs": [
    {
     "data": {
      "text/plain": [
       "(mercedes = \"AMG GL3 53\", porsche = \"911 Carrera 4S\", jaguar = \"F-Type R\")"
      ]
     },
     "execution_count": 4,
     "metadata": {},
     "output_type": "execute_result"
    }
   ],
   "source": [
    "carros = (mercedes = \"AMG GL3 53\", porsche = \"911 Carrera 4S\", jaguar = \"F-Type R\")"
   ]
  },
  {
   "cell_type": "code",
   "execution_count": 5,
   "id": "8e94acf7",
   "metadata": {},
   "outputs": [
    {
     "data": {
      "text/plain": [
       "\"AMG GL3 53\""
      ]
     },
     "execution_count": 5,
     "metadata": {},
     "output_type": "execute_result"
    }
   ],
   "source": [
    "carros[1]"
   ]
  },
  {
   "cell_type": "code",
   "execution_count": 6,
   "id": "71ac6980",
   "metadata": {},
   "outputs": [
    {
     "data": {
      "text/plain": [
       "\"F-Type R\""
      ]
     },
     "execution_count": 6,
     "metadata": {},
     "output_type": "execute_result"
    }
   ],
   "source": [
    "carros.jaguar"
   ]
  },
  {
   "cell_type": "markdown",
   "id": "c06c374a",
   "metadata": {},
   "source": [
    "> Estruturas de Dados - Dicionários"
   ]
  },
  {
   "cell_type": "code",
   "execution_count": 7,
   "id": "c6942517",
   "metadata": {},
   "outputs": [
    {
     "data": {
      "text/plain": [
       "Dict{String, String} with 2 entries:\n",
       "  \"Maria\" => \"8888-8888\"\n",
       "  \"Bob\"   => \"9999-9999\""
      ]
     },
     "execution_count": 7,
     "metadata": {},
     "output_type": "execute_result"
    }
   ],
   "source": [
    "agenda_telefone = Dict(\"Bob\" => \"9999-9999\", \"Maria\" => \"8888-8888\")"
   ]
  },
  {
   "cell_type": "code",
   "execution_count": 8,
   "id": "91cedf9d",
   "metadata": {},
   "outputs": [
    {
     "data": {
      "text/plain": [
       "\"9999-9999\""
      ]
     },
     "execution_count": 8,
     "metadata": {},
     "output_type": "execute_result"
    }
   ],
   "source": [
    "agenda_telefone[\"Bob\"]"
   ]
  },
  {
   "cell_type": "code",
   "execution_count": 9,
   "id": "151f0089",
   "metadata": {},
   "outputs": [
    {
     "data": {
      "text/plain": [
       "\"7777-7777\""
      ]
     },
     "execution_count": 9,
     "metadata": {},
     "output_type": "execute_result"
    }
   ],
   "source": [
    "agenda_telefone[\"Zico\"] = \"7777-7777\""
   ]
  },
  {
   "cell_type": "code",
   "execution_count": 10,
   "id": "02bd50a3",
   "metadata": {},
   "outputs": [
    {
     "data": {
      "text/plain": [
       "Dict{String, String} with 3 entries:\n",
       "  \"Maria\" => \"8888-8888\"\n",
       "  \"Zico\"  => \"7777-7777\"\n",
       "  \"Bob\"   => \"9999-9999\""
      ]
     },
     "execution_count": 10,
     "metadata": {},
     "output_type": "execute_result"
    }
   ],
   "source": [
    "agenda_telefone"
   ]
  },
  {
   "cell_type": "code",
   "execution_count": 11,
   "id": "474ca140",
   "metadata": {},
   "outputs": [
    {
     "data": {
      "text/plain": [
       "\"9999-9999\""
      ]
     },
     "execution_count": 11,
     "metadata": {},
     "output_type": "execute_result"
    }
   ],
   "source": [
    "pop!(agenda_telefone, \"Bob\")"
   ]
  },
  {
   "cell_type": "code",
   "execution_count": 12,
   "id": "ad7c9f90",
   "metadata": {},
   "outputs": [
    {
     "data": {
      "text/plain": [
       "Dict{String, String} with 2 entries:\n",
       "  \"Maria\" => \"8888-8888\"\n",
       "  \"Zico\"  => \"7777-7777\""
      ]
     },
     "execution_count": 12,
     "metadata": {},
     "output_type": "execute_result"
    }
   ],
   "source": [
    "agenda_telefone"
   ]
  },
  {
   "cell_type": "markdown",
   "id": "2a40533b",
   "metadata": {},
   "source": [
    "Ao contrário das tuplas e arrays, os dicionários não são ordenados. Portanto, não podemos indexá-los."
   ]
  },
  {
   "cell_type": "code",
   "execution_count": 13,
   "id": "eb0b1a0d",
   "metadata": {},
   "outputs": [
    {
     "ename": "LoadError",
     "evalue": "KeyError: key \"1\" not found",
     "output_type": "error",
     "traceback": [
      "KeyError: key \"1\" not found",
      "",
      "Stacktrace:",
      " [1] getindex(h::Dict{String, String}, key::String)",
      "   @ Base ./dict.jl:481",
      " [2] top-level scope",
      "   @ In[13]:1",
      " [3] eval",
      "   @ ./boot.jl:373 [inlined]",
      " [4] include_string(mapexpr::typeof(REPL.softscope), mod::Module, code::String, filename::String)",
      "   @ Base ./loading.jl:1196"
     ]
    }
   ],
   "source": [
    "agenda_telefone[\"1\"]"
   ]
  },
  {
   "cell_type": "markdown",
   "id": "aaf3e931",
   "metadata": {},
   "source": [
    "> Estruturas de Dados - Arrays"
   ]
  },
  {
   "cell_type": "code",
   "execution_count": 14,
   "id": "c581d566",
   "metadata": {},
   "outputs": [
    {
     "data": {
      "text/plain": [
       "4-element Vector{String}:\n",
       " \"Romario\"\n",
       " \"Ronaldo\"\n",
       " \"Rivaldo\"\n",
       " \"Reinaldo\""
      ]
     },
     "execution_count": 14,
     "metadata": {},
     "output_type": "execute_result"
    }
   ],
   "source": [
    "jogadores = [\"Romario\", \"Ronaldo\", \"Rivaldo\", \"Reinaldo\"]"
   ]
  },
  {
   "cell_type": "code",
   "execution_count": 15,
   "id": "8e7cb53d",
   "metadata": {},
   "outputs": [
    {
     "data": {
      "text/plain": [
       "\"Romario\""
      ]
     },
     "execution_count": 15,
     "metadata": {},
     "output_type": "execute_result"
    }
   ],
   "source": [
    "jogadores[1]"
   ]
  },
  {
   "cell_type": "code",
   "execution_count": 16,
   "id": "4d121761",
   "metadata": {},
   "outputs": [
    {
     "data": {
      "text/plain": [
       "\"Ricardinho\""
      ]
     },
     "execution_count": 16,
     "metadata": {},
     "output_type": "execute_result"
    }
   ],
   "source": [
    "jogadores[4] = \"Ricardinho\""
   ]
  },
  {
   "cell_type": "code",
   "execution_count": 17,
   "id": "52720fa8",
   "metadata": {},
   "outputs": [
    {
     "data": {
      "text/plain": [
       "4-element Vector{String}:\n",
       " \"Romario\"\n",
       " \"Ronaldo\"\n",
       " \"Rivaldo\"\n",
       " \"Ricardinho\""
      ]
     },
     "execution_count": 17,
     "metadata": {},
     "output_type": "execute_result"
    }
   ],
   "source": [
    "jogadores"
   ]
  },
  {
   "cell_type": "code",
   "execution_count": 18,
   "id": "42d01292",
   "metadata": {},
   "outputs": [
    {
     "data": {
      "text/plain": [
       "7-element Vector{Int64}:\n",
       "  1\n",
       "  1\n",
       "  2\n",
       "  3\n",
       "  5\n",
       "  8\n",
       " 13"
      ]
     },
     "execution_count": 18,
     "metadata": {},
     "output_type": "execute_result"
    }
   ],
   "source": [
    "fibonacci = [1, 1, 2, 3, 5, 8, 13]"
   ]
  },
  {
   "cell_type": "code",
   "execution_count": 19,
   "id": "b78bc724",
   "metadata": {},
   "outputs": [
    {
     "data": {
      "text/plain": [
       "8-element Vector{Int64}:\n",
       "  1\n",
       "  1\n",
       "  2\n",
       "  3\n",
       "  5\n",
       "  8\n",
       " 13\n",
       " 21"
      ]
     },
     "execution_count": 19,
     "metadata": {},
     "output_type": "execute_result"
    }
   ],
   "source": [
    "push!(fibonacci, 21)"
   ]
  },
  {
   "cell_type": "code",
   "execution_count": 20,
   "id": "72ad7eb8",
   "metadata": {},
   "outputs": [
    {
     "data": {
      "text/plain": [
       "6-element Vector{Any}:\n",
       " 1\n",
       " 9\n",
       " 2.5\n",
       " 3.0\n",
       "  \"Bob\"\n",
       "  \"Maria\""
      ]
     },
     "execution_count": 20,
     "metadata": {},
     "output_type": "execute_result"
    }
   ],
   "source": [
    "array_variado = [1, 9, 2.5, 3.0, \"Bob\", \"Maria\"]"
   ]
  },
  {
   "cell_type": "code",
   "execution_count": 21,
   "id": "fbf7bec9",
   "metadata": {},
   "outputs": [
    {
     "data": {
      "text/plain": [
       "2-element Vector{Vector{String}}:\n",
       " [\"Frango\", \"Carne\", \"Peixe\"]\n",
       " [\"Bob\", \"Ted\", \"Jon\"]"
      ]
     },
     "execution_count": 21,
     "metadata": {},
     "output_type": "execute_result"
    }
   ],
   "source": [
    "matriz = [[\"Frango\", \"Carne\", \"Peixe\"], [\"Bob\", \"Ted\", \"Jon\"]]"
   ]
  },
  {
   "cell_type": "code",
   "execution_count": 22,
   "id": "f80ed8b4",
   "metadata": {},
   "outputs": [
    {
     "data": {
      "text/plain": [
       "3-element Vector{Vector{Int64}}:\n",
       " [1, 2, 3]\n",
       " [4, 5]\n",
       " [6, 7, 8, 9]"
      ]
     },
     "execution_count": 22,
     "metadata": {},
     "output_type": "execute_result"
    }
   ],
   "source": [
    "array = [[1, 2, 3], [4, 5], [6, 7, 8, 9]]"
   ]
  },
  {
   "cell_type": "code",
   "execution_count": 23,
   "id": "50740a97",
   "metadata": {},
   "outputs": [
    {
     "data": {
      "text/plain": [
       "4×3 Matrix{Float64}:\n",
       " 0.473018  0.542999  0.902239\n",
       " 0.592366  0.907139  0.130903\n",
       " 0.568817  0.89607   0.727417\n",
       " 0.907948  0.968248  0.753464"
      ]
     },
     "execution_count": 23,
     "metadata": {},
     "output_type": "execute_result"
    }
   ],
   "source": [
    "matriz_4x3 = rand(4, 3)"
   ]
  },
  {
   "cell_type": "code",
   "execution_count": 24,
   "id": "d745e0aa",
   "metadata": {},
   "outputs": [
    {
     "data": {
      "text/plain": [
       "4×3×2 Array{Float64, 3}:\n",
       "[:, :, 1] =\n",
       " 0.454255   0.386246  0.116472\n",
       " 0.292058   0.983108  0.705661\n",
       " 0.0225489  0.416306  0.152671\n",
       " 0.979967   0.898745  0.0195188\n",
       "\n",
       "[:, :, 2] =\n",
       " 0.396929  0.978938  0.162285\n",
       " 0.764099  0.825564  0.0905736\n",
       " 0.72474   0.488172  0.996858\n",
       " 0.281501  0.11762   0.369362"
      ]
     },
     "execution_count": 24,
     "metadata": {},
     "output_type": "execute_result"
    }
   ],
   "source": [
    "array_4x3x2 = rand(4, 3, 2)"
   ]
  },
  {
   "cell_type": "markdown",
   "id": "b59431fe",
   "metadata": {},
   "source": [
    "# Fim"
   ]
  }
 ],
 "metadata": {
  "kernelspec": {
   "display_name": "Julia 1.7.2",
   "language": "julia",
   "name": "julia-1.7"
  },
  "language_info": {
   "file_extension": ".jl",
   "mimetype": "application/julia",
   "name": "julia",
   "version": "1.7.2"
  }
 },
 "nbformat": 4,
 "nbformat_minor": 5
}
