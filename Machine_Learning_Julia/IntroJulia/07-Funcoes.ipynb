{
 "cells": [
  {
   "cell_type": "markdown",
   "id": "3efebc52",
   "metadata": {},
   "source": [
    "# <font color='blue'>Data Science Academy</font>\n",
    "# <font color='blue'>Curso Bônus - Data Science e Machine Learning com Linguagem Julia</font>\n",
    "\n",
    "## <font color='blue'>Introdução à Linguagem Julia</font>"
   ]
  },
  {
   "cell_type": "markdown",
   "id": "d320a481",
   "metadata": {},
   "source": [
    "![title](imagens/julia.png)"
   ]
  },
  {
   "cell_type": "markdown",
   "id": "5cac8440",
   "metadata": {},
   "source": [
    "> Funções"
   ]
  },
  {
   "cell_type": "code",
   "execution_count": 1,
   "id": "bd76260f",
   "metadata": {},
   "outputs": [
    {
     "data": {
      "text/plain": [
       "ImprimeTexto (generic function with 1 method)"
      ]
     },
     "execution_count": 1,
     "metadata": {},
     "output_type": "execute_result"
    }
   ],
   "source": [
    "function ImprimeTexto(nome)\n",
    "    println(\"Olá $nome, parabéns por estudar a Linguagem Julia!\")\n",
    "end"
   ]
  },
  {
   "cell_type": "code",
   "execution_count": 2,
   "id": "f4a8e62e",
   "metadata": {},
   "outputs": [
    {
     "name": "stdout",
     "output_type": "stream",
     "text": [
      "Olá Bob, parabéns por estudar a Linguagem Julia!\n"
     ]
    }
   ],
   "source": [
    "ImprimeTexto(\"Bob\")"
   ]
  },
  {
   "cell_type": "code",
   "execution_count": 3,
   "id": "b389bc93",
   "metadata": {},
   "outputs": [
    {
     "data": {
      "text/plain": [
       "potencia (generic function with 1 method)"
      ]
     },
     "execution_count": 3,
     "metadata": {},
     "output_type": "execute_result"
    }
   ],
   "source": [
    "function potencia(x)\n",
    "    x^2\n",
    "end"
   ]
  },
  {
   "cell_type": "code",
   "execution_count": 4,
   "id": "df185015",
   "metadata": {},
   "outputs": [
    {
     "data": {
      "text/plain": [
       "49"
      ]
     },
     "execution_count": 4,
     "metadata": {},
     "output_type": "execute_result"
    }
   ],
   "source": [
    "potencia(7)"
   ]
  },
  {
   "cell_type": "code",
   "execution_count": 5,
   "id": "61ab145b",
   "metadata": {},
   "outputs": [
    {
     "data": {
      "text/plain": [
       "ImprimeTexto2 (generic function with 1 method)"
      ]
     },
     "execution_count": 5,
     "metadata": {},
     "output_type": "execute_result"
    }
   ],
   "source": [
    "ImprimeTexto2(nome) = println(\"Olá $nome, parabéns por estudar a Linguagem Julia!\")"
   ]
  },
  {
   "cell_type": "code",
   "execution_count": 6,
   "id": "e9d4ea89",
   "metadata": {},
   "outputs": [
    {
     "name": "stdout",
     "output_type": "stream",
     "text": [
      "Olá Bob, parabéns por estudar a Linguagem Julia!\n"
     ]
    }
   ],
   "source": [
    "ImprimeTexto2(\"Bob\")"
   ]
  },
  {
   "cell_type": "code",
   "execution_count": 7,
   "id": "e380584d",
   "metadata": {},
   "outputs": [
    {
     "data": {
      "text/plain": [
       "#1 (generic function with 1 method)"
      ]
     },
     "execution_count": 7,
     "metadata": {},
     "output_type": "execute_result"
    }
   ],
   "source": [
    "ImprimeTexto3 = nome -> println(\"Olá $nome, parabéns por estudar a Linguagem Julia!\")"
   ]
  },
  {
   "cell_type": "code",
   "execution_count": 8,
   "id": "4a7b520f",
   "metadata": {},
   "outputs": [
    {
     "name": "stdout",
     "output_type": "stream",
     "text": [
      "Olá Bob, parabéns por estudar a Linguagem Julia!\n"
     ]
    }
   ],
   "source": [
    "ImprimeTexto3(\"Bob\")"
   ]
  },
  {
   "cell_type": "code",
   "execution_count": 9,
   "id": "cb0aa224",
   "metadata": {},
   "outputs": [
    {
     "data": {
      "text/plain": [
       "3-element Vector{Int64}:\n",
       " 4\n",
       " 6\n",
       " 3"
      ]
     },
     "execution_count": 9,
     "metadata": {},
     "output_type": "execute_result"
    }
   ],
   "source": [
    "vetor = [4, 6, 3]"
   ]
  },
  {
   "cell_type": "code",
   "execution_count": 10,
   "id": "20d99cb5",
   "metadata": {},
   "outputs": [
    {
     "data": {
      "text/plain": [
       "3-element Vector{Int64}:\n",
       " 3\n",
       " 4\n",
       " 6"
      ]
     },
     "execution_count": 10,
     "metadata": {},
     "output_type": "execute_result"
    }
   ],
   "source": [
    "sort(vetor)"
   ]
  },
  {
   "cell_type": "code",
   "execution_count": 11,
   "id": "45adf1c6",
   "metadata": {},
   "outputs": [
    {
     "data": {
      "text/plain": [
       "3-element Vector{Int64}:\n",
       " 4\n",
       " 6\n",
       " 3"
      ]
     },
     "execution_count": 11,
     "metadata": {},
     "output_type": "execute_result"
    }
   ],
   "source": [
    "vetor"
   ]
  },
  {
   "cell_type": "code",
   "execution_count": 12,
   "id": "85cf1597",
   "metadata": {},
   "outputs": [
    {
     "data": {
      "text/plain": [
       "3-element Vector{Int64}:\n",
       " 3\n",
       " 4\n",
       " 6"
      ]
     },
     "execution_count": 12,
     "metadata": {},
     "output_type": "execute_result"
    }
   ],
   "source": [
    "sort!(vetor)"
   ]
  },
  {
   "cell_type": "code",
   "execution_count": 13,
   "id": "cc9027f7",
   "metadata": {},
   "outputs": [
    {
     "data": {
      "text/plain": [
       "3-element Vector{Int64}:\n",
       " 3\n",
       " 4\n",
       " 6"
      ]
     },
     "execution_count": 13,
     "metadata": {},
     "output_type": "execute_result"
    }
   ],
   "source": [
    "vetor"
   ]
  },
  {
   "cell_type": "code",
   "execution_count": 14,
   "id": "492bd43a",
   "metadata": {},
   "outputs": [
    {
     "data": {
      "text/plain": [
       "3-element Vector{Int64}:\n",
       "  4\n",
       "  9\n",
       " 16"
      ]
     },
     "execution_count": 14,
     "metadata": {},
     "output_type": "execute_result"
    }
   ],
   "source": [
    "map(potencia, [2, 3, 4])"
   ]
  },
  {
   "cell_type": "code",
   "execution_count": 15,
   "id": "b46a0e4e",
   "metadata": {},
   "outputs": [
    {
     "data": {
      "text/plain": [
       "3-element Vector{Int64}:\n",
       "  8\n",
       " 27\n",
       " 64"
      ]
     },
     "execution_count": 15,
     "metadata": {},
     "output_type": "execute_result"
    }
   ],
   "source": [
    "map(x -> x^3, [2, 3, 4])"
   ]
  },
  {
   "cell_type": "code",
   "execution_count": 16,
   "id": "3504cd18",
   "metadata": {},
   "outputs": [
    {
     "data": {
      "text/plain": [
       "3×3 Matrix{Int64}:\n",
       " 1  2  3\n",
       " 4  5  6\n",
       " 7  8  9"
      ]
     },
     "execution_count": 16,
     "metadata": {},
     "output_type": "execute_result"
    }
   ],
   "source": [
    "matriz = [i + 3*j for j in 0:2, i in 1:3]"
   ]
  },
  {
   "cell_type": "code",
   "execution_count": 17,
   "id": "8931619a",
   "metadata": {},
   "outputs": [
    {
     "data": {
      "text/plain": [
       "3×3 Matrix{Int64}:\n",
       "  30   36   42\n",
       "  66   81   96\n",
       " 102  126  150"
      ]
     },
     "execution_count": 17,
     "metadata": {},
     "output_type": "execute_result"
    }
   ],
   "source": [
    "potencia(matriz)"
   ]
  },
  {
   "cell_type": "markdown",
   "id": "b59431fe",
   "metadata": {},
   "source": [
    "# Fim"
   ]
  }
 ],
 "metadata": {
  "kernelspec": {
   "display_name": "Julia 1.7.2",
   "language": "julia",
   "name": "julia-1.7"
  },
  "language_info": {
   "file_extension": ".jl",
   "mimetype": "application/julia",
   "name": "julia",
   "version": "1.7.2"
  }
 },
 "nbformat": 4,
 "nbformat_minor": 5
}
