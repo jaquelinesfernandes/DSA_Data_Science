{
 "cells": [
  {
   "cell_type": "code",
   "execution_count": 1,
   "id": "ad636809",
   "metadata": {},
   "outputs": [
    {
     "name": "stdout",
     "output_type": "stream",
     "text": [
      "Hello world\n"
     ]
    }
   ],
   "source": [
    "print(\"Hello world\")"
   ]
  },
  {
   "cell_type": "code",
   "execution_count": 2,
   "id": "f685c847",
   "metadata": {},
   "outputs": [
    {
     "data": {
      "text/plain": [
       "3"
      ]
     },
     "execution_count": 2,
     "metadata": {},
     "output_type": "execute_result"
    }
   ],
   "source": [
    "1+2"
   ]
  },
  {
   "cell_type": "code",
   "execution_count": 1,
   "id": "311d70a0",
   "metadata": {},
   "outputs": [
    {
     "name": "stdout",
     "output_type": "stream",
     "text": [
      "2 \n",
      "4 (divisível por 4) \n",
      "6 \n",
      "8 (divisível por 4) \n",
      "10 \n",
      "12 (divisível por 4) \n",
      "14 \n",
      "16 (divisível por 4) \n",
      "18 \n",
      "20 (divisível por 4) \n",
      "22 \n",
      "24 (divisível por 4) \n",
      "26 \n",
      "28 (divisível por 4) \n",
      "30 \n",
      "32 (divisível por 4) \n",
      "34 \n",
      "36 (divisível por 4) \n",
      "38 \n",
      "40 (divisível por 4) \n",
      "42 \n",
      "44 (divisível por 4) \n",
      "46 \n",
      "48 (divisível por 4) \n",
      "50 \n",
      "52 (divisível por 4) \n",
      "54 \n",
      "56 (divisível por 4) \n",
      "58 \n",
      "60 (divisível por 4) \n",
      "62 \n",
      "64 (divisível por 4) \n",
      "66 \n",
      "68 (divisível por 4) \n",
      "70 \n",
      "72 (divisível por 4) \n",
      "74 \n",
      "76 (divisível por 4) \n",
      "78 \n",
      "80 (divisível por 4) \n",
      "82 \n",
      "84 (divisível por 4) \n",
      "86 \n",
      "88 (divisível por 4) \n",
      "90 \n",
      "92 (divisível por 4) \n",
      "94 \n",
      "96 (divisível por 4) \n",
      "98 \n",
      "100 (divisível por 4) \n"
     ]
    }
   ],
   "source": [
    "# Criar uma lista de números de 1 a 100\n",
    "numeros = list(range(1, 101))\n",
    "\n",
    "# Iterar pela lista de números\n",
    "for numero in numeros:\n",
    "    # Verificar se o número é par\n",
    "    if numero % 2 == 0:\n",
    "        # Imprimir o número\n",
    "        print(numero, end=' ')\n",
    "        \n",
    "        # Verificar se o número é divisível por 4 e comentar\n",
    "        if numero % 4 == 0:\n",
    "            print(\"(divisível por 4)\", end=' ')\n",
    "        \n",
    "        # Imprimir uma quebra de linha após cada par ou número divisível por 4\n",
    "        print()\n"
   ]
  },
  {
   "cell_type": "code",
   "execution_count": 1,
   "id": "c50c97a9-a67a-4e76-9607-423b53678582",
   "metadata": {
    "tags": []
   },
   "outputs": [
    {
     "name": "stdout",
     "output_type": "stream",
     "text": [
      "2\n",
      "4\n",
      "6\n",
      "8\n",
      "10\n",
      "12\n",
      "14\n",
      "16\n",
      "18\n",
      "20\n",
      "22\n",
      "24\n",
      "26\n",
      "28\n",
      "30\n",
      "32\n",
      "34\n",
      "36\n",
      "38\n",
      "40\n",
      "42\n",
      "44\n",
      "46\n",
      "48\n",
      "50\n",
      "52\n",
      "54\n",
      "56\n",
      "58\n",
      "60\n",
      "62\n",
      "64\n",
      "66\n",
      "68\n",
      "70\n",
      "72\n",
      "74\n",
      "76\n",
      "78\n",
      "80\n",
      "82\n",
      "84\n",
      "86\n",
      "88\n",
      "90\n",
      "92\n",
      "94\n",
      "96\n",
      "98\n",
      "100\n"
     ]
    }
   ],
   "source": [
    "# Criar uma lista de números de 1 a 100\n",
    "numeros = list(range(1, 101))\n",
    "\n",
    "# Usar list comprehension para criar uma lista de números pares\n",
    "numeros_pares = [numero if numero % 2 == 0 else f\"{numero} (divisível por 4)\" if numero % 4 == 0 else None for numero in numeros]\n",
    "\n",
    "# Filtrar a lista para remover os elementos None (ímpares)\n",
    "numeros_pares = [numero for numero in numeros_pares if numero is not None]\n",
    "\n",
    "# Imprimir a lista de números pares\n",
    "for numero in numeros_pares:\n",
    "    print(numero)\n"
   ]
  },
  {
   "cell_type": "code",
   "execution_count": null,
   "id": "1c8ac09e-c2bc-4d4c-92a4-be22ecf40df3",
   "metadata": {},
   "outputs": [],
   "source": []
  }
 ],
 "metadata": {
  "kernelspec": {
   "display_name": "Python 3 (ipykernel)",
   "language": "python",
   "name": "python3"
  },
  "language_info": {
   "codemirror_mode": {
    "name": "ipython",
    "version": 3
   },
   "file_extension": ".py",
   "mimetype": "text/x-python",
   "name": "python",
   "nbconvert_exporter": "python",
   "pygments_lexer": "ipython3",
   "version": "3.11.4"
  }
 },
 "nbformat": 4,
 "nbformat_minor": 5
}
