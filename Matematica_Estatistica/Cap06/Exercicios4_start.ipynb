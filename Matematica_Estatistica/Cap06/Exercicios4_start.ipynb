{
 "cells": [
  {
   "cell_type": "markdown",
   "metadata": {},
   "source": [
    "### Exercicios\n"
   ]
  },
  {
   "cell_type": "markdown",
   "metadata": {},
   "source": [
    "#### 1. Produto Escalar\n",
    "Descrição: Descrição: Dados dois vetores que representam preferências de usuários em três categorias diferentes user1 = [4, 3, 2] e user2 = [1, 5, 4], calcule a similaridade entre esses usuários usando o produto escalar. "
   ]
  },
  {
   "cell_type": "code",
   "execution_count": 5,
   "metadata": {},
   "outputs": [],
   "source": [
    "import numpy as np\n",
    "import scipy\n",
    "import matplotlib.pyplot as plt\n",
    "from pandas_datareader import wb\n",
    "plt.rcParams.update({'font.size':14})"
   ]
  },
  {
   "cell_type": "code",
   "execution_count": 2,
   "metadata": {},
   "outputs": [
    {
     "name": "stdout",
     "output_type": "stream",
     "text": [
      "27\n"
     ]
    }
   ],
   "source": [
    "user1 = np.array([4, 3, 2])\n",
    "user2 = np.array([1, 5, 4])\n",
    "\n",
    "similaridade = np.dot(user1, user2)\n",
    "print(similaridade)"
   ]
  },
  {
   "cell_type": "code",
   "execution_count": 4,
   "metadata": {},
   "outputs": [],
   "source": [
    "import matplotlib as plt"
   ]
  },
  {
   "cell_type": "code",
   "execution_count": 7,
   "metadata": {},
   "outputs": [
    {
     "data": {
      "image/png": "[encoded data removed]",
      "text/plain": [
       "<Figure size 640x480 with 1 Axes>"
      ]
     },
     "metadata": {},
     "output_type": "display_data"
    }
   ],
   "source": [
    "x = np.array([4, 3, 2])\n",
    "y = np.array([1, 5, 4])\n",
    "\n",
    "xy_sum = x + y\n",
    "\n",
    "plt.figure()\n",
    "\n",
    "plt.quiver(0, 0, x[0], x[1], color = 'r', scale = 1, scale_units = 'xy', angles = 'xy', label = 'u')\n",
    "plt.quiver(0, 0, y[0], y[1], color = 'b', scale = 1, scale_units = 'xy', angles = 'xy', label = 'v')\n",
    "plt.quiver(0, 0, xy_sum[0], xy_sum[1], color = 'orange', scale = 1, scale_units = 'xy', angles = 'xy', label = 'x+y')\n",
    "\n",
    "# Definindo limites do gráfico\n",
    "plt.xlim(-10, 20)\n",
    "plt.ylim(-10, 20)\n",
    "\n",
    "# Adicionando grade\n",
    "plt.grid()\n",
    "\n",
    "# Adicionando legenda\n",
    "plt.legend()\n",
    "\n",
    "# Mostrando o gráfico\n",
    "plt.savefig('imagens/grafico_07.png', dpi = 300) \n",
    "plt.show()"
   ]
  },
  {
   "cell_type": "markdown",
   "metadata": {},
   "source": [
    "#### 2. Multiplicação Escalar\n",
    "Descrição: Dada uma série de preços de ações prices = [120, 125, 130, 128, 135], ajuste os preços em 15% e calcule o novo preço das ações."
   ]
  },
  {
   "cell_type": "code",
   "execution_count": 8,
   "metadata": {},
   "outputs": [
    {
     "name": "stdout",
     "output_type": "stream",
     "text": [
      "[138.   143.75 149.5  147.2  155.25]\n"
     ]
    }
   ],
   "source": [
    "prices = np.array([120, 125, 130, 128, 135])\n",
    "\n",
    "fator = 1.15\n",
    "\n",
    "prices_ajust = prices * fator\n",
    "\n",
    "print(prices_ajust)"
   ]
  },
  {
   "cell_type": "code",
   "execution_count": 12,
   "metadata": {},
   "outputs": [
    {
     "data": {
      "text/plain": [
       "(5,)"
      ]
     },
     "execution_count": 12,
     "metadata": {},
     "output_type": "execute_result"
    }
   ],
   "source": [
    "prices_ajust.shape"
   ]
  },
  {
   "cell_type": "markdown",
   "metadata": {},
   "source": [
    "#### 3. Otimização Escalar\n",
    "Descrição: Encontre o vetor unitário que maximiza o produto escalar com o vetor v = [3, 4, 5]. Use técnicas de otimização para encontrar a solução."
   ]
  },
  {
   "cell_type": "code",
   "execution_count": 9,
   "metadata": {},
   "outputs": [
    {
     "name": "stdout",
     "output_type": "stream",
     "text": [
      "[0.42427197 0.56568183 0.70710492]\n"
     ]
    }
   ],
   "source": [
    "from scipy.optimize import minimize\n",
    "\n",
    "v = np.array([3, 4, 5])\n",
    "\n",
    "def func_obj(x):\n",
    "    return -np.dot(v,x)\n",
    "\n",
    "constraint = {'type': 'eq', 'fun': lambda x: np.linalg.norm(x) -1}\n",
    "\n",
    "result = minimize(func_obj, np.ones(3), constraints= constraint)\n",
    "vetor_otimizado = result.x\n",
    "\n",
    "print(vetor_otimizado)"
   ]
  },
  {
   "cell_type": "code",
   "execution_count": 10,
   "metadata": {},
   "outputs": [
    {
     "data": {
      "text/plain": [
       "7.0710678347924105"
      ]
     },
     "execution_count": 10,
     "metadata": {},
     "output_type": "execute_result"
    }
   ],
   "source": [
    "produto_escalar = np.dot(v, vetor_otimizado)\n",
    "produto_escalar"
   ]
  },
  {
   "cell_type": "markdown",
   "metadata": {},
   "source": [
    "#### 4. Produto Vetorial e Direção Normal\n",
    "Descrição: Dados três pontos no espaço 3D A = [1, 2, 3], B = [4, 5, 6], e C = [7, 8, 9], encontre um vetor normal ao plano definido por esses três pontos."
   ]
  },
  {
   "cell_type": "code",
   "execution_count": 11,
   "metadata": {},
   "outputs": [
    {
     "name": "stdout",
     "output_type": "stream",
     "text": [
      "[0 0 0]\n"
     ]
    }
   ],
   "source": [
    "A = np.array([1, 2, 3])\n",
    "B = np.array([4, 5, 6])\n",
    "C = np.array([7, 8, 9])\n",
    "\n",
    "AB = B - A\n",
    "AC = C - A\n",
    "\n",
    "vetor_normal = np.cross(AB, AC)\n",
    "print(vetor_normal)"
   ]
  },
  {
   "cell_type": "markdown",
   "metadata": {},
   "source": [
    "#### 5. Produto Vetorial em Analise de Dados\n",
    "Descrição: Em um conjunto de dados 3D com pontos p1 = [1, 2, 3], p2 = [4, 5, 6], e p3 = [7, 8, 9], encontre o vetor normal ao plano formado por esses três pontos e interprete seu significado em termos de orientação do plano."
   ]
  },
  {
   "cell_type": "code",
   "execution_count": null,
   "metadata": {},
   "outputs": [],
   "source": []
  }
 ],
 "metadata": {
  "kernelspec": {
   "display_name": "base",
   "language": "python",
   "name": "python3"
  },
  "language_info": {
   "codemirror_mode": {
    "name": "ipython",
    "version": 3
   },
   "file_extension": ".py",
   "mimetype": "text/x-python",
   "name": "python",
   "nbconvert_exporter": "python",
   "pygments_lexer": "ipython3",
   "version": "3.11.4"
  }
 },
 "nbformat": 4,
 "nbformat_minor": 2
}
