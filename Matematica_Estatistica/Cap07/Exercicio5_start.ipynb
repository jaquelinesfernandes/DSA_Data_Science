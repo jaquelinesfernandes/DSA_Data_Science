{
 "cells": [
  {
   "cell_type": "markdown",
   "metadata": {},
   "source": [
    "### Exercicio 5"
   ]
  },
  {
   "cell_type": "code",
   "execution_count": 1,
   "metadata": {},
   "outputs": [
    {
     "name": "stdout",
     "output_type": "stream",
     "text": [
      "Note: you may need to restart the kernel to use updated packages.\n"
     ]
    }
   ],
   "source": [
    "%pip install -q pandas_datareader"
   ]
  },
  {
   "cell_type": "code",
   "execution_count": 2,
   "metadata": {},
   "outputs": [],
   "source": [
    "# Imports\n",
    "import numpy as np\n",
    "import pandas as pd\n",
    "import matplotlib.pyplot as plt\n",
    "from pandas_datareader import wb\n",
    "plt.rcParams.update({'font.size':14}) "
   ]
  },
  {
   "cell_type": "markdown",
   "metadata": {},
   "source": [
    "#### Exercicio 1\n",
    "Cálculo da Distância Euclidiana"
   ]
  },
  {
   "cell_type": "code",
   "execution_count": 3,
   "metadata": {},
   "outputs": [],
   "source": [
    "# Define 2 vetores\n",
    "A = np.array([ 5, 2, 3 ])\n",
    "B = np.array([ 3, 2, 4 ])"
   ]
  },
  {
   "cell_type": "code",
   "execution_count": 4,
   "metadata": {},
   "outputs": [],
   "source": [
    "def distancia_euclidiana (v1, v2):\n",
    "    return np.linalg.norm(v1 - v2)"
   ]
  },
  {
   "cell_type": "code",
   "execution_count": 5,
   "metadata": {},
   "outputs": [
    {
     "name": "stdout",
     "output_type": "stream",
     "text": [
      "2.23606797749979\n"
     ]
    }
   ],
   "source": [
    "calculo = distancia_euclidiana(A, B)\n",
    "print(calculo)"
   ]
  },
  {
   "cell_type": "markdown",
   "metadata": {},
   "source": [
    "#### Exercicio 2\n",
    "Distância Euclidiana com Validação de Dados"
   ]
  },
  {
   "cell_type": "code",
   "execution_count": 6,
   "metadata": {},
   "outputs": [],
   "source": [
    "def distancia_euclidiana_com_validacao (v1, v2):\n",
    "    if len(v1) != len(v2):\n",
    "        raise ValueError(\"Os vetores devem ter a mesma dimensão para calcular a distância.\")\n",
    "\n",
    "    resultado = np.linalg.norm(v1 - v2)\n",
    "\n",
    "    return resultado"
   ]
  },
  {
   "cell_type": "code",
   "execution_count": 9,
   "metadata": {},
   "outputs": [],
   "source": [
    "# Define 2 vetores\n",
    "A = np.array([ 5, 2, 3 ])\n",
    "B = np.array([ 3, 2, 4 ])"
   ]
  },
  {
   "cell_type": "code",
   "execution_count": 10,
   "metadata": {},
   "outputs": [
    {
     "name": "stdout",
     "output_type": "stream",
     "text": [
      "Erro: Os vetores devem ter a mesma dimensão para calcular a distância.\n"
     ]
    }
   ],
   "source": [
    "try: \n",
    "    distancia = distancia_euclidiana_com_validacao(A, B)\n",
    "    print(f\"A distância é: {distancia}\")\n",
    "    \n",
    "except ValueError as e:\n",
    "    print (f\"Erro: {e}\")"
   ]
  },
  {
   "cell_type": "markdown",
   "metadata": {},
   "source": [
    "#### Exercicio 3\n",
    "Distância Euclidiana em N-Dimensões"
   ]
  },
  {
   "cell_type": "code",
   "execution_count": 14,
   "metadata": {},
   "outputs": [],
   "source": [
    "def distancia_euclidiana_n_dimensioes( v1, v2):\n",
    "    if len(v1) != len(v2):\n",
    "        raise ValueError(\"Os vetores devem ter a mesma dimensão para calcular a distância.\")\n",
    "\n",
    "    result_diferences = sum((a - b) ** 2 for a, b in zip(v1, v2))\n",
    "    ## np.linalg.norm(v1 - v2)\n",
    "\n",
    "    return result_diferences ** 0.5"
   ]
  },
  {
   "cell_type": "code",
   "execution_count": 15,
   "metadata": {},
   "outputs": [
    {
     "name": "stdout",
     "output_type": "stream",
     "text": [
      "8.0\n"
     ]
    }
   ],
   "source": [
    "vetor_a = [1, 2, 3, 4]\n",
    "vetor_b = [5, 6, 7, 8]\n",
    "\n",
    "distancia = distancia_euclidiana_n_dimensioes(vetor_a, vetor_b)\n",
    "print(distancia)"
   ]
  },
  {
   "cell_type": "code",
   "execution_count": 16,
   "metadata": {},
   "outputs": [
    {
     "name": "stdout",
     "output_type": "stream",
     "text": [
      "200.18922207251816\n"
     ]
    }
   ],
   "source": [
    "vetor_a = [0.1, 200, 3/2, 4.9, 10]\n",
    "vetor_b = [1.2, 1/8, 0.78, 0.003, 20]\n",
    "\n",
    "distancia = distancia_euclidiana_n_dimensioes(vetor_a, vetor_b)\n",
    "print(distancia)"
   ]
  },
  {
   "cell_type": "markdown",
   "metadata": {},
   "source": [
    "#### Exercicio 4\n",
    "Comparando Distâncias"
   ]
  },
  {
   "cell_type": "code",
   "execution_count": 40,
   "metadata": {},
   "outputs": [],
   "source": [
    "def distancia_euclidiana_x( v1, v2):\n",
    "\n",
    "    result_diferences = sum((a - b) ** 2 for a, b in zip(v1, v2))\n",
    "    ## np.linalg.norm(v1 - v2)\n",
    "\n",
    "    return result_diferences ** 0.5"
   ]
  },
  {
   "cell_type": "code",
   "execution_count": 41,
   "metadata": {},
   "outputs": [],
   "source": [
    "def comparar_distancias(vetor1, vetor2, vetor3):\n",
    "    distancia1 = distancia_euclidiana_x(vetor1, vetor2)\n",
    "    distancia2 = distancia_euclidiana_x(vetor1, vetor3)\n",
    "    \n",
    "    if distancia1 < distancia2:\n",
    "        return \"O segundo vetor está mais próximo do primeiro\"\n",
    "    elif distancia2 < distancia1:\n",
    "        return \"O terceiro vetor está mais próximo do primeiro\"\n",
    "    else:\n",
    "        return \"Os dois vetores estão á mesma distância do primeiro\""
   ]
  },
  {
   "cell_type": "code",
   "execution_count": 42,
   "metadata": {},
   "outputs": [],
   "source": [
    "vetor_a = [1, 2, 3]\n",
    "vetor_b = [5.0, 0.7, 1/6]\n",
    "vetor_c = [1.4, 0.33, 2.2]"
   ]
  },
  {
   "cell_type": "code",
   "execution_count": 43,
   "metadata": {},
   "outputs": [
    {
     "name": "stdout",
     "output_type": "stream",
     "text": [
      "O terceiro vetor está mais próximo do primeiro\n"
     ]
    }
   ],
   "source": [
    "calculo = comparar_distancias(vetor_a, vetor_b, vetor_c)\n",
    "print(calculo)"
   ]
  },
  {
   "cell_type": "markdown",
   "metadata": {},
   "source": [
    "#### Exercicio 5\n",
    "Aplicação em Data Science"
   ]
  },
  {
   "cell_type": "code",
   "execution_count": 44,
   "metadata": {},
   "outputs": [],
   "source": [
    "def calcular_distancias_mtxv(matriz, vetor_referencia):\n",
    "    \n",
    "    distancias = []\n",
    "    \n",
    "    for vetor in matriz:\n",
    "        distancia = distancia_euclidiana_x(vetor, vetor_referencia)\n",
    "        distancias.append(distancia)\n",
    "    \n",
    "    return distancias"
   ]
  },
  {
   "cell_type": "code",
   "execution_count": 45,
   "metadata": {},
   "outputs": [],
   "source": [
    "matriz_dados = [\n",
    "    [1, 2, 3],\n",
    "    [4, 5, 6],\n",
    "    [7, 8, 9]\n",
    "]"
   ]
  },
  {
   "cell_type": "code",
   "execution_count": 46,
   "metadata": {},
   "outputs": [],
   "source": [
    "vetor_ref = [2.1, 3.4, 0.78]"
   ]
  },
  {
   "cell_type": "code",
   "execution_count": 47,
   "metadata": {},
   "outputs": [
    {
     "name": "stdout",
     "output_type": "stream",
     "text": [
      "[2.845768788921545, 5.780864987179687, 10.617834054080898]\n"
     ]
    }
   ],
   "source": [
    "distancias = calcular_distancias_mtxv(matriz_dados, vetor_ref)\n",
    "print(distancias)"
   ]
  },
  {
   "cell_type": "code",
   "execution_count": 48,
   "metadata": {},
   "outputs": [],
   "source": [
    "%reload_ext watermark"
   ]
  }
 ],
 "metadata": {
  "kernelspec": {
   "display_name": "base",
   "language": "python",
   "name": "python3"
  },
  "language_info": {
   "codemirror_mode": {
    "name": "ipython",
    "version": 3
   },
   "file_extension": ".py",
   "mimetype": "text/x-python",
   "name": "python",
   "nbconvert_exporter": "python",
   "pygments_lexer": "ipython3",
   "version": "3.11.4"
  }
 },
 "nbformat": 4,
 "nbformat_minor": 2
}
