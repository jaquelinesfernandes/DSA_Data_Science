{
 "cells": [
  {
   "cell_type": "markdown",
   "metadata": {},
   "source": [
    "## Lista de exercicios"
   ]
  },
  {
   "cell_type": "code",
   "execution_count": 1,
   "metadata": {},
   "outputs": [],
   "source": [
    "# Imports\n",
    "import numpy as np"
   ]
  },
  {
   "cell_type": "code",
   "execution_count": 2,
   "metadata": {},
   "outputs": [],
   "source": [
    "# Matrizes\n",
    "matriz1 = [[1, 2, 3], [0, 1, 4], [5, 6, 0]]\n",
    "matriz2 = [[5, 2, 8], [3, 1, 2], [7, 0, 2]]"
   ]
  },
  {
   "cell_type": "code",
   "execution_count": 3,
   "metadata": {},
   "outputs": [
    {
     "name": "stdout",
     "output_type": "stream",
     "text": [
      "[[1, 2, 3], [0, 1, 4], [5, 6, 0]]\n",
      "[[5, 2, 8], [3, 1, 2], [7, 0, 2]]\n"
     ]
    }
   ],
   "source": [
    "print(matriz1)\n",
    "print(matriz2)"
   ]
  },
  {
   "cell_type": "markdown",
   "metadata": {},
   "source": [
    "#### Ex. 1 Soma de Matrizes\n",
    "Soma de matrizes com o mesmo tamanho. Lidas como listas, com e sem pacote Numpy"
   ]
  },
  {
   "cell_type": "code",
   "execution_count": 4,
   "metadata": {},
   "outputs": [
    {
     "name": "stdout",
     "output_type": "stream",
     "text": [
      "[[1, 2, 3], [0, 1, 4], [5, 6, 0], [5, 2, 8], [3, 1, 2], [7, 0, 2]]\n"
     ]
    }
   ],
   "source": [
    "somamatrizes = matriz1 + matriz2\n",
    "print(somamatrizes)\n"
   ]
  },
  {
   "cell_type": "code",
   "execution_count": 5,
   "metadata": {},
   "outputs": [
    {
     "name": "stdout",
     "output_type": "stream",
     "text": [
      "[[ 6  4 11]\n",
      " [ 3  2  6]\n",
      " [12  6  2]]\n"
     ]
    }
   ],
   "source": [
    "somamtz = np.array(matriz1) + np.array(matriz2)\n",
    "print(somamtz)"
   ]
  },
  {
   "cell_type": "code",
   "execution_count": 6,
   "metadata": {},
   "outputs": [],
   "source": [
    "def somamtz_np (m1, m2):\n",
    "    return np.array(m1) + np.array(m2)"
   ]
  },
  {
   "cell_type": "code",
   "execution_count": 7,
   "metadata": {},
   "outputs": [
    {
     "data": {
      "text/plain": [
       "array([[ 6,  4, 11],\n",
       "       [ 3,  2,  6],\n",
       "       [12,  6,  2]])"
      ]
     },
     "execution_count": 7,
     "metadata": {},
     "output_type": "execute_result"
    }
   ],
   "source": [
    "somamtz_np(matriz1, matriz2)"
   ]
  },
  {
   "cell_type": "markdown",
   "metadata": {},
   "source": [
    "#### Ex.2 Multiplicação de Matrizes\n",
    "Multiplica duas matrizes. Verifica se as dimensões são compatíveis, e retorna a matriz resultante."
   ]
  },
  {
   "cell_type": "code",
   "execution_count": 9,
   "metadata": {},
   "outputs": [
    {
     "name": "stdout",
     "output_type": "stream",
     "text": [
      "[[32  4 18]\n",
      " [31  1 10]\n",
      " [43 16 52]]\n"
     ]
    }
   ],
   "source": [
    "prod_mtz = np.matmul(matriz1, matriz2)\n",
    "print(prod_mtz)"
   ]
  },
  {
   "cell_type": "code",
   "execution_count": 10,
   "metadata": {},
   "outputs": [
    {
     "name": "stdout",
     "output_type": "stream",
     "text": [
      "[[32  4 18]\n",
      " [31  1 10]\n",
      " [43 16 52]]\n"
     ]
    }
   ],
   "source": [
    "dot_mtz = np.dot(matriz1, matriz2)\n",
    "print(dot_mtz)"
   ]
  },
  {
   "cell_type": "code",
   "execution_count": 13,
   "metadata": {},
   "outputs": [
    {
     "name": "stdout",
     "output_type": "stream",
     "text": [
      "[[ 10   7  -8]\n",
      " [ -2  12  -3]\n",
      " [ 12 -10 -42]]\n"
     ]
    }
   ],
   "source": [
    "cross_mtz = np.cross(matriz1, matriz2)\n",
    "print(cross_mtz)"
   ]
  },
  {
   "cell_type": "markdown",
   "metadata": {},
   "source": [
    "#### Ex. 3 Transposição de Matriz\n",
    "Calcula a transposta de uma matriz. Uma matriz inserida pelo usuário, e o resultado da transposta é exibido."
   ]
  },
  {
   "cell_type": "code",
   "execution_count": 16,
   "metadata": {},
   "outputs": [
    {
     "name": "stdout",
     "output_type": "stream",
     "text": [
      "[[1 0 5]\n",
      " [2 1 6]\n",
      " [3 4 0]]\n"
     ]
    }
   ],
   "source": [
    "tp_mtz = np.transpose(matriz1)\n",
    "print(tp_mtz)"
   ]
  },
  {
   "cell_type": "code",
   "execution_count": 19,
   "metadata": {},
   "outputs": [],
   "source": [
    "def transposta_matriz(matriz):\n",
    "    return np.transpose(matriz)"
   ]
  },
  {
   "cell_type": "code",
   "execution_count": 17,
   "metadata": {},
   "outputs": [],
   "source": [
    "x = matriz1\n",
    "y = matriz2"
   ]
  },
  {
   "cell_type": "code",
   "execution_count": 20,
   "metadata": {},
   "outputs": [
    {
     "data": {
      "text/plain": [
       "array([[1, 0, 5],\n",
       "       [2, 1, 6],\n",
       "       [3, 4, 0]])"
      ]
     },
     "execution_count": 20,
     "metadata": {},
     "output_type": "execute_result"
    }
   ],
   "source": [
    "transposta_matriz(x)"
   ]
  },
  {
   "cell_type": "code",
   "execution_count": 21,
   "metadata": {},
   "outputs": [
    {
     "data": {
      "text/plain": [
       "array([[5, 3, 7],\n",
       "       [2, 1, 0],\n",
       "       [8, 2, 2]])"
      ]
     },
     "execution_count": 21,
     "metadata": {},
     "output_type": "execute_result"
    }
   ],
   "source": [
    "transposta_matriz(y)"
   ]
  },
  {
   "cell_type": "markdown",
   "metadata": {},
   "source": [
    "#### Ex. 4 Traço de uma Matriz\n",
    "Soma dos elementos da diagonal principal. Matrizes quadradas de qualquer tamanho."
   ]
  },
  {
   "cell_type": "code",
   "execution_count": 22,
   "metadata": {},
   "outputs": [],
   "source": [
    "def traco_matriz(matriz):\n",
    "    return np.trace(matriz)"
   ]
  },
  {
   "cell_type": "code",
   "execution_count": 25,
   "metadata": {},
   "outputs": [
    {
     "data": {
      "text/plain": [
       "2"
      ]
     },
     "execution_count": 25,
     "metadata": {},
     "output_type": "execute_result"
    }
   ],
   "source": [
    "traco_matriz(matriz1)"
   ]
  },
  {
   "cell_type": "code",
   "execution_count": 24,
   "metadata": {},
   "outputs": [
    {
     "data": {
      "text/plain": [
       "8"
      ]
     },
     "execution_count": 24,
     "metadata": {},
     "output_type": "execute_result"
    }
   ],
   "source": [
    "traco_matriz(matriz2)"
   ]
  },
  {
   "cell_type": "markdown",
   "metadata": {},
   "source": [
    "#### Ex. Determinante de uma Matriz\n",
    "Calculo determinantes de uma matriz quadrada. Recursividade ou método laplace."
   ]
  },
  {
   "cell_type": "code",
   "execution_count": 26,
   "metadata": {},
   "outputs": [],
   "source": [
    "def determinante_matriz(matriz):\n",
    "    return np.linalg.det(matriz)"
   ]
  },
  {
   "cell_type": "code",
   "execution_count": 27,
   "metadata": {},
   "outputs": [
    {
     "data": {
      "text/plain": [
       "0.9999999999999987"
      ]
     },
     "execution_count": 27,
     "metadata": {},
     "output_type": "execute_result"
    }
   ],
   "source": [
    "determinante_matriz(matriz1)"
   ]
  }
 ],
 "metadata": {
  "kernelspec": {
   "display_name": "base",
   "language": "python",
   "name": "python3"
  },
  "language_info": {
   "codemirror_mode": {
    "name": "ipython",
    "version": 3
   },
   "file_extension": ".py",
   "mimetype": "text/x-python",
   "name": "python",
   "nbconvert_exporter": "python",
   "pygments_lexer": "ipython3",
   "version": "3.11.4"
  }
 },
 "nbformat": 4,
 "nbformat_minor": 2
}
