{
 "cells": [
  {
   "cell_type": "markdown",
   "metadata": {},
   "source": [
    "<!-- Projeto Desenvolvido na Data Science Academy - www.datascienceacademy.com.br -->\n",
    "# <font color='blue'>Data Science Academy</font>\n",
    "## <font color='blue'>Matemática e Estatística Aplicada Para Data Science, Machine Learning e IA</font>\n",
    "## <font color='blue'>Lista de Exercícios 8</font>\n",
    "### <font color='blue'>Distribuições de Probabilidade Para Resolver Problemas de Negócio</font>"
   ]
  },
  {
   "cell_type": "markdown",
   "metadata": {},
   "source": [
    "## Instalando e Carregando os Pacotes"
   ]
  },
  {
   "cell_type": "code",
   "execution_count": 1,
   "metadata": {},
   "outputs": [],
   "source": [
    "# Para atualizar um pacote, execute o comando abaixo no terminal ou prompt de comando:\n",
    "# pip install -U nome_pacote\n",
    "\n",
    "# Para instalar a versão exata de um pacote, execute o comando abaixo no terminal ou prompt de comando:\n",
    "# !pip install nome_pacote==versão_desejada\n",
    "\n",
    "# Depois de instalar ou atualizar o pacote, reinicie o jupyter notebook.\n",
    "\n",
    "# Instala o pacote watermark. \n",
    "# Esse pacote é usado para gravar as versões de outros pacotes usados neste jupyter notebook.\n",
    "!pip install -q -U watermark"
   ]
  },
  {
   "cell_type": "code",
   "execution_count": 2,
   "metadata": {},
   "outputs": [
    {
     "name": "stdout",
     "output_type": "stream",
     "text": [
      "Author: Data Science Academy\n",
      "\n"
     ]
    }
   ],
   "source": [
    "# Versões dos pacotes usados neste jupyter notebook\n",
    "%reload_ext watermark\n",
    "%watermark -a \"Data Science Academy\" "
   ]
  },
  {
   "cell_type": "code",
   "execution_count": 3,
   "metadata": {},
   "outputs": [],
   "source": [
    "# Imports\n",
    "import scipy\n",
    "import numpy as np\n",
    "import matplotlib.pyplot as plt\n",
    "from scipy.stats import binom\n",
    "from scipy.stats import poisson\n",
    "from scipy.stats import geom\n",
    "from scipy.stats import nbinom\n",
    "from scipy.stats import hypergeom"
   ]
  },
  {
   "cell_type": "markdown",
   "metadata": {},
   "source": [
    "## Exercício 1\n",
    "\n",
    "Vamos imaginar um cenário de negócios onde uma empresa de consultoria realiza análises de mercado para cinco diferentes setores: tecnologia, saúde, finanças, energia e varejo. A empresa tem um modelo de negócios no qual, a cada mês, escolhe aleatoriamente um desses setores para oferecer uma análise de mercado gratuita como parte de sua estratégia de marketing para atrair novos clientes. Suponha que a escolha do setor seja feita de forma que cada um tenha igual probabilidade de ser selecionado. \n",
    "\n",
    "Calcule a probabilidade de cada setor ser escolhido ao longo de um ano."
   ]
  },
  {
   "cell_type": "code",
   "execution_count": 10,
   "metadata": {},
   "outputs": [
    {
     "ename": "AttributeError",
     "evalue": "module 'numpy.random' has no attribute 'ranstring'",
     "output_type": "error",
     "traceback": [
      "\u001b[1;31m---------------------------------------------------------------------------\u001b[0m",
      "\u001b[1;31mAttributeError\u001b[0m                            Traceback (most recent call last)",
      "Cell \u001b[1;32mIn[10], line 6\u001b[0m\n\u001b[0;32m      3\u001b[0m setores \u001b[38;5;241m=\u001b[39m [\u001b[38;5;124m\"\u001b[39m\u001b[38;5;124mtecnologia\u001b[39m\u001b[38;5;124m\"\u001b[39m, \u001b[38;5;124m\"\u001b[39m\u001b[38;5;124msaude\u001b[39m\u001b[38;5;124m\"\u001b[39m, \u001b[38;5;124m\"\u001b[39m\u001b[38;5;124mfinancas\u001b[39m\u001b[38;5;124m\"\u001b[39m, \u001b[38;5;124m\"\u001b[39m\u001b[38;5;124menergia\u001b[39m\u001b[38;5;124m\"\u001b[39m, \u001b[38;5;124m\"\u001b[39m\u001b[38;5;124mvarejo\u001b[39m\u001b[38;5;124m\"\u001b[39m]\n\u001b[0;32m      5\u001b[0m \u001b[38;5;66;03m# Gera n_lancamentos de números aleatórios entre 1 e 6\u001b[39;00m\n\u001b[1;32m----> 6\u001b[0m lancamentos \u001b[38;5;241m=\u001b[39m np\u001b[38;5;241m.\u001b[39mrandom\u001b[38;5;241m.\u001b[39mranstring(\u001b[38;5;241m1\u001b[39m, \u001b[38;5;241m6\u001b[39m, size \u001b[38;5;241m=\u001b[39m n_lancamentos)\n\u001b[0;32m      8\u001b[0m \u001b[38;5;66;03m# Calcula e imprime a frequência de cada resultado\u001b[39;00m\n\u001b[0;32m      9\u001b[0m \u001b[38;5;28;01mfor\u001b[39;00m i \u001b[38;5;129;01min\u001b[39;00m \u001b[38;5;28mrange\u001b[39m(\u001b[38;5;241m1\u001b[39m, \u001b[38;5;241m13\u001b[39m):\n",
      "\u001b[1;31mAttributeError\u001b[0m: module 'numpy.random' has no attribute 'ranstring'"
     ]
    }
   ],
   "source": [
    "n_lancamentos = 12\n",
    "\n",
    "setores = [\"tecnologia\", \"saude\", \"financas\", \"energia\", \"varejo\"]\n",
    "\n",
    "# Gera n_lancamentos de números aleatórios entre 1 e 6\n",
    "lancamentos = np.random.x = \"\" # import string\n",
    "length = 5 # import random\n",
    "for i in range(length):\n",
    "    x = x + random.choice(string.ascii_letters)\n",
    "# end for\n",
    "print(x)(1, 6, size = n_lancamentos)\n",
    "\n",
    "# Calcula e imprime a frequência de cada resultado\n",
    "for i in range(1, 13):\n",
    "    frequencia = np.sum(lancamentos == i)\n",
    "    print(f\"Face {i}: {frequencia} vezes ({frequencia / n_lancamentos * 100:.2f}%)\")"
   ]
  },
  {
   "cell_type": "markdown",
   "metadata": {},
   "source": [
    "## Exercício 2\n",
    "\n",
    "Considere uma empresa que está lançando uma nova campanha de marketing por e-mail, destinada a promover um de seus produtos. A partir de experiências passadas, a empresa sabe que a taxa de abertura esperada para esses e-mails é de 20%. A campanha envolve o envio de 100 e-mails para potenciais clientes. \n",
    "\n",
    "A empresa está interessada em saber qual é a probabilidade de pelo menos 25 desses e-mails serem abertos, o que considera um indicador de sucesso da campanha."
   ]
  },
  {
   "cell_type": "code",
   "execution_count": null,
   "metadata": {},
   "outputs": [],
   "source": []
  },
  {
   "cell_type": "markdown",
   "metadata": {},
   "source": [
    "## Exercício 3\n",
    "\n",
    "Imagine uma loja de varejo online que, historicamente, recebe em média 12 pedidos por hora. A gestão deseja entender melhor como isso se traduz em termos de fluxo de pedidos ao longo do dia para otimizar suas operações, incluindo alocação de pessoal, gestão de estoque e capacidade de atendimento ao cliente.\n",
    "\n",
    "Qual a probabilidade da loja receber exatamente 15 pedidos em uma determinada hora?"
   ]
  },
  {
   "cell_type": "code",
   "execution_count": null,
   "metadata": {},
   "outputs": [],
   "source": []
  },
  {
   "cell_type": "markdown",
   "metadata": {},
   "source": [
    "## Exercício 4\n",
    "\n",
    "Considere uma startup de tecnologia que está testando uma nova funcionalidade no seu aplicativo. A partir de testes anteriores, a empresa estima que a probabilidade de um teste de usuário resultar em uma avaliação positiva da nova funcionalidade é de 10%. A startup está interessada em entender qual é a probabilidade de que o primeiro feedback positivo ocorra apenas no quinto teste de usuário. "
   ]
  },
  {
   "cell_type": "code",
   "execution_count": null,
   "metadata": {},
   "outputs": [],
   "source": []
  },
  {
   "cell_type": "markdown",
   "metadata": {},
   "source": [
    "## Exercício 5\n",
    "\n",
    "Imagine uma empresa de desenvolvimento de software que está trabalhando em um novo produto. Com base em projetos anteriores, a empresa sabe que a probabilidade de um teste de qualidade de software (QA) ser bem-sucedido (ou seja, o software passar no teste sem encontrar bugs) é de 80%. No entanto, para garantir a alta qualidade do produto final, a empresa define uma política de que o software deve passar por 3 testes de QA consecutivos antes de ser considerado pronto para o lançamento. A questão é: qual a probabilidade de que sejam necessários realizar 5 testes de QA para que o software passe por 3 testes consecutivos com sucesso?"
   ]
  },
  {
   "cell_type": "code",
   "execution_count": null,
   "metadata": {},
   "outputs": [],
   "source": []
  },
  {
   "cell_type": "code",
   "execution_count": 3,
   "metadata": {},
   "outputs": [
    {
     "name": "stdout",
     "output_type": "stream",
     "text": [
      "Author: Data Science Academy\n",
      "\n"
     ]
    }
   ],
   "source": [
    "%reload_ext watermark\n",
    "%watermark -a \"Data Science Academy\""
   ]
  },
  {
   "cell_type": "code",
   "execution_count": 4,
   "metadata": {},
   "outputs": [],
   "source": [
    "#%watermark -v -m"
   ]
  },
  {
   "cell_type": "code",
   "execution_count": 5,
   "metadata": {},
   "outputs": [],
   "source": [
    "#%watermark --iversions"
   ]
  },
  {
   "cell_type": "markdown",
   "metadata": {
    "collapsed": true
   },
   "source": [
    "# Fim"
   ]
  }
 ],
 "metadata": {
  "anaconda-cloud": {},
  "kernelspec": {
   "display_name": "Python 3 (ipykernel)",
   "language": "python",
   "name": "python3"
  },
  "language_info": {
   "codemirror_mode": {
    "name": "ipython",
    "version": 3
   },
   "file_extension": ".py",
   "mimetype": "text/x-python",
   "name": "python",
   "nbconvert_exporter": "python",
   "pygments_lexer": "ipython3",
   "version": "3.11.7"
  }
 },
 "nbformat": 4,
 "nbformat_minor": 1
}
