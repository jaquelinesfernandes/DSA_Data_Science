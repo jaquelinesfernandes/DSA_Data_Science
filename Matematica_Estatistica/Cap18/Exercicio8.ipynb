{
 "cells": [
  {
   "cell_type": "markdown",
   "metadata": {},
   "source": [
    "<!-- Projeto Desenvolvido na Data Science Academy - www.datascienceacademy.com.br -->\n",
    "# <font color='blue'>Data Science Academy</font>\n",
    "## <font color='blue'>Matemática e Estatística Aplicada Para Data Science, Machine Learning e IA</font>\n",
    "## <font color='blue'>Lista de Exercícios 8</font>\n",
    "### <font color='blue'>Distribuições de Probabilidade Para Resolver Problemas de Negócio</font>"
   ]
  },
  {
   "cell_type": "markdown",
   "metadata": {},
   "source": [
    "## Instalando e Carregando os Pacotes"
   ]
  },
  {
   "cell_type": "code",
   "execution_count": 1,
   "metadata": {},
   "outputs": [],
   "source": [
    "# Para atualizar um pacote, execute o comando abaixo no terminal ou prompt de comando:\n",
    "# pip install -U nome_pacote\n",
    "\n",
    "# Para instalar a versão exata de um pacote, execute o comando abaixo no terminal ou prompt de comando:\n",
    "# !pip install nome_pacote==versão_desejada\n",
    "\n",
    "# Depois de instalar ou atualizar o pacote, reinicie o jupyter notebook.\n",
    "\n",
    "# Instala o pacote watermark. \n",
    "# Esse pacote é usado para gravar as versões de outros pacotes usados neste jupyter notebook.\n",
    "!pip install -q -U watermark"
   ]
  },
  {
   "cell_type": "code",
   "execution_count": 2,
   "metadata": {},
   "outputs": [
    {
     "name": "stdout",
     "output_type": "stream",
     "text": [
      "Author: Data Science Academy\n",
      "\n"
     ]
    }
   ],
   "source": [
    "# Versões dos pacotes usados neste jupyter notebook\n",
    "%reload_ext watermark\n",
    "%watermark -a \"Data Science Academy\" "
   ]
  },
  {
   "cell_type": "code",
   "execution_count": 3,
   "metadata": {},
   "outputs": [],
   "source": [
    "# Imports\n",
    "import scipy\n",
    "import numpy as np\n",
    "import matplotlib.pyplot as plt\n",
    "from scipy.stats import binom\n",
    "from scipy.stats import poisson\n",
    "from scipy.stats import geom\n",
    "from scipy.stats import nbinom\n",
    "from scipy.stats import hypergeom"
   ]
  },
  {
   "cell_type": "markdown",
   "metadata": {},
   "source": [
    "## Exercício 1\n",
    "\n",
    "Vamos imaginar um cenário de negócios onde uma empresa de consultoria realiza análises de mercado para cinco diferentes setores: tecnologia, saúde, finanças, energia e varejo. A empresa tem um modelo de negócios no qual, a cada mês, escolhe aleatoriamente um desses setores para oferecer uma análise de mercado gratuita como parte de sua estratégia de marketing para atrair novos clientes. Suponha que a escolha do setor seja feita de forma que cada um tenha igual probabilidade de ser selecionado. \n",
    "\n",
    "Calcule a probabilidade de cada setor ser escolhido ao longo de um ano."
   ]
  },
  {
   "cell_type": "code",
   "execution_count": 31,
   "metadata": {},
   "outputs": [
    {
     "name": "stdout",
     "output_type": "stream",
     "text": [
      "0.2\n",
      "Probabilidade de cada setor ser escolhido no mês ao longo do ano 20.00%\n"
     ]
    }
   ],
   "source": [
    "n_setores = 5\n",
    "n_meses = 12\n",
    "\n",
    "probabilidade_mes = 1/n_setores\n",
    "\n",
    "probabilidade_ano = probabilidade_mes\n",
    "\n",
    "#print(probabilidade_ano)\n",
    "print(f\"Probabilidade de cada setor ser escolhido no mês ao longo do ano {probabilidade_ano * 100:.2f}%\")\n",
    "\n",
    "\n",
    "#Cada setor tem uma igual probabilidade de ser escolhido a cada mês,\n",
    "# então a probabilidade de cada setor ser escolhido em um mês específico é 1/numero_de_setores.\n",
    "# Ao longo de um ano, essa probabilidade não muda, pois cada mês é um evento independente.\n",
    "# A probabilidade de escolha mensal (não acumulativa ao longo do ano), é a\n",
    "# a probabilidade de um setor ser escolhido em qualquer mês específico permanece a mesma."
   ]
  },
  {
   "cell_type": "code",
   "execution_count": 27,
   "metadata": {},
   "outputs": [
    {
     "name": "stdout",
     "output_type": "stream",
     "text": [
      "Probabilidade setor 1: 0 vezes (0.00%)\n",
      "Probabilidade setor 2: 0 vezes (0.00%)\n",
      "Probabilidade setor 3: 0 vezes (0.00%)\n",
      "Probabilidade setor 4: 0 vezes (0.00%)\n",
      "Probabilidade setor 5: 0 vezes (0.00%)\n"
     ]
    }
   ],
   "source": [
    "n_lancamentos = 12\n",
    "setores = 5\n",
    "\n",
    "lancamentos = np.random.randint(1, 6, size = n_lancamentos)\n",
    "\n",
    "for i in range(1, 6):\n",
    "    frequencia = np.sum(lancamentos == i)\n",
    "    print(f\"Probabilidade setor {i}: {frequencia} vezes ({frequencia/n_lancamentos * 100:.2f}%)\")\n"
   ]
  },
  {
   "cell_type": "markdown",
   "metadata": {},
   "source": [
    "## Exercício 2\n",
    "\n",
    "Considere uma empresa que está lançando uma nova campanha de marketing por e-mail, destinada a promover um de seus produtos. A partir de experiências passadas, a empresa sabe que a taxa de abertura esperada para esses e-mails é de 20%. A campanha envolve o envio de 100 e-mails para potenciais clientes. \n",
    "\n",
    "A empresa está interessada em saber qual é a probabilidade de pelo menos 25 desses e-mails serem abertos, o que considera um indicador de sucesso da campanha."
   ]
  },
  {
   "cell_type": "code",
   "execution_count": 58,
   "metadata": {},
   "outputs": [
    {
     "name": "stdout",
     "output_type": "stream",
     "text": [
      "A probabilidade de pelo menos 25 emails serem abertos é de 13.14%\n"
     ]
    }
   ],
   "source": [
    "# Ex. Binomial\n",
    "from scipy.stats import binom # type: ignore\n",
    "\n",
    "n = 100\n",
    "p = 0.20\n",
    "\n",
    "probabilidade_ate_24 = binom.cdf(24, n, p)\n",
    "\n",
    "probabilidade_final = 1 - probabilidade_ate_24\n",
    "\n",
    "print(f\"A probabilidade de pelo menos 25 emails serem abertos é de {probabilidade_final * 100:.2f}%\")\n",
    "\n"
   ]
  },
  {
   "cell_type": "markdown",
   "metadata": {},
   "source": [
    "## Exercício 3\n",
    "\n",
    "Imagine uma loja de varejo online que, historicamente, recebe em média 12 pedidos por hora. A gestão deseja entender melhor como isso se traduz em termos de fluxo de pedidos ao longo do dia para otimizar suas operações, incluindo alocação de pessoal, gestão de estoque e capacidade de atendimento ao cliente.\n",
    "\n",
    "Qual a probabilidade da loja receber exatamente 15 pedidos em uma determinada hora?"
   ]
  },
  {
   "cell_type": "code",
   "execution_count": 71,
   "metadata": {},
   "outputs": [
    {
     "name": "stdout",
     "output_type": "stream",
     "text": [
      "A probabilidade de receber 15 pedidos em uma determinada hora é de 7.24%\n"
     ]
    }
   ],
   "source": [
    "# Poisson\n",
    "from scipy.stats import poisson # type: ignore\n",
    "\n",
    "lambda_  = 12\n",
    "k = 15\n",
    "\n",
    "probabilidade_p = poisson.pmf(k, lambda_)\n",
    "\n",
    "print(f\"A probabilidade de receber 15 pedidos em uma determinada hora é de {probabilidade_p * 100:.2f}%\")"
   ]
  },
  {
   "cell_type": "markdown",
   "metadata": {},
   "source": [
    "## Exercício 4\n",
    "\n",
    "Considere uma startup de tecnologia que está testando uma nova funcionalidade no seu aplicativo. A partir de testes anteriores, a empresa estima que a probabilidade de um teste de usuário resultar em uma avaliação positiva da nova funcionalidade é de 10%. A startup está interessada em entender qual é a probabilidade de que o primeiro feedback positivo ocorra apenas no quinto teste de usuário. "
   ]
  },
  {
   "cell_type": "code",
   "execution_count": 75,
   "metadata": {},
   "outputs": [
    {
     "name": "stdout",
     "output_type": "stream",
     "text": [
      "A probabilidade do primeiro feedback positivo no quinto teste do usuario a é de 6.56%\n"
     ]
    }
   ],
   "source": [
    "# Geometrica\n",
    "from scipy.stats import geom # type: ignore\n",
    "p = 0.10\n",
    "k = 5\n",
    "probabilidade_geom = geom.pmf(k, p)\n",
    "print(f\"A probabilidade do primeiro feedback positivo no quinto teste do usuario a é de {probabilidade_geom * 100:.2f}%\")"
   ]
  },
  {
   "cell_type": "markdown",
   "metadata": {},
   "source": [
    "## Exercício 5\n",
    "\n",
    "Imagine uma empresa de desenvolvimento de software que está trabalhando em um novo produto. Com base em projetos anteriores, a empresa sabe que a probabilidade de um teste de qualidade de software (QA) ser bem-sucedido (ou seja, o software passar no teste sem encontrar bugs) é de 80%. No entanto, para garantir a alta qualidade do produto final, a empresa define uma política de que o software deve passar por 3 testes de QA consecutivos antes de ser considerado pronto para o lançamento. A questão é: qual a probabilidade de que sejam necessários realizar 5 testes de QA para que o software passe por 3 testes consecutivos com sucesso?"
   ]
  },
  {
   "cell_type": "code",
   "execution_count": 77,
   "metadata": {},
   "outputs": [
    {
     "name": "stdout",
     "output_type": "stream",
     "text": [
      "A probabilidade de 5 testes de QA passe por 3 testes consectivos é de 12.29%\n"
     ]
    }
   ],
   "source": [
    "from scipy.stats import nbinom # type: ignore\n",
    "\n",
    "r = 3\n",
    "p = 0.8\n",
    "probabilidade_nbinom = nbinom.pmf(5-r, r, p)\n",
    "print(f\"A probabilidade de 5 testes de QA passe por 3 testes consectivos é de {probabilidade_nbinom * 100:.2f}%\")\n"
   ]
  },
  {
   "cell_type": "code",
   "execution_count": 73,
   "metadata": {},
   "outputs": [
    {
     "name": "stdout",
     "output_type": "stream",
     "text": [
      "Author: Data Science Academy\n",
      "\n"
     ]
    }
   ],
   "source": [
    "%reload_ext watermark\n",
    "%watermark -a \"Data Science Academy\""
   ]
  },
  {
   "cell_type": "markdown",
   "metadata": {
    "collapsed": true
   },
   "source": [
    "# Fim"
   ]
  }
 ],
 "metadata": {
  "anaconda-cloud": {},
  "kernelspec": {
   "display_name": "Python 3 (ipykernel)",
   "language": "python",
   "name": "python3"
  },
  "language_info": {
   "codemirror_mode": {
    "name": "ipython",
    "version": 3
   },
   "file_extension": ".py",
   "mimetype": "text/x-python",
   "name": "python",
   "nbconvert_exporter": "python",
   "pygments_lexer": "ipython3",
   "version": "3.11.7"
  }
 },
 "nbformat": 4,
 "nbformat_minor": 1
}
