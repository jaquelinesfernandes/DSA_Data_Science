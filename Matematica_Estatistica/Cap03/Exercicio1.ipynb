{
 "cells": [
  {
   "cell_type": "markdown",
   "metadata": {},
   "source": [
    "<!-- Projeto Desenvolvido na Data Science Academy - www.datascienceacademy.com.br -->\n",
    "# <font color='blue'>Data Science Academy</font>\n",
    "## <font color='blue'>Matemática e Estatística Aplicada Para Data Science, Machine Learning e IA</font>\n",
    "## <font color='blue'>Lista de Exercícios 1</font>\n",
    "## <font color='blue'>Matemática Fundamental com Linguagem Python</font>"
   ]
  },
  {
   "cell_type": "markdown",
   "metadata": {},
   "source": [
    "### Instalando e Carregando Pacotes"
   ]
  },
  {
   "cell_type": "code",
   "execution_count": null,
   "metadata": {},
   "outputs": [],
   "source": [
    "# Para atualizar um pacote, execute o comando abaixo no terminal ou prompt de comando:\n",
    "# pip install -U nome_pacote\n",
    "\n",
    "# Para instalar a versão exata de um pacote, execute o comando abaixo no terminal ou prompt de comando:\n",
    "# !pip install nome_pacote==versão_desejada\n",
    "\n",
    "# Depois de instalar ou atualizar o pacote, reinicie o jupyter notebook.\n",
    "\n",
    "# Instala o pacote watermark. \n",
    "# Esse pacote é usado para gravar as versões de outros pacotes usados neste jupyter notebook.\n",
    "!pip install -q -U watermark"
   ]
  },
  {
   "cell_type": "code",
   "execution_count": 4,
   "metadata": {},
   "outputs": [
    {
     "name": "stdout",
     "output_type": "stream",
     "text": [
      "Author: Data Science Academy\n",
      "\n"
     ]
    }
   ],
   "source": [
    "# Versões dos pacotes usados neste jupyter notebook\n",
    "%reload_ext watermark\n",
    "%watermark -a \"Data Science Academy\" --iversions"
   ]
  },
  {
   "cell_type": "markdown",
   "metadata": {},
   "source": [
    "**Resolva os exercícios abaixo usando Linguagem Python. Faça pesquisa complementar se necessário.**"
   ]
  },
  {
   "cell_type": "markdown",
   "metadata": {},
   "source": [
    "### Exercício 1: Cálculo de Área de um Círculo\n",
    "\n",
    "Escreva um programa que calcula a área de um círculo. O usuário deve fornecer o raio e o programa deve retornar a área."
   ]
  },
  {
   "cell_type": "code",
   "execution_count": 15,
   "metadata": {},
   "outputs": [
    {
     "name": "stdout",
     "output_type": "stream",
     "text": [
      "Area do circulo: 314.16\n"
     ]
    }
   ],
   "source": [
    "#area = Pi * raio^2\n",
    "import math\n",
    "\n",
    "def area_circulo (raio):\n",
    "    return math.pi * raio ** 2\n",
    "\n",
    "raio = float(input(\"Digite o raio do círculo: \"))\n",
    "\n",
    "print(f'Area do circulo: {area_circulo(raio):,.2f}')"
   ]
  },
  {
   "cell_type": "markdown",
   "metadata": {},
   "source": [
    "### Exercício 2: Conversão de Temperatura\n",
    "\n",
    "Crie uma função que converte a temperatura de Celsius para Fahrenheit e vice-versa. O usuário deve informar a temperatura e a escala de origem."
   ]
  },
  {
   "cell_type": "code",
   "execution_count": 24,
   "metadata": {},
   "outputs": [
    {
     "name": "stdout",
     "output_type": "stream",
     "text": [
      "Temperatura em Celsius:  32.22\n"
     ]
    }
   ],
   "source": [
    "def celsius_para_fahrenheit(c):\n",
    "    return (c * 9/5) + 32\n",
    "\n",
    "def fahrenheit_para_celsius(f):\n",
    "    return (f -32) * 5/9\n",
    "\n",
    "\n",
    "temp = float(input('Digite a temperatura: '))\n",
    "\n",
    "escala = input('Digite a escala (C para Celsius, F para Fahrenheit): ')\n",
    "\n",
    "if escala.upper() == 'C':\n",
    "    print(f'Temperatura em Fahrenheit: {celsius_para_fahrenheit(temp):,.2f}')\n",
    "else:\n",
    "    print(f'Temperatura em Celsius:  {fahrenheit_para_celsius(temp):,.2f}')    "
   ]
  },
  {
   "cell_type": "markdown",
   "metadata": {},
   "source": [
    "### Exercício 3: Resolver uma Equação Linear\n",
    "\n",
    "Faça um programa que resolve uma equação linear do tipo ax + b = 0. Os valores de a e b são fornecidos pelo usuário."
   ]
  },
  {
   "cell_type": "code",
   "execution_count": 32,
   "metadata": {},
   "outputs": [
    {
     "name": "stdout",
     "output_type": "stream",
     "text": [
      "Solução da equação: -0.18\n"
     ]
    }
   ],
   "source": [
    "def resolve_linear(a, b):\n",
    "    if a == 0:\n",
    "        return \"Sem solução\" if b != 0 else \"Soluções infinitas\"\n",
    "    return -b/a\n",
    "\n",
    "a = float(input('Digite o valor de a: '))\n",
    "b = float(input('Digite o valor de b: '))\n",
    "\n",
    "print(f'Solução da equação: {resolve_linear(a, b):,.2f}')"
   ]
  },
  {
   "cell_type": "markdown",
   "metadata": {},
   "source": [
    "### Exercício 4: Cálculo de Média Aritmética\n",
    "\n",
    "Escreva um programa que calcula a média aritmética de uma lista de números fornecida pelo usuário."
   ]
  },
  {
   "cell_type": "code",
   "execution_count": 33,
   "metadata": {},
   "outputs": [
    {
     "name": "stdout",
     "output_type": "stream",
     "text": [
      "Media arimética:  3.0\n"
     ]
    }
   ],
   "source": [
    "def media_aritmetica(numeros):\n",
    "    \n",
    "    return sum(numeros)/ len(numeros)\n",
    "\n",
    "\n",
    "numeros = [float(n) for n in input('Digite uma lista de números separados por espaço').split()]\n",
    "\n",
    "print(\"Media arimética: \", media_aritmetica(numeros))"
   ]
  },
  {
   "cell_type": "markdown",
   "metadata": {},
   "source": [
    "### Exercício 5: Determinar as Raízes de uma Equação Quadrática\n",
    "\n",
    "Crie um programa que encontra as raízes de uma equação quadrática do tipo ax^2 + bx + c = 0. O programa deve lidar com todos os tipos de raízes (reais e complexas)."
   ]
  },
  {
   "cell_type": "code",
   "execution_count": 34,
   "metadata": {},
   "outputs": [
    {
     "name": "stdout",
     "output_type": "stream",
     "text": [
      "As raízes da equação quadratica são:  ((-0.2928932188134524+0j), (-1.7071067811865475+0j))\n"
     ]
    }
   ],
   "source": [
    "import cmath\n",
    "\n",
    "def raiz_quadratica(a, b, c):\n",
    "    delta = cmath.sqrt(b**2 - 4*a*c)\n",
    "    x1 = (-b + delta) / (2*a)\n",
    "    x2 = (-b - delta) / (2*a)\n",
    "    return (x1, x2)\n",
    "\n",
    "\n",
    "a = float(input('Digite valor de a: '))\n",
    "\n",
    "b = float(input('Digite valor de b: '))\n",
    "\n",
    "c = float(input('Digite valor de c: '))\n",
    "\n",
    "print(\"As raízes da equação quadratica são: \", raiz_quadratica(a, b, c))"
   ]
  },
  {
   "cell_type": "markdown",
   "metadata": {},
   "source": [
    "### Exercício 6: Calcular o Fatorial de um Número\n",
    "\n",
    "Escreva uma função que calcula o fatorial de um número inteiro fornecido pelo usuário."
   ]
  },
  {
   "cell_type": "code",
   "execution_count": 39,
   "metadata": {},
   "outputs": [
    {
     "name": "stdout",
     "output_type": "stream",
     "text": [
      "O fatorial de 4 é: 24\n"
     ]
    }
   ],
   "source": [
    "def fatorial(n):\n",
    "    return 1 if n == 0 else n * fatorial(n -1)\n",
    "\n",
    "num = int(input('Digite o numero: '))\n",
    "\n",
    "print(f'O fatorial de {num} é: {fatorial(num)}')"
   ]
  },
  {
   "cell_type": "markdown",
   "metadata": {},
   "source": [
    "### Exercício 7: Sequência de Fibonacci\n",
    "\n",
    "Crie um programa que gera a sequência de Fibonacci até um determinado número n fornecido pelo usuário."
   ]
  },
  {
   "cell_type": "code",
   "execution_count": 3,
   "metadata": {},
   "outputs": [
    {
     "name": "stdout",
     "output_type": "stream",
     "text": [
      "Sequencia de Fibonacci:  [0, 1, 1, 2, 3, 5, 8, 13, 21, 34]\n"
     ]
    }
   ],
   "source": [
    "def fibonacci(n):\n",
    "    \n",
    "    a, b = 0, 1\n",
    "    \n",
    "    for _ in range(n):\n",
    "        \n",
    "        yield a\n",
    "        a, b = b, a + b\n",
    "\n",
    "n = int(input(\"Digite o numero de termos da sequencia de Fibonacci: \"))\n",
    "\n",
    "print(\"Sequencia de Fibonacci: \", list(fibonacci(n)))"
   ]
  },
  {
   "cell_type": "markdown",
   "metadata": {},
   "source": [
    "### Exercício 8: Cálculo de Juros Compostos\n",
    "\n",
    "Faça um programa que calcula o montante final de um investimento com juros compostos. O usuário deve fornecer o capital inicial, a taxa de juros anual, e o número de anos."
   ]
  },
  {
   "cell_type": "code",
   "execution_count": 4,
   "metadata": {},
   "outputs": [
    {
     "name": "stdout",
     "output_type": "stream",
     "text": [
      "Montante final:  1340.0956406250004\n"
     ]
    }
   ],
   "source": [
    "def juros_compostos(capital, taxa, anos):\n",
    "    \n",
    "    return capital * (1 + taxa) ** anos\n",
    "\n",
    "capital = float(input(\"Digite o capital inicial: \"))\n",
    "taxa = float(input(\"Digite a taxa de juros anual (em decimal )\"))\n",
    "anos = int(input(\"Digite o numero de anos\"))\n",
    "\n",
    "print(\"Montante final: \", juros_compostos(capital, taxa, anos))"
   ]
  },
  {
   "cell_type": "markdown",
   "metadata": {},
   "source": [
    "### Exercício 9: Conversão de Moedas\n",
    "\n",
    "Escreva um programa que converte uma quantidade de uma moeda (como dólar) para outra (como euro), considerando uma taxa de câmbio fornecida pelo usuário."
   ]
  },
  {
   "cell_type": "code",
   "execution_count": 6,
   "metadata": {},
   "outputs": [
    {
     "name": "stdout",
     "output_type": "stream",
     "text": [
      "Valor convertido:  52.5\n"
     ]
    }
   ],
   "source": [
    "def converter_moeda(valor, taxa_cambio):\n",
    "    return valor * taxa_cambio\n",
    "\n",
    "valor = float(input(\"Digite o valor na moeda original: \"))\n",
    "\n",
    "taxa_cambio = float(input(\"Digite a taxa de cambio: \"))\n",
    "\n",
    "print(\"Valor convertido: \", converter_moeda(valor, taxa_cambio))"
   ]
  },
  {
   "cell_type": "markdown",
   "metadata": {},
   "source": [
    "### Exercício 10: Verificar se um Número é Primo\n",
    "\n",
    "Crie uma função que verifica se um número fornecido pelo usuário é primo ou não."
   ]
  },
  {
   "cell_type": "code",
   "execution_count": 7,
   "metadata": {},
   "outputs": [
    {
     "name": "stdout",
     "output_type": "stream",
     "text": [
      "O número é primo!\n"
     ]
    }
   ],
   "source": [
    "def e_primo(num):\n",
    "    \n",
    "    if num < 2:\n",
    "        return False\n",
    "    \n",
    "    for i in range(2, int(num**0.5) + 1):\n",
    "        if num % i == 0:\n",
    "            return False\n",
    "    \n",
    "    return True\n",
    "\n",
    "numero = int(input(\"Digite um numero: \"))\n",
    "\n",
    "print(\"O número é primo!\" if e_primo(numero) else \"O numero não é primo!\") "
   ]
  },
  {
   "cell_type": "code",
   "execution_count": null,
   "metadata": {},
   "outputs": [],
   "source": [
    "%reload_ext watermark\n",
    "%watermark -a \"Data Science Academy\""
   ]
  },
  {
   "cell_type": "code",
   "execution_count": null,
   "metadata": {},
   "outputs": [],
   "source": [
    "#%watermark -v -m"
   ]
  },
  {
   "cell_type": "markdown",
   "metadata": {},
   "source": [
    "# Fim"
   ]
  }
 ],
 "metadata": {
  "kernelspec": {
   "display_name": "Python 3 (ipykernel)",
   "language": "python",
   "name": "python3"
  },
  "language_info": {
   "codemirror_mode": {
    "name": "ipython",
    "version": 3
   },
   "file_extension": ".py",
   "mimetype": "text/x-python",
   "name": "python",
   "nbconvert_exporter": "python",
   "pygments_lexer": "ipython3",
   "version": "3.11.4"
  }
 },
 "nbformat": 4,
 "nbformat_minor": 2
}
