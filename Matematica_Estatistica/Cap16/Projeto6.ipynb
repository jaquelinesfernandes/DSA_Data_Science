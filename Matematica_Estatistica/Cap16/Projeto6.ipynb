{
 "cells": [
  {
   "cell_type": "markdown",
   "metadata": {},
   "source": [
    "<!-- Projeto Desenvolvido na Data Science Academy - www.datascienceacademy.com.br -->\n",
    "# <font color='blue'>Data Science Academy</font>\n",
    "## <font color='blue'>Matemática e Estatística Aplicada Para Data Science, Machine Learning e IA</font>\n",
    "## <font color='blue'>Projeto 6</font>\n",
    "### <font color='blue'>Modelagem Estatística em Indicadores Socioeconômicos</font>"
   ]
  },
  {
   "cell_type": "markdown",
   "metadata": {},
   "source": [
    "## Instalando e Carregando os Pacotes"
   ]
  },
  {
   "cell_type": "code",
   "execution_count": 1,
   "metadata": {},
   "outputs": [],
   "source": [
    "# Para atualizar um pacote, execute o comando abaixo no terminal ou prompt de comando:\n",
    "# pip install -U nome_pacote\n",
    "\n",
    "# Para instalar a versão exata de um pacote, execute o comando abaixo no terminal ou prompt de comando:\n",
    "# !pip install nome_pacote==versão_desejada\n",
    "\n",
    "# Depois de instalar ou atualizar o pacote, reinicie o jupyter notebook.\n",
    "\n",
    "# Instala o pacote watermark. \n",
    "# Esse pacote é usado para gravar as versões de outros pacotes usados neste jupyter notebook.\n",
    "# !pip install -q -U watermark"
   ]
  },
  {
   "cell_type": "code",
   "execution_count": 1,
   "metadata": {},
   "outputs": [],
   "source": [
    "# Imports\n",
    "import pandas as pd\n",
    "import numpy as np\n",
    "import seaborn as sns\n",
    "import matplotlib.pyplot as plt\n",
    "import statsmodels.api as sm\n",
    "from statsmodels.formula.api import ols\n",
    "from sklearn.preprocessing import StandardScaler \n",
    "import warnings\n",
    "warnings.filterwarnings(\"ignore\")"
   ]
  },
  {
   "cell_type": "code",
   "execution_count": 2,
   "metadata": {},
   "outputs": [
    {
     "name": "stdout",
     "output_type": "stream",
     "text": [
      "Author: Data Science Academy\n",
      "\n"
     ]
    }
   ],
   "source": [
    "# Versões dos pacotes usados neste jupyter notebook\n",
    "%reload_ext watermark\n",
    "%watermark -a \"Data Science Academy\" "
   ]
  },
  {
   "cell_type": "markdown",
   "metadata": {},
   "source": [
    "## Carregando e Compreendendo os Dados"
   ]
  },
  {
   "cell_type": "code",
   "execution_count": 3,
   "metadata": {},
   "outputs": [],
   "source": [
    "# Carregando os dados\n",
    "df_dsa = pd.read_csv('dataset.csv')"
   ]
  },
  {
   "cell_type": "code",
   "execution_count": 4,
   "metadata": {},
   "outputs": [
    {
     "data": {
      "text/plain": [
       "(2938, 22)"
      ]
     },
     "execution_count": 4,
     "metadata": {},
     "output_type": "execute_result"
    }
   ],
   "source": [
    "# Shape\n",
    "df_dsa.shape"
   ]
  },
  {
   "cell_type": "code",
   "execution_count": 5,
   "metadata": {},
   "outputs": [
    {
     "data": {
      "text/plain": [
       "Country                             object\n",
       "Year                                 int64\n",
       "Status                              object\n",
       "Life expectancy                    float64\n",
       "Adult Mortality                    float64\n",
       "infant deaths                        int64\n",
       "Alcohol                            float64\n",
       "percentage expenditure             float64\n",
       "Hepatitis B                        float64\n",
       "Measles                              int64\n",
       " BMI                               float64\n",
       "under-five deaths                    int64\n",
       "Polio                              float64\n",
       "Total expenditure                  float64\n",
       "Diphtheria                         float64\n",
       " HIV/AIDS                          float64\n",
       "GDP                                float64\n",
       " Population                        float64\n",
       " thinness  1-19 years              float64\n",
       " thinness 5-9 years                float64\n",
       "Income composition of resources    float64\n",
       "Schooling                          float64\n",
       "dtype: object"
      ]
     },
     "execution_count": 5,
     "metadata": {},
     "output_type": "execute_result"
    }
   ],
   "source": [
    "# Tipos de dados\n",
    "df_dsa.dtypes"
   ]
  },
  {
   "cell_type": "code",
   "execution_count": 60,
   "metadata": {},
   "outputs": [
    {
     "data": {
      "text/html": [
       "<div>\n",
       "<style scoped>\n",
       "    .dataframe tbody tr th:only-of-type {\n",
       "        vertical-align: middle;\n",
       "    }\n",
       "\n",
       "    .dataframe tbody tr th {\n",
       "        vertical-align: top;\n",
       "    }\n",
       "\n",
       "    .dataframe thead th {\n",
       "        text-align: right;\n",
       "    }\n",
       "</style>\n",
       "<table border=\"1\" class=\"dataframe\">\n",
       "  <thead>\n",
       "    <tr style=\"text-align: right;\">\n",
       "      <th></th>\n",
       "      <th>Country</th>\n",
       "      <th>Year</th>\n",
       "      <th>Status</th>\n",
       "      <th>Life expectancy</th>\n",
       "      <th>Adult Mortality</th>\n",
       "      <th>infant deaths</th>\n",
       "      <th>Alcohol</th>\n",
       "      <th>percentage expenditure</th>\n",
       "      <th>Hepatitis B</th>\n",
       "      <th>Measles</th>\n",
       "      <th>...</th>\n",
       "      <th>Polio</th>\n",
       "      <th>Total expenditure</th>\n",
       "      <th>Diphtheria</th>\n",
       "      <th>HIV/AIDS</th>\n",
       "      <th>GDP</th>\n",
       "      <th>Population</th>\n",
       "      <th>thinness  1-19 years</th>\n",
       "      <th>thinness 5-9 years</th>\n",
       "      <th>Income composition of resources</th>\n",
       "      <th>Schooling</th>\n",
       "    </tr>\n",
       "  </thead>\n",
       "  <tbody>\n",
       "    <tr>\n",
       "      <th>2866</th>\n",
       "      <td>Venezuela (Bolivarian Republic of)</td>\n",
       "      <td>2007</td>\n",
       "      <td>Developing</td>\n",
       "      <td>73.4</td>\n",
       "      <td>165.0</td>\n",
       "      <td>9</td>\n",
       "      <td>8.70</td>\n",
       "      <td>0.000000</td>\n",
       "      <td>62.0</td>\n",
       "      <td>32</td>\n",
       "      <td>...</td>\n",
       "      <td>67.0</td>\n",
       "      <td>5.25</td>\n",
       "      <td>62.0</td>\n",
       "      <td>0.1</td>\n",
       "      <td>NaN</td>\n",
       "      <td>NaN</td>\n",
       "      <td>1.6</td>\n",
       "      <td>1.5</td>\n",
       "      <td>0.728</td>\n",
       "      <td>12.9</td>\n",
       "    </tr>\n",
       "    <tr>\n",
       "      <th>2008</th>\n",
       "      <td>Peru</td>\n",
       "      <td>2014</td>\n",
       "      <td>Developing</td>\n",
       "      <td>75.3</td>\n",
       "      <td>125.0</td>\n",
       "      <td>8</td>\n",
       "      <td>0.01</td>\n",
       "      <td>973.728675</td>\n",
       "      <td>88.0</td>\n",
       "      <td>0</td>\n",
       "      <td>...</td>\n",
       "      <td>78.0</td>\n",
       "      <td>5.47</td>\n",
       "      <td>88.0</td>\n",
       "      <td>0.1</td>\n",
       "      <td>6491.524500</td>\n",
       "      <td>3973354.0</td>\n",
       "      <td>1.1</td>\n",
       "      <td>1.1</td>\n",
       "      <td>0.735</td>\n",
       "      <td>13.4</td>\n",
       "    </tr>\n",
       "    <tr>\n",
       "      <th>1815</th>\n",
       "      <td>Nepal</td>\n",
       "      <td>2013</td>\n",
       "      <td>Developing</td>\n",
       "      <td>69.3</td>\n",
       "      <td>162.0</td>\n",
       "      <td>19</td>\n",
       "      <td>0.27</td>\n",
       "      <td>80.155051</td>\n",
       "      <td>92.0</td>\n",
       "      <td>1861</td>\n",
       "      <td>...</td>\n",
       "      <td>92.0</td>\n",
       "      <td>5.69</td>\n",
       "      <td>92.0</td>\n",
       "      <td>0.1</td>\n",
       "      <td>688.617279</td>\n",
       "      <td>2798531.0</td>\n",
       "      <td>16.1</td>\n",
       "      <td>16.5</td>\n",
       "      <td>0.545</td>\n",
       "      <td>12.3</td>\n",
       "    </tr>\n",
       "    <tr>\n",
       "      <th>2362</th>\n",
       "      <td>Solomon Islands</td>\n",
       "      <td>2014</td>\n",
       "      <td>Developing</td>\n",
       "      <td>68.8</td>\n",
       "      <td>183.0</td>\n",
       "      <td>0</td>\n",
       "      <td>0.01</td>\n",
       "      <td>3.718439</td>\n",
       "      <td>88.0</td>\n",
       "      <td>0</td>\n",
       "      <td>...</td>\n",
       "      <td>94.0</td>\n",
       "      <td>5.50</td>\n",
       "      <td>88.0</td>\n",
       "      <td>0.1</td>\n",
       "      <td>29.652622</td>\n",
       "      <td>57554.0</td>\n",
       "      <td>1.1</td>\n",
       "      <td>1.2</td>\n",
       "      <td>0.512</td>\n",
       "      <td>9.6</td>\n",
       "    </tr>\n",
       "    <tr>\n",
       "      <th>2926</th>\n",
       "      <td>Zimbabwe</td>\n",
       "      <td>2011</td>\n",
       "      <td>Developing</td>\n",
       "      <td>54.9</td>\n",
       "      <td>464.0</td>\n",
       "      <td>28</td>\n",
       "      <td>6.00</td>\n",
       "      <td>63.750530</td>\n",
       "      <td>94.0</td>\n",
       "      <td>0</td>\n",
       "      <td>...</td>\n",
       "      <td>93.0</td>\n",
       "      <td>6.31</td>\n",
       "      <td>93.0</td>\n",
       "      <td>13.3</td>\n",
       "      <td>839.927936</td>\n",
       "      <td>14386649.0</td>\n",
       "      <td>6.8</td>\n",
       "      <td>6.7</td>\n",
       "      <td>0.452</td>\n",
       "      <td>10.1</td>\n",
       "    </tr>\n",
       "    <tr>\n",
       "      <th>495</th>\n",
       "      <td>Cameroon</td>\n",
       "      <td>2000</td>\n",
       "      <td>Developing</td>\n",
       "      <td>51.4</td>\n",
       "      <td>394.0</td>\n",
       "      <td>62</td>\n",
       "      <td>3.91</td>\n",
       "      <td>4.720594</td>\n",
       "      <td>NaN</td>\n",
       "      <td>14629</td>\n",
       "      <td>...</td>\n",
       "      <td>57.0</td>\n",
       "      <td>4.48</td>\n",
       "      <td>62.0</td>\n",
       "      <td>7.7</td>\n",
       "      <td>68.414399</td>\n",
       "      <td>15274234.0</td>\n",
       "      <td>7.7</td>\n",
       "      <td>7.8</td>\n",
       "      <td>0.433</td>\n",
       "      <td>6.9</td>\n",
       "    </tr>\n",
       "    <tr>\n",
       "      <th>2171</th>\n",
       "      <td>Saint Lucia</td>\n",
       "      <td>2012</td>\n",
       "      <td>Developing</td>\n",
       "      <td>74.7</td>\n",
       "      <td>142.0</td>\n",
       "      <td>0</td>\n",
       "      <td>9.99</td>\n",
       "      <td>0.000000</td>\n",
       "      <td>98.0</td>\n",
       "      <td>0</td>\n",
       "      <td>...</td>\n",
       "      <td>98.0</td>\n",
       "      <td>8.35</td>\n",
       "      <td>98.0</td>\n",
       "      <td>0.1</td>\n",
       "      <td>NaN</td>\n",
       "      <td>NaN</td>\n",
       "      <td>4.3</td>\n",
       "      <td>4.3</td>\n",
       "      <td>0.735</td>\n",
       "      <td>13.0</td>\n",
       "    </tr>\n",
       "    <tr>\n",
       "      <th>1820</th>\n",
       "      <td>Nepal</td>\n",
       "      <td>2008</td>\n",
       "      <td>Developing</td>\n",
       "      <td>67.0</td>\n",
       "      <td>189.0</td>\n",
       "      <td>27</td>\n",
       "      <td>0.21</td>\n",
       "      <td>70.271132</td>\n",
       "      <td>82.0</td>\n",
       "      <td>2089</td>\n",
       "      <td>...</td>\n",
       "      <td>82.0</td>\n",
       "      <td>6.44</td>\n",
       "      <td>82.0</td>\n",
       "      <td>0.2</td>\n",
       "      <td>473.844449</td>\n",
       "      <td>26475859.0</td>\n",
       "      <td>17.0</td>\n",
       "      <td>17.6</td>\n",
       "      <td>0.492</td>\n",
       "      <td>10.1</td>\n",
       "    </tr>\n",
       "    <tr>\n",
       "      <th>2265</th>\n",
       "      <td>Serbia</td>\n",
       "      <td>2015</td>\n",
       "      <td>Developing</td>\n",
       "      <td>75.6</td>\n",
       "      <td>121.0</td>\n",
       "      <td>1</td>\n",
       "      <td>NaN</td>\n",
       "      <td>0.000000</td>\n",
       "      <td>94.0</td>\n",
       "      <td>383</td>\n",
       "      <td>...</td>\n",
       "      <td>95.0</td>\n",
       "      <td>NaN</td>\n",
       "      <td>95.0</td>\n",
       "      <td>0.1</td>\n",
       "      <td>5237.255334</td>\n",
       "      <td>795383.0</td>\n",
       "      <td>2.0</td>\n",
       "      <td>2.0</td>\n",
       "      <td>0.775</td>\n",
       "      <td>14.4</td>\n",
       "    </tr>\n",
       "    <tr>\n",
       "      <th>1471</th>\n",
       "      <td>Lebanon</td>\n",
       "      <td>2002</td>\n",
       "      <td>Developing</td>\n",
       "      <td>73.2</td>\n",
       "      <td>17.0</td>\n",
       "      <td>1</td>\n",
       "      <td>1.98</td>\n",
       "      <td>70.132078</td>\n",
       "      <td>77.0</td>\n",
       "      <td>36</td>\n",
       "      <td>...</td>\n",
       "      <td>77.0</td>\n",
       "      <td>1.50</td>\n",
       "      <td>77.0</td>\n",
       "      <td>0.1</td>\n",
       "      <td>5436.595223</td>\n",
       "      <td>3522837.0</td>\n",
       "      <td>4.8</td>\n",
       "      <td>4.7</td>\n",
       "      <td>0.000</td>\n",
       "      <td>15.2</td>\n",
       "    </tr>\n",
       "  </tbody>\n",
       "</table>\n",
       "<p>10 rows × 22 columns</p>\n",
       "</div>"
      ],
      "text/plain": [
       "                                 Country  Year      Status  Life expectancy   \\\n",
       "2866  Venezuela (Bolivarian Republic of)  2007  Developing              73.4   \n",
       "2008                                Peru  2014  Developing              75.3   \n",
       "1815                               Nepal  2013  Developing              69.3   \n",
       "2362                     Solomon Islands  2014  Developing              68.8   \n",
       "2926                            Zimbabwe  2011  Developing              54.9   \n",
       "495                             Cameroon  2000  Developing              51.4   \n",
       "2171                         Saint Lucia  2012  Developing              74.7   \n",
       "1820                               Nepal  2008  Developing              67.0   \n",
       "2265                              Serbia  2015  Developing              75.6   \n",
       "1471                             Lebanon  2002  Developing              73.2   \n",
       "\n",
       "      Adult Mortality  infant deaths  Alcohol  percentage expenditure  \\\n",
       "2866            165.0              9     8.70                0.000000   \n",
       "2008            125.0              8     0.01              973.728675   \n",
       "1815            162.0             19     0.27               80.155051   \n",
       "2362            183.0              0     0.01                3.718439   \n",
       "2926            464.0             28     6.00               63.750530   \n",
       "495             394.0             62     3.91                4.720594   \n",
       "2171            142.0              0     9.99                0.000000   \n",
       "1820            189.0             27     0.21               70.271132   \n",
       "2265            121.0              1      NaN                0.000000   \n",
       "1471             17.0              1     1.98               70.132078   \n",
       "\n",
       "      Hepatitis B  Measles   ...  Polio  Total expenditure  Diphtheria   \\\n",
       "2866         62.0        32  ...   67.0               5.25         62.0   \n",
       "2008         88.0         0  ...   78.0               5.47         88.0   \n",
       "1815         92.0      1861  ...   92.0               5.69         92.0   \n",
       "2362         88.0         0  ...   94.0               5.50         88.0   \n",
       "2926         94.0         0  ...   93.0               6.31         93.0   \n",
       "495           NaN     14629  ...   57.0               4.48         62.0   \n",
       "2171         98.0         0  ...   98.0               8.35         98.0   \n",
       "1820         82.0      2089  ...   82.0               6.44         82.0   \n",
       "2265         94.0       383  ...   95.0                NaN         95.0   \n",
       "1471         77.0        36  ...   77.0               1.50         77.0   \n",
       "\n",
       "       HIV/AIDS          GDP   Population   thinness  1-19 years  \\\n",
       "2866        0.1          NaN          NaN                    1.6   \n",
       "2008        0.1  6491.524500    3973354.0                    1.1   \n",
       "1815        0.1   688.617279    2798531.0                   16.1   \n",
       "2362        0.1    29.652622      57554.0                    1.1   \n",
       "2926       13.3   839.927936   14386649.0                    6.8   \n",
       "495         7.7    68.414399   15274234.0                    7.7   \n",
       "2171        0.1          NaN          NaN                    4.3   \n",
       "1820        0.2   473.844449   26475859.0                   17.0   \n",
       "2265        0.1  5237.255334     795383.0                    2.0   \n",
       "1471        0.1  5436.595223    3522837.0                    4.8   \n",
       "\n",
       "       thinness 5-9 years  Income composition of resources  Schooling  \n",
       "2866                  1.5                            0.728       12.9  \n",
       "2008                  1.1                            0.735       13.4  \n",
       "1815                 16.5                            0.545       12.3  \n",
       "2362                  1.2                            0.512        9.6  \n",
       "2926                  6.7                            0.452       10.1  \n",
       "495                   7.8                            0.433        6.9  \n",
       "2171                  4.3                            0.735       13.0  \n",
       "1820                 17.6                            0.492       10.1  \n",
       "2265                  2.0                            0.775       14.4  \n",
       "1471                  4.7                            0.000       15.2  \n",
       "\n",
       "[10 rows x 22 columns]"
      ]
     },
     "execution_count": 60,
     "metadata": {},
     "output_type": "execute_result"
    }
   ],
   "source": [
    "# Amostra dos dados\n",
    "df_dsa.sample(10)"
   ]
  },
  {
   "cell_type": "markdown",
   "metadata": {},
   "source": [
    "## Ajuste Inicial nos Dados"
   ]
  },
  {
   "cell_type": "code",
   "execution_count": 61,
   "metadata": {},
   "outputs": [
    {
     "data": {
      "text/plain": [
       "Index(['Country', 'Year', 'Status', 'Life expectancy ', 'Adult Mortality',\n",
       "       'infant deaths', 'Alcohol', 'percentage expenditure', 'Hepatitis B',\n",
       "       'Measles ', ' BMI ', 'under-five deaths ', 'Polio', 'Total expenditure',\n",
       "       'Diphtheria ', ' HIV/AIDS', 'GDP', ' Population',\n",
       "       ' thinness  1-19 years', ' thinness 5-9 years',\n",
       "       'Income composition of resources', 'Schooling'],\n",
       "      dtype='object')"
      ]
     },
     "execution_count": 61,
     "metadata": {},
     "output_type": "execute_result"
    }
   ],
   "source": [
    "# Colunas\n",
    "df_dsa.columns"
   ]
  },
  {
   "cell_type": "code",
   "execution_count": 63,
   "metadata": {},
   "outputs": [],
   "source": [
    "# Criando um novo dataset e ajustando o nome das variáveis\n",
    "# Observe que estamos desconsiderando algumas variáveis:\n",
    "# percentage expenditure, under-five deaths e Income composition of resources não estão sendo consideradas\n",
    "# Essas variáveis não apresentam descrição clara na fonte de dados e por isso estão sendo removidas da análise\n",
    "df = pd.DataFrame({'country': df_dsa['Country'],\n",
    "                   'life_expectancy': df_dsa['Life expectancy '],\n",
    "                   'year': df_dsa['Year'],\n",
    "                   'status': df_dsa['Status'],\n",
    "                   'adult_mortality': df_dsa['Adult Mortality'],\n",
    "                   'inf_death': df_dsa['infant deaths'],\n",
    "                   'alcohol': df_dsa['Alcohol'],\n",
    "                   'hepatitisB': df_dsa['Hepatitis B'],\n",
    "                   'measles': df_dsa['Measles '],\n",
    "                   'bmi': df_dsa[' BMI '],\n",
    "                   'polio': df_dsa['Polio'],\n",
    "                   'diphtheria': df_dsa['Diphtheria '],\n",
    "                   'hiv': df_dsa[' HIV/AIDS'],\n",
    "                   'gdp': df_dsa['GDP'],\n",
    "                   'total_expenditure': df_dsa['Total expenditure'],\n",
    "                   'thinness_till19': df_dsa[' thinness  1-19 years'],\n",
    "                   'thinness_till9': df_dsa[' thinness 5-9 years'],\n",
    "                   'school': df_dsa['Schooling'],\n",
    "                   'population': df_dsa[' Population']})"
   ]
  },
  {
   "cell_type": "code",
   "execution_count": 64,
   "metadata": {},
   "outputs": [
    {
     "data": {
      "text/plain": [
       "country               object\n",
       "life_expectancy      float64\n",
       "year                   int64\n",
       "status                object\n",
       "adult_mortality      float64\n",
       "inf_death              int64\n",
       "alcohol              float64\n",
       "hepatitisB           float64\n",
       "measles                int64\n",
       "bmi                  float64\n",
       "polio                float64\n",
       "diphtheria           float64\n",
       "hiv                  float64\n",
       "gdp                  float64\n",
       "total_expenditure    float64\n",
       "thinness_till19      float64\n",
       "thinness_till9       float64\n",
       "school               float64\n",
       "population           float64\n",
       "dtype: object"
      ]
     },
     "execution_count": 64,
     "metadata": {},
     "output_type": "execute_result"
    }
   ],
   "source": [
    "# Tipos de dados\n",
    "df.dtypes"
   ]
  },
  {
   "cell_type": "code",
   "execution_count": 65,
   "metadata": {},
   "outputs": [
    {
     "data": {
      "text/plain": [
       "(2938, 19)"
      ]
     },
     "execution_count": 65,
     "metadata": {},
     "output_type": "execute_result"
    }
   ],
   "source": [
    "# Shape\n",
    "df.shape"
   ]
  },
  {
   "cell_type": "code",
   "execution_count": 10,
   "metadata": {},
   "outputs": [
    {
     "data": {
      "text/html": [
       "<div>\n",
       "<style scoped>\n",
       "    .dataframe tbody tr th:only-of-type {\n",
       "        vertical-align: middle;\n",
       "    }\n",
       "\n",
       "    .dataframe tbody tr th {\n",
       "        vertical-align: top;\n",
       "    }\n",
       "\n",
       "    .dataframe thead th {\n",
       "        text-align: right;\n",
       "    }\n",
       "</style>\n",
       "<table border=\"1\" class=\"dataframe\">\n",
       "  <thead>\n",
       "    <tr style=\"text-align: right;\">\n",
       "      <th></th>\n",
       "      <th>country</th>\n",
       "      <th>life_expectancy</th>\n",
       "      <th>year</th>\n",
       "      <th>status</th>\n",
       "      <th>adult_mortality</th>\n",
       "      <th>inf_death</th>\n",
       "      <th>alcohol</th>\n",
       "      <th>hepatitisB</th>\n",
       "      <th>measles</th>\n",
       "      <th>bmi</th>\n",
       "      <th>polio</th>\n",
       "      <th>diphtheria</th>\n",
       "      <th>hiv</th>\n",
       "      <th>gdp</th>\n",
       "      <th>total_expenditure</th>\n",
       "      <th>thinness_till19</th>\n",
       "      <th>thinness_till9</th>\n",
       "      <th>school</th>\n",
       "      <th>population</th>\n",
       "    </tr>\n",
       "  </thead>\n",
       "  <tbody>\n",
       "    <tr>\n",
       "      <th>0</th>\n",
       "      <td>Afghanistan</td>\n",
       "      <td>65.0</td>\n",
       "      <td>2015</td>\n",
       "      <td>Developing</td>\n",
       "      <td>263.0</td>\n",
       "      <td>62</td>\n",
       "      <td>0.01</td>\n",
       "      <td>65.0</td>\n",
       "      <td>1154</td>\n",
       "      <td>19.1</td>\n",
       "      <td>6.0</td>\n",
       "      <td>65.0</td>\n",
       "      <td>0.1</td>\n",
       "      <td>584.259210</td>\n",
       "      <td>8.16</td>\n",
       "      <td>17.2</td>\n",
       "      <td>17.3</td>\n",
       "      <td>10.1</td>\n",
       "      <td>33736494.0</td>\n",
       "    </tr>\n",
       "    <tr>\n",
       "      <th>1</th>\n",
       "      <td>Afghanistan</td>\n",
       "      <td>59.9</td>\n",
       "      <td>2014</td>\n",
       "      <td>Developing</td>\n",
       "      <td>271.0</td>\n",
       "      <td>64</td>\n",
       "      <td>0.01</td>\n",
       "      <td>62.0</td>\n",
       "      <td>492</td>\n",
       "      <td>18.6</td>\n",
       "      <td>58.0</td>\n",
       "      <td>62.0</td>\n",
       "      <td>0.1</td>\n",
       "      <td>612.696514</td>\n",
       "      <td>8.18</td>\n",
       "      <td>17.5</td>\n",
       "      <td>17.5</td>\n",
       "      <td>10.0</td>\n",
       "      <td>327582.0</td>\n",
       "    </tr>\n",
       "    <tr>\n",
       "      <th>2</th>\n",
       "      <td>Afghanistan</td>\n",
       "      <td>59.9</td>\n",
       "      <td>2013</td>\n",
       "      <td>Developing</td>\n",
       "      <td>268.0</td>\n",
       "      <td>66</td>\n",
       "      <td>0.01</td>\n",
       "      <td>64.0</td>\n",
       "      <td>430</td>\n",
       "      <td>18.1</td>\n",
       "      <td>62.0</td>\n",
       "      <td>64.0</td>\n",
       "      <td>0.1</td>\n",
       "      <td>631.744976</td>\n",
       "      <td>8.13</td>\n",
       "      <td>17.7</td>\n",
       "      <td>17.7</td>\n",
       "      <td>9.9</td>\n",
       "      <td>31731688.0</td>\n",
       "    </tr>\n",
       "    <tr>\n",
       "      <th>3</th>\n",
       "      <td>Afghanistan</td>\n",
       "      <td>59.5</td>\n",
       "      <td>2012</td>\n",
       "      <td>Developing</td>\n",
       "      <td>272.0</td>\n",
       "      <td>69</td>\n",
       "      <td>0.01</td>\n",
       "      <td>67.0</td>\n",
       "      <td>2787</td>\n",
       "      <td>17.6</td>\n",
       "      <td>67.0</td>\n",
       "      <td>67.0</td>\n",
       "      <td>0.1</td>\n",
       "      <td>669.959000</td>\n",
       "      <td>8.52</td>\n",
       "      <td>17.9</td>\n",
       "      <td>18.0</td>\n",
       "      <td>9.8</td>\n",
       "      <td>3696958.0</td>\n",
       "    </tr>\n",
       "    <tr>\n",
       "      <th>4</th>\n",
       "      <td>Afghanistan</td>\n",
       "      <td>59.2</td>\n",
       "      <td>2011</td>\n",
       "      <td>Developing</td>\n",
       "      <td>275.0</td>\n",
       "      <td>71</td>\n",
       "      <td>0.01</td>\n",
       "      <td>68.0</td>\n",
       "      <td>3013</td>\n",
       "      <td>17.2</td>\n",
       "      <td>68.0</td>\n",
       "      <td>68.0</td>\n",
       "      <td>0.1</td>\n",
       "      <td>63.537231</td>\n",
       "      <td>7.87</td>\n",
       "      <td>18.2</td>\n",
       "      <td>18.2</td>\n",
       "      <td>9.5</td>\n",
       "      <td>2978599.0</td>\n",
       "    </tr>\n",
       "  </tbody>\n",
       "</table>\n",
       "</div>"
      ],
      "text/plain": [
       "       country  life_expectancy  year      status  adult_mortality  inf_death  \\\n",
       "0  Afghanistan             65.0  2015  Developing            263.0         62   \n",
       "1  Afghanistan             59.9  2014  Developing            271.0         64   \n",
       "2  Afghanistan             59.9  2013  Developing            268.0         66   \n",
       "3  Afghanistan             59.5  2012  Developing            272.0         69   \n",
       "4  Afghanistan             59.2  2011  Developing            275.0         71   \n",
       "\n",
       "   alcohol  hepatitisB  measles   bmi  polio  diphtheria  hiv         gdp  \\\n",
       "0     0.01        65.0     1154  19.1    6.0        65.0  0.1  584.259210   \n",
       "1     0.01        62.0      492  18.6   58.0        62.0  0.1  612.696514   \n",
       "2     0.01        64.0      430  18.1   62.0        64.0  0.1  631.744976   \n",
       "3     0.01        67.0     2787  17.6   67.0        67.0  0.1  669.959000   \n",
       "4     0.01        68.0     3013  17.2   68.0        68.0  0.1   63.537231   \n",
       "\n",
       "   total_expenditure  thinness_till19  thinness_till9  school  population  \n",
       "0               8.16             17.2            17.3    10.1  33736494.0  \n",
       "1               8.18             17.5            17.5    10.0    327582.0  \n",
       "2               8.13             17.7            17.7     9.9  31731688.0  \n",
       "3               8.52             17.9            18.0     9.8   3696958.0  \n",
       "4               7.87             18.2            18.2     9.5   2978599.0  "
      ]
     },
     "execution_count": 10,
     "metadata": {},
     "output_type": "execute_result"
    }
   ],
   "source": [
    "# Dataset\n",
    "df.head()"
   ]
  },
  {
   "cell_type": "markdown",
   "metadata": {},
   "source": [
    "## Análise Exploratória"
   ]
  },
  {
   "cell_type": "code",
   "execution_count": 11,
   "metadata": {},
   "outputs": [],
   "source": [
    "# Cria um dicionário com a descrição de cada variável\n",
    "dsa_df_dict = {\n",
    "    \"country\": \"País de origem dos dados.\",\n",
    "    \"life_expectancy\": \"Expectativa de vida ao nascer, em anos.\",\n",
    "    \"year\": \"Ano em que os dados foram coletados.\",\n",
    "    \"status\": \"Status de desenvolvimento do país ('Developing' para países em desenvolvimento, 'Developed' para países desenvolvidos).\",\n",
    "    \"adult_mortality\": \"Taxa de mortalidade de adultos entre 15 e 60 anos por 1000 habitantes.\",\n",
    "    \"inf_death\": \"Número de mortes de crianças com menos de 5 anos por 1000 nascidos vivos.\",\n",
    "    \"alcohol\": \"Consumo de álcool per capita (litros de álcool puro por ano).\",\n",
    "    \"hepatitisB\": \"Cobertura de vacinação contra hepatite B em crianças de 1 ano (%).\",\n",
    "    \"measles\": \"Número de casos de sarampo relatados por 1000 habitantes.\",\n",
    "    \"bmi\": \"Índice médio de massa corporal da população adulta.\",\n",
    "    \"polio\": \"Cobertura de vacinação contra poliomielite em crianças de 1 ano (%).\",\n",
    "    \"diphtheria\": \"Cobertura de vacinação contra difteria, tétano e coqueluche (DTP3) em crianças de 1 ano (%).\",\n",
    "    \"hiv\": \"Prevalência de HIV na população adulta (%).\",\n",
    "    \"gdp\": \"Produto Interno Bruto per capita (em dólares americanos).\",\n",
    "    \"total_expenditure\": \"Gasto total em saúde como porcentagem do PIB.\",\n",
    "    \"thinness_till19\": \"Prevalência de magreza em crianças e adolescentes de 10 a 19 anos (%).\",\n",
    "    \"thinness_till9\": \"Prevalência de magreza em crianças de 5 a 9 anos (%).\",\n",
    "    \"school\": \"Número médio de anos de escolaridade.\",\n",
    "    \"population\": \"População total do país.\"\n",
    "}"
   ]
  },
  {
   "cell_type": "code",
   "execution_count": 12,
   "metadata": {},
   "outputs": [
    {
     "data": {
      "text/plain": [
       "'Expectativa de vida ao nascer, em anos.'"
      ]
     },
     "execution_count": 12,
     "metadata": {},
     "output_type": "execute_result"
    }
   ],
   "source": [
    "# Agora é só consultar sempre que tiver dúvidas sobre cada variável\n",
    "dsa_df_dict['life_expectancy']"
   ]
  },
  {
   "cell_type": "code",
   "execution_count": 13,
   "metadata": {},
   "outputs": [
    {
     "data": {
      "image/png": "[encoded data removed]",
      "text/plain": [
       "<Figure size 640x480 with 1 Axes>"
      ]
     },
     "metadata": {},
     "output_type": "display_data"
    }
   ],
   "source": [
    "# Plot do histograma da variável alvo (variável quantitativa)\n",
    "df['life_expectancy'].hist();"
   ]
  },
  {
   "cell_type": "code",
   "execution_count": 14,
   "metadata": {},
   "outputs": [
    {
     "data": {
      "text/html": [
       "<div>\n",
       "<style scoped>\n",
       "    .dataframe tbody tr th:only-of-type {\n",
       "        vertical-align: middle;\n",
       "    }\n",
       "\n",
       "    .dataframe tbody tr th {\n",
       "        vertical-align: top;\n",
       "    }\n",
       "\n",
       "    .dataframe thead th {\n",
       "        text-align: right;\n",
       "    }\n",
       "</style>\n",
       "<table border=\"1\" class=\"dataframe\">\n",
       "  <thead>\n",
       "    <tr style=\"text-align: right;\">\n",
       "      <th></th>\n",
       "      <th>life_expectancy</th>\n",
       "      <th>year</th>\n",
       "      <th>adult_mortality</th>\n",
       "      <th>inf_death</th>\n",
       "      <th>alcohol</th>\n",
       "      <th>hepatitisB</th>\n",
       "      <th>measles</th>\n",
       "      <th>bmi</th>\n",
       "      <th>polio</th>\n",
       "      <th>diphtheria</th>\n",
       "      <th>hiv</th>\n",
       "      <th>gdp</th>\n",
       "      <th>total_expenditure</th>\n",
       "      <th>thinness_till19</th>\n",
       "      <th>thinness_till9</th>\n",
       "      <th>school</th>\n",
       "      <th>population</th>\n",
       "    </tr>\n",
       "  </thead>\n",
       "  <tbody>\n",
       "    <tr>\n",
       "      <th>count</th>\n",
       "      <td>2928.000000</td>\n",
       "      <td>2938.000000</td>\n",
       "      <td>2928.000000</td>\n",
       "      <td>2938.000000</td>\n",
       "      <td>2744.000000</td>\n",
       "      <td>2385.000000</td>\n",
       "      <td>2938.000000</td>\n",
       "      <td>2904.000000</td>\n",
       "      <td>2919.000000</td>\n",
       "      <td>2919.000000</td>\n",
       "      <td>2938.000000</td>\n",
       "      <td>2490.000000</td>\n",
       "      <td>2712.00000</td>\n",
       "      <td>2904.000000</td>\n",
       "      <td>2904.000000</td>\n",
       "      <td>2775.000000</td>\n",
       "      <td>2.286000e+03</td>\n",
       "    </tr>\n",
       "    <tr>\n",
       "      <th>mean</th>\n",
       "      <td>69.224932</td>\n",
       "      <td>2007.518720</td>\n",
       "      <td>164.796448</td>\n",
       "      <td>30.303948</td>\n",
       "      <td>4.602861</td>\n",
       "      <td>80.940461</td>\n",
       "      <td>2419.592240</td>\n",
       "      <td>38.321247</td>\n",
       "      <td>82.550188</td>\n",
       "      <td>82.324084</td>\n",
       "      <td>1.742103</td>\n",
       "      <td>7483.158469</td>\n",
       "      <td>5.93819</td>\n",
       "      <td>4.839704</td>\n",
       "      <td>4.870317</td>\n",
       "      <td>11.992793</td>\n",
       "      <td>1.275338e+07</td>\n",
       "    </tr>\n",
       "    <tr>\n",
       "      <th>std</th>\n",
       "      <td>9.523867</td>\n",
       "      <td>4.613841</td>\n",
       "      <td>124.292079</td>\n",
       "      <td>117.926501</td>\n",
       "      <td>4.052413</td>\n",
       "      <td>25.070016</td>\n",
       "      <td>11467.272489</td>\n",
       "      <td>20.044034</td>\n",
       "      <td>23.428046</td>\n",
       "      <td>23.716912</td>\n",
       "      <td>5.077785</td>\n",
       "      <td>14270.169342</td>\n",
       "      <td>2.49832</td>\n",
       "      <td>4.420195</td>\n",
       "      <td>4.508882</td>\n",
       "      <td>3.358920</td>\n",
       "      <td>6.101210e+07</td>\n",
       "    </tr>\n",
       "    <tr>\n",
       "      <th>min</th>\n",
       "      <td>36.300000</td>\n",
       "      <td>2000.000000</td>\n",
       "      <td>1.000000</td>\n",
       "      <td>0.000000</td>\n",
       "      <td>0.010000</td>\n",
       "      <td>1.000000</td>\n",
       "      <td>0.000000</td>\n",
       "      <td>1.000000</td>\n",
       "      <td>3.000000</td>\n",
       "      <td>2.000000</td>\n",
       "      <td>0.100000</td>\n",
       "      <td>1.681350</td>\n",
       "      <td>0.37000</td>\n",
       "      <td>0.100000</td>\n",
       "      <td>0.100000</td>\n",
       "      <td>0.000000</td>\n",
       "      <td>3.400000e+01</td>\n",
       "    </tr>\n",
       "    <tr>\n",
       "      <th>25%</th>\n",
       "      <td>63.100000</td>\n",
       "      <td>2004.000000</td>\n",
       "      <td>74.000000</td>\n",
       "      <td>0.000000</td>\n",
       "      <td>0.877500</td>\n",
       "      <td>77.000000</td>\n",
       "      <td>0.000000</td>\n",
       "      <td>19.300000</td>\n",
       "      <td>78.000000</td>\n",
       "      <td>78.000000</td>\n",
       "      <td>0.100000</td>\n",
       "      <td>463.935626</td>\n",
       "      <td>4.26000</td>\n",
       "      <td>1.600000</td>\n",
       "      <td>1.500000</td>\n",
       "      <td>10.100000</td>\n",
       "      <td>1.957932e+05</td>\n",
       "    </tr>\n",
       "    <tr>\n",
       "      <th>50%</th>\n",
       "      <td>72.100000</td>\n",
       "      <td>2008.000000</td>\n",
       "      <td>144.000000</td>\n",
       "      <td>3.000000</td>\n",
       "      <td>3.755000</td>\n",
       "      <td>92.000000</td>\n",
       "      <td>17.000000</td>\n",
       "      <td>43.500000</td>\n",
       "      <td>93.000000</td>\n",
       "      <td>93.000000</td>\n",
       "      <td>0.100000</td>\n",
       "      <td>1766.947595</td>\n",
       "      <td>5.75500</td>\n",
       "      <td>3.300000</td>\n",
       "      <td>3.300000</td>\n",
       "      <td>12.300000</td>\n",
       "      <td>1.386542e+06</td>\n",
       "    </tr>\n",
       "    <tr>\n",
       "      <th>75%</th>\n",
       "      <td>75.700000</td>\n",
       "      <td>2012.000000</td>\n",
       "      <td>228.000000</td>\n",
       "      <td>22.000000</td>\n",
       "      <td>7.702500</td>\n",
       "      <td>97.000000</td>\n",
       "      <td>360.250000</td>\n",
       "      <td>56.200000</td>\n",
       "      <td>97.000000</td>\n",
       "      <td>97.000000</td>\n",
       "      <td>0.800000</td>\n",
       "      <td>5910.806335</td>\n",
       "      <td>7.49250</td>\n",
       "      <td>7.200000</td>\n",
       "      <td>7.200000</td>\n",
       "      <td>14.300000</td>\n",
       "      <td>7.420359e+06</td>\n",
       "    </tr>\n",
       "    <tr>\n",
       "      <th>max</th>\n",
       "      <td>89.000000</td>\n",
       "      <td>2015.000000</td>\n",
       "      <td>723.000000</td>\n",
       "      <td>1800.000000</td>\n",
       "      <td>17.870000</td>\n",
       "      <td>99.000000</td>\n",
       "      <td>212183.000000</td>\n",
       "      <td>87.300000</td>\n",
       "      <td>99.000000</td>\n",
       "      <td>99.000000</td>\n",
       "      <td>50.600000</td>\n",
       "      <td>119172.741800</td>\n",
       "      <td>17.60000</td>\n",
       "      <td>27.700000</td>\n",
       "      <td>28.600000</td>\n",
       "      <td>20.700000</td>\n",
       "      <td>1.293859e+09</td>\n",
       "    </tr>\n",
       "  </tbody>\n",
       "</table>\n",
       "</div>"
      ],
      "text/plain": [
       "       life_expectancy         year  adult_mortality    inf_death  \\\n",
       "count      2928.000000  2938.000000      2928.000000  2938.000000   \n",
       "mean         69.224932  2007.518720       164.796448    30.303948   \n",
       "std           9.523867     4.613841       124.292079   117.926501   \n",
       "min          36.300000  2000.000000         1.000000     0.000000   \n",
       "25%          63.100000  2004.000000        74.000000     0.000000   \n",
       "50%          72.100000  2008.000000       144.000000     3.000000   \n",
       "75%          75.700000  2012.000000       228.000000    22.000000   \n",
       "max          89.000000  2015.000000       723.000000  1800.000000   \n",
       "\n",
       "           alcohol   hepatitisB        measles          bmi        polio  \\\n",
       "count  2744.000000  2385.000000    2938.000000  2904.000000  2919.000000   \n",
       "mean      4.602861    80.940461    2419.592240    38.321247    82.550188   \n",
       "std       4.052413    25.070016   11467.272489    20.044034    23.428046   \n",
       "min       0.010000     1.000000       0.000000     1.000000     3.000000   \n",
       "25%       0.877500    77.000000       0.000000    19.300000    78.000000   \n",
       "50%       3.755000    92.000000      17.000000    43.500000    93.000000   \n",
       "75%       7.702500    97.000000     360.250000    56.200000    97.000000   \n",
       "max      17.870000    99.000000  212183.000000    87.300000    99.000000   \n",
       "\n",
       "        diphtheria          hiv            gdp  total_expenditure  \\\n",
       "count  2919.000000  2938.000000    2490.000000         2712.00000   \n",
       "mean     82.324084     1.742103    7483.158469            5.93819   \n",
       "std      23.716912     5.077785   14270.169342            2.49832   \n",
       "min       2.000000     0.100000       1.681350            0.37000   \n",
       "25%      78.000000     0.100000     463.935626            4.26000   \n",
       "50%      93.000000     0.100000    1766.947595            5.75500   \n",
       "75%      97.000000     0.800000    5910.806335            7.49250   \n",
       "max      99.000000    50.600000  119172.741800           17.60000   \n",
       "\n",
       "       thinness_till19  thinness_till9       school    population  \n",
       "count      2904.000000     2904.000000  2775.000000  2.286000e+03  \n",
       "mean          4.839704        4.870317    11.992793  1.275338e+07  \n",
       "std           4.420195        4.508882     3.358920  6.101210e+07  \n",
       "min           0.100000        0.100000     0.000000  3.400000e+01  \n",
       "25%           1.600000        1.500000    10.100000  1.957932e+05  \n",
       "50%           3.300000        3.300000    12.300000  1.386542e+06  \n",
       "75%           7.200000        7.200000    14.300000  7.420359e+06  \n",
       "max          27.700000       28.600000    20.700000  1.293859e+09  "
      ]
     },
     "execution_count": 14,
     "metadata": {},
     "output_type": "execute_result"
    }
   ],
   "source": [
    "# Resumo estatístico (variáveis numéricas)\n",
    "df.describe()"
   ]
  },
  {
   "cell_type": "code",
   "execution_count": 15,
   "metadata": {},
   "outputs": [
    {
     "data": {
      "text/html": [
       "<div>\n",
       "<style scoped>\n",
       "    .dataframe tbody tr th:only-of-type {\n",
       "        vertical-align: middle;\n",
       "    }\n",
       "\n",
       "    .dataframe tbody tr th {\n",
       "        vertical-align: top;\n",
       "    }\n",
       "\n",
       "    .dataframe thead th {\n",
       "        text-align: right;\n",
       "    }\n",
       "</style>\n",
       "<table border=\"1\" class=\"dataframe\">\n",
       "  <thead>\n",
       "    <tr style=\"text-align: right;\">\n",
       "      <th></th>\n",
       "      <th>country</th>\n",
       "      <th>status</th>\n",
       "    </tr>\n",
       "  </thead>\n",
       "  <tbody>\n",
       "    <tr>\n",
       "      <th>count</th>\n",
       "      <td>2938</td>\n",
       "      <td>2938</td>\n",
       "    </tr>\n",
       "    <tr>\n",
       "      <th>unique</th>\n",
       "      <td>193</td>\n",
       "      <td>2</td>\n",
       "    </tr>\n",
       "    <tr>\n",
       "      <th>top</th>\n",
       "      <td>Afghanistan</td>\n",
       "      <td>Developing</td>\n",
       "    </tr>\n",
       "    <tr>\n",
       "      <th>freq</th>\n",
       "      <td>16</td>\n",
       "      <td>2426</td>\n",
       "    </tr>\n",
       "  </tbody>\n",
       "</table>\n",
       "</div>"
      ],
      "text/plain": [
       "            country      status\n",
       "count          2938        2938\n",
       "unique          193           2\n",
       "top     Afghanistan  Developing\n",
       "freq             16        2426"
      ]
     },
     "execution_count": 15,
     "metadata": {},
     "output_type": "execute_result"
    }
   ],
   "source": [
    "# Resumo estatístico (variáveis categóricas)\n",
    "df.describe(include=['object'])"
   ]
  },
  {
   "cell_type": "code",
   "execution_count": 16,
   "metadata": {},
   "outputs": [
    {
     "data": {
      "text/html": [
       "<div>\n",
       "<style scoped>\n",
       "    .dataframe tbody tr th:only-of-type {\n",
       "        vertical-align: middle;\n",
       "    }\n",
       "\n",
       "    .dataframe tbody tr th {\n",
       "        vertical-align: top;\n",
       "    }\n",
       "\n",
       "    .dataframe thead th {\n",
       "        text-align: right;\n",
       "    }\n",
       "</style>\n",
       "<table border=\"1\" class=\"dataframe\">\n",
       "  <thead>\n",
       "    <tr style=\"text-align: right;\">\n",
       "      <th></th>\n",
       "      <th>country</th>\n",
       "      <th>life_expectancy</th>\n",
       "      <th>year</th>\n",
       "      <th>status</th>\n",
       "      <th>adult_mortality</th>\n",
       "      <th>inf_death</th>\n",
       "      <th>alcohol</th>\n",
       "      <th>hepatitisB</th>\n",
       "      <th>measles</th>\n",
       "      <th>bmi</th>\n",
       "      <th>polio</th>\n",
       "      <th>diphtheria</th>\n",
       "      <th>hiv</th>\n",
       "      <th>gdp</th>\n",
       "      <th>total_expenditure</th>\n",
       "      <th>thinness_till19</th>\n",
       "      <th>thinness_till9</th>\n",
       "      <th>school</th>\n",
       "      <th>population</th>\n",
       "    </tr>\n",
       "  </thead>\n",
       "  <tbody>\n",
       "    <tr>\n",
       "      <th>count</th>\n",
       "      <td>2938</td>\n",
       "      <td>2928.000000</td>\n",
       "      <td>2938.000000</td>\n",
       "      <td>2938</td>\n",
       "      <td>2928.000000</td>\n",
       "      <td>2938.000000</td>\n",
       "      <td>2744.000000</td>\n",
       "      <td>2385.000000</td>\n",
       "      <td>2938.000000</td>\n",
       "      <td>2904.000000</td>\n",
       "      <td>2919.000000</td>\n",
       "      <td>2919.000000</td>\n",
       "      <td>2938.000000</td>\n",
       "      <td>2490.000000</td>\n",
       "      <td>2712.00000</td>\n",
       "      <td>2904.000000</td>\n",
       "      <td>2904.000000</td>\n",
       "      <td>2775.000000</td>\n",
       "      <td>2.286000e+03</td>\n",
       "    </tr>\n",
       "    <tr>\n",
       "      <th>unique</th>\n",
       "      <td>193</td>\n",
       "      <td>NaN</td>\n",
       "      <td>NaN</td>\n",
       "      <td>2</td>\n",
       "      <td>NaN</td>\n",
       "      <td>NaN</td>\n",
       "      <td>NaN</td>\n",
       "      <td>NaN</td>\n",
       "      <td>NaN</td>\n",
       "      <td>NaN</td>\n",
       "      <td>NaN</td>\n",
       "      <td>NaN</td>\n",
       "      <td>NaN</td>\n",
       "      <td>NaN</td>\n",
       "      <td>NaN</td>\n",
       "      <td>NaN</td>\n",
       "      <td>NaN</td>\n",
       "      <td>NaN</td>\n",
       "      <td>NaN</td>\n",
       "    </tr>\n",
       "    <tr>\n",
       "      <th>top</th>\n",
       "      <td>Afghanistan</td>\n",
       "      <td>NaN</td>\n",
       "      <td>NaN</td>\n",
       "      <td>Developing</td>\n",
       "      <td>NaN</td>\n",
       "      <td>NaN</td>\n",
       "      <td>NaN</td>\n",
       "      <td>NaN</td>\n",
       "      <td>NaN</td>\n",
       "      <td>NaN</td>\n",
       "      <td>NaN</td>\n",
       "      <td>NaN</td>\n",
       "      <td>NaN</td>\n",
       "      <td>NaN</td>\n",
       "      <td>NaN</td>\n",
       "      <td>NaN</td>\n",
       "      <td>NaN</td>\n",
       "      <td>NaN</td>\n",
       "      <td>NaN</td>\n",
       "    </tr>\n",
       "    <tr>\n",
       "      <th>freq</th>\n",
       "      <td>16</td>\n",
       "      <td>NaN</td>\n",
       "      <td>NaN</td>\n",
       "      <td>2426</td>\n",
       "      <td>NaN</td>\n",
       "      <td>NaN</td>\n",
       "      <td>NaN</td>\n",
       "      <td>NaN</td>\n",
       "      <td>NaN</td>\n",
       "      <td>NaN</td>\n",
       "      <td>NaN</td>\n",
       "      <td>NaN</td>\n",
       "      <td>NaN</td>\n",
       "      <td>NaN</td>\n",
       "      <td>NaN</td>\n",
       "      <td>NaN</td>\n",
       "      <td>NaN</td>\n",
       "      <td>NaN</td>\n",
       "      <td>NaN</td>\n",
       "    </tr>\n",
       "    <tr>\n",
       "      <th>mean</th>\n",
       "      <td>NaN</td>\n",
       "      <td>69.224932</td>\n",
       "      <td>2007.518720</td>\n",
       "      <td>NaN</td>\n",
       "      <td>164.796448</td>\n",
       "      <td>30.303948</td>\n",
       "      <td>4.602861</td>\n",
       "      <td>80.940461</td>\n",
       "      <td>2419.592240</td>\n",
       "      <td>38.321247</td>\n",
       "      <td>82.550188</td>\n",
       "      <td>82.324084</td>\n",
       "      <td>1.742103</td>\n",
       "      <td>7483.158469</td>\n",
       "      <td>5.93819</td>\n",
       "      <td>4.839704</td>\n",
       "      <td>4.870317</td>\n",
       "      <td>11.992793</td>\n",
       "      <td>1.275338e+07</td>\n",
       "    </tr>\n",
       "    <tr>\n",
       "      <th>std</th>\n",
       "      <td>NaN</td>\n",
       "      <td>9.523867</td>\n",
       "      <td>4.613841</td>\n",
       "      <td>NaN</td>\n",
       "      <td>124.292079</td>\n",
       "      <td>117.926501</td>\n",
       "      <td>4.052413</td>\n",
       "      <td>25.070016</td>\n",
       "      <td>11467.272489</td>\n",
       "      <td>20.044034</td>\n",
       "      <td>23.428046</td>\n",
       "      <td>23.716912</td>\n",
       "      <td>5.077785</td>\n",
       "      <td>14270.169342</td>\n",
       "      <td>2.49832</td>\n",
       "      <td>4.420195</td>\n",
       "      <td>4.508882</td>\n",
       "      <td>3.358920</td>\n",
       "      <td>6.101210e+07</td>\n",
       "    </tr>\n",
       "    <tr>\n",
       "      <th>min</th>\n",
       "      <td>NaN</td>\n",
       "      <td>36.300000</td>\n",
       "      <td>2000.000000</td>\n",
       "      <td>NaN</td>\n",
       "      <td>1.000000</td>\n",
       "      <td>0.000000</td>\n",
       "      <td>0.010000</td>\n",
       "      <td>1.000000</td>\n",
       "      <td>0.000000</td>\n",
       "      <td>1.000000</td>\n",
       "      <td>3.000000</td>\n",
       "      <td>2.000000</td>\n",
       "      <td>0.100000</td>\n",
       "      <td>1.681350</td>\n",
       "      <td>0.37000</td>\n",
       "      <td>0.100000</td>\n",
       "      <td>0.100000</td>\n",
       "      <td>0.000000</td>\n",
       "      <td>3.400000e+01</td>\n",
       "    </tr>\n",
       "    <tr>\n",
       "      <th>25%</th>\n",
       "      <td>NaN</td>\n",
       "      <td>63.100000</td>\n",
       "      <td>2004.000000</td>\n",
       "      <td>NaN</td>\n",
       "      <td>74.000000</td>\n",
       "      <td>0.000000</td>\n",
       "      <td>0.877500</td>\n",
       "      <td>77.000000</td>\n",
       "      <td>0.000000</td>\n",
       "      <td>19.300000</td>\n",
       "      <td>78.000000</td>\n",
       "      <td>78.000000</td>\n",
       "      <td>0.100000</td>\n",
       "      <td>463.935626</td>\n",
       "      <td>4.26000</td>\n",
       "      <td>1.600000</td>\n",
       "      <td>1.500000</td>\n",
       "      <td>10.100000</td>\n",
       "      <td>1.957932e+05</td>\n",
       "    </tr>\n",
       "    <tr>\n",
       "      <th>50%</th>\n",
       "      <td>NaN</td>\n",
       "      <td>72.100000</td>\n",
       "      <td>2008.000000</td>\n",
       "      <td>NaN</td>\n",
       "      <td>144.000000</td>\n",
       "      <td>3.000000</td>\n",
       "      <td>3.755000</td>\n",
       "      <td>92.000000</td>\n",
       "      <td>17.000000</td>\n",
       "      <td>43.500000</td>\n",
       "      <td>93.000000</td>\n",
       "      <td>93.000000</td>\n",
       "      <td>0.100000</td>\n",
       "      <td>1766.947595</td>\n",
       "      <td>5.75500</td>\n",
       "      <td>3.300000</td>\n",
       "      <td>3.300000</td>\n",
       "      <td>12.300000</td>\n",
       "      <td>1.386542e+06</td>\n",
       "    </tr>\n",
       "    <tr>\n",
       "      <th>75%</th>\n",
       "      <td>NaN</td>\n",
       "      <td>75.700000</td>\n",
       "      <td>2012.000000</td>\n",
       "      <td>NaN</td>\n",
       "      <td>228.000000</td>\n",
       "      <td>22.000000</td>\n",
       "      <td>7.702500</td>\n",
       "      <td>97.000000</td>\n",
       "      <td>360.250000</td>\n",
       "      <td>56.200000</td>\n",
       "      <td>97.000000</td>\n",
       "      <td>97.000000</td>\n",
       "      <td>0.800000</td>\n",
       "      <td>5910.806335</td>\n",
       "      <td>7.49250</td>\n",
       "      <td>7.200000</td>\n",
       "      <td>7.200000</td>\n",
       "      <td>14.300000</td>\n",
       "      <td>7.420359e+06</td>\n",
       "    </tr>\n",
       "    <tr>\n",
       "      <th>max</th>\n",
       "      <td>NaN</td>\n",
       "      <td>89.000000</td>\n",
       "      <td>2015.000000</td>\n",
       "      <td>NaN</td>\n",
       "      <td>723.000000</td>\n",
       "      <td>1800.000000</td>\n",
       "      <td>17.870000</td>\n",
       "      <td>99.000000</td>\n",
       "      <td>212183.000000</td>\n",
       "      <td>87.300000</td>\n",
       "      <td>99.000000</td>\n",
       "      <td>99.000000</td>\n",
       "      <td>50.600000</td>\n",
       "      <td>119172.741800</td>\n",
       "      <td>17.60000</td>\n",
       "      <td>27.700000</td>\n",
       "      <td>28.600000</td>\n",
       "      <td>20.700000</td>\n",
       "      <td>1.293859e+09</td>\n",
       "    </tr>\n",
       "  </tbody>\n",
       "</table>\n",
       "</div>"
      ],
      "text/plain": [
       "            country  life_expectancy         year      status  \\\n",
       "count          2938      2928.000000  2938.000000        2938   \n",
       "unique          193              NaN          NaN           2   \n",
       "top     Afghanistan              NaN          NaN  Developing   \n",
       "freq             16              NaN          NaN        2426   \n",
       "mean            NaN        69.224932  2007.518720         NaN   \n",
       "std             NaN         9.523867     4.613841         NaN   \n",
       "min             NaN        36.300000  2000.000000         NaN   \n",
       "25%             NaN        63.100000  2004.000000         NaN   \n",
       "50%             NaN        72.100000  2008.000000         NaN   \n",
       "75%             NaN        75.700000  2012.000000         NaN   \n",
       "max             NaN        89.000000  2015.000000         NaN   \n",
       "\n",
       "        adult_mortality    inf_death      alcohol   hepatitisB        measles  \\\n",
       "count       2928.000000  2938.000000  2744.000000  2385.000000    2938.000000   \n",
       "unique              NaN          NaN          NaN          NaN            NaN   \n",
       "top                 NaN          NaN          NaN          NaN            NaN   \n",
       "freq                NaN          NaN          NaN          NaN            NaN   \n",
       "mean         164.796448    30.303948     4.602861    80.940461    2419.592240   \n",
       "std          124.292079   117.926501     4.052413    25.070016   11467.272489   \n",
       "min            1.000000     0.000000     0.010000     1.000000       0.000000   \n",
       "25%           74.000000     0.000000     0.877500    77.000000       0.000000   \n",
       "50%          144.000000     3.000000     3.755000    92.000000      17.000000   \n",
       "75%          228.000000    22.000000     7.702500    97.000000     360.250000   \n",
       "max          723.000000  1800.000000    17.870000    99.000000  212183.000000   \n",
       "\n",
       "                bmi        polio   diphtheria          hiv            gdp  \\\n",
       "count   2904.000000  2919.000000  2919.000000  2938.000000    2490.000000   \n",
       "unique          NaN          NaN          NaN          NaN            NaN   \n",
       "top             NaN          NaN          NaN          NaN            NaN   \n",
       "freq            NaN          NaN          NaN          NaN            NaN   \n",
       "mean      38.321247    82.550188    82.324084     1.742103    7483.158469   \n",
       "std       20.044034    23.428046    23.716912     5.077785   14270.169342   \n",
       "min        1.000000     3.000000     2.000000     0.100000       1.681350   \n",
       "25%       19.300000    78.000000    78.000000     0.100000     463.935626   \n",
       "50%       43.500000    93.000000    93.000000     0.100000    1766.947595   \n",
       "75%       56.200000    97.000000    97.000000     0.800000    5910.806335   \n",
       "max       87.300000    99.000000    99.000000    50.600000  119172.741800   \n",
       "\n",
       "        total_expenditure  thinness_till19  thinness_till9       school  \\\n",
       "count          2712.00000      2904.000000     2904.000000  2775.000000   \n",
       "unique                NaN              NaN             NaN          NaN   \n",
       "top                   NaN              NaN             NaN          NaN   \n",
       "freq                  NaN              NaN             NaN          NaN   \n",
       "mean              5.93819         4.839704        4.870317    11.992793   \n",
       "std               2.49832         4.420195        4.508882     3.358920   \n",
       "min               0.37000         0.100000        0.100000     0.000000   \n",
       "25%               4.26000         1.600000        1.500000    10.100000   \n",
       "50%               5.75500         3.300000        3.300000    12.300000   \n",
       "75%               7.49250         7.200000        7.200000    14.300000   \n",
       "max              17.60000        27.700000       28.600000    20.700000   \n",
       "\n",
       "          population  \n",
       "count   2.286000e+03  \n",
       "unique           NaN  \n",
       "top              NaN  \n",
       "freq             NaN  \n",
       "mean    1.275338e+07  \n",
       "std     6.101210e+07  \n",
       "min     3.400000e+01  \n",
       "25%     1.957932e+05  \n",
       "50%     1.386542e+06  \n",
       "75%     7.420359e+06  \n",
       "max     1.293859e+09  "
      ]
     },
     "execution_count": 16,
     "metadata": {},
     "output_type": "execute_result"
    }
   ],
   "source": [
    "# Resumo estatístico de todas as variáveis\n",
    "df.describe(include = 'all')"
   ]
  },
  {
   "cell_type": "code",
   "execution_count": 17,
   "metadata": {},
   "outputs": [],
   "source": [
    "# Função para o plot da relação da variável alvo com alguns atributos\n",
    "def dsa_get_pairs(data, alvo, atributos, n):\n",
    "    \n",
    "    # Grupos de linhas com 3 (n) gráficos por linha\n",
    "    grupos_linhas = [atributos[i:i+n] for i in range(0, len(atributos), n)]\n",
    "\n",
    "    # Loop pelos grupos de linhas para criar cada pair plot\n",
    "    for linha in grupos_linhas:\n",
    "        plot = sns.pairplot(x_vars = linha, y_vars = alvo, data = data, kind = \"reg\", height = 3)\n",
    "\n",
    "    return"
   ]
  },
  {
   "cell_type": "code",
   "execution_count": 18,
   "metadata": {},
   "outputs": [],
   "source": [
    "# Variável alvo\n",
    "alvo = ['life_expectancy']"
   ]
  },
  {
   "cell_type": "code",
   "execution_count": 19,
   "metadata": {},
   "outputs": [],
   "source": [
    "# Vamos usar alguns atributos\n",
    "atributos = ['population', 'hepatitisB', 'gdp', 'total_expenditure', 'alcohol', 'school'] "
   ]
  },
  {
   "cell_type": "code",
   "execution_count": 20,
   "metadata": {},
   "outputs": [
    {
     "data": {
      "text/plain": [
       "'População total do país.'"
      ]
     },
     "execution_count": 20,
     "metadata": {},
     "output_type": "execute_result"
    }
   ],
   "source": [
    "# Descrição da variável\n",
    "dsa_df_dict['population']"
   ]
  },
  {
   "cell_type": "code",
   "execution_count": 21,
   "metadata": {},
   "outputs": [
    {
     "data": {
      "text/plain": [
       "'Cobertura de vacinação contra hepatite B em crianças de 1 ano (%).'"
      ]
     },
     "execution_count": 21,
     "metadata": {},
     "output_type": "execute_result"
    }
   ],
   "source": [
    "# Descrição da variável\n",
    "dsa_df_dict['hepatitisB']"
   ]
  },
  {
   "cell_type": "code",
   "execution_count": 22,
   "metadata": {},
   "outputs": [
    {
     "data": {
      "text/plain": [
       "'Produto Interno Bruto per capita (em dólares americanos).'"
      ]
     },
     "execution_count": 22,
     "metadata": {},
     "output_type": "execute_result"
    }
   ],
   "source": [
    "# Descrição da variável\n",
    "dsa_df_dict['gdp']"
   ]
  },
  {
   "cell_type": "code",
   "execution_count": 23,
   "metadata": {},
   "outputs": [
    {
     "data": {
      "text/plain": [
       "'Gasto total em saúde como porcentagem do PIB.'"
      ]
     },
     "execution_count": 23,
     "metadata": {},
     "output_type": "execute_result"
    }
   ],
   "source": [
    "# Descrição da variável\n",
    "dsa_df_dict['total_expenditure']"
   ]
  },
  {
   "cell_type": "code",
   "execution_count": 24,
   "metadata": {},
   "outputs": [
    {
     "data": {
      "text/plain": [
       "'Consumo de álcool per capita (litros de álcool puro por ano).'"
      ]
     },
     "execution_count": 24,
     "metadata": {},
     "output_type": "execute_result"
    }
   ],
   "source": [
    "# Descrição da variável\n",
    "dsa_df_dict['alcohol']"
   ]
  },
  {
   "cell_type": "code",
   "execution_count": 25,
   "metadata": {},
   "outputs": [
    {
     "data": {
      "text/plain": [
       "'Número médio de anos de escolaridade.'"
      ]
     },
     "execution_count": 25,
     "metadata": {},
     "output_type": "execute_result"
    }
   ],
   "source": [
    "# Descrição da variável\n",
    "dsa_df_dict['school']"
   ]
  },
  {
   "cell_type": "code",
   "execution_count": 26,
   "metadata": {},
   "outputs": [
    {
     "data": {
      "image/png": "[encoded data removed]",
      "text/plain": [
       "<Figure size 900x300 with 3 Axes>"
      ]
     },
     "metadata": {},
     "output_type": "display_data"
    },
    {
     "data": {
      "image/png": "[encoded data removed]",
      "text/plain": [
       "<Figure size 900x300 with 3 Axes>"
      ]
     },
     "metadata": {},
     "output_type": "display_data"
    }
   ],
   "source": [
    "# Verificando outliers\n",
    "dsa_get_pairs(df, alvo, atributos, 3)"
   ]
  },
  {
   "cell_type": "markdown",
   "metadata": {},
   "source": [
    "## Detectando Valores Ausentes"
   ]
  },
  {
   "cell_type": "code",
   "execution_count": 27,
   "metadata": {},
   "outputs": [
    {
     "data": {
      "text/plain": [
       "country              2938\n",
       "life_expectancy      2928\n",
       "year                 2938\n",
       "status               2938\n",
       "adult_mortality      2928\n",
       "inf_death            2938\n",
       "alcohol              2744\n",
       "hepatitisB           2385\n",
       "measles              2938\n",
       "bmi                  2904\n",
       "polio                2919\n",
       "diphtheria           2919\n",
       "hiv                  2938\n",
       "gdp                  2490\n",
       "total_expenditure    2712\n",
       "thinness_till19      2904\n",
       "thinness_till9       2904\n",
       "school               2775\n",
       "population           2286\n",
       "dtype: int64"
      ]
     },
     "execution_count": 27,
     "metadata": {},
     "output_type": "execute_result"
    }
   ],
   "source": [
    "# Visualizando o total de linhas por coluna\n",
    "df.count()"
   ]
  },
  {
   "cell_type": "code",
   "execution_count": 28,
   "metadata": {},
   "outputs": [],
   "source": [
    "# Extraindo o total de valores ausentes por coluna\n",
    "valores_ausentes = df.isnull().sum().sort_values(ascending = False)"
   ]
  },
  {
   "cell_type": "code",
   "execution_count": 29,
   "metadata": {},
   "outputs": [
    {
     "name": "stdout",
     "output_type": "stream",
     "text": [
      "population           652\n",
      "hepatitisB           553\n",
      "gdp                  448\n",
      "total_expenditure    226\n",
      "alcohol              194\n",
      "school               163\n",
      "thinness_till9        34\n",
      "thinness_till19       34\n",
      "bmi                   34\n",
      "polio                 19\n",
      "diphtheria            19\n",
      "life_expectancy       10\n",
      "adult_mortality       10\n",
      "hiv                    0\n",
      "measles                0\n",
      "inf_death              0\n",
      "status                 0\n",
      "year                   0\n",
      "country                0\n",
      "dtype: int64\n"
     ]
    }
   ],
   "source": [
    "print(valores_ausentes)"
   ]
  },
  {
   "cell_type": "code",
   "execution_count": 30,
   "metadata": {},
   "outputs": [],
   "source": [
    "# Calculando o percentual de valores ausentes\n",
    "valores_ausentes_percent = valores_ausentes[valores_ausentes > 0] / df.shape[0] "
   ]
  },
  {
   "cell_type": "code",
   "execution_count": 31,
   "metadata": {},
   "outputs": [
    {
     "name": "stdout",
     "output_type": "stream",
     "text": [
      "population           22.191967\n",
      "hepatitisB           18.822328\n",
      "gdp                  15.248468\n",
      "total_expenditure     7.692308\n",
      "alcohol               6.603131\n",
      "school                5.547992\n",
      "thinness_till9        1.157250\n",
      "thinness_till19       1.157250\n",
      "bmi                   1.157250\n",
      "polio                 0.646698\n",
      "diphtheria            0.646698\n",
      "life_expectancy       0.340368\n",
      "adult_mortality       0.340368\n",
      "dtype: float64 %\n"
     ]
    }
   ],
   "source": [
    "print(f'{valores_ausentes_percent * 100} %')"
   ]
  },
  {
   "cell_type": "markdown",
   "metadata": {},
   "source": [
    "Qual Estratégia Adotar Para o Tratamento de Valores Ausentes?\n",
    "\n",
    "Vamos discutir algumas opções no videobook do Capítulo 16."
   ]
  },
  {
   "cell_type": "markdown",
   "metadata": {},
   "source": [
    "## Detectando Outliers\n",
    "\n",
    "Vamos começar olhando para as variáveis que têm o maior percentual de valores ausentes."
   ]
  },
  {
   "cell_type": "code",
   "execution_count": 32,
   "metadata": {},
   "outputs": [],
   "source": [
    "# Atributos com mais de 5% de valores missing\n",
    "atributos = ['population', 'hepatitisB', 'gdp', 'total_expenditure', 'alcohol', 'school'] "
   ]
  },
  {
   "cell_type": "code",
   "execution_count": 33,
   "metadata": {},
   "outputs": [],
   "source": [
    "# Cria um novo dataframe\n",
    "novo_dataframe = df[atributos]"
   ]
  },
  {
   "cell_type": "code",
   "execution_count": 34,
   "metadata": {},
   "outputs": [],
   "source": [
    "# Identificação de outliers através do método do IQR (Interquartile Range)\n",
    "Q1 = novo_dataframe.quantile(0.25)\n",
    "Q3 = novo_dataframe.quantile(0.75)\n",
    "IQR = Q3 - Q1"
   ]
  },
  {
   "cell_type": "code",
   "execution_count": 35,
   "metadata": {},
   "outputs": [],
   "source": [
    "# Definir outliers como aqueles valores que estão fora do intervalo [Q1 - 1.5 * IQR, Q3 + 1.5 * IQR]\n",
    "outliers = ((novo_dataframe < (Q1 - 1.5 * IQR)) | (novo_dataframe > (Q3 + 1.5 * IQR))).sum()"
   ]
  },
  {
   "cell_type": "code",
   "execution_count": 36,
   "metadata": {},
   "outputs": [
    {
     "data": {
      "text/plain": [
       "population           294\n",
       "hepatitisB           254\n",
       "gdp                  365\n",
       "total_expenditure     32\n",
       "alcohol                0\n",
       "school                44\n",
       "dtype: int64"
      ]
     },
     "execution_count": 36,
     "metadata": {},
     "output_type": "execute_result"
    }
   ],
   "source": [
    "# Total de outliers\n",
    "outliers"
   ]
  },
  {
   "cell_type": "code",
   "execution_count": 37,
   "metadata": {},
   "outputs": [],
   "source": [
    "# Cria um resumo com os outliers\n",
    "outliers_summary = pd.DataFrame({'Outliers': outliers, 'Percentual': (outliers / len(novo_dataframe)) * 100})"
   ]
  },
  {
   "cell_type": "code",
   "execution_count": 38,
   "metadata": {},
   "outputs": [
    {
     "data": {
      "text/html": [
       "<div>\n",
       "<style scoped>\n",
       "    .dataframe tbody tr th:only-of-type {\n",
       "        vertical-align: middle;\n",
       "    }\n",
       "\n",
       "    .dataframe tbody tr th {\n",
       "        vertical-align: top;\n",
       "    }\n",
       "\n",
       "    .dataframe thead th {\n",
       "        text-align: right;\n",
       "    }\n",
       "</style>\n",
       "<table border=\"1\" class=\"dataframe\">\n",
       "  <thead>\n",
       "    <tr style=\"text-align: right;\">\n",
       "      <th></th>\n",
       "      <th>Outliers</th>\n",
       "      <th>Percentual</th>\n",
       "    </tr>\n",
       "  </thead>\n",
       "  <tbody>\n",
       "    <tr>\n",
       "      <th>population</th>\n",
       "      <td>294</td>\n",
       "      <td>10.006807</td>\n",
       "    </tr>\n",
       "    <tr>\n",
       "      <th>hepatitisB</th>\n",
       "      <td>254</td>\n",
       "      <td>8.645337</td>\n",
       "    </tr>\n",
       "    <tr>\n",
       "      <th>gdp</th>\n",
       "      <td>365</td>\n",
       "      <td>12.423417</td>\n",
       "    </tr>\n",
       "    <tr>\n",
       "      <th>total_expenditure</th>\n",
       "      <td>32</td>\n",
       "      <td>1.089176</td>\n",
       "    </tr>\n",
       "    <tr>\n",
       "      <th>school</th>\n",
       "      <td>44</td>\n",
       "      <td>1.497617</td>\n",
       "    </tr>\n",
       "  </tbody>\n",
       "</table>\n",
       "</div>"
      ],
      "text/plain": [
       "                   Outliers  Percentual\n",
       "population              294   10.006807\n",
       "hepatitisB              254    8.645337\n",
       "gdp                     365   12.423417\n",
       "total_expenditure        32    1.089176\n",
       "school                   44    1.497617"
      ]
     },
     "execution_count": 38,
     "metadata": {},
     "output_type": "execute_result"
    }
   ],
   "source": [
    "# Retorna os resultados quando o valor for maior do que zero\n",
    "outliers_summary[outliers_summary['Outliers'] > 0]"
   ]
  },
  {
   "cell_type": "markdown",
   "metadata": {},
   "source": [
    "## Análise Estatística Para Tratamento de Outliers"
   ]
  },
  {
   "cell_type": "code",
   "execution_count": 39,
   "metadata": {},
   "outputs": [],
   "source": [
    "# Definindo os limites para filtrar os outliers\n",
    "limite_inferior = Q1 - 1.5 * IQR\n",
    "limite_superior = Q3 + 1.5 * IQR"
   ]
  },
  {
   "cell_type": "code",
   "execution_count": 40,
   "metadata": {},
   "outputs": [],
   "source": [
    "# Filtrando os outliers\n",
    "novo_df = df[~((novo_dataframe < limite_inferior) | (novo_dataframe > limite_superior)).any(axis=1)]"
   ]
  },
  {
   "cell_type": "markdown",
   "metadata": {},
   "source": [
    "Considerações Importantes:\n",
    "\n",
    "- A regra do 1.5 IQR é um método comum para identificar outliers, mas não é uma regra rígida.\n",
    "- A escolha do multiplicador (1.5) pode variar em diferentes contextos e conjuntos de dados.\n",
    "- É importante analisar visualmente a distribuição dos dados para confirmar a presença de outliers e ajustar os limites, se necessário.\n",
    "- Outras técnicas para identificar outliers podem ser utilizadas em conjunto com a regra do IQR."
   ]
  },
  {
   "cell_type": "code",
   "execution_count": 41,
   "metadata": {},
   "outputs": [
    {
     "data": {
      "text/plain": [
       "(2044, 19)"
      ]
     },
     "execution_count": 41,
     "metadata": {},
     "output_type": "execute_result"
    }
   ],
   "source": [
    "# Shape\n",
    "novo_df.shape"
   ]
  },
  {
   "cell_type": "code",
   "execution_count": 42,
   "metadata": {},
   "outputs": [
    {
     "data": {
      "text/html": [
       "<div>\n",
       "<style scoped>\n",
       "    .dataframe tbody tr th:only-of-type {\n",
       "        vertical-align: middle;\n",
       "    }\n",
       "\n",
       "    .dataframe tbody tr th {\n",
       "        vertical-align: top;\n",
       "    }\n",
       "\n",
       "    .dataframe thead th {\n",
       "        text-align: right;\n",
       "    }\n",
       "</style>\n",
       "<table border=\"1\" class=\"dataframe\">\n",
       "  <thead>\n",
       "    <tr style=\"text-align: right;\">\n",
       "      <th></th>\n",
       "      <th>life_expectancy</th>\n",
       "      <th>year</th>\n",
       "      <th>adult_mortality</th>\n",
       "      <th>inf_death</th>\n",
       "      <th>alcohol</th>\n",
       "      <th>hepatitisB</th>\n",
       "      <th>measles</th>\n",
       "      <th>bmi</th>\n",
       "      <th>polio</th>\n",
       "      <th>diphtheria</th>\n",
       "      <th>hiv</th>\n",
       "      <th>gdp</th>\n",
       "      <th>total_expenditure</th>\n",
       "      <th>thinness_till19</th>\n",
       "      <th>thinness_till9</th>\n",
       "      <th>school</th>\n",
       "      <th>population</th>\n",
       "    </tr>\n",
       "  </thead>\n",
       "  <tbody>\n",
       "    <tr>\n",
       "      <th>count</th>\n",
       "      <td>2036.000000</td>\n",
       "      <td>2044.000000</td>\n",
       "      <td>2036.000000</td>\n",
       "      <td>2044.000000</td>\n",
       "      <td>1908.000000</td>\n",
       "      <td>1653.000000</td>\n",
       "      <td>2044.000000</td>\n",
       "      <td>2032.000000</td>\n",
       "      <td>2041.000000</td>\n",
       "      <td>2041.000000</td>\n",
       "      <td>2044.000000</td>\n",
       "      <td>1668.000000</td>\n",
       "      <td>1883.000000</td>\n",
       "      <td>2032.000000</td>\n",
       "      <td>2032.000000</td>\n",
       "      <td>1910.000000</td>\n",
       "      <td>1.550000e+03</td>\n",
       "    </tr>\n",
       "    <tr>\n",
       "      <th>mean</th>\n",
       "      <td>68.261444</td>\n",
       "      <td>2007.516634</td>\n",
       "      <td>173.697937</td>\n",
       "      <td>21.272016</td>\n",
       "      <td>4.250854</td>\n",
       "      <td>88.543860</td>\n",
       "      <td>2043.051859</td>\n",
       "      <td>37.229429</td>\n",
       "      <td>83.469868</td>\n",
       "      <td>84.229789</td>\n",
       "      <td>1.906115</td>\n",
       "      <td>2603.414714</td>\n",
       "      <td>5.817047</td>\n",
       "      <td>4.973327</td>\n",
       "      <td>5.039813</td>\n",
       "      <td>11.779791</td>\n",
       "      <td>2.862564e+06</td>\n",
       "    </tr>\n",
       "    <tr>\n",
       "      <th>std</th>\n",
       "      <td>9.180601</td>\n",
       "      <td>4.620838</td>\n",
       "      <td>124.821601</td>\n",
       "      <td>75.877341</td>\n",
       "      <td>3.821064</td>\n",
       "      <td>11.667147</td>\n",
       "      <td>11166.996177</td>\n",
       "      <td>19.540099</td>\n",
       "      <td>22.293545</td>\n",
       "      <td>20.802376</td>\n",
       "      <td>5.353430</td>\n",
       "      <td>3051.987902</td>\n",
       "      <td>2.167468</td>\n",
       "      <td>4.070398</td>\n",
       "      <td>4.188165</td>\n",
       "      <td>2.893174</td>\n",
       "      <td>4.147575e+06</td>\n",
       "    </tr>\n",
       "    <tr>\n",
       "      <th>min</th>\n",
       "      <td>36.300000</td>\n",
       "      <td>2000.000000</td>\n",
       "      <td>1.000000</td>\n",
       "      <td>0.000000</td>\n",
       "      <td>0.010000</td>\n",
       "      <td>47.000000</td>\n",
       "      <td>0.000000</td>\n",
       "      <td>1.000000</td>\n",
       "      <td>3.000000</td>\n",
       "      <td>3.000000</td>\n",
       "      <td>0.100000</td>\n",
       "      <td>3.685949</td>\n",
       "      <td>0.370000</td>\n",
       "      <td>0.100000</td>\n",
       "      <td>0.100000</td>\n",
       "      <td>3.800000</td>\n",
       "      <td>3.400000e+01</td>\n",
       "    </tr>\n",
       "    <tr>\n",
       "      <th>25%</th>\n",
       "      <td>62.475000</td>\n",
       "      <td>2003.000000</td>\n",
       "      <td>83.750000</td>\n",
       "      <td>0.000000</td>\n",
       "      <td>0.847500</td>\n",
       "      <td>84.000000</td>\n",
       "      <td>0.000000</td>\n",
       "      <td>19.200000</td>\n",
       "      <td>78.000000</td>\n",
       "      <td>81.000000</td>\n",
       "      <td>0.100000</td>\n",
       "      <td>387.645945</td>\n",
       "      <td>4.380000</td>\n",
       "      <td>1.900000</td>\n",
       "      <td>1.900000</td>\n",
       "      <td>10.100000</td>\n",
       "      <td>1.413295e+05</td>\n",
       "    </tr>\n",
       "    <tr>\n",
       "      <th>50%</th>\n",
       "      <td>71.400000</td>\n",
       "      <td>2008.000000</td>\n",
       "      <td>154.000000</td>\n",
       "      <td>3.000000</td>\n",
       "      <td>3.400000</td>\n",
       "      <td>93.000000</td>\n",
       "      <td>10.000000</td>\n",
       "      <td>41.300000</td>\n",
       "      <td>93.000000</td>\n",
       "      <td>93.000000</td>\n",
       "      <td>0.100000</td>\n",
       "      <td>1312.038142</td>\n",
       "      <td>5.710000</td>\n",
       "      <td>3.550000</td>\n",
       "      <td>3.600000</td>\n",
       "      <td>12.100000</td>\n",
       "      <td>8.968025e+05</td>\n",
       "    </tr>\n",
       "    <tr>\n",
       "      <th>75%</th>\n",
       "      <td>74.700000</td>\n",
       "      <td>2012.000000</td>\n",
       "      <td>235.000000</td>\n",
       "      <td>17.000000</td>\n",
       "      <td>6.725000</td>\n",
       "      <td>97.000000</td>\n",
       "      <td>256.250000</td>\n",
       "      <td>54.900000</td>\n",
       "      <td>97.000000</td>\n",
       "      <td>97.000000</td>\n",
       "      <td>1.000000</td>\n",
       "      <td>3936.450613</td>\n",
       "      <td>7.130000</td>\n",
       "      <td>7.325000</td>\n",
       "      <td>7.400000</td>\n",
       "      <td>13.700000</td>\n",
       "      <td>3.712494e+06</td>\n",
       "    </tr>\n",
       "    <tr>\n",
       "      <th>max</th>\n",
       "      <td>89.000000</td>\n",
       "      <td>2015.000000</td>\n",
       "      <td>723.000000</td>\n",
       "      <td>1800.000000</td>\n",
       "      <td>17.310000</td>\n",
       "      <td>99.000000</td>\n",
       "      <td>212183.000000</td>\n",
       "      <td>87.300000</td>\n",
       "      <td>99.000000</td>\n",
       "      <td>99.000000</td>\n",
       "      <td>50.300000</td>\n",
       "      <td>13893.187680</td>\n",
       "      <td>12.250000</td>\n",
       "      <td>27.700000</td>\n",
       "      <td>28.600000</td>\n",
       "      <td>20.400000</td>\n",
       "      <td>1.789956e+07</td>\n",
       "    </tr>\n",
       "  </tbody>\n",
       "</table>\n",
       "</div>"
      ],
      "text/plain": [
       "       life_expectancy         year  adult_mortality    inf_death  \\\n",
       "count      2036.000000  2044.000000      2036.000000  2044.000000   \n",
       "mean         68.261444  2007.516634       173.697937    21.272016   \n",
       "std           9.180601     4.620838       124.821601    75.877341   \n",
       "min          36.300000  2000.000000         1.000000     0.000000   \n",
       "25%          62.475000  2003.000000        83.750000     0.000000   \n",
       "50%          71.400000  2008.000000       154.000000     3.000000   \n",
       "75%          74.700000  2012.000000       235.000000    17.000000   \n",
       "max          89.000000  2015.000000       723.000000  1800.000000   \n",
       "\n",
       "           alcohol   hepatitisB        measles          bmi        polio  \\\n",
       "count  1908.000000  1653.000000    2044.000000  2032.000000  2041.000000   \n",
       "mean      4.250854    88.543860    2043.051859    37.229429    83.469868   \n",
       "std       3.821064    11.667147   11166.996177    19.540099    22.293545   \n",
       "min       0.010000    47.000000       0.000000     1.000000     3.000000   \n",
       "25%       0.847500    84.000000       0.000000    19.200000    78.000000   \n",
       "50%       3.400000    93.000000      10.000000    41.300000    93.000000   \n",
       "75%       6.725000    97.000000     256.250000    54.900000    97.000000   \n",
       "max      17.310000    99.000000  212183.000000    87.300000    99.000000   \n",
       "\n",
       "        diphtheria          hiv           gdp  total_expenditure  \\\n",
       "count  2041.000000  2044.000000   1668.000000        1883.000000   \n",
       "mean     84.229789     1.906115   2603.414714           5.817047   \n",
       "std      20.802376     5.353430   3051.987902           2.167468   \n",
       "min       3.000000     0.100000      3.685949           0.370000   \n",
       "25%      81.000000     0.100000    387.645945           4.380000   \n",
       "50%      93.000000     0.100000   1312.038142           5.710000   \n",
       "75%      97.000000     1.000000   3936.450613           7.130000   \n",
       "max      99.000000    50.300000  13893.187680          12.250000   \n",
       "\n",
       "       thinness_till19  thinness_till9       school    population  \n",
       "count      2032.000000     2032.000000  1910.000000  1.550000e+03  \n",
       "mean          4.973327        5.039813    11.779791  2.862564e+06  \n",
       "std           4.070398        4.188165     2.893174  4.147575e+06  \n",
       "min           0.100000        0.100000     3.800000  3.400000e+01  \n",
       "25%           1.900000        1.900000    10.100000  1.413295e+05  \n",
       "50%           3.550000        3.600000    12.100000  8.968025e+05  \n",
       "75%           7.325000        7.400000    13.700000  3.712494e+06  \n",
       "max          27.700000       28.600000    20.400000  1.789956e+07  "
      ]
     },
     "execution_count": 42,
     "metadata": {},
     "output_type": "execute_result"
    }
   ],
   "source": [
    "# Resumo estatístico\n",
    "novo_df.describe()"
   ]
  },
  {
   "cell_type": "code",
   "execution_count": 43,
   "metadata": {},
   "outputs": [
    {
     "data": {
      "text/plain": [
       "17899562.0"
      ]
     },
     "execution_count": 43,
     "metadata": {},
     "output_type": "execute_result"
    }
   ],
   "source": [
    "# Valor máximo da população\n",
    "novo_df.population.max()"
   ]
  },
  {
   "cell_type": "code",
   "execution_count": 44,
   "metadata": {},
   "outputs": [
    {
     "data": {
      "image/png": "[encoded data removed]",
      "text/plain": [
       "<Figure size 900x300 with 3 Axes>"
      ]
     },
     "metadata": {},
     "output_type": "display_data"
    },
    {
     "data": {
      "image/png": "[encoded data removed]",
      "text/plain": [
       "<Figure size 900x300 with 3 Axes>"
      ]
     },
     "metadata": {},
     "output_type": "display_data"
    }
   ],
   "source": [
    "# Verificando outliers\n",
    "dsa_get_pairs(novo_df, alvo, atributos, 3)"
   ]
  },
  {
   "cell_type": "markdown",
   "metadata": {},
   "source": [
    "## Análise Estatística Para Tratamento de Valores Ausentes"
   ]
  },
  {
   "cell_type": "code",
   "execution_count": 45,
   "metadata": {},
   "outputs": [],
   "source": [
    "# Verificando o total de valores ausentes\n",
    "valores_ausentes = novo_df.isnull().sum().sort_values(ascending = False)"
   ]
  },
  {
   "cell_type": "code",
   "execution_count": 46,
   "metadata": {},
   "outputs": [
    {
     "name": "stdout",
     "output_type": "stream",
     "text": [
      "population           24.168297\n",
      "hepatitisB           19.129159\n",
      "gdp                  18.395303\n",
      "total_expenditure     7.876712\n",
      "alcohol               6.653620\n",
      "school                6.555773\n",
      "thinness_till9        0.587084\n",
      "thinness_till19       0.587084\n",
      "bmi                   0.587084\n",
      "life_expectancy       0.391389\n",
      "adult_mortality       0.391389\n",
      "polio                 0.146771\n",
      "diphtheria            0.146771\n",
      "dtype: float64 %\n"
     ]
    }
   ],
   "source": [
    "# Checando percentual de valores missing\n",
    "valores_ausentes_percent = valores_ausentes[valores_ausentes > 0] / novo_df.shape[0] \n",
    "print(f'{valores_ausentes_percent * 100} %')"
   ]
  },
  {
   "cell_type": "code",
   "execution_count": 47,
   "metadata": {},
   "outputs": [],
   "source": [
    "# Função para o Replace das linhas vazias com a mediana\n",
    "def impute_median(dados):\n",
    "    return dados.fillna(dados.median())"
   ]
  },
  {
   "cell_type": "code",
   "execution_count": 48,
   "metadata": {},
   "outputs": [
    {
     "data": {
      "text/html": [
       "<div>\n",
       "<style scoped>\n",
       "    .dataframe tbody tr th:only-of-type {\n",
       "        vertical-align: middle;\n",
       "    }\n",
       "\n",
       "    .dataframe tbody tr th {\n",
       "        vertical-align: top;\n",
       "    }\n",
       "\n",
       "    .dataframe thead th {\n",
       "        text-align: right;\n",
       "    }\n",
       "</style>\n",
       "<table border=\"1\" class=\"dataframe\">\n",
       "  <thead>\n",
       "    <tr style=\"text-align: right;\">\n",
       "      <th></th>\n",
       "      <th>life_expectancy</th>\n",
       "      <th>year</th>\n",
       "      <th>adult_mortality</th>\n",
       "      <th>inf_death</th>\n",
       "      <th>alcohol</th>\n",
       "      <th>hepatitisB</th>\n",
       "      <th>measles</th>\n",
       "      <th>bmi</th>\n",
       "      <th>polio</th>\n",
       "      <th>diphtheria</th>\n",
       "      <th>hiv</th>\n",
       "      <th>gdp</th>\n",
       "      <th>total_expenditure</th>\n",
       "      <th>thinness_till19</th>\n",
       "      <th>thinness_till9</th>\n",
       "      <th>school</th>\n",
       "      <th>population</th>\n",
       "    </tr>\n",
       "  </thead>\n",
       "  <tbody>\n",
       "    <tr>\n",
       "      <th>count</th>\n",
       "      <td>2036.000000</td>\n",
       "      <td>2044.000000</td>\n",
       "      <td>2036.000000</td>\n",
       "      <td>2044.000000</td>\n",
       "      <td>1908.000000</td>\n",
       "      <td>1653.000000</td>\n",
       "      <td>2044.000000</td>\n",
       "      <td>2032.000000</td>\n",
       "      <td>2041.000000</td>\n",
       "      <td>2041.000000</td>\n",
       "      <td>2044.000000</td>\n",
       "      <td>1668.000000</td>\n",
       "      <td>1883.000000</td>\n",
       "      <td>2032.000000</td>\n",
       "      <td>2032.000000</td>\n",
       "      <td>1910.000000</td>\n",
       "      <td>1.550000e+03</td>\n",
       "    </tr>\n",
       "    <tr>\n",
       "      <th>mean</th>\n",
       "      <td>68.261444</td>\n",
       "      <td>2007.516634</td>\n",
       "      <td>173.697937</td>\n",
       "      <td>21.272016</td>\n",
       "      <td>4.250854</td>\n",
       "      <td>88.543860</td>\n",
       "      <td>2043.051859</td>\n",
       "      <td>37.229429</td>\n",
       "      <td>83.469868</td>\n",
       "      <td>84.229789</td>\n",
       "      <td>1.906115</td>\n",
       "      <td>2603.414714</td>\n",
       "      <td>5.817047</td>\n",
       "      <td>4.973327</td>\n",
       "      <td>5.039813</td>\n",
       "      <td>11.779791</td>\n",
       "      <td>2.862564e+06</td>\n",
       "    </tr>\n",
       "    <tr>\n",
       "      <th>std</th>\n",
       "      <td>9.180601</td>\n",
       "      <td>4.620838</td>\n",
       "      <td>124.821601</td>\n",
       "      <td>75.877341</td>\n",
       "      <td>3.821064</td>\n",
       "      <td>11.667147</td>\n",
       "      <td>11166.996177</td>\n",
       "      <td>19.540099</td>\n",
       "      <td>22.293545</td>\n",
       "      <td>20.802376</td>\n",
       "      <td>5.353430</td>\n",
       "      <td>3051.987902</td>\n",
       "      <td>2.167468</td>\n",
       "      <td>4.070398</td>\n",
       "      <td>4.188165</td>\n",
       "      <td>2.893174</td>\n",
       "      <td>4.147575e+06</td>\n",
       "    </tr>\n",
       "    <tr>\n",
       "      <th>min</th>\n",
       "      <td>36.300000</td>\n",
       "      <td>2000.000000</td>\n",
       "      <td>1.000000</td>\n",
       "      <td>0.000000</td>\n",
       "      <td>0.010000</td>\n",
       "      <td>47.000000</td>\n",
       "      <td>0.000000</td>\n",
       "      <td>1.000000</td>\n",
       "      <td>3.000000</td>\n",
       "      <td>3.000000</td>\n",
       "      <td>0.100000</td>\n",
       "      <td>3.685949</td>\n",
       "      <td>0.370000</td>\n",
       "      <td>0.100000</td>\n",
       "      <td>0.100000</td>\n",
       "      <td>3.800000</td>\n",
       "      <td>3.400000e+01</td>\n",
       "    </tr>\n",
       "    <tr>\n",
       "      <th>25%</th>\n",
       "      <td>62.475000</td>\n",
       "      <td>2003.000000</td>\n",
       "      <td>83.750000</td>\n",
       "      <td>0.000000</td>\n",
       "      <td>0.847500</td>\n",
       "      <td>84.000000</td>\n",
       "      <td>0.000000</td>\n",
       "      <td>19.200000</td>\n",
       "      <td>78.000000</td>\n",
       "      <td>81.000000</td>\n",
       "      <td>0.100000</td>\n",
       "      <td>387.645945</td>\n",
       "      <td>4.380000</td>\n",
       "      <td>1.900000</td>\n",
       "      <td>1.900000</td>\n",
       "      <td>10.100000</td>\n",
       "      <td>1.413295e+05</td>\n",
       "    </tr>\n",
       "    <tr>\n",
       "      <th>50%</th>\n",
       "      <td>71.400000</td>\n",
       "      <td>2008.000000</td>\n",
       "      <td>154.000000</td>\n",
       "      <td>3.000000</td>\n",
       "      <td>3.400000</td>\n",
       "      <td>93.000000</td>\n",
       "      <td>10.000000</td>\n",
       "      <td>41.300000</td>\n",
       "      <td>93.000000</td>\n",
       "      <td>93.000000</td>\n",
       "      <td>0.100000</td>\n",
       "      <td>1312.038142</td>\n",
       "      <td>5.710000</td>\n",
       "      <td>3.550000</td>\n",
       "      <td>3.600000</td>\n",
       "      <td>12.100000</td>\n",
       "      <td>8.968025e+05</td>\n",
       "    </tr>\n",
       "    <tr>\n",
       "      <th>75%</th>\n",
       "      <td>74.700000</td>\n",
       "      <td>2012.000000</td>\n",
       "      <td>235.000000</td>\n",
       "      <td>17.000000</td>\n",
       "      <td>6.725000</td>\n",
       "      <td>97.000000</td>\n",
       "      <td>256.250000</td>\n",
       "      <td>54.900000</td>\n",
       "      <td>97.000000</td>\n",
       "      <td>97.000000</td>\n",
       "      <td>1.000000</td>\n",
       "      <td>3936.450613</td>\n",
       "      <td>7.130000</td>\n",
       "      <td>7.325000</td>\n",
       "      <td>7.400000</td>\n",
       "      <td>13.700000</td>\n",
       "      <td>3.712494e+06</td>\n",
       "    </tr>\n",
       "    <tr>\n",
       "      <th>max</th>\n",
       "      <td>89.000000</td>\n",
       "      <td>2015.000000</td>\n",
       "      <td>723.000000</td>\n",
       "      <td>1800.000000</td>\n",
       "      <td>17.310000</td>\n",
       "      <td>99.000000</td>\n",
       "      <td>212183.000000</td>\n",
       "      <td>87.300000</td>\n",
       "      <td>99.000000</td>\n",
       "      <td>99.000000</td>\n",
       "      <td>50.300000</td>\n",
       "      <td>13893.187680</td>\n",
       "      <td>12.250000</td>\n",
       "      <td>27.700000</td>\n",
       "      <td>28.600000</td>\n",
       "      <td>20.400000</td>\n",
       "      <td>1.789956e+07</td>\n",
       "    </tr>\n",
       "  </tbody>\n",
       "</table>\n",
       "</div>"
      ],
      "text/plain": [
       "       life_expectancy         year  adult_mortality    inf_death  \\\n",
       "count      2036.000000  2044.000000      2036.000000  2044.000000   \n",
       "mean         68.261444  2007.516634       173.697937    21.272016   \n",
       "std           9.180601     4.620838       124.821601    75.877341   \n",
       "min          36.300000  2000.000000         1.000000     0.000000   \n",
       "25%          62.475000  2003.000000        83.750000     0.000000   \n",
       "50%          71.400000  2008.000000       154.000000     3.000000   \n",
       "75%          74.700000  2012.000000       235.000000    17.000000   \n",
       "max          89.000000  2015.000000       723.000000  1800.000000   \n",
       "\n",
       "           alcohol   hepatitisB        measles          bmi        polio  \\\n",
       "count  1908.000000  1653.000000    2044.000000  2032.000000  2041.000000   \n",
       "mean      4.250854    88.543860    2043.051859    37.229429    83.469868   \n",
       "std       3.821064    11.667147   11166.996177    19.540099    22.293545   \n",
       "min       0.010000    47.000000       0.000000     1.000000     3.000000   \n",
       "25%       0.847500    84.000000       0.000000    19.200000    78.000000   \n",
       "50%       3.400000    93.000000      10.000000    41.300000    93.000000   \n",
       "75%       6.725000    97.000000     256.250000    54.900000    97.000000   \n",
       "max      17.310000    99.000000  212183.000000    87.300000    99.000000   \n",
       "\n",
       "        diphtheria          hiv           gdp  total_expenditure  \\\n",
       "count  2041.000000  2044.000000   1668.000000        1883.000000   \n",
       "mean     84.229789     1.906115   2603.414714           5.817047   \n",
       "std      20.802376     5.353430   3051.987902           2.167468   \n",
       "min       3.000000     0.100000      3.685949           0.370000   \n",
       "25%      81.000000     0.100000    387.645945           4.380000   \n",
       "50%      93.000000     0.100000   1312.038142           5.710000   \n",
       "75%      97.000000     1.000000   3936.450613           7.130000   \n",
       "max      99.000000    50.300000  13893.187680          12.250000   \n",
       "\n",
       "       thinness_till19  thinness_till9       school    population  \n",
       "count      2032.000000     2032.000000  1910.000000  1.550000e+03  \n",
       "mean          4.973327        5.039813    11.779791  2.862564e+06  \n",
       "std           4.070398        4.188165     2.893174  4.147575e+06  \n",
       "min           0.100000        0.100000     3.800000  3.400000e+01  \n",
       "25%           1.900000        1.900000    10.100000  1.413295e+05  \n",
       "50%           3.550000        3.600000    12.100000  8.968025e+05  \n",
       "75%           7.325000        7.400000    13.700000  3.712494e+06  \n",
       "max          27.700000       28.600000    20.400000  1.789956e+07  "
      ]
     },
     "execution_count": 48,
     "metadata": {},
     "output_type": "execute_result"
    }
   ],
   "source": [
    "novo_df.describe()"
   ]
  },
  {
   "cell_type": "code",
   "execution_count": 49,
   "metadata": {},
   "outputs": [],
   "source": [
    "# Removendo valores missing (observe as diferentes formas de notação do lado esquerdo do sinal de igual)\n",
    "novo_df.loc[:,'population'] = novo_df['population'].transform(impute_median)\n",
    "novo_df.hepatitisB = novo_df['hepatitisB'].transform(impute_median)\n",
    "novo_df.alcohol = novo_df['alcohol'].transform(impute_median)\n",
    "novo_df.total_expenditure = novo_df['total_expenditure'].transform(impute_median)\n",
    "novo_df.gdp = novo_df['gdp'].transform(impute_median)\n",
    "novo_df.school = novo_df['school'].transform(impute_median)"
   ]
  },
  {
   "cell_type": "code",
   "execution_count": 50,
   "metadata": {},
   "outputs": [],
   "source": [
    "# Verificando o total de valores ausentes\n",
    "valores_ausentes = novo_df.isnull().sum().sort_values(ascending = False)"
   ]
  },
  {
   "cell_type": "code",
   "execution_count": 51,
   "metadata": {},
   "outputs": [
    {
     "name": "stdout",
     "output_type": "stream",
     "text": [
      "bmi                0.587084\n",
      "thinness_till9     0.587084\n",
      "thinness_till19    0.587084\n",
      "adult_mortality    0.391389\n",
      "life_expectancy    0.391389\n",
      "diphtheria         0.146771\n",
      "polio              0.146771\n",
      "dtype: float64 %\n"
     ]
    }
   ],
   "source": [
    "# Checando percentual de valores missing\n",
    "valores_ausentes_percent = valores_ausentes[valores_ausentes > 0] / novo_df.shape[0] \n",
    "print(f'{valores_ausentes_percent * 100} %')"
   ]
  },
  {
   "cell_type": "code",
   "execution_count": 52,
   "metadata": {},
   "outputs": [],
   "source": [
    "# Remove registros com valores nulos\n",
    "novo_df.dropna(inplace = True)"
   ]
  },
  {
   "cell_type": "code",
   "execution_count": 53,
   "metadata": {},
   "outputs": [],
   "source": [
    "# Verificando o total de valores ausentes\n",
    "valores_ausentes = novo_df.isnull().sum().sort_values(ascending = False)"
   ]
  },
  {
   "cell_type": "code",
   "execution_count": 54,
   "metadata": {},
   "outputs": [
    {
     "name": "stdout",
     "output_type": "stream",
     "text": [
      "Series([], dtype: float64) %\n"
     ]
    }
   ],
   "source": [
    "# Checando percentual de valores missing\n",
    "valores_ausentes_percent = valores_ausentes[valores_ausentes > 0] / novo_df.shape[0] \n",
    "print(f'{valores_ausentes_percent * 100} %')"
   ]
  },
  {
   "cell_type": "code",
   "execution_count": 55,
   "metadata": {},
   "outputs": [
    {
     "data": {
      "text/plain": [
       "(2023, 19)"
      ]
     },
     "execution_count": 55,
     "metadata": {},
     "output_type": "execute_result"
    }
   ],
   "source": [
    "# Shape\n",
    "novo_df.shape"
   ]
  },
  {
   "cell_type": "code",
   "execution_count": 56,
   "metadata": {},
   "outputs": [
    {
     "name": "stdout",
     "output_type": "stream",
     "text": [
      "<class 'pandas.core.frame.DataFrame'>\n",
      "Index: 2023 entries, 1 to 2937\n",
      "Data columns (total 19 columns):\n",
      " #   Column             Non-Null Count  Dtype  \n",
      "---  ------             --------------  -----  \n",
      " 0   country            2023 non-null   object \n",
      " 1   life_expectancy    2023 non-null   float64\n",
      " 2   year               2023 non-null   int64  \n",
      " 3   status             2023 non-null   object \n",
      " 4   adult_mortality    2023 non-null   float64\n",
      " 5   inf_death          2023 non-null   int64  \n",
      " 6   alcohol            2023 non-null   float64\n",
      " 7   hepatitisB         2023 non-null   float64\n",
      " 8   measles            2023 non-null   int64  \n",
      " 9   bmi                2023 non-null   float64\n",
      " 10  polio              2023 non-null   float64\n",
      " 11  diphtheria         2023 non-null   float64\n",
      " 12  hiv                2023 non-null   float64\n",
      " 13  gdp                2023 non-null   float64\n",
      " 14  total_expenditure  2023 non-null   float64\n",
      " 15  thinness_till19    2023 non-null   float64\n",
      " 16  thinness_till9     2023 non-null   float64\n",
      " 17  school             2023 non-null   float64\n",
      " 18  population         2023 non-null   float64\n",
      "dtypes: float64(14), int64(3), object(2)\n",
      "memory usage: 316.1+ KB\n"
     ]
    }
   ],
   "source": [
    "novo_df.info()"
   ]
  },
  {
   "cell_type": "markdown",
   "metadata": {},
   "source": [
    "Usaremos indicadores socioeconômicos independentes de identificação do país. Vamos remover as variáveis categóricas."
   ]
  },
  {
   "cell_type": "code",
   "execution_count": 57,
   "metadata": {},
   "outputs": [],
   "source": [
    "# Drop das variáveis\n",
    "novo_df.drop(['country', 'status'], axis = 1, inplace = True)"
   ]
  },
  {
   "cell_type": "code",
   "execution_count": 58,
   "metadata": {},
   "outputs": [
    {
     "data": {
      "text/plain": [
       "(2938, 22)"
      ]
     },
     "execution_count": 58,
     "metadata": {},
     "output_type": "execute_result"
    }
   ],
   "source": [
    "# Shape do dataset original\n",
    "df_dsa.shape"
   ]
  },
  {
   "cell_type": "code",
   "execution_count": 59,
   "metadata": {},
   "outputs": [
    {
     "data": {
      "text/plain": [
       "(2023, 17)"
      ]
     },
     "execution_count": 59,
     "metadata": {},
     "output_type": "execute_result"
    }
   ],
   "source": [
    "# Shape do dataset após a limpeza\n",
    "novo_df.shape"
   ]
  },
  {
   "cell_type": "markdown",
   "metadata": {},
   "source": [
    "# Continuaremos no Próximo Capítulo."
   ]
  },
  {
   "cell_type": "code",
   "execution_count": 62,
   "metadata": {},
   "outputs": [
    {
     "name": "stdout",
     "output_type": "stream",
     "text": [
      "Author: Data Science Academy\n",
      "\n"
     ]
    }
   ],
   "source": [
    "%reload_ext watermark\n",
    "%watermark -a \"Data Science Academy\""
   ]
  },
  {
   "cell_type": "code",
   "execution_count": 63,
   "metadata": {},
   "outputs": [],
   "source": [
    "#%watermark -v -m"
   ]
  },
  {
   "cell_type": "code",
   "execution_count": 64,
   "metadata": {},
   "outputs": [],
   "source": [
    "#%watermark --iversions"
   ]
  },
  {
   "cell_type": "markdown",
   "metadata": {
    "collapsed": true
   },
   "source": [
    "# Fim"
   ]
  }
 ],
 "metadata": {
  "anaconda-cloud": {},
  "kernelspec": {
   "display_name": "Python 3 (ipykernel)",
   "language": "python",
   "name": "python3"
  },
  "language_info": {
   "codemirror_mode": {
    "name": "ipython",
    "version": 3
   },
   "file_extension": ".py",
   "mimetype": "text/x-python",
   "name": "python",
   "nbconvert_exporter": "python",
   "pygments_lexer": "ipython3",
   "version": "3.11.7"
  }
 },
 "nbformat": 4,
 "nbformat_minor": 1
}
