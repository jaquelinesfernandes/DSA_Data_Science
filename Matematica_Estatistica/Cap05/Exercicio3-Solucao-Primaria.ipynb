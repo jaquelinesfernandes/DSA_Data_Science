{
 "cells": [
  {
   "cell_type": "markdown",
   "metadata": {},
   "source": [
    "## Exercícios - Operações com Vetores"
   ]
  },
  {
   "cell_type": "code",
   "execution_count": 1,
   "metadata": {},
   "outputs": [],
   "source": [
    "import math\n",
    "import numpy as np"
   ]
  },
  {
   "cell_type": "code",
   "execution_count": 2,
   "metadata": {},
   "outputs": [],
   "source": [
    "vetor_1 = [3, 4, 5]\n",
    "vetor_2 = [1, 2, 3]"
   ]
  },
  {
   "cell_type": "markdown",
   "metadata": {},
   "source": [
    "#### Exercício 1: Soma de Vetores:  \n",
    "Função  em  Python  que  some  dois  vetores.  Suponha  que  os vetores  têm  o  mesmo  tamanho.\n"
   ]
  },
  {
   "cell_type": "code",
   "execution_count": 4,
   "metadata": {},
   "outputs": [
    {
     "name": "stdout",
     "output_type": "stream",
     "text": [
      "[4, 6, 8]\n"
     ]
    }
   ],
   "source": [
    "def soma_vetores(a, b):\n",
    "    return [a[i] + b[i] for i in range(len(a))]\n",
    "\n",
    "vetor_soma = soma_vetores(vetor_1, vetor_2)\n",
    "\n",
    "print(vetor_soma)"
   ]
  },
  {
   "cell_type": "markdown",
   "metadata": {},
   "source": [
    "#### Exercício 2: Produto Escalar:  \n",
    "Função  que  calcule  o  produto  escalar  entre  dois  vetores."
   ]
  },
  {
   "cell_type": "code",
   "execution_count": 5,
   "metadata": {},
   "outputs": [],
   "source": [
    "def produto_escalar_vetor(v1, v2):\n",
    "    return sum(a * b for a, b in zip(v1, v2))"
   ]
  },
  {
   "cell_type": "code",
   "execution_count": 6,
   "metadata": {},
   "outputs": [],
   "source": [
    "vetor_a = [2, -3, 1]\n",
    "vetor_b = [5, 7, 6]"
   ]
  },
  {
   "cell_type": "code",
   "execution_count": 7,
   "metadata": {},
   "outputs": [
    {
     "name": "stdout",
     "output_type": "stream",
     "text": [
      "-5\n"
     ]
    }
   ],
   "source": [
    "produto_escalar = produto_escalar_vetor(vetor_a, vetor_b)\n",
    "print(produto_escalar)"
   ]
  },
  {
   "cell_type": "markdown",
   "metadata": {},
   "source": [
    "### Exercício 3: Norma de um Vetor: \n",
    "Escreva uma função que calcule a norma (ou comprimento) de um vetor.\n"
   ]
  },
  {
   "cell_type": "code",
   "execution_count": 8,
   "metadata": {},
   "outputs": [],
   "source": [
    "def norma_vetor(vetor):\n",
    "    ## return np.sqrt(a**2 + b**2)\n",
    "    return math.sqrt(sum(x**2 for x in vetor))"
   ]
  },
  {
   "cell_type": "code",
   "execution_count": 11,
   "metadata": {},
   "outputs": [],
   "source": [
    "vetorx = [3, 4]"
   ]
  },
  {
   "cell_type": "code",
   "execution_count": 12,
   "metadata": {},
   "outputs": [
    {
     "name": "stdout",
     "output_type": "stream",
     "text": [
      "5.0\n"
     ]
    }
   ],
   "source": [
    "norma = norma_vetor(vetorx)\n",
    "print(norma)"
   ]
  },
  {
   "cell_type": "markdown",
   "metadata": {},
   "source": [
    "### Exercício 4: Ângulo entre Dois Vetores: \n",
    "Implemente uma função que calcule o ângulo (em graus) entre dois vetores."
   ]
  },
  {
   "cell_type": "code",
   "execution_count": 18,
   "metadata": {},
   "outputs": [
    {
     "data": {
      "text/plain": [
       "90.0"
      ]
     },
     "execution_count": 18,
     "metadata": {},
     "output_type": "execute_result"
    }
   ],
   "source": [
    "import math\n",
    "\n",
    "def calcular_angulo_vetor(vetor01, vetor02):\n",
    "    \n",
    "    produto_escalar = sum(a * b for a, b in zip(vetor01, vetor02))\n",
    "    \n",
    "    norma_vetor01 = math.sqrt(sum(x**2 for x in vetor01))\n",
    "    norma_vetor02 = math.sqrt(sum(x**2 for x in vetor02))\n",
    "    \n",
    "    cos_angulo = produto_escalar / (norma_vetor01 * norma_vetor02)\n",
    "    \n",
    "    angulo = math.acos(cos_angulo) * (180/math.pi)\n",
    "    \n",
    "    return angulo\n",
    "\n",
    "vetor_xx = [1, 0]\n",
    "vetor_yy = [0, 1]\n",
    "\n",
    "angulo = calcular_angulo_vetor(vetor_xx, vetor_yy)\n",
    "angulo"
   ]
  },
  {
   "cell_type": "markdown",
   "metadata": {},
   "source": [
    "### Exercício 5: Projeção de um Vetor sobre Outro: \n",
    "Escreva uma função que encontre a projeção de um vetor sobre outro vetor."
   ]
  },
  {
   "cell_type": "code",
   "execution_count": 19,
   "metadata": {},
   "outputs": [
    {
     "data": {
      "text/plain": [
       "[3.0, 0.0]"
      ]
     },
     "execution_count": 19,
     "metadata": {},
     "output_type": "execute_result"
    }
   ],
   "source": [
    "def projecao_vetor(vetor_0a, vetor_1b):\n",
    "    \n",
    "    produto_escalar = sum(a * b for a, b in zip(vetor_0a, vetor_1b))\n",
    "    \n",
    "    norma_quadrado_vetor_1b = sum(x**2 for x in vetor_1b)\n",
    "                                  \n",
    "    escala = produto_escalar/ norma_quadrado_vetor_1b\n",
    "    \n",
    "    projecao = [escala * b for b in vetor_1b]                                  \n",
    "    \n",
    "    return projecao\n",
    "\n",
    "vetor_0a = [3, 4]\n",
    "vetor_1b = [1, 0]\n",
    "projecao_vetor_a_sobre_b = projecao_vetor(vetor_0a, vetor_1b)\n",
    "projecao_vetor_a_sobre_b"
   ]
  }
 ],
 "metadata": {
  "kernelspec": {
   "display_name": "base",
   "language": "python",
   "name": "python3"
  },
  "language_info": {
   "codemirror_mode": {
    "name": "ipython",
    "version": 3
   },
   "file_extension": ".py",
   "mimetype": "text/x-python",
   "name": "python",
   "nbconvert_exporter": "python",
   "pygments_lexer": "ipython3",
   "version": "3.11.4"
  }
 },
 "nbformat": 4,
 "nbformat_minor": 2
}
