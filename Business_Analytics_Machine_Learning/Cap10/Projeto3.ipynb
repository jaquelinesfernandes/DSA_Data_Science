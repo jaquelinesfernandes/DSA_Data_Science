{
 "cells": [
  {
   "cell_type": "markdown",
   "metadata": {},
   "source": [
    "<!-- Projeto Desenvolvido na Data Science Academy - www.datascienceacademy.com.br -->\n",
    "# <font color='blue'>Data Science Academy</font>\n",
    "## <font color='blue'>Business Analytics e Machine Learning Para Projetos de Data Science</font>\n",
    "## <font color='blue'>Projeto 3</font>\n",
    "#### <font color='blue'>Template do Processo de Construção de Modelos de Machine Learning - Prevendo Manutenção de Máquinas Industriais</font>"
   ]
  },
  {
   "cell_type": "markdown",
   "metadata": {},
   "source": [
    "## Instalando e Carregando os Pacotes"
   ]
  },
  {
   "cell_type": "code",
   "execution_count": 1,
   "metadata": {},
   "outputs": [],
   "source": [
    "# Para atualizar um pacote, execute o comando abaixo no terminal ou prompt de comando:\n",
    "# pip install -U nome_pacote\n",
    "\n",
    "# Para instalar a versão exata de um pacote, execute o comando abaixo no terminal ou prompt de comando:\n",
    "# !pip install nome_pacote==versão_desejada\n",
    "\n",
    "# Depois de instalar ou atualizar o pacote, reinicie o jupyter notebook.\n",
    "\n",
    "# Instala o pacote watermark. \n",
    "# Esse pacote é usado para gravar as versões de outros pacotes usados neste jupyter notebook.\n",
    "!pip install -q -U watermark"
   ]
  },
  {
   "cell_type": "code",
   "execution_count": 2,
   "metadata": {},
   "outputs": [],
   "source": [
    "!pip install -q xgboost"
   ]
  },
  {
   "cell_type": "code",
   "execution_count": 3,
   "metadata": {},
   "outputs": [],
   "source": [
    "# Import\n",
    "import pickle\n",
    "import sklearn as sk\n",
    "import pandas as pd\n",
    "import numpy as np\n",
    "import seaborn as sns\n",
    "import matplotlib.pyplot as plt\n",
    "import xgboost as xgb\n",
    "from xgboost import XGBClassifier\n",
    "from sklearn.linear_model import LogisticRegression\n",
    "from sklearn.naive_bayes import GaussianNB\n",
    "from sklearn.preprocessing import StandardScaler\n",
    "from sklearn.model_selection import cross_val_score, GridSearchCV\n",
    "from sklearn.metrics import roc_auc_score, accuracy_score, precision_score, recall_score, roc_curve\n",
    "import warnings\n",
    "warnings.filterwarnings('ignore')\n",
    "%matplotlib inline"
   ]
  },
  {
   "cell_type": "code",
   "execution_count": 4,
   "metadata": {},
   "outputs": [
    {
     "name": "stdout",
     "output_type": "stream",
     "text": [
      "Author: Data Science Academy\n",
      "\n"
     ]
    }
   ],
   "source": [
    "%reload_ext watermark\n",
    "%watermark -a \"Data Science Academy\""
   ]
  },
  {
   "cell_type": "markdown",
   "metadata": {},
   "source": [
    "## Etapa 1 - Definindo e Compreendendo o Problema a Ser Resolvido"
   ]
  },
  {
   "cell_type": "markdown",
   "metadata": {},
   "source": [
    "Objetivo: Prever se uma máquina industrial precisa ou não de manutenção através de 178 leituras de dados de sensores IoT (Internet of Things ou Internet das Coisas)."
   ]
  },
  {
   "cell_type": "markdown",
   "metadata": {
    "toc-hr-collapsed": true
   },
   "source": [
    "## Etapa 2 - Compreensão dos Dados\n",
    "\n",
    "Vamos trabalhar com dados históricos coletados de sensores IoT de máquinas industriais. Os dados são fictícios.\n",
    "\n",
    "Cada linha do dataset contém 178 leituras, que são as colunas de diferentes sensores. Ou seja, existem 178 colunas que compõem as leituras de sensores IoT. No total, existem 11.500 linhas e 179 colunas com a última coluna contendo o status da máquina industrial, se precisou ou não de manutenção.\n",
    "\n",
    "Os dados são fictícios."
   ]
  },
  {
   "cell_type": "markdown",
   "metadata": {},
   "source": [
    "## Etapa 3 - Carregando os Dados"
   ]
  },
  {
   "cell_type": "code",
   "execution_count": 5,
   "metadata": {
    "ExecuteTime": {
     "end_time": "2019-05-08T15:13:12.913150Z",
     "start_time": "2019-05-08T15:13:12.110967Z"
    }
   },
   "outputs": [],
   "source": [
    "# Carregando os dados\n",
    "df_dsa = pd.read_csv(\"dataset.csv\")"
   ]
  },
  {
   "cell_type": "code",
   "execution_count": 6,
   "metadata": {},
   "outputs": [
    {
     "data": {
      "text/plain": [
       "(11500, 179)"
      ]
     },
     "execution_count": 6,
     "metadata": {},
     "output_type": "execute_result"
    }
   ],
   "source": [
    "# Shape\n",
    "df_dsa.shape"
   ]
  },
  {
   "cell_type": "code",
   "execution_count": 7,
   "metadata": {
    "ExecuteTime": {
     "end_time": "2019-05-08T15:13:12.938814Z",
     "start_time": "2019-05-08T15:13:12.914598Z"
    }
   },
   "outputs": [
    {
     "data": {
      "text/html": [
       "<div>\n",
       "<style scoped>\n",
       "    .dataframe tbody tr th:only-of-type {\n",
       "        vertical-align: middle;\n",
       "    }\n",
       "\n",
       "    .dataframe tbody tr th {\n",
       "        vertical-align: top;\n",
       "    }\n",
       "\n",
       "    .dataframe thead th {\n",
       "        text-align: right;\n",
       "    }\n",
       "</style>\n",
       "<table border=\"1\" class=\"dataframe\">\n",
       "  <thead>\n",
       "    <tr style=\"text-align: right;\">\n",
       "      <th></th>\n",
       "      <th>X1</th>\n",
       "      <th>X2</th>\n",
       "      <th>X3</th>\n",
       "      <th>X4</th>\n",
       "      <th>X5</th>\n",
       "      <th>X6</th>\n",
       "      <th>X7</th>\n",
       "      <th>X8</th>\n",
       "      <th>X9</th>\n",
       "      <th>X10</th>\n",
       "      <th>...</th>\n",
       "      <th>X170</th>\n",
       "      <th>X171</th>\n",
       "      <th>X172</th>\n",
       "      <th>X173</th>\n",
       "      <th>X174</th>\n",
       "      <th>X175</th>\n",
       "      <th>X176</th>\n",
       "      <th>X177</th>\n",
       "      <th>X178</th>\n",
       "      <th>VARIAVEL_ALVO</th>\n",
       "    </tr>\n",
       "  </thead>\n",
       "  <tbody>\n",
       "    <tr>\n",
       "      <th>0</th>\n",
       "      <td>135</td>\n",
       "      <td>190</td>\n",
       "      <td>229</td>\n",
       "      <td>223</td>\n",
       "      <td>192</td>\n",
       "      <td>125</td>\n",
       "      <td>55</td>\n",
       "      <td>-9</td>\n",
       "      <td>-33</td>\n",
       "      <td>-38</td>\n",
       "      <td>...</td>\n",
       "      <td>-17</td>\n",
       "      <td>-15</td>\n",
       "      <td>-31</td>\n",
       "      <td>-77</td>\n",
       "      <td>-103</td>\n",
       "      <td>-127</td>\n",
       "      <td>-116</td>\n",
       "      <td>-83</td>\n",
       "      <td>-51</td>\n",
       "      <td>0</td>\n",
       "    </tr>\n",
       "    <tr>\n",
       "      <th>1</th>\n",
       "      <td>386</td>\n",
       "      <td>382</td>\n",
       "      <td>356</td>\n",
       "      <td>331</td>\n",
       "      <td>320</td>\n",
       "      <td>315</td>\n",
       "      <td>307</td>\n",
       "      <td>272</td>\n",
       "      <td>244</td>\n",
       "      <td>232</td>\n",
       "      <td>...</td>\n",
       "      <td>164</td>\n",
       "      <td>150</td>\n",
       "      <td>146</td>\n",
       "      <td>152</td>\n",
       "      <td>157</td>\n",
       "      <td>156</td>\n",
       "      <td>154</td>\n",
       "      <td>143</td>\n",
       "      <td>129</td>\n",
       "      <td>1</td>\n",
       "    </tr>\n",
       "    <tr>\n",
       "      <th>2</th>\n",
       "      <td>-32</td>\n",
       "      <td>-39</td>\n",
       "      <td>-47</td>\n",
       "      <td>-37</td>\n",
       "      <td>-32</td>\n",
       "      <td>-36</td>\n",
       "      <td>-57</td>\n",
       "      <td>-73</td>\n",
       "      <td>-85</td>\n",
       "      <td>-94</td>\n",
       "      <td>...</td>\n",
       "      <td>57</td>\n",
       "      <td>64</td>\n",
       "      <td>48</td>\n",
       "      <td>19</td>\n",
       "      <td>-12</td>\n",
       "      <td>-30</td>\n",
       "      <td>-35</td>\n",
       "      <td>-35</td>\n",
       "      <td>-36</td>\n",
       "      <td>0</td>\n",
       "    </tr>\n",
       "    <tr>\n",
       "      <th>3</th>\n",
       "      <td>-105</td>\n",
       "      <td>-101</td>\n",
       "      <td>-96</td>\n",
       "      <td>-92</td>\n",
       "      <td>-89</td>\n",
       "      <td>-95</td>\n",
       "      <td>-102</td>\n",
       "      <td>-100</td>\n",
       "      <td>-87</td>\n",
       "      <td>-79</td>\n",
       "      <td>...</td>\n",
       "      <td>-82</td>\n",
       "      <td>-81</td>\n",
       "      <td>-80</td>\n",
       "      <td>-77</td>\n",
       "      <td>-85</td>\n",
       "      <td>-77</td>\n",
       "      <td>-72</td>\n",
       "      <td>-69</td>\n",
       "      <td>-65</td>\n",
       "      <td>0</td>\n",
       "    </tr>\n",
       "    <tr>\n",
       "      <th>4</th>\n",
       "      <td>-9</td>\n",
       "      <td>-65</td>\n",
       "      <td>-98</td>\n",
       "      <td>-102</td>\n",
       "      <td>-78</td>\n",
       "      <td>-48</td>\n",
       "      <td>-16</td>\n",
       "      <td>0</td>\n",
       "      <td>-21</td>\n",
       "      <td>-59</td>\n",
       "      <td>...</td>\n",
       "      <td>4</td>\n",
       "      <td>2</td>\n",
       "      <td>-12</td>\n",
       "      <td>-32</td>\n",
       "      <td>-41</td>\n",
       "      <td>-65</td>\n",
       "      <td>-83</td>\n",
       "      <td>-89</td>\n",
       "      <td>-73</td>\n",
       "      <td>0</td>\n",
       "    </tr>\n",
       "  </tbody>\n",
       "</table>\n",
       "<p>5 rows × 179 columns</p>\n",
       "</div>"
      ],
      "text/plain": [
       "    X1   X2   X3   X4   X5   X6   X7   X8   X9  X10  ...  X170  X171  X172  \\\n",
       "0  135  190  229  223  192  125   55   -9  -33  -38  ...   -17   -15   -31   \n",
       "1  386  382  356  331  320  315  307  272  244  232  ...   164   150   146   \n",
       "2  -32  -39  -47  -37  -32  -36  -57  -73  -85  -94  ...    57    64    48   \n",
       "3 -105 -101  -96  -92  -89  -95 -102 -100  -87  -79  ...   -82   -81   -80   \n",
       "4   -9  -65  -98 -102  -78  -48  -16    0  -21  -59  ...     4     2   -12   \n",
       "\n",
       "   X173  X174  X175  X176  X177  X178  VARIAVEL_ALVO  \n",
       "0   -77  -103  -127  -116   -83   -51              0  \n",
       "1   152   157   156   154   143   129              1  \n",
       "2    19   -12   -30   -35   -35   -36              0  \n",
       "3   -77   -85   -77   -72   -69   -65              0  \n",
       "4   -32   -41   -65   -83   -89   -73              0  \n",
       "\n",
       "[5 rows x 179 columns]"
      ]
     },
     "execution_count": 7,
     "metadata": {},
     "output_type": "execute_result"
    }
   ],
   "source": [
    "# Visualizando alguns registros\n",
    "df_dsa.head()"
   ]
  },
  {
   "cell_type": "markdown",
   "metadata": {},
   "source": [
    "## Etapa 4 - Análise Exploratória e Definição da Variável Alvo"
   ]
  },
  {
   "cell_type": "markdown",
   "metadata": {},
   "source": [
    "Na última coluna, o valor 1 representa a classe positiva (a máquina precisou de manutenção), enquanto o valor zero representa a classe negativa (a máquina não precisou de manutenção). Esta será nossa variável alvo."
   ]
  },
  {
   "cell_type": "code",
   "execution_count": 8,
   "metadata": {},
   "outputs": [
    {
     "data": {
      "text/html": [
       "<div>\n",
       "<style scoped>\n",
       "    .dataframe tbody tr th:only-of-type {\n",
       "        vertical-align: middle;\n",
       "    }\n",
       "\n",
       "    .dataframe tbody tr th {\n",
       "        vertical-align: top;\n",
       "    }\n",
       "\n",
       "    .dataframe thead th {\n",
       "        text-align: right;\n",
       "    }\n",
       "</style>\n",
       "<table border=\"1\" class=\"dataframe\">\n",
       "  <thead>\n",
       "    <tr style=\"text-align: right;\">\n",
       "      <th></th>\n",
       "      <th>X1</th>\n",
       "      <th>X2</th>\n",
       "      <th>X3</th>\n",
       "      <th>X4</th>\n",
       "      <th>X5</th>\n",
       "      <th>X6</th>\n",
       "      <th>X7</th>\n",
       "      <th>X8</th>\n",
       "      <th>X9</th>\n",
       "      <th>X10</th>\n",
       "      <th>...</th>\n",
       "      <th>X170</th>\n",
       "      <th>X171</th>\n",
       "      <th>X172</th>\n",
       "      <th>X173</th>\n",
       "      <th>X174</th>\n",
       "      <th>X175</th>\n",
       "      <th>X176</th>\n",
       "      <th>X177</th>\n",
       "      <th>X178</th>\n",
       "      <th>VARIAVEL_ALVO</th>\n",
       "    </tr>\n",
       "  </thead>\n",
       "  <tbody>\n",
       "    <tr>\n",
       "      <th>count</th>\n",
       "      <td>11500.000000</td>\n",
       "      <td>11500.000000</td>\n",
       "      <td>11500.000000</td>\n",
       "      <td>11500.000000</td>\n",
       "      <td>11500.000000</td>\n",
       "      <td>11500.000000</td>\n",
       "      <td>11500.000000</td>\n",
       "      <td>11500.00000</td>\n",
       "      <td>11500.00000</td>\n",
       "      <td>11500.000000</td>\n",
       "      <td>...</td>\n",
       "      <td>11500.000000</td>\n",
       "      <td>11500.000000</td>\n",
       "      <td>11500.000000</td>\n",
       "      <td>11500.000000</td>\n",
       "      <td>11500.000000</td>\n",
       "      <td>11500.000000</td>\n",
       "      <td>11500.000000</td>\n",
       "      <td>11500.000000</td>\n",
       "      <td>11500.000000</td>\n",
       "      <td>11500.000000</td>\n",
       "    </tr>\n",
       "    <tr>\n",
       "      <th>mean</th>\n",
       "      <td>-11.581391</td>\n",
       "      <td>-10.911565</td>\n",
       "      <td>-10.187130</td>\n",
       "      <td>-9.143043</td>\n",
       "      <td>-8.009739</td>\n",
       "      <td>-7.003478</td>\n",
       "      <td>-6.502087</td>\n",
       "      <td>-6.68713</td>\n",
       "      <td>-6.55800</td>\n",
       "      <td>-6.168435</td>\n",
       "      <td>...</td>\n",
       "      <td>-10.145739</td>\n",
       "      <td>-11.630348</td>\n",
       "      <td>-12.943478</td>\n",
       "      <td>-13.668870</td>\n",
       "      <td>-13.363304</td>\n",
       "      <td>-13.045043</td>\n",
       "      <td>-12.705130</td>\n",
       "      <td>-12.426000</td>\n",
       "      <td>-12.195652</td>\n",
       "      <td>0.200000</td>\n",
       "    </tr>\n",
       "    <tr>\n",
       "      <th>std</th>\n",
       "      <td>165.626284</td>\n",
       "      <td>166.059609</td>\n",
       "      <td>163.524317</td>\n",
       "      <td>161.269041</td>\n",
       "      <td>160.998007</td>\n",
       "      <td>161.328725</td>\n",
       "      <td>161.467837</td>\n",
       "      <td>162.11912</td>\n",
       "      <td>162.03336</td>\n",
       "      <td>160.436352</td>\n",
       "      <td>...</td>\n",
       "      <td>164.652883</td>\n",
       "      <td>166.149790</td>\n",
       "      <td>168.554058</td>\n",
       "      <td>168.556486</td>\n",
       "      <td>167.257290</td>\n",
       "      <td>164.241019</td>\n",
       "      <td>162.895832</td>\n",
       "      <td>162.886311</td>\n",
       "      <td>164.852015</td>\n",
       "      <td>0.400017</td>\n",
       "    </tr>\n",
       "    <tr>\n",
       "      <th>min</th>\n",
       "      <td>-1839.000000</td>\n",
       "      <td>-1838.000000</td>\n",
       "      <td>-1835.000000</td>\n",
       "      <td>-1845.000000</td>\n",
       "      <td>-1791.000000</td>\n",
       "      <td>-1757.000000</td>\n",
       "      <td>-1832.000000</td>\n",
       "      <td>-1778.00000</td>\n",
       "      <td>-1840.00000</td>\n",
       "      <td>-1867.000000</td>\n",
       "      <td>...</td>\n",
       "      <td>-1867.000000</td>\n",
       "      <td>-1865.000000</td>\n",
       "      <td>-1642.000000</td>\n",
       "      <td>-1723.000000</td>\n",
       "      <td>-1866.000000</td>\n",
       "      <td>-1863.000000</td>\n",
       "      <td>-1781.000000</td>\n",
       "      <td>-1727.000000</td>\n",
       "      <td>-1829.000000</td>\n",
       "      <td>0.000000</td>\n",
       "    </tr>\n",
       "    <tr>\n",
       "      <th>25%</th>\n",
       "      <td>-54.000000</td>\n",
       "      <td>-55.000000</td>\n",
       "      <td>-54.000000</td>\n",
       "      <td>-54.000000</td>\n",
       "      <td>-54.000000</td>\n",
       "      <td>-54.000000</td>\n",
       "      <td>-54.000000</td>\n",
       "      <td>-55.00000</td>\n",
       "      <td>-55.00000</td>\n",
       "      <td>-54.000000</td>\n",
       "      <td>...</td>\n",
       "      <td>-55.000000</td>\n",
       "      <td>-56.000000</td>\n",
       "      <td>-56.000000</td>\n",
       "      <td>-56.000000</td>\n",
       "      <td>-55.000000</td>\n",
       "      <td>-56.000000</td>\n",
       "      <td>-55.000000</td>\n",
       "      <td>-55.000000</td>\n",
       "      <td>-55.000000</td>\n",
       "      <td>0.000000</td>\n",
       "    </tr>\n",
       "    <tr>\n",
       "      <th>50%</th>\n",
       "      <td>-8.000000</td>\n",
       "      <td>-8.000000</td>\n",
       "      <td>-7.000000</td>\n",
       "      <td>-8.000000</td>\n",
       "      <td>-8.000000</td>\n",
       "      <td>-8.000000</td>\n",
       "      <td>-8.000000</td>\n",
       "      <td>-8.00000</td>\n",
       "      <td>-7.00000</td>\n",
       "      <td>-7.000000</td>\n",
       "      <td>...</td>\n",
       "      <td>-9.000000</td>\n",
       "      <td>-10.000000</td>\n",
       "      <td>-10.000000</td>\n",
       "      <td>-10.000000</td>\n",
       "      <td>-10.000000</td>\n",
       "      <td>-9.000000</td>\n",
       "      <td>-9.000000</td>\n",
       "      <td>-9.000000</td>\n",
       "      <td>-9.000000</td>\n",
       "      <td>0.000000</td>\n",
       "    </tr>\n",
       "    <tr>\n",
       "      <th>75%</th>\n",
       "      <td>34.000000</td>\n",
       "      <td>35.000000</td>\n",
       "      <td>36.000000</td>\n",
       "      <td>36.000000</td>\n",
       "      <td>35.000000</td>\n",
       "      <td>36.000000</td>\n",
       "      <td>35.000000</td>\n",
       "      <td>36.00000</td>\n",
       "      <td>36.00000</td>\n",
       "      <td>35.250000</td>\n",
       "      <td>...</td>\n",
       "      <td>34.000000</td>\n",
       "      <td>34.000000</td>\n",
       "      <td>33.000000</td>\n",
       "      <td>33.000000</td>\n",
       "      <td>34.000000</td>\n",
       "      <td>34.000000</td>\n",
       "      <td>34.000000</td>\n",
       "      <td>34.000000</td>\n",
       "      <td>34.000000</td>\n",
       "      <td>0.000000</td>\n",
       "    </tr>\n",
       "    <tr>\n",
       "      <th>max</th>\n",
       "      <td>1726.000000</td>\n",
       "      <td>1713.000000</td>\n",
       "      <td>1697.000000</td>\n",
       "      <td>1612.000000</td>\n",
       "      <td>1518.000000</td>\n",
       "      <td>1816.000000</td>\n",
       "      <td>2047.000000</td>\n",
       "      <td>2047.00000</td>\n",
       "      <td>2047.00000</td>\n",
       "      <td>2047.000000</td>\n",
       "      <td>...</td>\n",
       "      <td>1777.000000</td>\n",
       "      <td>1472.000000</td>\n",
       "      <td>1319.000000</td>\n",
       "      <td>1436.000000</td>\n",
       "      <td>1733.000000</td>\n",
       "      <td>1958.000000</td>\n",
       "      <td>2047.000000</td>\n",
       "      <td>2047.000000</td>\n",
       "      <td>1915.000000</td>\n",
       "      <td>1.000000</td>\n",
       "    </tr>\n",
       "  </tbody>\n",
       "</table>\n",
       "<p>8 rows × 179 columns</p>\n",
       "</div>"
      ],
      "text/plain": [
       "                 X1            X2            X3            X4            X5  \\\n",
       "count  11500.000000  11500.000000  11500.000000  11500.000000  11500.000000   \n",
       "mean     -11.581391    -10.911565    -10.187130     -9.143043     -8.009739   \n",
       "std      165.626284    166.059609    163.524317    161.269041    160.998007   \n",
       "min    -1839.000000  -1838.000000  -1835.000000  -1845.000000  -1791.000000   \n",
       "25%      -54.000000    -55.000000    -54.000000    -54.000000    -54.000000   \n",
       "50%       -8.000000     -8.000000     -7.000000     -8.000000     -8.000000   \n",
       "75%       34.000000     35.000000     36.000000     36.000000     35.000000   \n",
       "max     1726.000000   1713.000000   1697.000000   1612.000000   1518.000000   \n",
       "\n",
       "                 X6            X7           X8           X9           X10  \\\n",
       "count  11500.000000  11500.000000  11500.00000  11500.00000  11500.000000   \n",
       "mean      -7.003478     -6.502087     -6.68713     -6.55800     -6.168435   \n",
       "std      161.328725    161.467837    162.11912    162.03336    160.436352   \n",
       "min    -1757.000000  -1832.000000  -1778.00000  -1840.00000  -1867.000000   \n",
       "25%      -54.000000    -54.000000    -55.00000    -55.00000    -54.000000   \n",
       "50%       -8.000000     -8.000000     -8.00000     -7.00000     -7.000000   \n",
       "75%       36.000000     35.000000     36.00000     36.00000     35.250000   \n",
       "max     1816.000000   2047.000000   2047.00000   2047.00000   2047.000000   \n",
       "\n",
       "       ...          X170          X171          X172          X173  \\\n",
       "count  ...  11500.000000  11500.000000  11500.000000  11500.000000   \n",
       "mean   ...    -10.145739    -11.630348    -12.943478    -13.668870   \n",
       "std    ...    164.652883    166.149790    168.554058    168.556486   \n",
       "min    ...  -1867.000000  -1865.000000  -1642.000000  -1723.000000   \n",
       "25%    ...    -55.000000    -56.000000    -56.000000    -56.000000   \n",
       "50%    ...     -9.000000    -10.000000    -10.000000    -10.000000   \n",
       "75%    ...     34.000000     34.000000     33.000000     33.000000   \n",
       "max    ...   1777.000000   1472.000000   1319.000000   1436.000000   \n",
       "\n",
       "               X174          X175          X176          X177          X178  \\\n",
       "count  11500.000000  11500.000000  11500.000000  11500.000000  11500.000000   \n",
       "mean     -13.363304    -13.045043    -12.705130    -12.426000    -12.195652   \n",
       "std      167.257290    164.241019    162.895832    162.886311    164.852015   \n",
       "min    -1866.000000  -1863.000000  -1781.000000  -1727.000000  -1829.000000   \n",
       "25%      -55.000000    -56.000000    -55.000000    -55.000000    -55.000000   \n",
       "50%      -10.000000     -9.000000     -9.000000     -9.000000     -9.000000   \n",
       "75%       34.000000     34.000000     34.000000     34.000000     34.000000   \n",
       "max     1733.000000   1958.000000   2047.000000   2047.000000   1915.000000   \n",
       "\n",
       "       VARIAVEL_ALVO  \n",
       "count   11500.000000  \n",
       "mean        0.200000  \n",
       "std         0.400017  \n",
       "min         0.000000  \n",
       "25%         0.000000  \n",
       "50%         0.000000  \n",
       "75%         0.000000  \n",
       "max         1.000000  \n",
       "\n",
       "[8 rows x 179 columns]"
      ]
     },
     "execution_count": 8,
     "metadata": {},
     "output_type": "execute_result"
    }
   ],
   "source": [
    "# Resumo estatístico\n",
    "df_dsa.describe()"
   ]
  },
  {
   "cell_type": "code",
   "execution_count": 9,
   "metadata": {},
   "outputs": [
    {
     "name": "stdout",
     "output_type": "stream",
     "text": [
      "Número de colunas: 179\n"
     ]
    }
   ],
   "source": [
    "print(\"Número de colunas:\", len(df_dsa.columns))"
   ]
  },
  {
   "cell_type": "code",
   "execution_count": 10,
   "metadata": {},
   "outputs": [
    {
     "data": {
      "text/plain": [
       "0"
      ]
     },
     "execution_count": 10,
     "metadata": {},
     "output_type": "execute_result"
    }
   ],
   "source": [
    "# Verificando valores ausentes\n",
    "df_dsa.isna().sum().sum()"
   ]
  },
  {
   "cell_type": "markdown",
   "metadata": {},
   "source": [
    "### Calculando a Prevalência da Classe Positiva"
   ]
  },
  {
   "cell_type": "markdown",
   "metadata": {},
   "source": [
    "A prevalência é a porcentagem de amostras que tem a característica que você está tentando prever. Nesse cenário específico, significa que as máquinas que precisaram de manutenção representam a classe positiva (ocorrência do evento), enquanto as que não nao precisaram de manutenção representam a classe negativa (não ocorrência do evento). \n",
    "\n",
    "A taxa é calculada por (número de amostras positivas / número de amostras). Portanto, uma taxa de prevalência de 0,2 significa que 20% de nossa amostra são de máquinas que precisaram de manutenção."
   ]
  },
  {
   "cell_type": "code",
   "execution_count": 11,
   "metadata": {
    "ExecuteTime": {
     "end_time": "2019-05-12T18:25:54.057795Z",
     "start_time": "2019-05-12T18:25:54.051508Z"
    }
   },
   "outputs": [],
   "source": [
    "# Esta função calcula a prevalência da classe positiva (label = 1)\n",
    "def dsa_calcula_prevalencia(y_actual):\n",
    "    return sum(y_actual) / len(y_actual)"
   ]
  },
  {
   "cell_type": "code",
   "execution_count": 12,
   "metadata": {},
   "outputs": [
    {
     "name": "stdout",
     "output_type": "stream",
     "text": [
      "Prevalência da classe positiva: 0.200\n"
     ]
    }
   ],
   "source": [
    "print(\"Prevalência da classe positiva: %.3f\"% dsa_calcula_prevalencia(df_dsa[\"VARIAVEL_ALVO\"].values))"
   ]
  },
  {
   "cell_type": "markdown",
   "metadata": {
    "toc-hr-collapsed": true
   },
   "source": [
    "## Etapa 5 - Limpeza dos Dados"
   ]
  },
  {
   "cell_type": "code",
   "execution_count": 13,
   "metadata": {
    "ExecuteTime": {
     "end_time": "2019-05-08T15:13:49.752767Z",
     "start_time": "2019-05-08T15:13:49.750168Z"
    }
   },
   "outputs": [],
   "source": [
    "# Preparando o dataset somente com os dados de interesse\n",
    "collist = df_dsa.columns.tolist()\n",
    "cols_input = collist[0:178]\n",
    "df_data = df_dsa[cols_input + [\"VARIAVEL_ALVO\"]]"
   ]
  },
  {
   "cell_type": "code",
   "execution_count": 14,
   "metadata": {},
   "outputs": [
    {
     "data": {
      "text/html": [
       "<div>\n",
       "<style scoped>\n",
       "    .dataframe tbody tr th:only-of-type {\n",
       "        vertical-align: middle;\n",
       "    }\n",
       "\n",
       "    .dataframe tbody tr th {\n",
       "        vertical-align: top;\n",
       "    }\n",
       "\n",
       "    .dataframe thead th {\n",
       "        text-align: right;\n",
       "    }\n",
       "</style>\n",
       "<table border=\"1\" class=\"dataframe\">\n",
       "  <thead>\n",
       "    <tr style=\"text-align: right;\">\n",
       "      <th></th>\n",
       "      <th>X1</th>\n",
       "      <th>X2</th>\n",
       "      <th>X3</th>\n",
       "      <th>X4</th>\n",
       "      <th>X5</th>\n",
       "      <th>X6</th>\n",
       "      <th>X7</th>\n",
       "      <th>X8</th>\n",
       "      <th>X9</th>\n",
       "      <th>X10</th>\n",
       "      <th>...</th>\n",
       "      <th>X170</th>\n",
       "      <th>X171</th>\n",
       "      <th>X172</th>\n",
       "      <th>X173</th>\n",
       "      <th>X174</th>\n",
       "      <th>X175</th>\n",
       "      <th>X176</th>\n",
       "      <th>X177</th>\n",
       "      <th>X178</th>\n",
       "      <th>VARIAVEL_ALVO</th>\n",
       "    </tr>\n",
       "  </thead>\n",
       "  <tbody>\n",
       "    <tr>\n",
       "      <th>0</th>\n",
       "      <td>135</td>\n",
       "      <td>190</td>\n",
       "      <td>229</td>\n",
       "      <td>223</td>\n",
       "      <td>192</td>\n",
       "      <td>125</td>\n",
       "      <td>55</td>\n",
       "      <td>-9</td>\n",
       "      <td>-33</td>\n",
       "      <td>-38</td>\n",
       "      <td>...</td>\n",
       "      <td>-17</td>\n",
       "      <td>-15</td>\n",
       "      <td>-31</td>\n",
       "      <td>-77</td>\n",
       "      <td>-103</td>\n",
       "      <td>-127</td>\n",
       "      <td>-116</td>\n",
       "      <td>-83</td>\n",
       "      <td>-51</td>\n",
       "      <td>0</td>\n",
       "    </tr>\n",
       "    <tr>\n",
       "      <th>1</th>\n",
       "      <td>386</td>\n",
       "      <td>382</td>\n",
       "      <td>356</td>\n",
       "      <td>331</td>\n",
       "      <td>320</td>\n",
       "      <td>315</td>\n",
       "      <td>307</td>\n",
       "      <td>272</td>\n",
       "      <td>244</td>\n",
       "      <td>232</td>\n",
       "      <td>...</td>\n",
       "      <td>164</td>\n",
       "      <td>150</td>\n",
       "      <td>146</td>\n",
       "      <td>152</td>\n",
       "      <td>157</td>\n",
       "      <td>156</td>\n",
       "      <td>154</td>\n",
       "      <td>143</td>\n",
       "      <td>129</td>\n",
       "      <td>1</td>\n",
       "    </tr>\n",
       "    <tr>\n",
       "      <th>2</th>\n",
       "      <td>-32</td>\n",
       "      <td>-39</td>\n",
       "      <td>-47</td>\n",
       "      <td>-37</td>\n",
       "      <td>-32</td>\n",
       "      <td>-36</td>\n",
       "      <td>-57</td>\n",
       "      <td>-73</td>\n",
       "      <td>-85</td>\n",
       "      <td>-94</td>\n",
       "      <td>...</td>\n",
       "      <td>57</td>\n",
       "      <td>64</td>\n",
       "      <td>48</td>\n",
       "      <td>19</td>\n",
       "      <td>-12</td>\n",
       "      <td>-30</td>\n",
       "      <td>-35</td>\n",
       "      <td>-35</td>\n",
       "      <td>-36</td>\n",
       "      <td>0</td>\n",
       "    </tr>\n",
       "    <tr>\n",
       "      <th>3</th>\n",
       "      <td>-105</td>\n",
       "      <td>-101</td>\n",
       "      <td>-96</td>\n",
       "      <td>-92</td>\n",
       "      <td>-89</td>\n",
       "      <td>-95</td>\n",
       "      <td>-102</td>\n",
       "      <td>-100</td>\n",
       "      <td>-87</td>\n",
       "      <td>-79</td>\n",
       "      <td>...</td>\n",
       "      <td>-82</td>\n",
       "      <td>-81</td>\n",
       "      <td>-80</td>\n",
       "      <td>-77</td>\n",
       "      <td>-85</td>\n",
       "      <td>-77</td>\n",
       "      <td>-72</td>\n",
       "      <td>-69</td>\n",
       "      <td>-65</td>\n",
       "      <td>0</td>\n",
       "    </tr>\n",
       "    <tr>\n",
       "      <th>4</th>\n",
       "      <td>-9</td>\n",
       "      <td>-65</td>\n",
       "      <td>-98</td>\n",
       "      <td>-102</td>\n",
       "      <td>-78</td>\n",
       "      <td>-48</td>\n",
       "      <td>-16</td>\n",
       "      <td>0</td>\n",
       "      <td>-21</td>\n",
       "      <td>-59</td>\n",
       "      <td>...</td>\n",
       "      <td>4</td>\n",
       "      <td>2</td>\n",
       "      <td>-12</td>\n",
       "      <td>-32</td>\n",
       "      <td>-41</td>\n",
       "      <td>-65</td>\n",
       "      <td>-83</td>\n",
       "      <td>-89</td>\n",
       "      <td>-73</td>\n",
       "      <td>0</td>\n",
       "    </tr>\n",
       "  </tbody>\n",
       "</table>\n",
       "<p>5 rows × 179 columns</p>\n",
       "</div>"
      ],
      "text/plain": [
       "    X1   X2   X3   X4   X5   X6   X7   X8   X9  X10  ...  X170  X171  X172  \\\n",
       "0  135  190  229  223  192  125   55   -9  -33  -38  ...   -17   -15   -31   \n",
       "1  386  382  356  331  320  315  307  272  244  232  ...   164   150   146   \n",
       "2  -32  -39  -47  -37  -32  -36  -57  -73  -85  -94  ...    57    64    48   \n",
       "3 -105 -101  -96  -92  -89  -95 -102 -100  -87  -79  ...   -82   -81   -80   \n",
       "4   -9  -65  -98 -102  -78  -48  -16    0  -21  -59  ...     4     2   -12   \n",
       "\n",
       "   X173  X174  X175  X176  X177  X178  VARIAVEL_ALVO  \n",
       "0   -77  -103  -127  -116   -83   -51              0  \n",
       "1   152   157   156   154   143   129              1  \n",
       "2    19   -12   -30   -35   -35   -36              0  \n",
       "3   -77   -85   -77   -72   -69   -65              0  \n",
       "4   -32   -41   -65   -83   -89   -73              0  \n",
       "\n",
       "[5 rows x 179 columns]"
      ]
     },
     "execution_count": 14,
     "metadata": {},
     "output_type": "execute_result"
    }
   ],
   "source": [
    "df_data.head()"
   ]
  },
  {
   "cell_type": "code",
   "execution_count": 15,
   "metadata": {
    "ExecuteTime": {
     "end_time": "2019-05-08T15:13:49.770891Z",
     "start_time": "2019-05-08T15:13:49.767088Z"
    }
   },
   "outputs": [
    {
     "name": "stdout",
     "output_type": "stream",
     "text": [
      "set()\n"
     ]
    }
   ],
   "source": [
    "# Checando se temos colunas duplicadas nos dados de entrada\n",
    "dup_cols = set([x for x in cols_input if cols_input.count(x) > 1])\n",
    "print(dup_cols)\n",
    "assert len(dup_cols) == 0, \"há colunas duplicadas\""
   ]
  },
  {
   "cell_type": "code",
   "execution_count": 16,
   "metadata": {
    "ExecuteTime": {
     "end_time": "2019-05-08T15:13:49.776481Z",
     "start_time": "2019-05-08T15:13:49.772290Z"
    }
   },
   "outputs": [
    {
     "name": "stdout",
     "output_type": "stream",
     "text": [
      "set()\n"
     ]
    }
   ],
   "source": [
    "# Checando se temos colunas duplicadas no dataset final\n",
    "cols_df_data = list(df_data.columns)\n",
    "dup_cols = set([x for x in cols_df_data if cols_df_data.count(x) > 1])\n",
    "print(dup_cols)\n",
    "assert len(dup_cols) == 0, \"há colunas duplicadas\""
   ]
  },
  {
   "cell_type": "markdown",
   "metadata": {},
   "source": [
    "## Etapa 6 - Divisão dos Dados em Treino, Validação e Teste"
   ]
  },
  {
   "cell_type": "markdown",
   "metadata": {},
   "source": [
    "A divisão de treinamento é usada para treinar nosso algoritmo de aprendizado de máquina, por isso queremos usar a maioria de nosso conjunto de dados. O conjunto de dados de validação é usado para ajustar os hiperparâmetros e selecionar a abordagem de melhor desempenho. O conjunto de dados de teste é usado para testar a precisão do nosso modelo de aprendizado de máquina.\n",
    "\n",
    "Geralmente, podemos dividir o conjunto de dados em 50/25/25, 60/20/20, 70/15/15 como a divisão para amostras de treinamento / validação / teste; isso também depende de quantas amostras temos. Se tivermos um conjunto de dados extremamente grande (centenas de milhões de linhas), podemos usar uma divisão como 98/1/1. "
   ]
  },
  {
   "cell_type": "code",
   "execution_count": 17,
   "metadata": {},
   "outputs": [
    {
     "data": {
      "text/html": [
       "<div>\n",
       "<style scoped>\n",
       "    .dataframe tbody tr th:only-of-type {\n",
       "        vertical-align: middle;\n",
       "    }\n",
       "\n",
       "    .dataframe tbody tr th {\n",
       "        vertical-align: top;\n",
       "    }\n",
       "\n",
       "    .dataframe thead th {\n",
       "        text-align: right;\n",
       "    }\n",
       "</style>\n",
       "<table border=\"1\" class=\"dataframe\">\n",
       "  <thead>\n",
       "    <tr style=\"text-align: right;\">\n",
       "      <th></th>\n",
       "      <th>X1</th>\n",
       "      <th>X2</th>\n",
       "      <th>X3</th>\n",
       "      <th>X4</th>\n",
       "      <th>X5</th>\n",
       "      <th>X6</th>\n",
       "      <th>X7</th>\n",
       "      <th>X8</th>\n",
       "      <th>X9</th>\n",
       "      <th>X10</th>\n",
       "      <th>...</th>\n",
       "      <th>X170</th>\n",
       "      <th>X171</th>\n",
       "      <th>X172</th>\n",
       "      <th>X173</th>\n",
       "      <th>X174</th>\n",
       "      <th>X175</th>\n",
       "      <th>X176</th>\n",
       "      <th>X177</th>\n",
       "      <th>X178</th>\n",
       "      <th>VARIAVEL_ALVO</th>\n",
       "    </tr>\n",
       "  </thead>\n",
       "  <tbody>\n",
       "    <tr>\n",
       "      <th>0</th>\n",
       "      <td>135</td>\n",
       "      <td>190</td>\n",
       "      <td>229</td>\n",
       "      <td>223</td>\n",
       "      <td>192</td>\n",
       "      <td>125</td>\n",
       "      <td>55</td>\n",
       "      <td>-9</td>\n",
       "      <td>-33</td>\n",
       "      <td>-38</td>\n",
       "      <td>...</td>\n",
       "      <td>-17</td>\n",
       "      <td>-15</td>\n",
       "      <td>-31</td>\n",
       "      <td>-77</td>\n",
       "      <td>-103</td>\n",
       "      <td>-127</td>\n",
       "      <td>-116</td>\n",
       "      <td>-83</td>\n",
       "      <td>-51</td>\n",
       "      <td>0</td>\n",
       "    </tr>\n",
       "    <tr>\n",
       "      <th>1</th>\n",
       "      <td>386</td>\n",
       "      <td>382</td>\n",
       "      <td>356</td>\n",
       "      <td>331</td>\n",
       "      <td>320</td>\n",
       "      <td>315</td>\n",
       "      <td>307</td>\n",
       "      <td>272</td>\n",
       "      <td>244</td>\n",
       "      <td>232</td>\n",
       "      <td>...</td>\n",
       "      <td>164</td>\n",
       "      <td>150</td>\n",
       "      <td>146</td>\n",
       "      <td>152</td>\n",
       "      <td>157</td>\n",
       "      <td>156</td>\n",
       "      <td>154</td>\n",
       "      <td>143</td>\n",
       "      <td>129</td>\n",
       "      <td>1</td>\n",
       "    </tr>\n",
       "    <tr>\n",
       "      <th>2</th>\n",
       "      <td>-32</td>\n",
       "      <td>-39</td>\n",
       "      <td>-47</td>\n",
       "      <td>-37</td>\n",
       "      <td>-32</td>\n",
       "      <td>-36</td>\n",
       "      <td>-57</td>\n",
       "      <td>-73</td>\n",
       "      <td>-85</td>\n",
       "      <td>-94</td>\n",
       "      <td>...</td>\n",
       "      <td>57</td>\n",
       "      <td>64</td>\n",
       "      <td>48</td>\n",
       "      <td>19</td>\n",
       "      <td>-12</td>\n",
       "      <td>-30</td>\n",
       "      <td>-35</td>\n",
       "      <td>-35</td>\n",
       "      <td>-36</td>\n",
       "      <td>0</td>\n",
       "    </tr>\n",
       "    <tr>\n",
       "      <th>3</th>\n",
       "      <td>-105</td>\n",
       "      <td>-101</td>\n",
       "      <td>-96</td>\n",
       "      <td>-92</td>\n",
       "      <td>-89</td>\n",
       "      <td>-95</td>\n",
       "      <td>-102</td>\n",
       "      <td>-100</td>\n",
       "      <td>-87</td>\n",
       "      <td>-79</td>\n",
       "      <td>...</td>\n",
       "      <td>-82</td>\n",
       "      <td>-81</td>\n",
       "      <td>-80</td>\n",
       "      <td>-77</td>\n",
       "      <td>-85</td>\n",
       "      <td>-77</td>\n",
       "      <td>-72</td>\n",
       "      <td>-69</td>\n",
       "      <td>-65</td>\n",
       "      <td>0</td>\n",
       "    </tr>\n",
       "    <tr>\n",
       "      <th>4</th>\n",
       "      <td>-9</td>\n",
       "      <td>-65</td>\n",
       "      <td>-98</td>\n",
       "      <td>-102</td>\n",
       "      <td>-78</td>\n",
       "      <td>-48</td>\n",
       "      <td>-16</td>\n",
       "      <td>0</td>\n",
       "      <td>-21</td>\n",
       "      <td>-59</td>\n",
       "      <td>...</td>\n",
       "      <td>4</td>\n",
       "      <td>2</td>\n",
       "      <td>-12</td>\n",
       "      <td>-32</td>\n",
       "      <td>-41</td>\n",
       "      <td>-65</td>\n",
       "      <td>-83</td>\n",
       "      <td>-89</td>\n",
       "      <td>-73</td>\n",
       "      <td>0</td>\n",
       "    </tr>\n",
       "  </tbody>\n",
       "</table>\n",
       "<p>5 rows × 179 columns</p>\n",
       "</div>"
      ],
      "text/plain": [
       "    X1   X2   X3   X4   X5   X6   X7   X8   X9  X10  ...  X170  X171  X172  \\\n",
       "0  135  190  229  223  192  125   55   -9  -33  -38  ...   -17   -15   -31   \n",
       "1  386  382  356  331  320  315  307  272  244  232  ...   164   150   146   \n",
       "2  -32  -39  -47  -37  -32  -36  -57  -73  -85  -94  ...    57    64    48   \n",
       "3 -105 -101  -96  -92  -89  -95 -102 -100  -87  -79  ...   -82   -81   -80   \n",
       "4   -9  -65  -98 -102  -78  -48  -16    0  -21  -59  ...     4     2   -12   \n",
       "\n",
       "   X173  X174  X175  X176  X177  X178  VARIAVEL_ALVO  \n",
       "0   -77  -103  -127  -116   -83   -51              0  \n",
       "1   152   157   156   154   143   129              1  \n",
       "2    19   -12   -30   -35   -35   -36              0  \n",
       "3   -77   -85   -77   -72   -69   -65              0  \n",
       "4   -32   -41   -65   -83   -89   -73              0  \n",
       "\n",
       "[5 rows x 179 columns]"
      ]
     },
     "execution_count": 17,
     "metadata": {},
     "output_type": "execute_result"
    }
   ],
   "source": [
    "df_data.head()"
   ]
  },
  {
   "cell_type": "code",
   "execution_count": 18,
   "metadata": {},
   "outputs": [],
   "source": [
    "# Gerando amostras aleatórias dos dados\n",
    "df_data = df_data.sample(n = len(df_data))"
   ]
  },
  {
   "cell_type": "code",
   "execution_count": 19,
   "metadata": {
    "ExecuteTime": {
     "end_time": "2019-05-08T15:13:49.799322Z",
     "start_time": "2019-05-08T15:13:49.782882Z"
    }
   },
   "outputs": [],
   "source": [
    "# Ajustando os índices do dataset\n",
    "df_data = df_data.reset_index(drop = True)"
   ]
  },
  {
   "cell_type": "code",
   "execution_count": 20,
   "metadata": {
    "ExecuteTime": {
     "end_time": "2019-05-08T15:13:49.809784Z",
     "start_time": "2019-05-08T15:13:49.801008Z"
    }
   },
   "outputs": [
    {
     "name": "stdout",
     "output_type": "stream",
     "text": [
      "Tamanho da divisão de validação / teste: 0.3\n"
     ]
    }
   ],
   "source": [
    "# Gera um índice para a divisão\n",
    "df_valid_teste = df_data.sample(frac = 0.3)\n",
    "print(\"Tamanho da divisão de validação / teste: %.1f\" % (len(df_valid_teste) / len(df_data)))"
   ]
  },
  {
   "cell_type": "code",
   "execution_count": 21,
   "metadata": {},
   "outputs": [],
   "source": [
    "# Fazendo a divisão 70/15/15\n",
    "\n",
    "# Dados de teste\n",
    "df_teste = df_valid_teste.sample(frac = 0.5)\n",
    "\n",
    "# Dados se validação\n",
    "df_valid = df_valid_teste.drop(df_teste.index)\n",
    "\n",
    "# Dados de treino\n",
    "df_treino = df_data.drop(df_valid_teste.index)"
   ]
  },
  {
   "cell_type": "code",
   "execution_count": 22,
   "metadata": {
    "ExecuteTime": {
     "end_time": "2019-05-08T15:13:49.839156Z",
     "start_time": "2019-05-08T15:13:49.831514Z"
    }
   },
   "outputs": [
    {
     "name": "stdout",
     "output_type": "stream",
     "text": [
      "Teste(n = 1725): 0.203\n",
      "Validação(n = 1725): 0.199\n",
      "Treino(n = 8050): 0.200\n"
     ]
    }
   ],
   "source": [
    "# Verifique a prevalência de cada subconjunto\n",
    "print(\"Teste(n = %d): %.3f\" % (len(df_teste), dsa_calcula_prevalencia(df_teste.VARIAVEL_ALVO.values)))\n",
    "print(\"Validação(n = %d): %.3f\" % (len(df_valid), dsa_calcula_prevalencia(df_valid.VARIAVEL_ALVO.values)))\n",
    "print(\"Treino(n = %d): %.3f\" % (len(df_treino), dsa_calcula_prevalencia(df_treino.VARIAVEL_ALVO.values)))"
   ]
  },
  {
   "cell_type": "code",
   "execution_count": 23,
   "metadata": {
    "ExecuteTime": {
     "end_time": "2019-05-08T15:13:49.844449Z",
     "start_time": "2019-05-08T15:13:49.841228Z"
    }
   },
   "outputs": [
    {
     "name": "stdout",
     "output_type": "stream",
     "text": [
      "Todas as amostras (n = 11500)\n"
     ]
    }
   ],
   "source": [
    "print('Todas as amostras (n = %d)'%len(df_data))\n",
    "assert len(df_data) == (len(df_teste) + len(df_valid) + len(df_treino)), 'algo saiu errado'"
   ]
  },
  {
   "cell_type": "markdown",
   "metadata": {},
   "source": [
    "Queremos equilibrar nosso conjunto de dados para evitar a criação de um modelo que classifique incorretamente as amostras como pertencentes à classe majoritária. Por exemplo, se tivermos um conjunto de dados de detecção de fraude e a maioria dos casos for \"Não é fraude\", o modelo de classificação tenderia a favorecer a classe \"Não é fraude\", o que leva a resultados enganosos.\n",
    "\n",
    "Equilibramos nosso conjunto de dados para que as proporções de cada classe sejam as mesmas para evitar a criação de um modelo \"desequilibrado\".\n",
    "\n",
    "Como temos 2300 amostras positivas, podemos usar o método de balanceamento de subamostras para usar apenas um subconjunto aleatório das amostras negativas."
   ]
  },
  {
   "cell_type": "markdown",
   "metadata": {},
   "source": [
    "## Etapa 7 - Balanceamento de Classe\n",
    "\n",
    "Aplicamos balanceamento de classe somente nos dados de treino."
   ]
  },
  {
   "cell_type": "code",
   "execution_count": 24,
   "metadata": {},
   "outputs": [],
   "source": [
    "# Cria um índice\n",
    "rows_pos = df_treino.VARIAVEL_ALVO == 1"
   ]
  },
  {
   "cell_type": "code",
   "execution_count": 25,
   "metadata": {},
   "outputs": [],
   "source": [
    "# Define valores positivos e negativos do índice\n",
    "df_train_pos = df_treino.loc[rows_pos]\n",
    "df_train_neg = df_treino.loc[~rows_pos]"
   ]
  },
  {
   "cell_type": "code",
   "execution_count": 26,
   "metadata": {},
   "outputs": [],
   "source": [
    "# Valor mínimo\n",
    "n = np.min([len(df_train_pos), len(df_train_neg)])"
   ]
  },
  {
   "cell_type": "code",
   "execution_count": 27,
   "metadata": {},
   "outputs": [],
   "source": [
    "# Obtém valores aleatórios para o dataset de treino\n",
    "df_treino_final = pd.concat([df_train_pos.sample(n = n, random_state = 64), \n",
    "                             df_train_neg.sample(n = n, random_state = 64)], \n",
    "                            axis = 0, \n",
    "                            ignore_index = True)"
   ]
  },
  {
   "cell_type": "code",
   "execution_count": 28,
   "metadata": {},
   "outputs": [],
   "source": [
    "# Amostragem\n",
    "df_treino_final = df_treino_final.sample(n = len(df_treino_final), random_state = 64).reset_index(drop = True)"
   ]
  },
  {
   "cell_type": "code",
   "execution_count": 29,
   "metadata": {
    "ExecuteTime": {
     "end_time": "2019-05-08T15:13:49.870290Z",
     "start_time": "2019-05-08T15:13:49.845918Z"
    }
   },
   "outputs": [
    {
     "name": "stdout",
     "output_type": "stream",
     "text": [
      "Balanceamento em Treino(n = 3212): 0.500\n"
     ]
    }
   ],
   "source": [
    "print('Balanceamento em Treino(n = %d): %.3f'%(len(df_treino_final), \n",
    "                                               dsa_calcula_prevalencia(df_treino_final.VARIAVEL_ALVO.values)))"
   ]
  },
  {
   "cell_type": "markdown",
   "metadata": {},
   "source": [
    "Principais Técnicas de Balanceamento de Classe\n",
    "\n",
    "**Undersampling**: Esta técnica envolve reduzir o número de exemplos da classe majoritária para igualar ao número de exemplos da classe minoritária. Ou seja, você diminui o tamanho do conjunto de dados ao remover aleatoriamente registros da classe que tem mais exemplos. Isso pode ajudar a equilibrar o conjunto de dados, mas também pode resultar na perda de informações importantes, pois muitos dados da classe majoritária são descartados.\n",
    "\n",
    "**Oversampling**: Por outro lado, o oversampling envolve aumentar o número de exemplos na classe minoritária para que se iguale ao número de exemplos na classe majoritária. Isso geralmente é feito replicando os registros da classe minoritária ou gerando dados sintéticos semelhantes. Essa abordagem mantém todas as informações da classe majoritária e aumenta o conjunto de dados, mas pode levar a um problema de overfitting, onde o modelo aprende demais os detalhes específicos da classe minoritária replicada ou pode gerar um dataset tendencioso."
   ]
  },
  {
   "cell_type": "code",
   "execution_count": 30,
   "metadata": {
    "ExecuteTime": {
     "end_time": "2019-05-08T15:13:52.268041Z",
     "start_time": "2019-05-08T15:13:49.871789Z"
    }
   },
   "outputs": [],
   "source": [
    "# Salvamos todos os datasets em disco no formato csv.\n",
    "df_treino.to_csv('dados_treino.csv', index = False)\n",
    "df_treino_final.to_csv('dados_treino_final.csv', index = False)\n",
    "df_valid.to_csv('dados_valid.csv', index = False)\n",
    "df_teste.to_csv('dados_teste.csv', index = False)"
   ]
  },
  {
   "cell_type": "code",
   "execution_count": 31,
   "metadata": {},
   "outputs": [],
   "source": [
    "# Salvamos os dados de entrada (colunas preditoras) para facilitar a utilização mais tarde\n",
    "pickle.dump(cols_input, open('cols_input.sav', 'wb'))"
   ]
  },
  {
   "cell_type": "markdown",
   "metadata": {},
   "source": [
    "> Criamos as Matrizes X e Y."
   ]
  },
  {
   "cell_type": "code",
   "execution_count": 32,
   "metadata": {},
   "outputs": [],
   "source": [
    "# X\n",
    "X_treino = df_treino_final[cols_input].values\n",
    "X_valid = df_valid[cols_input].values"
   ]
  },
  {
   "cell_type": "code",
   "execution_count": 33,
   "metadata": {},
   "outputs": [],
   "source": [
    "# Y\n",
    "y_treino = df_treino_final['VARIAVEL_ALVO'].values\n",
    "y_valid = df_valid['VARIAVEL_ALVO'].values"
   ]
  },
  {
   "cell_type": "code",
   "execution_count": 34,
   "metadata": {
    "ExecuteTime": {
     "end_time": "2019-05-13T15:58:25.648736Z",
     "start_time": "2019-05-13T15:58:25.355810Z"
    },
    "scrolled": true
   },
   "outputs": [
    {
     "name": "stdout",
     "output_type": "stream",
     "text": [
      "Shape dos dados de treino: (3212, 178) (3212,)\n",
      "Shape dos dados de validação: (1725, 178) (1725,)\n"
     ]
    }
   ],
   "source": [
    "# Print\n",
    "print('Shape dos dados de treino:', X_treino.shape, y_treino.shape)\n",
    "print('Shape dos dados de validação:', X_valid.shape, y_valid.shape)"
   ]
  },
  {
   "cell_type": "code",
   "execution_count": 35,
   "metadata": {},
   "outputs": [
    {
     "data": {
      "text/plain": [
       "array([[-413, -530, -641, ..., -382, -366, -351],\n",
       "       [-249, -404, -421, ...,  -33, -208, -379],\n",
       "       [  25,    4,   -5, ...,  -33,  -30,  -25],\n",
       "       ...,\n",
       "       [  20,   15,   16, ...,   27,   19,    3],\n",
       "       [-106,   90,   93, ...,  260,  257,  224],\n",
       "       [  30,   47,   38, ...,    1,    2,   -9]])"
      ]
     },
     "execution_count": 35,
     "metadata": {},
     "output_type": "execute_result"
    }
   ],
   "source": [
    "X_treino"
   ]
  },
  {
   "cell_type": "markdown",
   "metadata": {},
   "source": [
    "## Etapa 8 - Padronização\n",
    "\n",
    "A padronização no pré-processamento de dados é uma técnica fundamental quando estamos criando modelos de classificação, assim como para muitos outros tipos de modelos de machine learning. Isso se deve a várias razões importantes:\n",
    "\n",
    "**Escala dos Dados**: Diferentes variáveis podem operar em escalas muito distintas. Por exemplo, imagine um dataset que inclui a idade dos indivíduos (variando de 0 a 100) e seus salários (podendo variar de milhares a dezenas de milhares). Um modelo de machine learning pode atribuir mais importância às variáveis com maiores magnitudes simplesmente devido à sua escala, o que pode levar a uma performance subótima do modelo.\n",
    "\n",
    "**Convergência mais Rápida**: Muitos algoritmos de machine learning, especialmente aqueles que utilizam gradiente descendente como método de otimização (por exemplo, regressão logística, redes neurais), convergem mais rapidamente quando os dados estão padronizados. Isso ocorre porque a padronização ajuda a garantir que o gradiente descendente não fique preso em escalas desproporcionais ao ajustar os pesos.\n",
    "\n",
    "**Interpretabilidade**: Quando padronizamos as variáveis, podemos interpretar mais diretamente a importância de cada variável no modelo. Em modelos lineares, por exemplo, os coeficientes podem ser interpretados como a importância de cada variável, assumindo que todas elas estão na mesma escala."
   ]
  },
  {
   "cell_type": "code",
   "execution_count": 36,
   "metadata": {},
   "outputs": [],
   "source": [
    "# Cria o objeto\n",
    "scaler = StandardScaler()"
   ]
  },
  {
   "cell_type": "code",
   "execution_count": 37,
   "metadata": {},
   "outputs": [
    {
     "data": {
      "text/html": [
       "<style>#sk-container-id-1 {color: black;}#sk-container-id-1 pre{padding: 0;}#sk-container-id-1 div.sk-toggleable {background-color: white;}#sk-container-id-1 label.sk-toggleable__label {cursor: pointer;display: block;width: 100%;margin-bottom: 0;padding: 0.3em;box-sizing: border-box;text-align: center;}#sk-container-id-1 label.sk-toggleable__label-arrow:before {content: \"▸\";float: left;margin-right: 0.25em;color: #696969;}#sk-container-id-1 label.sk-toggleable__label-arrow:hover:before {color: black;}#sk-container-id-1 div.sk-estimator:hover label.sk-toggleable__label-arrow:before {color: black;}#sk-container-id-1 div.sk-toggleable__content {max-height: 0;max-width: 0;overflow: hidden;text-align: left;background-color: #f0f8ff;}#sk-container-id-1 div.sk-toggleable__content pre {margin: 0.2em;color: black;border-radius: 0.25em;background-color: #f0f8ff;}#sk-container-id-1 input.sk-toggleable__control:checked~div.sk-toggleable__content {max-height: 200px;max-width: 100%;overflow: auto;}#sk-container-id-1 input.sk-toggleable__control:checked~label.sk-toggleable__label-arrow:before {content: \"▾\";}#sk-container-id-1 div.sk-estimator input.sk-toggleable__control:checked~label.sk-toggleable__label {background-color: #d4ebff;}#sk-container-id-1 div.sk-label input.sk-toggleable__control:checked~label.sk-toggleable__label {background-color: #d4ebff;}#sk-container-id-1 input.sk-hidden--visually {border: 0;clip: rect(1px 1px 1px 1px);clip: rect(1px, 1px, 1px, 1px);height: 1px;margin: -1px;overflow: hidden;padding: 0;position: absolute;width: 1px;}#sk-container-id-1 div.sk-estimator {font-family: monospace;background-color: #f0f8ff;border: 1px dotted black;border-radius: 0.25em;box-sizing: border-box;margin-bottom: 0.5em;}#sk-container-id-1 div.sk-estimator:hover {background-color: #d4ebff;}#sk-container-id-1 div.sk-parallel-item::after {content: \"\";width: 100%;border-bottom: 1px solid gray;flex-grow: 1;}#sk-container-id-1 div.sk-label:hover label.sk-toggleable__label {background-color: #d4ebff;}#sk-container-id-1 div.sk-serial::before {content: \"\";position: absolute;border-left: 1px solid gray;box-sizing: border-box;top: 0;bottom: 0;left: 50%;z-index: 0;}#sk-container-id-1 div.sk-serial {display: flex;flex-direction: column;align-items: center;background-color: white;padding-right: 0.2em;padding-left: 0.2em;position: relative;}#sk-container-id-1 div.sk-item {position: relative;z-index: 1;}#sk-container-id-1 div.sk-parallel {display: flex;align-items: stretch;justify-content: center;background-color: white;position: relative;}#sk-container-id-1 div.sk-item::before, #sk-container-id-1 div.sk-parallel-item::before {content: \"\";position: absolute;border-left: 1px solid gray;box-sizing: border-box;top: 0;bottom: 0;left: 50%;z-index: -1;}#sk-container-id-1 div.sk-parallel-item {display: flex;flex-direction: column;z-index: 1;position: relative;background-color: white;}#sk-container-id-1 div.sk-parallel-item:first-child::after {align-self: flex-end;width: 50%;}#sk-container-id-1 div.sk-parallel-item:last-child::after {align-self: flex-start;width: 50%;}#sk-container-id-1 div.sk-parallel-item:only-child::after {width: 0;}#sk-container-id-1 div.sk-dashed-wrapped {border: 1px dashed gray;margin: 0 0.4em 0.5em 0.4em;box-sizing: border-box;padding-bottom: 0.4em;background-color: white;}#sk-container-id-1 div.sk-label label {font-family: monospace;font-weight: bold;display: inline-block;line-height: 1.2em;}#sk-container-id-1 div.sk-label-container {text-align: center;}#sk-container-id-1 div.sk-container {/* jupyter's `normalize.less` sets `[hidden] { display: none; }` but bootstrap.min.css set `[hidden] { display: none !important; }` so we also need the `!important` here to be able to override the default hidden behavior on the sphinx rendered scikit-learn.org. See: https://github.com/scikit-learn/scikit-learn/issues/21755 */display: inline-block !important;position: relative;}#sk-container-id-1 div.sk-text-repr-fallback {display: none;}</style><div id=\"sk-container-id-1\" class=\"sk-top-container\"><div class=\"sk-text-repr-fallback\"><pre>StandardScaler()</pre><b>In a Jupyter environment, please rerun this cell to show the HTML representation or trust the notebook. <br />On GitHub, the HTML representation is unable to render, please try loading this page with nbviewer.org.</b></div><div class=\"sk-container\" hidden><div class=\"sk-item\"><div class=\"sk-estimator sk-toggleable\"><input class=\"sk-toggleable__control sk-hidden--visually\" id=\"sk-estimator-id-1\" type=\"checkbox\" checked><label for=\"sk-estimator-id-1\" class=\"sk-toggleable__label sk-toggleable__label-arrow\">StandardScaler</label><div class=\"sk-toggleable__content\"><pre>StandardScaler()</pre></div></div></div></div></div>"
      ],
      "text/plain": [
       "StandardScaler()"
      ]
     },
     "execution_count": 37,
     "metadata": {},
     "output_type": "execute_result"
    }
   ],
   "source": [
    "# Faz o fit\n",
    "scaler.fit(X_treino)"
   ]
  },
  {
   "cell_type": "code",
   "execution_count": 38,
   "metadata": {},
   "outputs": [],
   "source": [
    "# Salva o objeto em disco e carrega para usamos adiante\n",
    "scalerfile = 'scaler.sav'"
   ]
  },
  {
   "cell_type": "code",
   "execution_count": 39,
   "metadata": {},
   "outputs": [],
   "source": [
    "pickle.dump(scaler, open(scalerfile, 'wb'))\n",
    "scaler = pickle.load(open(scalerfile, 'rb'))"
   ]
  },
  {
   "cell_type": "code",
   "execution_count": 40,
   "metadata": {},
   "outputs": [],
   "source": [
    "# Aplica a padronização em nossas matrizes de dados\n",
    "X_treino_tf = scaler.transform(X_treino)\n",
    "X_valid_tf = scaler.transform(X_valid)"
   ]
  },
  {
   "cell_type": "code",
   "execution_count": 41,
   "metadata": {},
   "outputs": [
    {
     "data": {
      "text/plain": [
       "array([[-1.60139586, -2.07037661, -2.57479456, ..., -1.51006977,\n",
       "        -1.44744906, -1.37284161],\n",
       "       [-0.93668279, -1.56287912, -1.67177801, ..., -0.05573496,\n",
       "        -0.79082493, -1.48773255],\n",
       "       [ 0.17387442,  0.08044606,  0.03574419, ..., -0.05573496,\n",
       "        -0.05108382, -0.03518292],\n",
       "       ...,\n",
       "       [ 0.15360877,  0.1247514 ,  0.12194123, ...,  0.19429395,\n",
       "         0.15255278,  0.07970801],\n",
       "       [-0.35708542,  0.42683323,  0.43799702, ...,  1.16523953,\n",
       "         1.14164483,  0.98652571],\n",
       "       [ 0.19414006,  0.25363965,  0.21224288, ...,  0.08594809,\n",
       "         0.08190335,  0.03046904]])"
      ]
     },
     "execution_count": 41,
     "metadata": {},
     "output_type": "execute_result"
    }
   ],
   "source": [
    "X_treino_tf"
   ]
  },
  {
   "cell_type": "markdown",
   "metadata": {},
   "source": [
    "## Etapa 9 - Modelagem Preditiva"
   ]
  },
  {
   "cell_type": "markdown",
   "metadata": {},
   "source": [
    "Vamos criar funções auxiliares para o cálculo das métricas."
   ]
  },
  {
   "cell_type": "code",
   "execution_count": 42,
   "metadata": {},
   "outputs": [],
   "source": [
    "# Função para calcular a especificidade\n",
    "def dsa_calc_specificity(y_actual, y_pred, thresh):\n",
    "    return sum((y_pred < thresh) & (y_actual == 0)) / sum(y_actual ==0)"
   ]
  },
  {
   "cell_type": "code",
   "execution_count": 43,
   "metadata": {
    "ExecuteTime": {
     "end_time": "2019-05-08T15:13:52.971854Z",
     "start_time": "2019-05-08T15:13:52.951028Z"
    }
   },
   "outputs": [],
   "source": [
    "# Função para gerar relatório de métricas\n",
    "def dsa_print_report(y_actual, y_pred, thresh):\n",
    "    \n",
    "    auc = roc_auc_score(y_actual, y_pred)\n",
    "    \n",
    "    accuracy = accuracy_score(y_actual, (y_pred > thresh))\n",
    "    \n",
    "    recall = recall_score(y_actual, (y_pred > thresh))\n",
    "    \n",
    "    precision = precision_score(y_actual, (y_pred > thresh))\n",
    "    \n",
    "    specificity = dsa_calc_specificity(y_actual, y_pred, thresh)\n",
    "    \n",
    "    print('AUC:%.3f'%auc)\n",
    "    print('Acurácia:%.3f'%accuracy)\n",
    "    print('Recall:%.3f'%recall)\n",
    "    print('Precisão:%.3f'%precision)\n",
    "    print('Especificidade:%.3f'%specificity)\n",
    "    print(' ')\n",
    "    \n",
    "    return auc, accuracy, recall, precision, specificity "
   ]
  },
  {
   "cell_type": "markdown",
   "metadata": {},
   "source": [
    "As métricas acima são comumente utilizadas para avaliar o desempenho de modelos de classificação em machine learning. Cada uma delas fornece informações diferentes sobre a qualidade das previsões do modelo. Vamos descrevê-las:\n",
    "\n",
    "**AUC (Área sob a Curva ROC)**: A métrica AUC refere-se à área sob a curva ROC (Receiver Operating Characteristic). A curva ROC é um gráfico que mostra o desempenho de um modelo de classificação em todos os limiares de classificação. Esta curva plota a taxa de verdadeiros positivos (sensibilidade) contra a taxa de falsos positivos (1 - especificidade) para diferentes limiares. AUC varia de 0 a 1, onde um modelo com AUC de 1 é um classificador perfeito, e um modelo com AUC de 0.5 não tem capacidade de classificação melhor do que o acaso.\n",
    "\n",
    "**Accuracy (Acurácia)**: A acurácia é a fração de previsões corretas (tanto verdadeiros positivos quanto verdadeiros negativos) entre o total de casos examinados. É calculada como (verdadeiros positivos + verdadeiros negativos) / (total de casos). Enquanto a acurácia pode fornecer uma medida rápida da eficácia geral do modelo, ela pode ser enganosa em datasets desbalanceados, onde uma classe é muito mais frequente do que a outra.\n",
    "\n",
    "**Recall (Sensibilidade ou Taxa de Verdadeiros Positivos)**: O recall é a proporção de positivos reais que foram corretamente identificados pelo modelo, calculado como (verdadeiros positivos) / (verdadeiros positivos + falsos negativos). É uma medida importante quando o custo de não detectar um verdadeiro positivo é alto.\n",
    "\n",
    "**Precision (Precisão)**: A precisão é a proporção de previsões positivas que são realmente positivas, calculada como (verdadeiros positivos) / (verdadeiros positivos + falsos positivos). Alta precisão indica uma baixa taxa de falsos positivos. É particularmente importante em situações onde os falsos positivos têm um alto custo.\n",
    "\n",
    "**Specificity (Especificidade)**: A especificidade é a proporção de negativos reais que foram corretamente identificados como tal, calculado como (verdadeiros negativos) / (verdadeiros negativos + falsos positivos). Não é diretamente calculada pelo scikit-learn, mas pode ser derivada da matriz de confusão ou calculada por uma função personalizada, como a dsa_calc_specificity mencionada. A especificidade é crucial em contextos onde é importante minimizar os falsos positivos."
   ]
  },
  {
   "cell_type": "markdown",
   "metadata": {},
   "source": [
    "Como equilibramos nossos dados de treinamento, vamos definir nosso limite em 0,5 para rotular uma amostra prevista como positiva."
   ]
  },
  {
   "cell_type": "code",
   "execution_count": 44,
   "metadata": {
    "ExecuteTime": {
     "end_time": "2019-05-08T15:13:52.976159Z",
     "start_time": "2019-05-08T15:13:52.973505Z"
    }
   },
   "outputs": [],
   "source": [
    "thresh = 0.5"
   ]
  },
  {
   "cell_type": "markdown",
   "metadata": {},
   "source": [
    "### Versão 1  - Modelos Lineares\n",
    "\n",
    "Veja a definição no videobook do Capítulo 10.\n",
    "\n",
    "Para a versão 1 usaremos um modelo linear para classificação, a regressão logística.\n",
    "\n",
    "O algoritmo de regressão logística é uma técnica de aprendizado de máquina usada para prever um resultado binário. Isso significa que ele é utilizado para decidir entre duas possíveis opções, como sim ou não, verdadeiro ou falso, sucesso ou fracasso. \n",
    "\n",
    "O algoritmo funciona calculando a chance de um evento ocorrer com base nas características observadas nos dados. Por exemplo, pode-se usar a regressão logística para prever se um cliente fará ou não a compra de um produto, com base em seu histórico de compras e outras características pessoais. É um modelo fácil de compreender e muito poderoso."
   ]
  },
  {
   "cell_type": "code",
   "execution_count": 45,
   "metadata": {
    "ExecuteTime": {
     "end_time": "2019-05-13T20:58:02.798533Z",
     "start_time": "2019-05-13T20:58:02.142112Z"
    }
   },
   "outputs": [
    {
     "name": "stdout",
     "output_type": "stream",
     "text": [
      "\n",
      "Regressão Logística\n",
      "\n",
      "Treinamento:\n",
      "\n",
      "AUC:0.635\n",
      "Acurácia:0.677\n",
      "Recall:0.533\n",
      "Precisão:0.750\n",
      "Especificidade:0.822\n",
      " \n",
      "Validação:\n",
      "\n",
      "AUC:0.479\n",
      "Acurácia:0.700\n",
      "Recall:0.405\n",
      "Precisão:0.307\n",
      "Especificidade:0.773\n",
      " \n"
     ]
    }
   ],
   "source": [
    "# Construção do modelo\n",
    "\n",
    "# Cria o classificador (objeto)\n",
    "lr = LogisticRegression(max_iter = 500, random_state = 142)\n",
    "\n",
    "# Treina e cria o modelo\n",
    "modelo_dsa_v1 = lr.fit(X_treino_tf, y_treino)\n",
    "\n",
    "# Previsões \n",
    "y_train_preds = modelo_dsa_v1.predict_proba(X_treino_tf)[:,1]\n",
    "y_valid_preds = modelo_dsa_v1.predict_proba(X_valid_tf)[:,1]\n",
    "\n",
    "print('\\nRegressão Logística\\n')\n",
    "\n",
    "print('Treinamento:\\n')\n",
    "v1_train_auc, v1_train_acc, v1_train_rec, v1_train_prec, v1_train_spec = dsa_print_report(y_treino, \n",
    "                                                                                          y_train_preds, \n",
    "                                                                                          thresh)\n",
    "\n",
    "print('Validação:\\n')\n",
    "v1_valid_auc, v1_valid_acc, v1_valid_rec, v1_valid_prec, v1_valid_spec = dsa_print_report(y_valid, \n",
    "                                                                                          y_valid_preds, \n",
    "                                                                                          thresh)"
   ]
  },
  {
   "cell_type": "markdown",
   "metadata": {},
   "source": [
    "### Versão 2  - Modelos Probabilísticos\n",
    "\n",
    "Veja a definição no videobook do Capítulo 10.\n",
    "\n",
    "Para a versão 2 usaremos um algoritmo probabilístico, o Gaussian Naive Bayes.\n",
    "\n",
    "O algoritmo Gaussian Naive Bayes é um método de classificação baseado no teorema de Bayes, com a suposição de que os preditores (características de entrada) possuem uma distribuição normal (gaussiana). É chamado de \"naive\" (ingênuo) porque assume que todas as características são independentes umas das outras, o que raramente ocorre na prática, mas simplifica muito os cálculos. Esse algoritmo é eficaz em problemas de classificação onde as características são contínuas e presumivelmente têm uma distribuição normal, como em algumas tarefas de classificação de texto e problemas de diagnóstico médico. Ele calcula a probabilidade de cada categoria de saída com base nas características de entrada, e classifica cada instância na categoria com a maior probabilidade."
   ]
  },
  {
   "cell_type": "code",
   "execution_count": 46,
   "metadata": {
    "ExecuteTime": {
     "end_time": "2019-05-14T04:38:48.684319Z",
     "start_time": "2019-05-14T04:38:48.636445Z"
    }
   },
   "outputs": [
    {
     "name": "stdout",
     "output_type": "stream",
     "text": [
      "\n",
      "Naive Bayes\n",
      "\n",
      "Treinamento:\n",
      "\n",
      "AUC:0.985\n",
      "Acurácia:0.936\n",
      "Recall:0.899\n",
      "Precisão:0.972\n",
      "Especificidade:0.974\n",
      " \n",
      "Validação:\n",
      "\n",
      "AUC:0.984\n",
      "Acurácia:0.958\n",
      "Recall:0.904\n",
      "Precisão:0.886\n",
      "Especificidade:0.971\n",
      " \n"
     ]
    }
   ],
   "source": [
    "# Construção do modelo\n",
    "\n",
    "# Cria o classificador (objeto)\n",
    "nb = GaussianNB()\n",
    "\n",
    "# Treina e cria o modelo\n",
    "modelo_dsa_v2 = nb.fit(X_treino_tf, y_treino)\n",
    "\n",
    "# Previsões\n",
    "y_train_preds = modelo_dsa_v2.predict_proba(X_treino_tf)[:,1]\n",
    "y_valid_preds = modelo_dsa_v2.predict_proba(X_valid_tf)[:,1]\n",
    "\n",
    "print('\\nNaive Bayes\\n')\n",
    "\n",
    "print('Treinamento:\\n')\n",
    "v2_train_auc, v2_train_acc, v2_train_rec, v2_train_prec, v2_train_spec = dsa_print_report(y_treino, \n",
    "                                                                                          y_train_preds, \n",
    "                                                                                          thresh)\n",
    "\n",
    "print('Validação:\\n')\n",
    "v2_valid_auc, v2_valid_acc, v2_valid_rec, v2_valid_prec, v2_valid_spec = dsa_print_report(y_valid, \n",
    "                                                                                          y_valid_preds, \n",
    "                                                                                          thresh)"
   ]
  },
  {
   "cell_type": "markdown",
   "metadata": {},
   "source": [
    "### Versão 3  - Modelos de Árvore de Decisão e Boosting\n",
    "\n",
    "Veja a definição no videobook do Capítulo 10.\n",
    "\n",
    "Para a versão 3 usaremos um algoritmo baseado em árvore de decisão e método boosting.\n",
    "\n",
    "O algoritmo XGBoost (eXtreme Gradient Boosting) é uma implementação avançada de árvores de decisão com técnicas de boosting, que são métodos de aprendizado de máquina para aprimorar a precisão das previsões. O XGBoost constrói modelos de forma sequencial, onde cada novo modelo tenta corrigir os erros do anterior, focando nas instâncias que foram mais difíceis de prever corretamente.\n",
    "\n",
    "A principal vantagem do XGBoost é sua capacidade de gerenciar de forma eficiente grandes volumes de dados e lidar com uma variedade de tipos de dados, sendo muito eficiente em termos de tempo de execução e uso de memória. Ele também possui recursos que permitem lidar com valores faltantes e suporta várias funções de perda, o que o torna adequado para uma ampla gama de problemas de classificação e regressão.\n",
    "\n",
    "Além disso, o XGBoost oferece várias funcionalidades para melhorar o desempenho e a precisão do modelo, como regularização para evitar sobreajuste, e técnicas de poda de árvores. É amplamente utilizado em competições de ciência de dados e em aplicações industriais devido à sua robustez e eficácia."
   ]
  },
  {
   "cell_type": "code",
   "execution_count": 47,
   "metadata": {
    "ExecuteTime": {
     "end_time": "2019-05-14T17:26:47.281035Z",
     "start_time": "2019-05-14T17:26:44.567387Z"
    }
   },
   "outputs": [
    {
     "name": "stdout",
     "output_type": "stream",
     "text": [
      "\n",
      "Xtreme Gradient Boosting Classifier\n",
      "\n",
      "Treinamento:\n",
      "\n",
      "AUC:1.000\n",
      "Acurácia:1.000\n",
      "Recall:1.000\n",
      "Precisão:1.000\n",
      "Especificidade:1.000\n",
      " \n",
      "Validação:\n",
      "\n",
      "AUC:0.992\n",
      "Acurácia:0.962\n",
      "Recall:0.959\n",
      "Precisão:0.866\n",
      "Especificidade:0.963\n",
      " \n"
     ]
    }
   ],
   "source": [
    "# Construção do modelo\n",
    "\n",
    "# Cria o classificador\n",
    "xgbc = XGBClassifier()\n",
    "\n",
    "# Treina e cria o modelo\n",
    "modelo_dsa_v3 = xgbc.fit(X_treino_tf, y_treino)\n",
    "\n",
    "# Previsões\n",
    "y_train_preds = modelo_dsa_v3.predict_proba(X_treino_tf)[:,1]\n",
    "y_valid_preds = modelo_dsa_v3.predict_proba(X_valid_tf)[:,1]\n",
    "\n",
    "print('\\nXtreme Gradient Boosting Classifier\\n')\n",
    "\n",
    "print('Treinamento:\\n')\n",
    "v3_train_auc, v3_train_acc, v3_train_rec, v3_train_prec, v3_train_spec = dsa_print_report(y_treino, \n",
    "                                                                                          y_train_preds, \n",
    "                                                                                          thresh)\n",
    "\n",
    "print('Validação:\\n')\n",
    "v3_valid_auc, v3_valid_acc, v3_valid_rec, v3_valid_prec, v3_valid_spec = dsa_print_report(y_valid, \n",
    "                                                                                          y_valid_preds, \n",
    "                                                                                          thresh)"
   ]
  },
  {
   "cell_type": "markdown",
   "metadata": {},
   "source": [
    "## Etapa 10 - Validação Cruzada\n",
    "\n",
    "A validação cruzada é uma técnica de avaliação de modelos que visa assegurar a capacidade de generalização de um modelo preditivo para um conjunto de dados independente. Esse método é utilizado para estimar a habilidade do modelo de se desempenhar em dados não vistos durante o treinamento, minimizando problemas como o overfitting. Na validação cruzada, o conjunto de dados é dividido em partes menores: um conjunto é utilizado para treinar o modelo (dados de treinamento) e o outro é usado para testar o modelo (dados de teste ou validação). O processo é repetido várias vezes (folds) com diferentes partições de treinamento e teste, e os resultados são então agregados para fornecer uma medida mais robusta do desempenho do modelo.\n",
    "\n",
    "Um dos métodos mais comuns de validação cruzada é a validação cruzada k-fold, onde o conjunto de dados é dividido aleatoriamente em k partes (ou \"folds\") de aproximadamente o mesmo tamanho. O modelo é treinado k vezes, cada vez usando k-1 folds para treinamento e o fold restante para teste, garantindo que cada fold seja usado exatamente uma vez como dados de teste. Isso permite que todos os dados sejam utilizados tanto para treinamento quanto para teste, maximizando a eficiência do uso dos dados disponíveis. A validação cruzada fornece uma estimativa mais precisa do desempenho do modelo em comparação com a divisão simples dos dados em conjuntos de treinamento e teste, especialmente em casos de conjuntos de dados limitados ou desbalanceados.\n",
    "\n",
    "Para realizar a validação cruzada no modelo de Xtreme Gradient Boosting Classifier (XGBClassifier), você pode usar a função cross_val_score da biblioteca scikit-learn. Esta função permite avaliar a eficácia do modelo usando diferentes divisões de treino/teste, o que ajuda a obter uma estimativa mais robusta do desempenho do modelo."
   ]
  },
  {
   "cell_type": "code",
   "execution_count": 48,
   "metadata": {},
   "outputs": [
    {
     "name": "stdout",
     "output_type": "stream",
     "text": [
      "Validação Cruzada com 5 divisões\n",
      "Score AUC em Cada Divisão: [0.99641067 0.9936437  0.99385681 0.99492435 0.99151794]\n",
      "Média de Score AUC: 0.994070695250597\n"
     ]
    }
   ],
   "source": [
    "# Cria o classificador\n",
    "xgbc = XGBClassifier()\n",
    "\n",
    "# Configura a validação cruzada\n",
    "# Por exemplo, usando 5 divisões e a métrica de área sob a curva ROC (AUC)\n",
    "n_splits = 5\n",
    "score = 'roc_auc'\n",
    "\n",
    "# Realiza a validação cruzada\n",
    "cv_scores = cross_val_score(xgbc, X_treino_tf, y_treino, cv = n_splits, scoring = score)\n",
    "\n",
    "# Exibe os resultados\n",
    "print(f\"Validação Cruzada com {n_splits} divisões\")\n",
    "print(f\"Score AUC em Cada Divisão: {cv_scores}\")\n",
    "print(f\"Média de Score AUC: {np.mean(cv_scores)}\")"
   ]
  },
  {
   "cell_type": "markdown",
   "metadata": {},
   "source": [
    "## Etapa 11 - Otimização de Hiperparâmetros com GridSearchCV\n",
    "\n",
    "Para realizar a otimização de hiperparâmetros no seu modelo XGBoost, você pode usar o GridSearchCV ou RandomizedSearchCV da biblioteca scikit-learn. Essas ferramentas permitem testar automaticamente várias combinações de hiperparâmetros e selecionar a melhor combinação com base no desempenho do modelo.\n",
    "\n",
    "Vamos exemplificar como usar o GridSearchCV para otimizar alguns hiperparâmetros do XGBoost. O processo com RandomizedSearchCV seria similar, mas com a diferença de que ele testa um número fixo de combinações de hiperparâmetros escolhidas aleatoriamente, o que pode ser mais eficiente se o espaço de hiperparâmetros for muito grande."
   ]
  },
  {
   "cell_type": "code",
   "execution_count": 49,
   "metadata": {},
   "outputs": [
    {
     "name": "stdout",
     "output_type": "stream",
     "text": [
      "\n",
      "Xtreme Gradient Boosting Classifier - Otimizado\n",
      "\n",
      "Melhores hiperparâmetros: {'learning_rate': 0.1, 'max_depth': 5, 'n_estimators': 200, 'subsample': 0.9}\n",
      "\n",
      "Treinamento:\n",
      "\n",
      "AUC:1.000\n",
      "Acurácia:1.000\n",
      "Recall:1.000\n",
      "Precisão:1.000\n",
      "Especificidade:1.000\n",
      " \n",
      "Validação:\n",
      "\n",
      "AUC:0.993\n",
      "Acurácia:0.965\n",
      "Recall:0.945\n",
      "Precisão:0.888\n",
      "Especificidade:0.970\n",
      " \n",
      "CPU times: user 3.84 s, sys: 3.61 s, total: 7.45 s\n",
      "Wall time: 25.7 s\n"
     ]
    }
   ],
   "source": [
    "%%time\n",
    "\n",
    "# Define o classificador\n",
    "xgbc = XGBClassifier()\n",
    "\n",
    "# Define o espaço de hiperparâmetros para a otimização\n",
    "param_grid = {\n",
    "    'max_depth': [3, 4, 5],\n",
    "    'learning_rate': [0.01, 0.1, 0.2],\n",
    "    'n_estimators': [100, 200, 300],\n",
    "    'subsample': [0.7, 0.8, 0.9]\n",
    "}\n",
    "\n",
    "# Configura o GridSearchCV\n",
    "grid_search = GridSearchCV(xgbc, param_grid, cv = 5, scoring = 'roc_auc', n_jobs = -1)\n",
    "\n",
    "# Realiza a busca pelos melhores hiperparâmetros\n",
    "grid_search.fit(X_treino_tf, y_treino)\n",
    "\n",
    "# Melhores hiperparâmetros encontrados\n",
    "best_params = grid_search.best_params_\n",
    "\n",
    "# Treina o modelo com os melhores hiperparâmetros\n",
    "modelo_dsa_v4 = grid_search.best_estimator_\n",
    "\n",
    "# Previsões com o modelo otimizado\n",
    "y_train_preds_optimized = modelo_dsa_v4.predict_proba(X_treino_tf)[:,1]\n",
    "y_valid_preds_optimized = modelo_dsa_v4.predict_proba(X_valid_tf)[:,1]\n",
    "\n",
    "# Avaliação do modelo otimizado\n",
    "print('\\nXtreme Gradient Boosting Classifier - Otimizado\\n')\n",
    "print('Melhores hiperparâmetros:', best_params)\n",
    "\n",
    "print('\\nTreinamento:\\n')\n",
    "v4_train_auc, v4_train_acc, v4_train_rec, v4_train_prec, v4_train_spec = dsa_print_report(y_treino, \n",
    "                                                                                          y_train_preds_optimized, \n",
    "                                                                                          thresh)\n",
    "\n",
    "print('Validação:\\n')\n",
    "v4_valid_auc, v4_valid_acc, v4_valid_rec, v4_valid_prec, v4_valid_spec = dsa_print_report(y_valid, \n",
    "                                                                                          y_valid_preds_optimized, \n",
    "                                                                                          thresh)"
   ]
  },
  {
   "cell_type": "markdown",
   "metadata": {},
   "source": [
    "## Etapa 12 - Seleção do Melhor Modelo de Machine Learning"
   ]
  },
  {
   "cell_type": "markdown",
   "metadata": {},
   "source": [
    "Vamos criar um dataframe com todos os resultados e plotar usando o seaborn."
   ]
  },
  {
   "cell_type": "code",
   "execution_count": 50,
   "metadata": {
    "ExecuteTime": {
     "end_time": "2019-05-08T15:14:06.546715Z",
     "start_time": "2019-05-08T15:14:06.538191Z"
    }
   },
   "outputs": [],
   "source": [
    "# Cria um dataframe com as métricas calculadas\n",
    "df_results = pd.DataFrame({'classificador':['RL','RL','NB','NB','XGB','XGB','XGB_O','XGB_O'],\n",
    "                           'data_set':['treino','validação'] * 4,\n",
    "                           'auc':[v1_train_auc,\n",
    "                                  v1_valid_auc,\n",
    "                                  v2_train_auc,\n",
    "                                  v2_valid_auc,\n",
    "                                  v3_train_auc,\n",
    "                                  v3_valid_auc,\n",
    "                                  v4_train_auc,\n",
    "                                  v4_valid_auc],\n",
    "                           'accuracy':[v1_train_acc,\n",
    "                                       v1_valid_acc,\n",
    "                                       v2_train_acc,\n",
    "                                       v2_valid_acc,\n",
    "                                       v3_train_acc,\n",
    "                                       v3_valid_acc,\n",
    "                                       v4_train_acc,\n",
    "                                       v4_valid_acc],\n",
    "                           'recall':[v1_train_rec,\n",
    "                                     v1_valid_rec,\n",
    "                                     v2_train_rec,\n",
    "                                     v2_valid_rec,\n",
    "                                     v3_train_rec,\n",
    "                                     v3_valid_rec,\n",
    "                                     v4_train_rec,\n",
    "                                     v4_valid_rec],\n",
    "                           'precision':[v1_train_prec,\n",
    "                                        v1_valid_prec,\n",
    "                                        v2_train_prec,\n",
    "                                        v2_valid_prec,\n",
    "                                        v3_train_prec,\n",
    "                                        v3_valid_prec,\n",
    "                                        v4_train_prec,\n",
    "                                        v4_valid_prec],\n",
    "                           'specificity':[v1_train_spec,\n",
    "                                          v1_valid_spec,\n",
    "                                          v2_train_spec,\n",
    "                                          v2_valid_spec,\n",
    "                                          v3_train_spec,\n",
    "                                          v3_valid_spec,\n",
    "                                          v4_train_spec,\n",
    "                                          v4_valid_spec]})"
   ]
  },
  {
   "cell_type": "markdown",
   "metadata": {},
   "source": [
    "<!-- Projeto Desenvolvido na Data Science Academy - www.datascienceacademy.com.br -->A métrica de desempenho escolhida será a pontuação AUC (AUC Score) do conjunto de validação. É a pontuação ideal para comparar modelos de algoritmos diferentes."
   ]
  },
  {
   "cell_type": "code",
   "execution_count": 51,
   "metadata": {
    "ExecuteTime": {
     "end_time": "2019-05-14T21:58:28.068947Z",
     "start_time": "2019-05-14T21:58:27.821173Z"
    }
   },
   "outputs": [
    {
     "data": {
      "image/png": "[encoded data removed]",
      "text/plain": [
       "<Figure size 1600x800 with 1 Axes>"
      ]
     },
     "metadata": {},
     "output_type": "display_data"
    }
   ],
   "source": [
    "# Construção do Plot\n",
    "sns.set_style(\"whitegrid\")\n",
    "plt.figure(figsize = (16, 8))\n",
    "\n",
    "# Gráfico de barras\n",
    "ax = sns.barplot(x = 'classificador', y = 'auc', hue = 'data_set', data = df_results)\n",
    "ax.set_xlabel('Classificador', fontsize = 15)\n",
    "ax.set_ylabel('AUC', fontsize = 15)\n",
    "ax.tick_params(labelsize = 15)\n",
    "\n",
    "# Legenda\n",
    "plt.legend(bbox_to_anchor = (1.05, 1), loc = 2, borderaxespad = 0., fontsize = 15)\n",
    "plt.show();"
   ]
  },
  {
   "cell_type": "code",
   "execution_count": 52,
   "metadata": {},
   "outputs": [
    {
     "data": {
      "text/html": [
       "<div>\n",
       "<style scoped>\n",
       "    .dataframe tbody tr th:only-of-type {\n",
       "        vertical-align: middle;\n",
       "    }\n",
       "\n",
       "    .dataframe tbody tr th {\n",
       "        vertical-align: top;\n",
       "    }\n",
       "\n",
       "    .dataframe thead th {\n",
       "        text-align: right;\n",
       "    }\n",
       "</style>\n",
       "<table border=\"1\" class=\"dataframe\">\n",
       "  <thead>\n",
       "    <tr style=\"text-align: right;\">\n",
       "      <th></th>\n",
       "      <th>classificador</th>\n",
       "      <th>data_set</th>\n",
       "      <th>auc</th>\n",
       "      <th>accuracy</th>\n",
       "      <th>recall</th>\n",
       "      <th>precision</th>\n",
       "      <th>specificity</th>\n",
       "    </tr>\n",
       "  </thead>\n",
       "  <tbody>\n",
       "    <tr>\n",
       "      <th>0</th>\n",
       "      <td>RL</td>\n",
       "      <td>treino</td>\n",
       "      <td>0.635318</td>\n",
       "      <td>0.677460</td>\n",
       "      <td>0.533001</td>\n",
       "      <td>0.749562</td>\n",
       "      <td>0.821918</td>\n",
       "    </tr>\n",
       "    <tr>\n",
       "      <th>1</th>\n",
       "      <td>RL</td>\n",
       "      <td>validação</td>\n",
       "      <td>0.479214</td>\n",
       "      <td>0.699710</td>\n",
       "      <td>0.405248</td>\n",
       "      <td>0.306843</td>\n",
       "      <td>0.772793</td>\n",
       "    </tr>\n",
       "    <tr>\n",
       "      <th>2</th>\n",
       "      <td>NB</td>\n",
       "      <td>treino</td>\n",
       "      <td>0.985271</td>\n",
       "      <td>0.936488</td>\n",
       "      <td>0.898506</td>\n",
       "      <td>0.972372</td>\n",
       "      <td>0.974471</td>\n",
       "    </tr>\n",
       "    <tr>\n",
       "      <th>3</th>\n",
       "      <td>NB</td>\n",
       "      <td>validação</td>\n",
       "      <td>0.983891</td>\n",
       "      <td>0.957681</td>\n",
       "      <td>0.903790</td>\n",
       "      <td>0.885714</td>\n",
       "      <td>0.971056</td>\n",
       "    </tr>\n",
       "    <tr>\n",
       "      <th>4</th>\n",
       "      <td>XGB</td>\n",
       "      <td>treino</td>\n",
       "      <td>1.000000</td>\n",
       "      <td>1.000000</td>\n",
       "      <td>1.000000</td>\n",
       "      <td>1.000000</td>\n",
       "      <td>1.000000</td>\n",
       "    </tr>\n",
       "    <tr>\n",
       "      <th>5</th>\n",
       "      <td>XGB</td>\n",
       "      <td>validação</td>\n",
       "      <td>0.992408</td>\n",
       "      <td>0.962319</td>\n",
       "      <td>0.959184</td>\n",
       "      <td>0.865789</td>\n",
       "      <td>0.963097</td>\n",
       "    </tr>\n",
       "    <tr>\n",
       "      <th>6</th>\n",
       "      <td>XGB_O</td>\n",
       "      <td>treino</td>\n",
       "      <td>1.000000</td>\n",
       "      <td>1.000000</td>\n",
       "      <td>1.000000</td>\n",
       "      <td>1.000000</td>\n",
       "      <td>1.000000</td>\n",
       "    </tr>\n",
       "    <tr>\n",
       "      <th>7</th>\n",
       "      <td>XGB_O</td>\n",
       "      <td>validação</td>\n",
       "      <td>0.992789</td>\n",
       "      <td>0.965217</td>\n",
       "      <td>0.944606</td>\n",
       "      <td>0.887671</td>\n",
       "      <td>0.970333</td>\n",
       "    </tr>\n",
       "  </tbody>\n",
       "</table>\n",
       "</div>"
      ],
      "text/plain": [
       "  classificador   data_set       auc  accuracy    recall  precision  \\\n",
       "0            RL     treino  0.635318  0.677460  0.533001   0.749562   \n",
       "1            RL  validação  0.479214  0.699710  0.405248   0.306843   \n",
       "2            NB     treino  0.985271  0.936488  0.898506   0.972372   \n",
       "3            NB  validação  0.983891  0.957681  0.903790   0.885714   \n",
       "4           XGB     treino  1.000000  1.000000  1.000000   1.000000   \n",
       "5           XGB  validação  0.992408  0.962319  0.959184   0.865789   \n",
       "6         XGB_O     treino  1.000000  1.000000  1.000000   1.000000   \n",
       "7         XGB_O  validação  0.992789  0.965217  0.944606   0.887671   \n",
       "\n",
       "   specificity  \n",
       "0     0.821918  \n",
       "1     0.772793  \n",
       "2     0.974471  \n",
       "3     0.971056  \n",
       "4     1.000000  \n",
       "5     0.963097  \n",
       "6     1.000000  \n",
       "7     0.970333  "
      ]
     },
     "execution_count": 52,
     "metadata": {},
     "output_type": "execute_result"
    }
   ],
   "source": [
    "# Tabela de comparação dos modelos\n",
    "df_results"
   ]
  },
  {
   "cell_type": "markdown",
   "metadata": {},
   "source": [
    "Usaremos como critério de escolha a métrica AUC em validação."
   ]
  },
  {
   "cell_type": "code",
   "execution_count": 53,
   "metadata": {},
   "outputs": [
    {
     "data": {
      "text/html": [
       "<div>\n",
       "<style scoped>\n",
       "    .dataframe tbody tr th:only-of-type {\n",
       "        vertical-align: middle;\n",
       "    }\n",
       "\n",
       "    .dataframe tbody tr th {\n",
       "        vertical-align: top;\n",
       "    }\n",
       "\n",
       "    .dataframe thead th {\n",
       "        text-align: right;\n",
       "    }\n",
       "</style>\n",
       "<table border=\"1\" class=\"dataframe\">\n",
       "  <thead>\n",
       "    <tr style=\"text-align: right;\">\n",
       "      <th></th>\n",
       "      <th>classificador</th>\n",
       "      <th>data_set</th>\n",
       "      <th>auc</th>\n",
       "      <th>accuracy</th>\n",
       "      <th>recall</th>\n",
       "      <th>precision</th>\n",
       "      <th>specificity</th>\n",
       "    </tr>\n",
       "  </thead>\n",
       "  <tbody>\n",
       "    <tr>\n",
       "      <th>7</th>\n",
       "      <td>XGB_O</td>\n",
       "      <td>validação</td>\n",
       "      <td>0.992789</td>\n",
       "      <td>0.965217</td>\n",
       "      <td>0.944606</td>\n",
       "      <td>0.887671</td>\n",
       "      <td>0.970333</td>\n",
       "    </tr>\n",
       "    <tr>\n",
       "      <th>5</th>\n",
       "      <td>XGB</td>\n",
       "      <td>validação</td>\n",
       "      <td>0.992408</td>\n",
       "      <td>0.962319</td>\n",
       "      <td>0.959184</td>\n",
       "      <td>0.865789</td>\n",
       "      <td>0.963097</td>\n",
       "    </tr>\n",
       "    <tr>\n",
       "      <th>3</th>\n",
       "      <td>NB</td>\n",
       "      <td>validação</td>\n",
       "      <td>0.983891</td>\n",
       "      <td>0.957681</td>\n",
       "      <td>0.903790</td>\n",
       "      <td>0.885714</td>\n",
       "      <td>0.971056</td>\n",
       "    </tr>\n",
       "    <tr>\n",
       "      <th>1</th>\n",
       "      <td>RL</td>\n",
       "      <td>validação</td>\n",
       "      <td>0.479214</td>\n",
       "      <td>0.699710</td>\n",
       "      <td>0.405248</td>\n",
       "      <td>0.306843</td>\n",
       "      <td>0.772793</td>\n",
       "    </tr>\n",
       "  </tbody>\n",
       "</table>\n",
       "</div>"
      ],
      "text/plain": [
       "  classificador   data_set       auc  accuracy    recall  precision  \\\n",
       "7         XGB_O  validação  0.992789  0.965217  0.944606   0.887671   \n",
       "5           XGB  validação  0.992408  0.962319  0.959184   0.865789   \n",
       "3            NB  validação  0.983891  0.957681  0.903790   0.885714   \n",
       "1            RL  validação  0.479214  0.699710  0.405248   0.306843   \n",
       "\n",
       "   specificity  \n",
       "7     0.970333  \n",
       "5     0.963097  \n",
       "3     0.971056  \n",
       "1     0.772793  "
      ]
     },
     "execution_count": 53,
     "metadata": {},
     "output_type": "execute_result"
    }
   ],
   "source": [
    "# Tabela de comparação dos modelos somente com métricas em validação e ordenado por AUC\n",
    "df_results[df_results['data_set'] == 'validação'].sort_values(by = 'auc', ascending = False)"
   ]
  },
  {
   "cell_type": "markdown",
   "metadata": {},
   "source": [
    "Considerando a métrica AUC, nosso melhor modelo é o Classificador XGBoost Versão Otimizada (versão 4). Essa será nossa escolha.\n",
    "\n",
    "**Nota: Quanto executar na sua máquina os valores podem ser diferentes devido à precisão de cálculo de ponto flutuante da CPU do seu computador. Ajuste a decisão de acordo.**"
   ]
  },
  {
   "cell_type": "markdown",
   "metadata": {},
   "source": [
    "### Gravando o Melhor Modelo"
   ]
  },
  {
   "cell_type": "code",
   "execution_count": 54,
   "metadata": {},
   "outputs": [],
   "source": [
    "# Grava o modelo em disco\n",
    "pickle.dump(modelo_dsa_v4, open('melhor_modelo_dsa.pkl', 'wb'), protocol = 4)"
   ]
  },
  {
   "cell_type": "markdown",
   "metadata": {},
   "source": [
    "## Etapa 13 - Avaliação e Interpretação das Métricas"
   ]
  },
  {
   "cell_type": "code",
   "execution_count": 55,
   "metadata": {
    "ExecuteTime": {
     "end_time": "2019-05-16T19:55:04.923856Z",
     "start_time": "2019-05-16T19:55:04.659738Z"
    }
   },
   "outputs": [],
   "source": [
    "# Carrega o modelo, as colunas e o scaler\n",
    "melhor_modelo = pickle.load(open('melhor_modelo_dsa.pkl','rb'))\n",
    "cols_input = pickle.load(open('cols_input.sav','rb'))\n",
    "scaler = pickle.load(open('scaler.sav', 'rb'))\n",
    "\n",
    "# Carrega os dados\n",
    "df_train = pd.read_csv('dados_treino.csv')\n",
    "df_valid= pd.read_csv('dados_valid.csv')\n",
    "df_test= pd.read_csv('dados_teste.csv')\n",
    "\n",
    "# Cria matrizes x e y\n",
    "\n",
    "# X\n",
    "X_train = df_train[cols_input].values\n",
    "X_valid = df_valid[cols_input].values\n",
    "X_test = df_test[cols_input].values\n",
    "\n",
    "# Y\n",
    "y_train = df_train['VARIAVEL_ALVO'].values\n",
    "y_valid = df_valid['VARIAVEL_ALVO'].values\n",
    "y_test = df_test['VARIAVEL_ALVO'].values\n",
    "\n",
    "# Aplica a transformação nos dados\n",
    "X_train_tf = scaler.transform(X_train)\n",
    "X_valid_tf = scaler.transform(X_valid)\n",
    "X_test_tf = scaler.transform(X_test)"
   ]
  },
  {
   "cell_type": "markdown",
   "metadata": {},
   "source": [
    "> Calculando as previsões no formato de probabilidades."
   ]
  },
  {
   "cell_type": "code",
   "execution_count": 56,
   "metadata": {
    "ExecuteTime": {
     "end_time": "2019-05-16T20:00:25.218658Z",
     "start_time": "2019-05-16T20:00:24.916162Z"
    }
   },
   "outputs": [],
   "source": [
    "# Calcula as probabilidades\n",
    "y_train_preds = melhor_modelo.predict_proba(X_train_tf)[:,1]\n",
    "y_valid_preds = melhor_modelo.predict_proba(X_valid_tf)[:,1]\n",
    "y_test_preds = melhor_modelo.predict_proba(X_test_tf)[:,1]"
   ]
  },
  {
   "cell_type": "markdown",
   "metadata": {},
   "source": [
    "> Avaliação de desempenho."
   ]
  },
  {
   "cell_type": "code",
   "execution_count": 57,
   "metadata": {
    "ExecuteTime": {
     "end_time": "2019-05-16T20:00:59.875175Z",
     "start_time": "2019-05-16T20:00:59.819852Z"
    },
    "scrolled": false
   },
   "outputs": [
    {
     "name": "stdout",
     "output_type": "stream",
     "text": [
      "\n",
      "Treinamento:\n",
      "\n",
      "AUC:0.999\n",
      "Acurácia:0.979\n",
      "Recall:1.000\n",
      "Precisão:0.903\n",
      "Especificidade:0.973\n",
      " \n",
      "\n",
      "Validação:\n",
      "\n",
      "AUC:0.993\n",
      "Acurácia:0.965\n",
      "Recall:0.945\n",
      "Precisão:0.888\n",
      "Especificidade:0.970\n",
      " \n",
      "\n",
      "Teste:\n",
      "\n",
      "AUC:0.994\n",
      "Acurácia:0.968\n",
      "Recall:0.960\n",
      "Precisão:0.892\n",
      "Especificidade:0.970\n",
      " \n"
     ]
    }
   ],
   "source": [
    "thresh = 0.5\n",
    "\n",
    "print('\\nTreinamento:\\n')\n",
    "train_auc, train_accuracy, train_recall, train_precision, train_specificity = dsa_print_report(y_train,\n",
    "                                                                                               y_train_preds, \n",
    "                                                                                               thresh)\n",
    "\n",
    "print('\\nValidação:\\n')\n",
    "valid_auc, valid_accuracy, valid_recall, valid_precision, valid_specificity = dsa_print_report(y_valid,\n",
    "                                                                                               y_valid_preds, \n",
    "                                                                                               thresh)\n",
    "\n",
    "print('\\nTeste:\\n')\n",
    "test_auc, test_accuracy, test_recall, test_precision, test_specificity = dsa_print_report(y_test,\n",
    "                                                                                          y_test_preds, \n",
    "                                                                                          thresh)"
   ]
  },
  {
   "cell_type": "markdown",
   "metadata": {},
   "source": [
    "> Curva ROC.\n",
    "\n",
    "A curva ROC (Receiver Operating Characteristic) é uma ferramenta gráfica usada para avaliar o desempenho de modelos de classificação binária. Ela é traçada usando a taxa de verdadeiros positivos (sensibilidade) contra a taxa de falsos positivos (1 - especificidade) para diferentes pontos de corte. Essencialmente, a curva ROC mostra quão bem o modelo é capaz de distinguir entre as duas classes (por exemplo, positiva e negativa).\n",
    "<!-- Projeto Desenvolvido na Data Science Academy - www.datascienceacademy.com.br -->\n",
    "A curva pode ajudar a escolher o ponto de corte mais adequado, que balanceia entre capturar o máximo de verdadeiros positivos enquanto minimiza os falsos positivos. Um dos indicadores mais usados para medir a qualidade de um modelo com base na curva ROC é a área sob a curva (AUC). Um AUC de 1.0 representa um modelo perfeito, enquanto um AUC de 0.5 indica um desempenho não melhor do que o acaso. "
   ]
  },
  {
   "cell_type": "code",
   "execution_count": 58,
   "metadata": {
    "ExecuteTime": {
     "end_time": "2019-05-16T20:07:13.297521Z",
     "start_time": "2019-05-16T20:07:13.114468Z"
    }
   },
   "outputs": [
    {
     "data": {
      "image/png": "[encoded data removed]",
      "text/plain": [
       "<Figure size 1600x1000 with 1 Axes>"
      ]
     },
     "metadata": {},
     "output_type": "display_data"
    }
   ],
   "source": [
    "# Calcula a curva ROC nos dados de treino\n",
    "fpr_train, tpr_train, thresholds_train = roc_curve(y_train, y_train_preds)\n",
    "auc_train = roc_auc_score(y_train, y_train_preds)\n",
    "\n",
    "# Calcula a curva ROC nos dados de validação\n",
    "fpr_valid, tpr_valid, thresholds_valid = roc_curve(y_valid, y_valid_preds)\n",
    "auc_valid = roc_auc_score(y_valid, y_valid_preds)\n",
    "\n",
    "# Calcula a curva ROC nos dados de teste\n",
    "fpr_test, tpr_test, thresholds_test = roc_curve(y_test, y_test_preds)\n",
    "auc_test = roc_auc_score(y_test, y_test_preds)\n",
    "\n",
    "# Plot\n",
    "plt.figure(figsize=(16,10))\n",
    "plt.plot(fpr_train, tpr_train, 'r-', label = 'AUC em Treino: %.3f' % auc_train)\n",
    "plt.plot(fpr_valid, tpr_valid, 'b-', label = 'AUC em Validação: %.3f' % auc_valid)\n",
    "plt.plot(fpr_test, tpr_test, 'g-', label = 'AUC em Teste: %.3f' % auc_test)\n",
    "plt.plot([0,1],[0,1],'k--')\n",
    "plt.xlabel('Taxa de Falso Positivo')\n",
    "plt.ylabel('Taxa de Verdadeiro Positivo')\n",
    "plt.legend()\n",
    "plt.show()"
   ]
  },
  {
   "cell_type": "markdown",
   "metadata": {},
   "source": [
    "## Etapa 14 - Deploy do Modelo e Uso com Novos Dados"
   ]
  },
  {
   "cell_type": "code",
   "execution_count": 59,
   "metadata": {},
   "outputs": [],
   "source": [
    "# Carregando novos dados\n",
    "dsa_nova_maquina = pd.read_csv('novos_dados.csv')"
   ]
  },
  {
   "cell_type": "code",
   "execution_count": 60,
   "metadata": {},
   "outputs": [
    {
     "data": {
      "text/html": [
       "<div>\n",
       "<style scoped>\n",
       "    .dataframe tbody tr th:only-of-type {\n",
       "        vertical-align: middle;\n",
       "    }\n",
       "\n",
       "    .dataframe tbody tr th {\n",
       "        vertical-align: top;\n",
       "    }\n",
       "\n",
       "    .dataframe thead th {\n",
       "        text-align: right;\n",
       "    }\n",
       "</style>\n",
       "<table border=\"1\" class=\"dataframe\">\n",
       "  <thead>\n",
       "    <tr style=\"text-align: right;\">\n",
       "      <th></th>\n",
       "      <th>X1</th>\n",
       "      <th>X2</th>\n",
       "      <th>X3</th>\n",
       "      <th>X4</th>\n",
       "      <th>X5</th>\n",
       "      <th>X6</th>\n",
       "      <th>X7</th>\n",
       "      <th>X8</th>\n",
       "      <th>X9</th>\n",
       "      <th>X10</th>\n",
       "      <th>...</th>\n",
       "      <th>X169</th>\n",
       "      <th>X170</th>\n",
       "      <th>X171</th>\n",
       "      <th>X172</th>\n",
       "      <th>X173</th>\n",
       "      <th>X174</th>\n",
       "      <th>X175</th>\n",
       "      <th>X176</th>\n",
       "      <th>X177</th>\n",
       "      <th>X178</th>\n",
       "    </tr>\n",
       "  </thead>\n",
       "  <tbody>\n",
       "    <tr>\n",
       "      <th>0</th>\n",
       "      <td>51</td>\n",
       "      <td>43</td>\n",
       "      <td>34</td>\n",
       "      <td>21</td>\n",
       "      <td>13</td>\n",
       "      <td>12</td>\n",
       "      <td>6</td>\n",
       "      <td>4</td>\n",
       "      <td>1</td>\n",
       "      <td>-4</td>\n",
       "      <td>...</td>\n",
       "      <td>-41</td>\n",
       "      <td>-16</td>\n",
       "      <td>2</td>\n",
       "      <td>22</td>\n",
       "      <td>33</td>\n",
       "      <td>45</td>\n",
       "      <td>56</td>\n",
       "      <td>67</td>\n",
       "      <td>69</td>\n",
       "      <td>63</td>\n",
       "    </tr>\n",
       "  </tbody>\n",
       "</table>\n",
       "<p>1 rows × 178 columns</p>\n",
       "</div>"
      ],
      "text/plain": [
       "   X1  X2  X3  X4  X5  X6  X7  X8  X9  X10  ...  X169  X170  X171  X172  X173  \\\n",
       "0  51  43  34  21  13  12   6   4   1   -4  ...   -41   -16     2    22    33   \n",
       "\n",
       "   X174  X175  X176  X177  X178  \n",
       "0    45    56    67    69    63  \n",
       "\n",
       "[1 rows x 178 columns]"
      ]
     },
     "execution_count": 60,
     "metadata": {},
     "output_type": "execute_result"
    }
   ],
   "source": [
    "dsa_nova_maquina.head()"
   ]
  },
  {
   "cell_type": "code",
   "execution_count": 61,
   "metadata": {},
   "outputs": [],
   "source": [
    "# Aplicamos a padronização aos novos dados de entrada\n",
    "dsa_nova_maquina_scaled = scaler.transform(dsa_nova_maquina)"
   ]
  },
  {
   "cell_type": "code",
   "execution_count": 62,
   "metadata": {},
   "outputs": [
    {
     "data": {
      "text/plain": [
       "array([[ 0.27925576,  0.23752861,  0.1958244 ,  0.13367201,  0.09081343,\n",
       "         0.07706429,  0.04857074,  0.04081273,  0.02426903, -0.00633714,\n",
       "        -0.05450704, -0.08950605, -0.10386455, -0.09587587, -0.06981687,\n",
       "        -0.05493858, -0.05496384, -0.06163251, -0.04341465, -0.03607719,\n",
       "        -0.053659  , -0.03321036, -0.00905669,  0.00286482, -0.00088525,\n",
       "         0.003772  ,  0.03404593,  0.06139849,  0.09284456,  0.08946059,\n",
       "         0.07082328,  0.01782184,  0.00248139, -0.01495583,  0.00693011,\n",
       "         0.03164764,  0.06856699,  0.10789946,  0.12427962,  0.16067391,\n",
       "         0.17164087,  0.19072345,  0.18524754,  0.20856254,  0.21046284,\n",
       "         0.20943821,  0.19813037,  0.15355765,  0.08727314,  0.03701837,\n",
       "         0.02207498, -0.03088091, -0.08031822, -0.12654219, -0.16095502,\n",
       "        -0.18946273, -0.20077826, -0.19970806, -0.18581435, -0.13969526,\n",
       "        -0.09695618, -0.05465497, -0.01836306, -0.03809535, -0.02918142,\n",
       "        -0.02041271, -0.00135444,  0.04794633,  0.07246606,  0.06789981,\n",
       "         0.0794569 ,  0.08947928,  0.06591616,  0.05820763,  0.05772031,\n",
       "         0.07382132,  0.066592  ,  0.05315212,  0.03584492,  0.01062288,\n",
       "         0.01529089,  0.02943525,  0.04083305,  0.00611246, -0.01710634,\n",
       "        -0.06631944, -0.12337588, -0.19084355, -0.25037996, -0.27434584,\n",
       "        -0.31610165, -0.329071  , -0.35428368, -0.3512293 , -0.33826332,\n",
       "        -0.26596972, -0.22794247, -0.20522686, -0.20544241, -0.22266723,\n",
       "        -0.24886926, -0.26152906, -0.25366784, -0.22340622, -0.19908538,\n",
       "        -0.14337055, -0.09546449, -0.02962533,  0.05944252,  0.13422484,\n",
       "         0.176161  ,  0.20712599,  0.22149709,  0.1954842 ,  0.13743006,\n",
       "         0.068627  ,  0.0176933 , -0.04307775, -0.09691729, -0.12648689,\n",
       "        -0.15360712, -0.15737591, -0.1324202 , -0.12296384, -0.11202041,\n",
       "        -0.1030061 , -0.09932703, -0.08497832, -0.08939923, -0.01021958,\n",
       "         0.05231233,  0.13213006,  0.18175   ,  0.22587048,  0.22604671,\n",
       "         0.19563418,  0.16731469,  0.14044434,  0.13796931,  0.10805665,\n",
       "         0.09874607,  0.09009959,  0.06664182,  0.05896341,  0.04759579,\n",
       "         0.02696067,  0.04013996,  0.0781749 ,  0.11451353,  0.12088483,\n",
       "         0.14974539,  0.13824126,  0.12048172,  0.07685057,  0.02974742,\n",
       "        -0.00949241, -0.03400297, -0.07063969, -0.11282728, -0.17429256,\n",
       "        -0.19425625, -0.19283719, -0.22569147, -0.24536112, -0.28224055,\n",
       "        -0.27592854, -0.25321201, -0.19159114, -0.11603254, -0.00659024,\n",
       "         0.07957059,  0.1719461 ,  0.22420842,  0.27384888,  0.32161152,\n",
       "         0.36097988,  0.36034523,  0.32590286]])"
      ]
     },
     "execution_count": 62,
     "metadata": {},
     "output_type": "execute_result"
    }
   ],
   "source": [
    "dsa_nova_maquina_scaled"
   ]
  },
  {
   "cell_type": "code",
   "execution_count": 63,
   "metadata": {},
   "outputs": [
    {
     "data": {
      "text/plain": [
       "array([0])"
      ]
     },
     "execution_count": 63,
     "metadata": {},
     "output_type": "execute_result"
    }
   ],
   "source": [
    "# Previsão de classe\n",
    "melhor_modelo.predict(dsa_nova_maquina_scaled)"
   ]
  },
  {
   "cell_type": "markdown",
   "metadata": {},
   "source": [
    "De acordo com os dados dos sensores IoT, essa máquina não precisa de manutenção."
   ]
  },
  {
   "cell_type": "markdown",
   "metadata": {},
   "source": [
    "## Etapa 15 - Conclusão do Projeto\n",
    "\n",
    "Entregar o resultado de um projeto de Machine Learning envolve várias etapas que garantem que o modelo desenvolvido seja compreendido, avaliado e utilizado de maneira eficaz pelos stakeholders. Aqui estão os principais passos a serem considerados:\n",
    "\n",
    "**Documentação Completa**: Inclua detalhes técnicos sobre como o modelo foi construído, os dados utilizados, a preparação dos dados, o algoritmo escolhido, os parâmetros ajustados e os resultados dos testes. Documente também qualquer pré-processamento de dados e escolhas de engenharia de atributos.\n",
    "\n",
    "**Avaliação do Modelo**: Apresente uma avaliação detalhada do desempenho do modelo utilizando métricas relevantes (como precisão, recall, AUC-ROC, etc.). Use visualizações, como curvas ROC ou matrizes de confusão, para ilustrar os resultados de forma clara.\n",
    "\n",
    "**Relatório de Insights e Interpretações**: Forneça insights sobre o que o modelo mostra, incluindo quais variáveis são mais importantes para as previsões e como as variáveis influenciam essas previsões. Ferramentas de interpretabilidade de modelo, como SHAP ou LIME, podem ser úteis aqui.\n",
    "\n",
    "**Demonstração Prática**: Se possível, crie uma demonstração ou protótipo que mostre como o modelo funciona em um ambiente operacional. Isso pode ser uma aplicação web, um notebook Jupyter interativo ou até mesmo uma API que os stakeholders possam consultar para testar o modelo.\n",
    "\n",
    "**Manual do Usuário e Treinamento**: Forneça um manual do usuário ou guias que expliquem como interagir com o modelo, incluindo como inserir dados, interpretar resultados e aplicar os resultados para tomada de decisão. Além disso, ofereça sessões de treinamento para os usuários finais que irão operar ou interagir regularmente com o modelo.\n",
    "\n",
    "**Plano de Implantação**: Descreva como o modelo será implementado no ambiente de produção. Isso inclui detalhes técnicos sobre integração com sistemas existentes, requisitos de hardware/software e estratégias para atualizações e manutenção.\n",
    "\n",
    "**Plano de Monitoramento e Manutenção**: Estabeleça um plano para monitorar o desempenho do modelo ao longo do tempo e identificar quando ele precisa ser recalibrado ou treinado com novos dados para manter sua precisão e relevância.\n",
    "\n",
    "**Feedback e Iteração**: Inclua um mecanismo de feedback para coletar opiniões dos usuários sobre o desempenho do modelo e áreas para melhorias. Use essas informações para iterar sobre o modelo e melhorar continuamente sua precisão e usabilidade.\n",
    "\n",
    "Projeto concluído, projeto entregue, cliente feliz, partimos para o próximo projeto!\n",
    "<!-- Projeto Desenvolvido na Data Science Academy - www.datascienceacademy.com.br -->"
   ]
  },
  {
   "cell_type": "code",
   "execution_count": 64,
   "metadata": {},
   "outputs": [
    {
     "name": "stdout",
     "output_type": "stream",
     "text": [
      "Author: Data Science Academy\n",
      "\n"
     ]
    }
   ],
   "source": [
    "%watermark -a \"Data Science Academy\""
   ]
  },
  {
   "cell_type": "code",
   "execution_count": 65,
   "metadata": {},
   "outputs": [],
   "source": [
    "#%watermark -v -m"
   ]
  },
  {
   "cell_type": "code",
   "execution_count": 66,
   "metadata": {},
   "outputs": [],
   "source": [
    "#%watermark --iversions"
   ]
  },
  {
   "cell_type": "markdown",
   "metadata": {},
   "source": [
    "# Fim"
   ]
  }
 ],
 "metadata": {
  "anaconda-cloud": {},
  "hide_input": false,
  "kernelspec": {
   "display_name": "Python 3 (ipykernel)",
   "language": "python",
   "name": "python3"
  },
  "language_info": {
   "codemirror_mode": {
    "name": "ipython",
    "version": 3
   },
   "file_extension": ".py",
   "mimetype": "text/x-python",
   "name": "python",
   "nbconvert_exporter": "python",
   "pygments_lexer": "ipython3",
   "version": "3.11.5"
  },
  "toc": {
   "base_numbering": 1,
   "nav_menu": {},
   "number_sections": true,
   "sideBar": true,
   "skip_h1_title": false,
   "title_cell": "Table of Contents",
   "title_sidebar": "Contents",
   "toc_cell": false,
   "toc_position": {},
   "toc_section_display": true,
   "toc_window_display": false
  },
  "toc-autonumbering": true,
  "toc-showcode": false,
  "toc-showmarkdowntxt": false,
  "toc-showtags": false,
  "varInspector": {
   "cols": {
    "lenName": 16,
    "lenType": 16,
    "lenVar": 40
   },
   "kernels_config": {
    "python": {
     "delete_cmd_postfix": "",
     "delete_cmd_prefix": "del ",
     "library": "var_list.py",
     "varRefreshCmd": "print(var_dic_list())"
    },
    "r": {
     "delete_cmd_postfix": ") ",
     "delete_cmd_prefix": "rm(",
     "library": "var_list.r",
     "varRefreshCmd": "cat(var_dic_list()) "
    }
   },
   "types_to_exclude": [
    "module",
    "function",
    "builtin_function_or_method",
    "instance",
    "_Feature"
   ],
   "window_display": false
  }
 },
 "nbformat": 4,
 "nbformat_minor": 2
}
