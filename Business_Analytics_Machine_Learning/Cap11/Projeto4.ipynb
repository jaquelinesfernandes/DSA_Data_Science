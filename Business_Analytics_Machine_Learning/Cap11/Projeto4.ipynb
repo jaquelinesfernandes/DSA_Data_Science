{
 "cells": [
  {
   "cell_type": "markdown",
   "metadata": {
    "id": "_Jo37dkmSbdp"
   },
   "source": [
    "<!-- Projeto Desenvolvido na Data Science Academy - www.datascienceacademy.com.br -->\n",
    "# <font color='blue'>Data Science Academy</font>\n",
    "## <font color='blue'>Business Analytics e Machine Learning Para Projetos de Data Science</font>\n",
    "## <font color='blue'>Projeto 4</font>\n",
    "### <font color='blue'>Data Warehousing Analytics Para Análise Geoespacial com Python e DuckDB</font>"
   ]
  },
  {
   "cell_type": "markdown",
   "metadata": {},
   "source": [
    "## Instalando e Carregando os Pacotes"
   ]
  },
  {
   "cell_type": "code",
   "execution_count": 1,
   "metadata": {},
   "outputs": [],
   "source": [
    "# Para atualizar um pacote, execute o comando abaixo no terminal ou prompt de comando:\n",
    "# pip install -U nome_pacote\n",
    "\n",
    "# Para instalar a versão exata de um pacote, execute o comando abaixo no terminal ou prompt de comando:\n",
    "# !pip install nome_pacote==versão_desejada\n",
    "\n",
    "# Depois de instalar ou atualizar o pacote, reinicie o jupyter notebook.\n",
    "\n",
    "# Instala o pacote watermark. \n",
    "# Esse pacote é usado para gravar as versões de outros pacotes usados neste jupyter notebook.\n",
    "!pip install -q -U watermark"
   ]
  },
  {
   "cell_type": "code",
   "execution_count": 2,
   "metadata": {
    "colab": {
     "base_uri": "https://localhost:8080/"
    },
    "id": "9LJLttFV6_PN",
    "outputId": "27f1e6b4-e52f-4679-bc9f-2abefd482e2c"
   },
   "outputs": [
    {
     "name": "stdout",
     "output_type": "stream",
     "text": [
      "Overwriting requirements.txt\n"
     ]
    }
   ],
   "source": [
    "%%writefile requirements.txt\n",
    "\n",
    "duckdb\n",
    "geopandas\n",
    "pyarrow"
   ]
  },
  {
   "cell_type": "code",
   "execution_count": 3,
   "metadata": {
    "id": "HMHZJP6g8aD5"
   },
   "outputs": [
    {
     "name": "stdout",
     "output_type": "stream",
     "text": [
      "Note: you may need to restart the kernel to use updated packages.\n"
     ]
    }
   ],
   "source": [
    "%pip install -r requirements.txt --quiet"
   ]
  },
  {
   "cell_type": "code",
   "execution_count": 4,
   "metadata": {
    "id": "jd3TUCH47GYo"
   },
   "outputs": [],
   "source": [
    "# Imports\n",
    "import duckdb\n",
    "import geopandas\n",
    "import pyarrow"
   ]
  },
  {
   "cell_type": "code",
   "execution_count": 5,
   "metadata": {},
   "outputs": [
    {
     "name": "stdout",
     "output_type": "stream",
     "text": [
      "Author: Data Science Academy\n",
      "\n"
     ]
    }
   ],
   "source": [
    "%reload_ext watermark\n",
    "%watermark -a \"Data Science Academy\""
   ]
  },
  {
   "cell_type": "markdown",
   "metadata": {},
   "source": [
    "## Instalando Extensões do DuckDB"
   ]
  },
  {
   "cell_type": "code",
   "execution_count": 6,
   "metadata": {},
   "outputs": [],
   "source": [
    "# Instala as extensões do DuckDB\n",
    "duckdb.sql('INSTALL httpfs')\n",
    "duckdb.sql('LOAD httpfs')\n",
    "duckdb.sql(\"FORCE INSTALL spatial FROM 'http://nightly-extensions.duckdb.org';\")\n",
    "duckdb.sql('LOAD spatial')"
   ]
  },
  {
   "cell_type": "markdown",
   "metadata": {},
   "source": [
    "A extensão httpfs nos permite ler arquivos diretamente do S3, enquanto a extensão espacial, como o nome sugere, será aproveitada para executar consultas geoespaciais. Por meio desses comandos, garantimos que nossa configuração do DuckDB esteja bem equipada com as extensões necessárias para as tarefas futuras."
   ]
  },
  {
   "cell_type": "markdown",
   "metadata": {},
   "source": [
    "## Inicializando o DuckDB Para Processamento em Memória"
   ]
  },
  {
   "cell_type": "code",
   "execution_count": 7,
   "metadata": {},
   "outputs": [],
   "source": [
    "# Cria uma instância de banco de dados do DuckDB com armazenamento em memória\n",
    "con = duckdb.connect(database = \":memory:\")"
   ]
  },
  {
   "cell_type": "code",
   "execution_count": 8,
   "metadata": {
    "colab": {
     "base_uri": "https://localhost:8080/"
    },
    "id": "isvgTQJ38GPR",
    "outputId": "8a97c42f-22b6-4db6-9f13-da579ed6315f"
   },
   "outputs": [],
   "source": [
    "# Instala e carrega as extensões (uma alternativa ao que foi mostrado anteriormente)\n",
    "con.install_extension('httpfs')\n",
    "con.load_extension('httpfs')\n",
    "con.install_extension('spatial')\n",
    "con.load_extension('spatial')"
   ]
  },
  {
   "cell_type": "markdown",
   "metadata": {},
   "source": [
    "## Carregando Dados Geoespaciais no Formato GeoParquet\n",
    "\n",
    "Veja detalhes sobre a fonte de dados no Capítulo 11 do curso.\n",
    "\n",
    "Agora que o DuckDB está configurado e pronto, a próxima etapa é carregar os dados espaciais de localização de edifícios. O conjunto de dados foi particionado usando duas estratégias diferentes:\n",
    "\n",
    "- by country\n",
    "- by country, sub-partitioned by S2 grid\n",
    "\n",
    "O subparticionamento é usado para otimizar o desempenho na leitura de arquivos GeoParquet. Ao definir um limite de 20 milhões de áreas de construção por arquivo, mantemos o tamanho do grupo de linhas um tanto otimizado. Carregar diretamente um arquivo GeoParquet grande é muito mais lento.\n",
    "\n",
    "Vamos primeiro carregar um país completo (grande) usando um único arquivo:"
   ]
  },
  {
   "cell_type": "code",
   "execution_count": 9,
   "metadata": {
    "id": "0CYkeVSa8jJl"
   },
   "outputs": [],
   "source": [
    "# Endereço do arquivo no S3 na nuvem AWS\n",
    "prefix = \"s3://us-west-2.opendata.source.coop/vida/google-microsoft-open-buildings/geoparquet\""
   ]
  },
  {
   "cell_type": "code",
   "execution_count": 10,
   "metadata": {},
   "outputs": [],
   "source": [
    "# Tipo de particionamento\n",
    "partitions = \"by_country\""
   ]
  },
  {
   "cell_type": "code",
   "execution_count": 11,
   "metadata": {},
   "outputs": [],
   "source": [
    "# Código ISO do país\n",
    "country_iso = \"BRA\""
   ]
  },
  {
   "cell_type": "markdown",
   "metadata": {},
   "source": [
    "> Criamos a tabela com os dados do Brasil."
   ]
  },
  {
   "cell_type": "code",
   "execution_count": 12,
   "metadata": {
    "colab": {
     "base_uri": "https://localhost:8080/",
     "height": 67,
     "referenced_widgets": [
      "756ca9f25a1549f5b84f05675c211ca5",
      "067761ab72a549d89b2db51db04fa603",
      "8cb1a0c6df794465a254212f41f8a2a1"
     ]
    },
    "id": "R2_8cXbk-B2T",
    "outputId": "06daceb4-c868-4ed5-c52d-6b99a35444d7"
   },
   "outputs": [
    {
     "data": {
      "application/vnd.jupyter.widget-view+json": {
       "model_id": "1fc59a7460204923aea9ab2440d11892",
       "version_major": 2,
       "version_minor": 0
      },
      "text/plain": [
       "FloatProgress(value=0.0, layout=Layout(width='auto'), style=ProgressStyle(bar_color='black'))"
      ]
     },
     "metadata": {},
     "output_type": "display_data"
    },
    {
     "name": "stdout",
     "output_type": "stream",
     "text": [
      "CPU times: user 51.4 s, sys: 19 s, total: 1min 10s\n",
      "Wall time: 2min 44s\n"
     ]
    },
    {
     "data": {
      "text/plain": [
       "<duckdb.duckdb.DuckDBPyConnection at 0x1255d2ff0>"
      ]
     },
     "execution_count": 12,
     "metadata": {},
     "output_type": "execute_result"
    }
   ],
   "source": [
    "%%time\n",
    "\n",
    "con.execute(f\"\"\"\n",
    "    CREATE OR REPLACE TABLE dsa_brasil_buildings AS\n",
    "      SELECT * FROM parquet_scan('{prefix}/by_country_s2/country_iso={country_iso}/*.parquet')\n",
    "\"\"\")"
   ]
  },
  {
   "cell_type": "markdown",
   "metadata": {},
   "source": [
    "## Consultas aos Dados Geoespaciais em Tabela de 140 Milhões de Registros"
   ]
  },
  {
   "cell_type": "code",
   "execution_count": 13,
   "metadata": {
    "colab": {
     "base_uri": "https://localhost:8080/"
    },
    "id": "8GqMSNUAP2dv",
    "outputId": "1aedb8da-60e6-4ee4-8075-386b8730b733"
   },
   "outputs": [
    {
     "name": "stdout",
     "output_type": "stream",
     "text": [
      "CPU times: user 139 µs, sys: 23 µs, total: 162 µs\n",
      "Wall time: 165 µs\n"
     ]
    },
    {
     "data": {
      "text/plain": [
       "┌────────────────┬─────────────┬─────────┬─────────┬─────────┬─────────┐\n",
       "│  column_name   │ column_type │  null   │   key   │ default │  extra  │\n",
       "│    varchar     │   varchar   │ varchar │ varchar │ varchar │ varchar │\n",
       "├────────────────┼─────────────┼─────────┼─────────┼─────────┼─────────┤\n",
       "│ geometry       │ BLOB        │ YES     │ NULL    │ NULL    │ NULL    │\n",
       "│ boundary_id    │ BIGINT      │ YES     │ NULL    │ NULL    │ NULL    │\n",
       "│ bf_source      │ VARCHAR     │ YES     │ NULL    │ NULL    │ NULL    │\n",
       "│ confidence     │ DOUBLE      │ YES     │ NULL    │ NULL    │ NULL    │\n",
       "│ area_in_meters │ DOUBLE      │ YES     │ NULL    │ NULL    │ NULL    │\n",
       "│ s2_id          │ BIGINT      │ YES     │ NULL    │ NULL    │ NULL    │\n",
       "│ country_iso    │ VARCHAR     │ YES     │ NULL    │ NULL    │ NULL    │\n",
       "└────────────────┴─────────────┴─────────┴─────────┴─────────┴─────────┘"
      ]
     },
     "execution_count": 13,
     "metadata": {},
     "output_type": "execute_result"
    }
   ],
   "source": [
    "%%time\n",
    "\n",
    "# Resumo da tabela criada\n",
    "con.query('describe dsa_brasil_buildings')"
   ]
  },
  {
   "cell_type": "code",
   "execution_count": 14,
   "metadata": {
    "colab": {
     "base_uri": "https://localhost:8080/"
    },
    "id": "-_lREUxw978L",
    "outputId": "b152df45-4131-41bf-a808-209c3016cf7e"
   },
   "outputs": [
    {
     "name": "stdout",
     "output_type": "stream",
     "text": [
      "CPU times: user 54 µs, sys: 6 µs, total: 60 µs\n",
      "Wall time: 62 µs\n"
     ]
    },
    {
     "data": {
      "text/plain": [
       "┌──────────────┐\n",
       "│ count_star() │\n",
       "│    int64     │\n",
       "├──────────────┤\n",
       "│    140368073 │\n",
       "└──────────────┘"
      ]
     },
     "execution_count": 14,
     "metadata": {},
     "output_type": "execute_result"
    }
   ],
   "source": [
    "%%time\n",
    "\n",
    "# Contagem de registros\n",
    "con.query('SELECT COUNT(*) FROM dsa_brasil_buildings;')"
   ]
  },
  {
   "cell_type": "code",
   "execution_count": 15,
   "metadata": {
    "colab": {
     "base_uri": "https://localhost:8080/",
     "height": 176,
     "referenced_widgets": [
      "3636079e4cb14cbebcb13fcb61aa9d38",
      "bfbe663fbe02402f813a1fd266ad85d0",
      "d8e723df5a34481292883da7d4337782"
     ]
    },
    "id": "AjIaKbegAktU",
    "outputId": "26182aae-b73d-4699-a795-3eb262c1c961"
   },
   "outputs": [
    {
     "name": "stdout",
     "output_type": "stream",
     "text": [
      "CPU times: user 70 µs, sys: 2 µs, total: 72 µs\n",
      "Wall time: 77.2 µs\n"
     ]
    },
    {
     "data": {
      "text/plain": [
       "┌─────────────┬───────────┐\n",
       "│ data_source │ contagem  │\n",
       "│   varchar   │   int64   │\n",
       "├─────────────┼───────────┤\n",
       "│ microsoft   │   4131217 │\n",
       "│ google      │ 136236856 │\n",
       "└─────────────┴───────────┘"
      ]
     },
     "execution_count": 15,
     "metadata": {},
     "output_type": "execute_result"
    }
   ],
   "source": [
    "%%time\n",
    "\n",
    "# Seleciona a fonte e a contagem\n",
    "con.query('SELECT bf_source as data_source, COUNT(*) AS contagem FROM dsa_brasil_buildings GROUP BY data_source;')"
   ]
  },
  {
   "cell_type": "code",
   "execution_count": 16,
   "metadata": {
    "colab": {
     "base_uri": "https://localhost:8080/"
    },
    "id": "nBuFQQkXQA-6",
    "outputId": "bef59caa-a9ba-49d4-c7b2-c401ee97d5fa"
   },
   "outputs": [
    {
     "name": "stdout",
     "output_type": "stream",
     "text": [
      "CPU times: user 151 µs, sys: 6 µs, total: 157 µs\n",
      "Wall time: 159 µs\n"
     ]
    },
    {
     "data": {
      "text/plain": [
       "┌─────────────────────────┬─────────────┬───────────┬────────────┬────────────────┬──────────────────────┬─────────────┐\n",
       "│        geometry         │ boundary_id │ bf_source │ confidence │ area_in_meters │        s2_id         │ country_iso │\n",
       "│          blob           │    int64    │  varchar  │   double   │     double     │        int64         │   varchar   │\n",
       "├─────────────────────────┼─────────────┼───────────┼────────────┼────────────────┼──────────────────────┼─────────────┤\n",
       "│ \\x01\\x03\\x00\\x00\\x00\\…  │         117 │ google    │     0.8887 │         79.488 │ -8280993814827499520 │ BRA         │\n",
       "│ \\x01\\x03\\x00\\x00\\x00\\…  │         117 │ google    │     0.7046 │         5.8785 │ -8280993814827499520 │ BRA         │\n",
       "│ \\x01\\x03\\x00\\x00\\x00\\…  │         117 │ google    │     0.6558 │        34.7249 │ -8280993814827499520 │ BRA         │\n",
       "│ \\x01\\x03\\x00\\x00\\x00\\…  │         117 │ google    │     0.7123 │        23.7358 │ -8280993814827499520 │ BRA         │\n",
       "│ \\x01\\x03\\x00\\x00\\x00\\…  │         117 │ google    │     0.8236 │         55.973 │ -8280993814827499520 │ BRA         │\n",
       "│ \\x01\\x03\\x00\\x00\\x00\\…  │         117 │ google    │      0.845 │        48.7508 │ -8280993814827499520 │ BRA         │\n",
       "│ \\x01\\x03\\x00\\x00\\x00\\…  │         117 │ google    │     0.9152 │       106.0771 │ -8280993814827499520 │ BRA         │\n",
       "│ \\x01\\x03\\x00\\x00\\x00\\…  │         117 │ google    │     0.6866 │          24.06 │ -8280993814827499520 │ BRA         │\n",
       "│ \\x01\\x03\\x00\\x00\\x00\\…  │         117 │ google    │     0.8604 │       109.6842 │ -8280993814827499520 │ BRA         │\n",
       "│ \\x01\\x03\\x00\\x00\\x00\\…  │         117 │ google    │     0.8818 │         54.077 │ -8280993814827499520 │ BRA         │\n",
       "├─────────────────────────┴─────────────┴───────────┴────────────┴────────────────┴──────────────────────┴─────────────┤\n",
       "│ 10 rows                                                                                                    7 columns │\n",
       "└──────────────────────────────────────────────────────────────────────────────────────────────────────────────────────┘"
      ]
     },
     "execution_count": 16,
     "metadata": {},
     "output_type": "execute_result"
    }
   ],
   "source": [
    "%%time\n",
    "\n",
    "# Uso do SELECT não é obrigatório com DuckDB\n",
    "con.query('''FROM dsa_brasil_buildings WHERE bf_source = 'google' LIMIT 10;''')"
   ]
  },
  {
   "cell_type": "markdown",
   "metadata": {},
   "source": [
    "## Análise Estatística Por Partição dos Dados\n",
    "\n",
    "Vamos nos aprofundar na análise das estatísticas da partição S2. Para este exercício, selecionaremos um país subdividido em múltiplas grades S2 e calcularemos a contagem de edifícios por ID da grade. Usaremos a Austrália (AUS) como nosso país de estudo devido à sua extensa distribuição geográfica e presença urbana substancial."
   ]
  },
  {
   "cell_type": "code",
   "execution_count": 17,
   "metadata": {},
   "outputs": [],
   "source": [
    "# Podemos trabalhar com dados de outros países\n",
    "prefix = \"s3://us-west-2.opendata.source.coop/vida/google-microsoft-open-buildings/geoparquet\"\n",
    "partitions = \"by_country_s2\"\n",
    "country_iso = \"AUS\""
   ]
  },
  {
   "cell_type": "code",
   "execution_count": 18,
   "metadata": {},
   "outputs": [],
   "source": [
    "# Define a query SQL\n",
    "dsa_query1 = f\"\"\"\n",
    "    CREATE TABLE dsa_aus_buildings AS\n",
    "    SELECT s2_id, COUNT(geometry) AS buildings_count\n",
    "    FROM parquet_scan('{prefix}/{partitions}/country_iso={country_iso}/*.parquet')\n",
    "    GROUP BY(s2_id)\n",
    "\"\"\""
   ]
  },
  {
   "cell_type": "code",
   "execution_count": 19,
   "metadata": {},
   "outputs": [
    {
     "data": {
      "application/vnd.jupyter.widget-view+json": {
       "model_id": "2d885018ec064c9f9f14f2cc6f8a50f8",
       "version_major": 2,
       "version_minor": 0
      },
      "text/plain": [
       "FloatProgress(value=0.0, layout=Layout(width='auto'), style=ProgressStyle(bar_color='black'))"
      ]
     },
     "metadata": {},
     "output_type": "display_data"
    },
    {
     "name": "stdout",
     "output_type": "stream",
     "text": [
      "CPU times: user 6.82 s, sys: 1.96 s, total: 8.78 s\n",
      "Wall time: 16.7 s\n"
     ]
    }
   ],
   "source": [
    "%%time\n",
    "\n",
    "# Executa a query\n",
    "duckdb.sql(dsa_query1)"
   ]
  },
  {
   "cell_type": "markdown",
   "metadata": {},
   "source": [
    "No resultado acima, a Austrália está dividida em três redes S2 distintas, cada uma com um número variável de edifícios. Isto mostra a distribuição geográfica e a densidade dos edifícios em diferentes regiões do país.\n",
    "\n",
    "Agora, vamos calcular o número médio de edifícios por ID de grade S2 para ter uma noção da densidade do edifício:"
   ]
  },
  {
   "cell_type": "code",
   "execution_count": 20,
   "metadata": {},
   "outputs": [
    {
     "name": "stdout",
     "output_type": "stream",
     "text": [
      "┌──────────────────────┬─────────────────┐\n",
      "│        s2_id         │ buildings_count │\n",
      "│        int64         │      int64      │\n",
      "├──────────────────────┼─────────────────┤\n",
      "│  3170534137668829184 │         1440431 │\n",
      "│ -6052837899185946624 │          422107 │\n",
      "│  7782220156096217088 │         9452987 │\n",
      "└──────────────────────┴─────────────────┘\n",
      "\n",
      "CPU times: user 640 µs, sys: 478 µs, total: 1.12 ms\n",
      "Wall time: 549 µs\n"
     ]
    }
   ],
   "source": [
    "%%time\n",
    "\n",
    "# Executa consulta\n",
    "duckdb.sql(\"SELECT * FROM dsa_aus_buildings\").show()"
   ]
  },
  {
   "cell_type": "code",
   "execution_count": 21,
   "metadata": {},
   "outputs": [],
   "source": [
    "# Define a query SQL\n",
    "dsa_query2 = f\"\"\"\n",
    "    SELECT ROUND(AVG(buildings_count), 0) AS avg_num_buildings\n",
    "    FROM dsa_aus_buildings\n",
    "\"\"\""
   ]
  },
  {
   "cell_type": "code",
   "execution_count": 22,
   "metadata": {},
   "outputs": [
    {
     "name": "stdout",
     "output_type": "stream",
     "text": [
      "┌───────────────────┐\n",
      "│ avg_num_buildings │\n",
      "│      double       │\n",
      "├───────────────────┤\n",
      "│         3771842.0 │\n",
      "└───────────────────┘\n",
      "\n",
      "CPU times: user 468 µs, sys: 480 µs, total: 948 µs\n",
      "Wall time: 464 µs\n"
     ]
    }
   ],
   "source": [
    "%%time\n",
    "\n",
    "# Executa a query e mostra o resultado\n",
    "duckdb.sql(dsa_query2).show()"
   ]
  },
  {
   "cell_type": "markdown",
   "metadata": {},
   "source": [
    "A partir dos resultados, observa-se que, em média, existem cerca de 3,7 milhões de edifícios por ID de rede. Esta métrica fornece uma estimativa aproximada da densidade de construção em diferentes segmentos geográficos na Austrália e pode servir como base para análises espaciais adicionais ou comparações com outros países."
   ]
  },
  {
   "cell_type": "markdown",
   "metadata": {},
   "source": [
    "## Executando Análise dos Dados Geoespaciais\n",
    "\n",
    "Agora, vamos nos aprofundar em algumas análises do nosso conjunto de dados, com foco no país Lesoto (devido ao seu tamanho menor). Inicialmente, buscaremos os dados do S3 e os organizaremos em uma tabela DuckDB."
   ]
  },
  {
   "cell_type": "code",
   "execution_count": 23,
   "metadata": {},
   "outputs": [],
   "source": [
    "# Tipo de particionamento e código ISO do país\n",
    "partitions = \"by_country_s2\"\n",
    "country_iso = \"LSO\""
   ]
  },
  {
   "cell_type": "code",
   "execution_count": 24,
   "metadata": {},
   "outputs": [
    {
     "data": {
      "application/vnd.jupyter.widget-view+json": {
       "model_id": "8df1e0175e744ddaaae42a9a7405aab7",
       "version_major": 2,
       "version_minor": 0
      },
      "text/plain": [
       "FloatProgress(value=0.0, layout=Layout(width='auto'), style=ProgressStyle(bar_color='black'))"
      ]
     },
     "metadata": {},
     "output_type": "display_data"
    },
    {
     "name": "stdout",
     "output_type": "stream",
     "text": [
      "CPU times: user 4.58 s, sys: 199 ms, total: 4.78 s\n",
      "Wall time: 5.46 s\n"
     ]
    }
   ],
   "source": [
    "%%time\n",
    "\n",
    "duckdb.sql(f\"CREATE OR REPLACE TABLE dsa_lso_buildings AS SELECT * FROM parquet_scan('{prefix}/{partitions}/country_iso={country_iso}/*.parquet')\")"
   ]
  },
  {
   "cell_type": "code",
   "execution_count": 25,
   "metadata": {},
   "outputs": [
    {
     "name": "stdout",
     "output_type": "stream",
     "text": [
      "┌───────────┬─────────────────┐\n",
      "│ bf_source │ buildings_count │\n",
      "│  varchar  │      int64      │\n",
      "├───────────┼─────────────────┤\n",
      "│ microsoft │          151722 │\n",
      "│ google    │         1394189 │\n",
      "└───────────┴─────────────────┘\n",
      "\n",
      "CPU times: user 25.5 ms, sys: 1.52 ms, total: 27 ms\n",
      "Wall time: 3.06 ms\n"
     ]
    }
   ],
   "source": [
    "%%time\n",
    "\n",
    "# Executa a consulta\n",
    "duckdb.sql(f\"SELECT bf_source, COUNT(*) AS buildings_count FROM dsa_lso_buildings GROUP BY bf_source;\").show()"
   ]
  },
  {
   "cell_type": "markdown",
   "metadata": {},
   "source": [
    "Vamos comparar o conjunto de dados original do Google V3 com nosso conjunto de dados mesclado para verificar a ausência de sobreposição. Utilizaremos o conjunto de dados Open Buildings disponível na Source Cooperative para esta comparação.\n",
    "\n",
    "Lembra que já carregamos Lesoto como uma tabela DuckDB chamada lso_buildings nas etapas anteriores? Vamos fazer o mesmo com o conjunto de dados de construção original do Google V3."
   ]
  },
  {
   "cell_type": "code",
   "execution_count": 26,
   "metadata": {},
   "outputs": [],
   "source": [
    "# Fonte de dados do Google Reasearch\n",
    "prefix = \"s3://us-west-2.opendata.source.coop/google-research-open-buildings/geoparquet-by-country\""
   ]
  },
  {
   "cell_type": "code",
   "execution_count": 27,
   "metadata": {},
   "outputs": [],
   "source": [
    "# Código do país\n",
    "country = \"LS\""
   ]
  },
  {
   "cell_type": "code",
   "execution_count": 28,
   "metadata": {},
   "outputs": [
    {
     "data": {
      "application/vnd.jupyter.widget-view+json": {
       "model_id": "5cee4191be2a4b2884c511717417aca1",
       "version_major": 2,
       "version_minor": 0
      },
      "text/plain": [
       "FloatProgress(value=0.0, layout=Layout(width='auto'), style=ProgressStyle(bar_color='black'))"
      ]
     },
     "metadata": {},
     "output_type": "display_data"
    },
    {
     "name": "stdout",
     "output_type": "stream",
     "text": [
      "CPU times: user 1.07 s, sys: 335 ms, total: 1.4 s\n",
      "Wall time: 2.84 s\n"
     ]
    }
   ],
   "source": [
    "%%time\n",
    "\n",
    "# Executa a consulta\n",
    "duckdb.sql(f\"CREATE OR REPLACE TABLE dsa_lso_buildings_google AS SELECT * FROM '{prefix}/country_iso={country}/{country}.parquet'\")"
   ]
  },
  {
   "cell_type": "code",
   "execution_count": 29,
   "metadata": {},
   "outputs": [
    {
     "name": "stdout",
     "output_type": "stream",
     "text": [
      "┌──────────────┐\n",
      "│ count_star() │\n",
      "│    int64     │\n",
      "├──────────────┤\n",
      "│      1394225 │\n",
      "└──────────────┘\n",
      "\n",
      "CPU times: user 1.17 ms, sys: 988 µs, total: 2.16 ms\n",
      "Wall time: 706 µs\n"
     ]
    }
   ],
   "source": [
    "%%time\n",
    "\n",
    "# Executa a consulta\n",
    "duckdb.sql(\"SELECT COUNT(*) FROM dsa_lso_buildings_google\").show()"
   ]
  },
  {
   "cell_type": "code",
   "execution_count": 30,
   "metadata": {},
   "outputs": [
    {
     "name": "stdout",
     "output_type": "stream",
     "text": [
      "┌──────────────┐\n",
      "│ count_star() │\n",
      "│    int64     │\n",
      "├──────────────┤\n",
      "│      1394189 │\n",
      "└──────────────┘\n",
      "\n",
      "CPU times: user 8.76 ms, sys: 929 µs, total: 9.69 ms\n",
      "Wall time: 1.18 ms\n"
     ]
    }
   ],
   "source": [
    "%%time\n",
    "\n",
    "# Executa a consulta\n",
    "duckdb.sql(\"SELECT COUNT(*) FROM dsa_lso_buildings WHERE bf_source = 'google'\").show()"
   ]
  },
  {
   "cell_type": "code",
   "execution_count": 31,
   "metadata": {},
   "outputs": [],
   "source": [
    "# Arquivo com a área de interesse (AOI)\n",
    "arquivo = \"limites.geojson\""
   ]
  },
  {
   "cell_type": "code",
   "execution_count": 32,
   "metadata": {},
   "outputs": [
    {
     "name": "stdout",
     "output_type": "stream",
     "text": [
      "CPU times: user 1.05 ms, sys: 1.44 ms, total: 2.49 ms\n",
      "Wall time: 1.61 ms\n"
     ]
    }
   ],
   "source": [
    "%%time\n",
    "\n",
    "# Executa a query\n",
    "duckdb.sql(f\"CREATE TABLE aoi AS SELECT * FROM ST_Read('{arquivo}')\")"
   ]
  },
  {
   "cell_type": "code",
   "execution_count": 33,
   "metadata": {},
   "outputs": [
    {
     "name": "stdout",
     "output_type": "stream",
     "text": [
      "┌──────────────────────────────────────────────────────────────────────────────────────────────────────────────────────┐\n",
      "│                                                         geom                                                         │\n",
      "│                                                       geometry                                                       │\n",
      "├──────────────────────────────────────────────────────────────────────────────────────────────────────────────────────┤\n",
      "│ POLYGON ((27.492479555568025 -29.3373975037322, 27.492479555568025 -29.357824001576134, 27.523530369196408 -29.357…  │\n",
      "└──────────────────────────────────────────────────────────────────────────────────────────────────────────────────────┘\n",
      "\n",
      "CPU times: user 280 µs, sys: 160 µs, total: 440 µs\n",
      "Wall time: 245 µs\n"
     ]
    }
   ],
   "source": [
    "%%time\n",
    "\n",
    "# Executa a consulta\n",
    "duckdb.sql(\"SELECT * FROM aoi\").show()"
   ]
  },
  {
   "cell_type": "code",
   "execution_count": 34,
   "metadata": {},
   "outputs": [],
   "source": [
    "# Define a query SQL\n",
    "dsa_query3 = \"\"\"\n",
    "CREATE TABLE dsa_lso_buildings_clipped AS\n",
    "SELECT ST_Intersection(ST_GeomFromWKB(b.geometry), a.geom) AS geom, b.bf_source\n",
    "FROM dsa_lso_buildings b, aoi a\n",
    "WHERE ST_Intersects(ST_GeomFromWKB(b.geometry), a.geom);\n",
    "\"\"\""
   ]
  },
  {
   "cell_type": "markdown",
   "metadata": {},
   "source": [
    "O código SQL acima está criando uma nova tabela chamada dsa_lso_buildings_clipped a partir de uma operação de interseção geográfica entre duas tabelas existentes: dsa_lso_buildings e aoi. Vamos compreender cada parte do código para esclarecer o que ele faz:\n",
    "\n",
    "CREATE TABLE dsa_lso_buildings_clipped AS: Esta instrução SQL cria uma nova tabela chamada dsa_lso_buildings_clipped. O conteúdo desta tabela é o resultado da consulta que segue o AS.\n",
    "\n",
    "SELECT:\n",
    "\n",
    "ST_Intersection(ST_GeomFromWKB(b.geometry), a.geom) AS geom: Esta parte seleciona a interseção geométrica das colunas geometry da tabela dsa_lso_buildings e geom da tabela aoi. A função ST_Intersection calcula a área comum entre duas geometrias. ST_GeomFromWKB é uma função que converte a coluna geometry, que está em formato WKB (Well-Known Binary), para um tipo de dado geométrico que o PostGIS pode manipular.\n",
    "\n",
    "b.bf_source: Esta coluna é selecionada diretamente da tabela dsa_lso_buildings. Ela contém informações sobre a fonte dos dados da tabela b.\n",
    "\n",
    "FROM dsa_lso_buildings b, aoi a: Esta linha especifica as tabelas de onde os dados serão retirados. Aqui, dsa_lso_buildings é referenciada com o alias b e aoi com o alias a.\n",
    "\n",
    "WHERE ST_Intersects(ST_GeomFromWKB(b.geometry), a.geom): A cláusula WHERE filtra os registros para incluir apenas aqueles onde as geometrias das tabelas b e a se intersectam. ST_Intersects é uma função que retorna TRUE se duas geometrias se sobrepõem de alguma forma.\n",
    "\n",
    "Essencialmente, a consulta cria uma nova tabela contendo as áreas de sobreposição entre os edifícios da tabela dsa_lso_buildings e uma área de interesse definida na tabela aoi. Além disso, a nova tabela inclui a coluna bf_source para cada geometria resultante, indicando a origem dos dados do edifício correspondente."
   ]
  },
  {
   "cell_type": "code",
   "execution_count": 35,
   "metadata": {},
   "outputs": [
    {
     "name": "stdout",
     "output_type": "stream",
     "text": [
      "CPU times: user 799 ms, sys: 5.2 ms, total: 804 ms\n",
      "Wall time: 80.8 ms\n"
     ]
    }
   ],
   "source": [
    "%%time\n",
    "\n",
    "# Executa a query\n",
    "duckdb.sql(dsa_query3)"
   ]
  },
  {
   "cell_type": "code",
   "execution_count": 36,
   "metadata": {},
   "outputs": [
    {
     "name": "stdout",
     "output_type": "stream",
     "text": [
      "┌──────────────┐\n",
      "│ count_star() │\n",
      "│    int64     │\n",
      "├──────────────┤\n",
      "│        13561 │\n",
      "└──────────────┘\n",
      "\n",
      "CPU times: user 470 µs, sys: 325 µs, total: 795 µs\n",
      "Wall time: 438 µs\n"
     ]
    }
   ],
   "source": [
    "%%time\n",
    "\n",
    "# Executa a consulta\n",
    "duckdb.sql(\"SELECT COUNT(*) FROM dsa_lso_buildings_clipped\").show()"
   ]
  },
  {
   "cell_type": "code",
   "execution_count": 37,
   "metadata": {},
   "outputs": [],
   "source": [
    "# Define a query SQL\n",
    "dsa_query4 = \"\"\"\n",
    "CREATE TABLE dsa_lso_buildings_google_clipped AS\n",
    "SELECT ST_Intersection(ST_GeomFromWKB(b.geometry), a.geom) AS geom\n",
    "FROM dsa_lso_buildings_google b, aoi a\n",
    "WHERE ST_Intersects(ST_GeomFromWKB(b.geometry), a.geom);\n",
    "\"\"\""
   ]
  },
  {
   "cell_type": "code",
   "execution_count": 38,
   "metadata": {},
   "outputs": [
    {
     "name": "stdout",
     "output_type": "stream",
     "text": [
      "CPU times: user 708 ms, sys: 2.05 ms, total: 710 ms\n",
      "Wall time: 104 ms\n"
     ]
    }
   ],
   "source": [
    "%%time\n",
    "\n",
    "# Executa a query\n",
    "duckdb.sql(dsa_query4)"
   ]
  },
  {
   "cell_type": "code",
   "execution_count": 39,
   "metadata": {},
   "outputs": [
    {
     "name": "stdout",
     "output_type": "stream",
     "text": [
      "┌──────────────┐\n",
      "│ count_star() │\n",
      "│    int64     │\n",
      "├──────────────┤\n",
      "│        13213 │\n",
      "└──────────────┘\n",
      "\n",
      "CPU times: user 420 µs, sys: 153 µs, total: 573 µs\n",
      "Wall time: 333 µs\n"
     ]
    }
   ],
   "source": [
    "%%time\n",
    "\n",
    "# Executa a consulta\n",
    "duckdb.sql(\"SELECT COUNT(*) FROM dsa_lso_buildings_google_clipped\").show()"
   ]
  },
  {
   "cell_type": "code",
   "execution_count": 40,
   "metadata": {},
   "outputs": [],
   "source": [
    "# Define a query SQL\n",
    "dsa_query5 = \"\"\"\n",
    "CREATE TABLE dsa_sem_intersecao AS\n",
    "SELECT m.*\n",
    "FROM dsa_lso_buildings_clipped m\n",
    "WHERE NOT EXISTS (\n",
    "    SELECT 1\n",
    "    FROM dsa_lso_buildings_google_clipped g\n",
    "    WHERE ST_Intersects(m.geom, g.geom)\n",
    ");\n",
    "\"\"\""
   ]
  },
  {
   "cell_type": "markdown",
   "metadata": {},
   "source": [
    "A consulta dsa_query5 cria a tabela dsa_sem_intersecao contendo todas as entradas da tabela dsa_lso_buildings_clipped que não têm interseção geométrica com qualquer entrada da tabela dsa_lso_buildings_google_clipped. \n",
    "\n",
    "Este procedimento é útil para identificar áreas ou objetos que são exclusivos à tabela dsa_lso_buildings_clipped em relação a dsa_lso_buildings_google_clipped."
   ]
  },
  {
   "cell_type": "code",
   "execution_count": 41,
   "metadata": {},
   "outputs": [
    {
     "name": "stdout",
     "output_type": "stream",
     "text": [
      "CPU times: user 909 ms, sys: 682 µs, total: 910 ms\n",
      "Wall time: 907 ms\n"
     ]
    }
   ],
   "source": [
    "%%time\n",
    "\n",
    "# Executa a query\n",
    "duckdb.sql(dsa_query5)"
   ]
  },
  {
   "cell_type": "code",
   "execution_count": 42,
   "metadata": {},
   "outputs": [
    {
     "name": "stdout",
     "output_type": "stream",
     "text": [
      "┌──────────────┐\n",
      "│ count_star() │\n",
      "│    int64     │\n",
      "├──────────────┤\n",
      "│          348 │\n",
      "└──────────────┘\n",
      "\n",
      "CPU times: user 368 µs, sys: 216 µs, total: 584 µs\n",
      "Wall time: 293 µs\n"
     ]
    }
   ],
   "source": [
    "%%time\n",
    "\n",
    "# Executa a consulta\n",
    "duckdb.sql(\"SELECT count(*) FROM dsa_sem_intersecao\").show()"
   ]
  },
  {
   "cell_type": "markdown",
   "metadata": {},
   "source": [
    "## Exportando o Resultado da Análise Para o Formato Espacial\n",
    "\n",
    "Concluídas nossas análises é hora de exportar os dados para os formatos de dados geoespaciais desejados. Neste caso, utilizaremos FlatGeobuf devido à sua eficiência no tratamento de dados geoespaciais!"
   ]
  },
  {
   "cell_type": "code",
   "execution_count": 43,
   "metadata": {},
   "outputs": [
    {
     "name": "stdout",
     "output_type": "stream",
     "text": [
      "CPU times: user 20.5 ms, sys: 4.54 ms, total: 25 ms\n",
      "Wall time: 25.3 ms\n"
     ]
    }
   ],
   "source": [
    "%%time\n",
    "output_file = \"dataset1.fgb\"\n",
    "duckdb.sql(f\"COPY (SELECT * from dsa_lso_buildings_clipped) TO '{output_file}' WITH  (FORMAT GDAL, DRIVER 'FlatGeobuf');\")"
   ]
  },
  {
   "cell_type": "code",
   "execution_count": 44,
   "metadata": {},
   "outputs": [
    {
     "data": {
      "application/vnd.jupyter.widget-view+json": {
       "model_id": "112e24dec93e4abb874926024ef2594b",
       "version_major": 2,
       "version_minor": 0
      },
      "text/plain": [
       "FloatProgress(value=0.0, layout=Layout(width='auto'), style=ProgressStyle(bar_color='black'))"
      ]
     },
     "metadata": {},
     "output_type": "display_data"
    },
    {
     "name": "stdout",
     "output_type": "stream",
     "text": [
      "CPU times: user 6.21 s, sys: 858 ms, total: 7.07 s\n",
      "Wall time: 5.09 s\n"
     ]
    }
   ],
   "source": [
    "%%time\n",
    "output_file = \"dataset2.fgb\"\n",
    "duckdb.sql(f\"COPY (SELECT * EXCLUDE geometry, ST_GeomFromWKB(geometry) AS geometry from dsa_lso_buildings) TO '{output_file}' WITH  (FORMAT GDAL, DRIVER 'FlatGeobuf');\")"
   ]
  },
  {
   "cell_type": "code",
   "execution_count": 45,
   "metadata": {},
   "outputs": [
    {
     "name": "stdout",
     "output_type": "stream",
     "text": [
      "Author: Data Science Academy\n",
      "\n"
     ]
    }
   ],
   "source": [
    "%watermark -a \"Data Science Academy\""
   ]
  },
  {
   "cell_type": "code",
   "execution_count": 46,
   "metadata": {},
   "outputs": [],
   "source": [
    "#%watermark -v -m"
   ]
  },
  {
   "cell_type": "code",
   "execution_count": 47,
   "metadata": {},
   "outputs": [],
   "source": [
    "#%watermark --iversions"
   ]
  },
  {
   "cell_type": "markdown",
   "metadata": {},
   "source": [
    "# Fim"
   ]
  }
 ],
 "metadata": {
  "colab": {
   "provenance": []
  },
  "kernelspec": {
   "display_name": "Python 3 (ipykernel)",
   "language": "python",
   "name": "python3"
  },
  "language_info": {
   "codemirror_mode": {
    "name": "ipython",
    "version": 3
   },
   "file_extension": ".py",
   "mimetype": "text/x-python",
   "name": "python",
   "nbconvert_exporter": "python",
   "pygments_lexer": "ipython3",
   "version": "3.11.5"
  },
  "widgets": {
   "application/vnd.jupyter.widget-state+json": {
    "067761ab72a549d89b2db51db04fa603": {
     "model_module": "@jupyter-widgets/base",
     "model_module_version": "1.2.0",
     "model_name": "LayoutModel",
     "state": {
      "_model_module": "@jupyter-widgets/base",
      "_model_module_version": "1.2.0",
      "_model_name": "LayoutModel",
      "_view_count": null,
      "_view_module": "@jupyter-widgets/base",
      "_view_module_version": "1.2.0",
      "_view_name": "LayoutView",
      "align_content": null,
      "align_items": null,
      "align_self": null,
      "border": null,
      "bottom": null,
      "display": null,
      "flex": null,
      "flex_flow": null,
      "grid_area": null,
      "grid_auto_columns": null,
      "grid_auto_flow": null,
      "grid_auto_rows": null,
      "grid_column": null,
      "grid_gap": null,
      "grid_row": null,
      "grid_template_areas": null,
      "grid_template_columns": null,
      "grid_template_rows": null,
      "height": null,
      "justify_content": null,
      "justify_items": null,
      "left": null,
      "margin": null,
      "max_height": null,
      "max_width": null,
      "min_height": null,
      "min_width": null,
      "object_fit": null,
      "object_position": null,
      "order": null,
      "overflow": null,
      "overflow_x": null,
      "overflow_y": null,
      "padding": null,
      "right": null,
      "top": null,
      "visibility": null,
      "width": "auto"
     }
    },
    "3636079e4cb14cbebcb13fcb61aa9d38": {
     "model_module": "@jupyter-widgets/controls",
     "model_module_version": "1.5.0",
     "model_name": "FloatProgressModel",
     "state": {
      "_dom_classes": [],
      "_model_module": "@jupyter-widgets/controls",
      "_model_module_version": "1.5.0",
      "_model_name": "FloatProgressModel",
      "_view_count": null,
      "_view_module": "@jupyter-widgets/controls",
      "_view_module_version": "1.5.0",
      "_view_name": "ProgressView",
      "bar_style": "",
      "description": "",
      "description_tooltip": null,
      "layout": "IPY_MODEL_bfbe663fbe02402f813a1fd266ad85d0",
      "max": 100,
      "min": 0,
      "orientation": "horizontal",
      "style": "IPY_MODEL_d8e723df5a34481292883da7d4337782",
      "value": 100
     }
    },
    "756ca9f25a1549f5b84f05675c211ca5": {
     "model_module": "@jupyter-widgets/controls",
     "model_module_version": "1.5.0",
     "model_name": "FloatProgressModel",
     "state": {
      "_dom_classes": [],
      "_model_module": "@jupyter-widgets/controls",
      "_model_module_version": "1.5.0",
      "_model_name": "FloatProgressModel",
      "_view_count": null,
      "_view_module": "@jupyter-widgets/controls",
      "_view_module_version": "1.5.0",
      "_view_name": "ProgressView",
      "bar_style": "",
      "description": "",
      "description_tooltip": null,
      "layout": "IPY_MODEL_067761ab72a549d89b2db51db04fa603",
      "max": 100,
      "min": 0,
      "orientation": "horizontal",
      "style": "IPY_MODEL_8cb1a0c6df794465a254212f41f8a2a1",
      "value": 100
     }
    },
    "8cb1a0c6df794465a254212f41f8a2a1": {
     "model_module": "@jupyter-widgets/controls",
     "model_module_version": "1.5.0",
     "model_name": "ProgressStyleModel",
     "state": {
      "_model_module": "@jupyter-widgets/controls",
      "_model_module_version": "1.5.0",
      "_model_name": "ProgressStyleModel",
      "_view_count": null,
      "_view_module": "@jupyter-widgets/base",
      "_view_module_version": "1.2.0",
      "_view_name": "StyleView",
      "bar_color": "black",
      "description_width": ""
     }
    },
    "bfbe663fbe02402f813a1fd266ad85d0": {
     "model_module": "@jupyter-widgets/base",
     "model_module_version": "1.2.0",
     "model_name": "LayoutModel",
     "state": {
      "_model_module": "@jupyter-widgets/base",
      "_model_module_version": "1.2.0",
      "_model_name": "LayoutModel",
      "_view_count": null,
      "_view_module": "@jupyter-widgets/base",
      "_view_module_version": "1.2.0",
      "_view_name": "LayoutView",
      "align_content": null,
      "align_items": null,
      "align_self": null,
      "border": null,
      "bottom": null,
      "display": null,
      "flex": null,
      "flex_flow": null,
      "grid_area": null,
      "grid_auto_columns": null,
      "grid_auto_flow": null,
      "grid_auto_rows": null,
      "grid_column": null,
      "grid_gap": null,
      "grid_row": null,
      "grid_template_areas": null,
      "grid_template_columns": null,
      "grid_template_rows": null,
      "height": null,
      "justify_content": null,
      "justify_items": null,
      "left": null,
      "margin": null,
      "max_height": null,
      "max_width": null,
      "min_height": null,
      "min_width": null,
      "object_fit": null,
      "object_position": null,
      "order": null,
      "overflow": null,
      "overflow_x": null,
      "overflow_y": null,
      "padding": null,
      "right": null,
      "top": null,
      "visibility": null,
      "width": "auto"
     }
    },
    "d8e723df5a34481292883da7d4337782": {
     "model_module": "@jupyter-widgets/controls",
     "model_module_version": "1.5.0",
     "model_name": "ProgressStyleModel",
     "state": {
      "_model_module": "@jupyter-widgets/controls",
      "_model_module_version": "1.5.0",
      "_model_name": "ProgressStyleModel",
      "_view_count": null,
      "_view_module": "@jupyter-widgets/base",
      "_view_module_version": "1.2.0",
      "_view_name": "StyleView",
      "bar_color": "black",
      "description_width": ""
     }
    }
   }
  }
 },
 "nbformat": 4,
 "nbformat_minor": 1
}
